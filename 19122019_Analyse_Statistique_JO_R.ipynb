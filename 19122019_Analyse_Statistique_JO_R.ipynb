{
  "nbformat": 4,
  "nbformat_minor": 0,
  "metadata": {
    "kernelspec": {
      "display_name": "R",
      "language": "R",
      "name": "ir"
    },
    "language_info": {
      "codemirror_mode": "r",
      "file_extension": ".r",
      "mimetype": "text/x-r-source",
      "name": "R",
      "pygments_lexer": "r",
      "version": "3.6.0"
    },
    "colab": {
      "name": "19122019_Analyse_Statistique_JO_R.ipynb",
      "provenance": [],
      "collapsed_sections": [],
      "toc_visible": true,
      "include_colab_link": true
    }
  },
  "cells": [
    {
      "cell_type": "markdown",
      "metadata": {
        "id": "view-in-github",
        "colab_type": "text"
      },
      "source": [
        "<a href=\"https://colab.research.google.com/github/MalikYOUSSOUF/4dvop-app/blob/master/19122019_Analyse_Statistique_JO_R.ipynb\" target=\"_parent\"><img src=\"https://colab.research.google.com/assets/colab-badge.svg\" alt=\"Open In Colab\"/></a>"
      ]
    },
    {
      "cell_type": "markdown",
      "metadata": {
        "id": "iRO2VpmfmRLv"
      },
      "source": [
        "# Analyse statistique sur les Jeux Olympiques avec R"
      ]
    },
    {
      "cell_type": "markdown",
      "metadata": {
        "id": "pFp9rTtgmRLz"
      },
      "source": [
        "![image.png](attachment:image.png)"
      ]
    },
    {
      "cell_type": "markdown",
      "metadata": {
        "id": "IdelHS54mRL0"
      },
      "source": [
        "#### Téléchargement des données\n",
        "https://docs.google.com/document/d/1HgPH1u0r7Pze5HrErzVXbxFcA_9wUpknUCMtgbPh8BM/edit?usp=sharing"
      ]
    },
    {
      "cell_type": "markdown",
      "metadata": {
        "id": "WAa5c_ZlmRL1"
      },
      "source": [
        "Plan:\n",
        "\n",
        "1. Rappel sur Dplyr\n",
        "2. Exemple de manipulation de donnée\n",
        "3. Questions"
      ]
    },
    {
      "cell_type": "markdown",
      "metadata": {
        "id": "j8-gtmIjmRL3"
      },
      "source": [
        "#### Rappel sur R:\n",
        "\n",
        "* https://suzan.rbind.io/2018/02/dplyr-tutorial-3/#filtering-rows-based-on-a-numeric-variable\n",
        "* https://ggplot2.tidyverse.org/\n",
        "* https://thinkr.fr/utiliser-la-grammaire-dplyr-pour-triturer-ses-donnees/"
      ]
    },
    {
      "cell_type": "markdown",
      "metadata": {
        "id": "RYQ0qliwmRL4"
      },
      "source": [
        "#### II- Exemple de manipulation de données"
      ]
    },
    {
      "cell_type": "markdown",
      "metadata": {
        "id": "8NgOXJqwmRL5"
      },
      "source": [
        "##### Manipulation de données avec dplyr"
      ]
    },
    {
      "cell_type": "markdown",
      "metadata": {
        "id": "yn0Pfs8nmRL7"
      },
      "source": [
        "Il ya 5 fonctions à connaitre dans le package dplyr.\n",
        "* **select** : Selection de colonnes\n",
        "* **filter** : Filtre sur les données\n",
        "* **mutate** : Création d'une nouvel colonne\n",
        "* **arrange** : Trie des données\n",
        "* **summarise** : Aggrege les données en un résumé"
      ]
    },
    {
      "cell_type": "code",
      "metadata": {
        "id": "TuWYoxYMoT_G",
        "outputId": "2f3e0382-6b05-40b7-e4ca-69a77e0903ce",
        "colab": {
          "base_uri": "https://localhost:8080/"
        }
      },
      "source": [
        "install.packages(\"tidyverse\")\n"
      ],
      "execution_count": 17,
      "outputs": [
        {
          "output_type": "stream",
          "text": [
            "Installing package into ‘/usr/local/lib/R/site-library’\n",
            "(as ‘lib’ is unspecified)\n",
            "\n"
          ],
          "name": "stderr"
        }
      ]
    },
    {
      "cell_type": "code",
      "metadata": {
        "id": "6nVW8IRGoTeE",
        "outputId": "468efd6f-528c-4660-ffb9-542be2a94238",
        "colab": {
          "base_uri": "https://localhost:8080/"
        }
      },
      "source": [
        "install.packages(\"dplyr\")"
      ],
      "execution_count": 18,
      "outputs": [
        {
          "output_type": "stream",
          "text": [
            "Installing package into ‘/usr/local/lib/R/site-library’\n",
            "(as ‘lib’ is unspecified)\n",
            "\n"
          ],
          "name": "stderr"
        }
      ]
    },
    {
      "cell_type": "code",
      "metadata": {
        "id": "EHvUf_LDmRL9",
        "outputId": "751a6d6c-4c9c-42aa-f0c2-fa50495caef1",
        "colab": {
          "base_uri": "https://localhost:8080/",
          "height": 391
        }
      },
      "source": [
        "# Définition du nom de fichier\n",
        "filename <- \"athlete_events.csv\" \n",
        "# Chargement du fichier\n",
        "dataset <- read.csv(filename, header=TRUE, encoding = \"UTF-8\") \n",
        "\n",
        "# Affichage des 5 premières lignes\n",
        "head(dataset)"
      ],
      "execution_count": 19,
      "outputs": [
        {
          "output_type": "display_data",
          "data": {
            "text/plain": [
              "  ID Name                     Sex Age Height Weight Team           NOC\n",
              "1 1  A Dijiang                M   24  180    80     China          CHN\n",
              "2 2  A Lamusi                 M   23  170    60     China          CHN\n",
              "3 3  Gunnar Nielsen Aaby      M   24   NA    NA     Denmark        DEN\n",
              "4 4  Edgar Lindenau Aabye     M   34   NA    NA     Denmark/Sweden DEN\n",
              "5 5  Christine Jacoba Aaftink F   21  185    82     Netherlands    NED\n",
              "6 5  Christine Jacoba Aaftink F   21  185    82     Netherlands    NED\n",
              "  Games       Year Season City      Sport        \n",
              "1 1992 Summer 1992 Summer Barcelona Basketball   \n",
              "2 2012 Summer 2012 Summer London    Judo         \n",
              "3 1920 Summer 1920 Summer Antwerpen Football     \n",
              "4 1900 Summer 1900 Summer Paris     Tug-Of-War   \n",
              "5 1988 Winter 1988 Winter Calgary   Speed Skating\n",
              "6 1988 Winter 1988 Winter Calgary   Speed Skating\n",
              "  Event                              Medal\n",
              "1 Basketball Men's Basketball        NA   \n",
              "2 Judo Men's Extra-Lightweight       NA   \n",
              "3 Football Men's Football            NA   \n",
              "4 Tug-Of-War Men's Tug-Of-War        Gold \n",
              "5 Speed Skating Women's 500 metres   NA   \n",
              "6 Speed Skating Women's 1,000 metres NA   "
            ],
            "text/latex": "A data.frame: 6 × 15\n\\begin{tabular}{r|lllllllllllllll}\n  & ID & Name & Sex & Age & Height & Weight & Team & NOC & Games & Year & Season & City & Sport & Event & Medal\\\\\n  & <int> & <chr> & <chr> & <int> & <int> & <dbl> & <chr> & <chr> & <chr> & <int> & <chr> & <chr> & <chr> & <chr> & <chr>\\\\\n\\hline\n\t1 & 1 & A Dijiang                & M & 24 & 180 & 80 & China          & CHN & 1992 Summer & 1992 & Summer & Barcelona & Basketball    & Basketball Men's Basketball        & NA  \\\\\n\t2 & 2 & A Lamusi                 & M & 23 & 170 & 60 & China          & CHN & 2012 Summer & 2012 & Summer & London    & Judo          & Judo Men's Extra-Lightweight       & NA  \\\\\n\t3 & 3 & Gunnar Nielsen Aaby      & M & 24 &  NA & NA & Denmark        & DEN & 1920 Summer & 1920 & Summer & Antwerpen & Football      & Football Men's Football            & NA  \\\\\n\t4 & 4 & Edgar Lindenau Aabye     & M & 34 &  NA & NA & Denmark/Sweden & DEN & 1900 Summer & 1900 & Summer & Paris     & Tug-Of-War    & Tug-Of-War Men's Tug-Of-War        & Gold\\\\\n\t5 & 5 & Christine Jacoba Aaftink & F & 21 & 185 & 82 & Netherlands    & NED & 1988 Winter & 1988 & Winter & Calgary   & Speed Skating & Speed Skating Women's 500 metres   & NA  \\\\\n\t6 & 5 & Christine Jacoba Aaftink & F & 21 & 185 & 82 & Netherlands    & NED & 1988 Winter & 1988 & Winter & Calgary   & Speed Skating & Speed Skating Women's 1,000 metres & NA  \\\\\n\\end{tabular}\n",
            "text/markdown": "\nA data.frame: 6 × 15\n\n| <!--/--> | ID &lt;int&gt; | Name &lt;chr&gt; | Sex &lt;chr&gt; | Age &lt;int&gt; | Height &lt;int&gt; | Weight &lt;dbl&gt; | Team &lt;chr&gt; | NOC &lt;chr&gt; | Games &lt;chr&gt; | Year &lt;int&gt; | Season &lt;chr&gt; | City &lt;chr&gt; | Sport &lt;chr&gt; | Event &lt;chr&gt; | Medal &lt;chr&gt; |\n|---|---|---|---|---|---|---|---|---|---|---|---|---|---|---|---|\n| 1 | 1 | A Dijiang                | M | 24 | 180 | 80 | China          | CHN | 1992 Summer | 1992 | Summer | Barcelona | Basketball    | Basketball Men's Basketball        | NA   |\n| 2 | 2 | A Lamusi                 | M | 23 | 170 | 60 | China          | CHN | 2012 Summer | 2012 | Summer | London    | Judo          | Judo Men's Extra-Lightweight       | NA   |\n| 3 | 3 | Gunnar Nielsen Aaby      | M | 24 |  NA | NA | Denmark        | DEN | 1920 Summer | 1920 | Summer | Antwerpen | Football      | Football Men's Football            | NA   |\n| 4 | 4 | Edgar Lindenau Aabye     | M | 34 |  NA | NA | Denmark/Sweden | DEN | 1900 Summer | 1900 | Summer | Paris     | Tug-Of-War    | Tug-Of-War Men's Tug-Of-War        | Gold |\n| 5 | 5 | Christine Jacoba Aaftink | F | 21 | 185 | 82 | Netherlands    | NED | 1988 Winter | 1988 | Winter | Calgary   | Speed Skating | Speed Skating Women's 500 metres   | NA   |\n| 6 | 5 | Christine Jacoba Aaftink | F | 21 | 185 | 82 | Netherlands    | NED | 1988 Winter | 1988 | Winter | Calgary   | Speed Skating | Speed Skating Women's 1,000 metres | NA   |\n\n",
            "text/html": [
              "<table>\n",
              "<caption>A data.frame: 6 × 15</caption>\n",
              "<thead>\n",
              "\t<tr><th></th><th scope=col>ID</th><th scope=col>Name</th><th scope=col>Sex</th><th scope=col>Age</th><th scope=col>Height</th><th scope=col>Weight</th><th scope=col>Team</th><th scope=col>NOC</th><th scope=col>Games</th><th scope=col>Year</th><th scope=col>Season</th><th scope=col>City</th><th scope=col>Sport</th><th scope=col>Event</th><th scope=col>Medal</th></tr>\n",
              "\t<tr><th></th><th scope=col>&lt;int&gt;</th><th scope=col>&lt;chr&gt;</th><th scope=col>&lt;chr&gt;</th><th scope=col>&lt;int&gt;</th><th scope=col>&lt;int&gt;</th><th scope=col>&lt;dbl&gt;</th><th scope=col>&lt;chr&gt;</th><th scope=col>&lt;chr&gt;</th><th scope=col>&lt;chr&gt;</th><th scope=col>&lt;int&gt;</th><th scope=col>&lt;chr&gt;</th><th scope=col>&lt;chr&gt;</th><th scope=col>&lt;chr&gt;</th><th scope=col>&lt;chr&gt;</th><th scope=col>&lt;chr&gt;</th></tr>\n",
              "</thead>\n",
              "<tbody>\n",
              "\t<tr><th scope=row>1</th><td>1</td><td>A Dijiang               </td><td>M</td><td>24</td><td>180</td><td>80</td><td>China         </td><td>CHN</td><td>1992 Summer</td><td>1992</td><td>Summer</td><td>Barcelona</td><td>Basketball   </td><td>Basketball Men's Basketball       </td><td>NA  </td></tr>\n",
              "\t<tr><th scope=row>2</th><td>2</td><td>A Lamusi                </td><td>M</td><td>23</td><td>170</td><td>60</td><td>China         </td><td>CHN</td><td>2012 Summer</td><td>2012</td><td>Summer</td><td>London   </td><td>Judo         </td><td>Judo Men's Extra-Lightweight      </td><td>NA  </td></tr>\n",
              "\t<tr><th scope=row>3</th><td>3</td><td>Gunnar Nielsen Aaby     </td><td>M</td><td>24</td><td> NA</td><td>NA</td><td>Denmark       </td><td>DEN</td><td>1920 Summer</td><td>1920</td><td>Summer</td><td>Antwerpen</td><td>Football     </td><td>Football Men's Football           </td><td>NA  </td></tr>\n",
              "\t<tr><th scope=row>4</th><td>4</td><td>Edgar Lindenau Aabye    </td><td>M</td><td>34</td><td> NA</td><td>NA</td><td>Denmark/Sweden</td><td>DEN</td><td>1900 Summer</td><td>1900</td><td>Summer</td><td>Paris    </td><td>Tug-Of-War   </td><td>Tug-Of-War Men's Tug-Of-War       </td><td>Gold</td></tr>\n",
              "\t<tr><th scope=row>5</th><td>5</td><td>Christine Jacoba Aaftink</td><td>F</td><td>21</td><td>185</td><td>82</td><td>Netherlands   </td><td>NED</td><td>1988 Winter</td><td>1988</td><td>Winter</td><td>Calgary  </td><td>Speed Skating</td><td>Speed Skating Women's 500 metres  </td><td>NA  </td></tr>\n",
              "\t<tr><th scope=row>6</th><td>5</td><td>Christine Jacoba Aaftink</td><td>F</td><td>21</td><td>185</td><td>82</td><td>Netherlands   </td><td>NED</td><td>1988 Winter</td><td>1988</td><td>Winter</td><td>Calgary  </td><td>Speed Skating</td><td>Speed Skating Women's 1,000 metres</td><td>NA  </td></tr>\n",
              "</tbody>\n",
              "</table>\n"
            ]
          },
          "metadata": {
            "tags": []
          }
        }
      ]
    },
    {
      "cell_type": "code",
      "metadata": {
        "id": "0mrOO2QKmRMJ",
        "outputId": "f04fbabf-691a-4546-d98e-5277a7af54f1",
        "colab": {
          "base_uri": "https://localhost:8080/",
          "height": 1000
        }
      },
      "source": [
        "#### Filtre sur le pays France\n",
        "library(\"dplyr\")\n",
        "dataset %>% filter(Team == \"France\")"
      ],
      "execution_count": 22,
      "outputs": [
        {
          "output_type": "display_data",
          "data": {
            "text/plain": [
              "      ID     Name                               Sex Age Height Weight Team  \n",
              "1      34    Jamale (Djamel-) Aarrass (Ahrass-) M   30  187     76    France\n",
              "2      52    Patrick Abada                      M   22  189     80    France\n",
              "3      56    Ren Abadie                         M   21   NA     NA    France\n",
              "4      56    Ren Abadie                         M   21   NA     NA    France\n",
              "5      73    Luc Abalo                          M   23  182     86    France\n",
              "6      73    Luc Abalo                          M   27  182     86    France\n",
              "7      73    Luc Abalo                          M   31  182     86    France\n",
              "8      93    Jol Marc Abati                     M   34  190     85    France\n",
              "9      93    Jol Marc Abati                     M   38  190     85    France\n",
              "10    167    Ould Lamine Abdallah               M   NA   NA     NA    France\n",
              "11    237    Ben Ahmed Abdelkrim                M   20   NA     NA    France\n",
              "12    434    David Abibssira                    M   21  179     63    France\n",
              "13    444    Camille Anne Franoise Abily        F   27  168     60    France\n",
              "14    444    Camille Anne Franoise Abily        F   31  168     60    France\n",
              "15    515    Stphan Abrahamian Gonzalez         M   22   NA     NA    France\n",
              "16    558    David Abrard                       M   19  187     81    France\n",
              "17    573    Franck Abrial                      M   24  174     68    France\n",
              "18    583    Julien Absalon                     M   23  180     68    France\n",
              "19    583    Julien Absalon                     M   27  180     68    France\n",
              "20    583    Julien Absalon                     M   31  180     68    France\n",
              "21    583    Julien Absalon                     M   35  180     68    France\n",
              "22    626    Alain Acart                        M   21  175     67    France\n",
              "23    626    Alain Acart                        M   25  175     67    France\n",
              "24    628    Jacques Accambray                  M   22  194    125    France\n",
              "25    628    Jacques Accambray                  M   26  194    125    France\n",
              "26    629    William Accambray                  M   24  194    104    France\n",
              "27    676    Gaston Achille                     M   NA   NA     NA    France\n",
              "28    677    Georges Achille-Fould              F   55   NA     NA    France\n",
              "29    757    Adam                               M   NA   NA     NA    France\n",
              "30    758    Adam                               M   NA   NA     NA    France\n",
              "⋮     ⋮      ⋮                                  ⋮   ⋮   ⋮      ⋮      ⋮     \n",
              "11959 133720 Pierre Zadin                       M   30   NA    NA     France\n",
              "11960 133811 John Zakrzewski                    M   25  186    80     France\n",
              "11961 133968 Jean-Louis Zanon                   M   23  180    70     France\n",
              "11962 134104 Othello Zavaroni                   M   38   NA    NA     France\n",
              "11963 134209 Gary Zebrowski                     M   21  179    76     France\n",
              "11964 134209 Gary Zebrowski                     M   25  179    76     France\n",
              "11965 134245 Ernst Emil Georg Zeibig            M   22   NA    NA     France\n",
              "11966 134245 Ernst Emil Georg Zeibig            M   22   NA    NA     France\n",
              "11967 134245 Ernst Emil Georg Zeibig            M   22   NA    NA     France\n",
              "11968 134245 Ernst Emil Georg Zeibig            M   26   NA    NA     France\n",
              "11969 134314 Raymond Zembri                     M   23  180    68     France\n",
              "11970 134401 Mickal-Meba Zz                     M   22  175    66     France\n",
              "11971 135001 Pascal Zilliox                     M   30  175    56     France\n",
              "11972 135084 Lucien Zins                        M   25   NA    NA     France\n",
              "11973 135084 Lucien Zins                        M   29   NA    NA     France\n",
              "11974 135137 Freddy Zix                         M   33  178    76     France\n",
              "11975 135139 Jean Zizine                        M   29   NA    NA     France\n",
              "11976 135173 Henri Achille Zo                   M   58   NA    NA     France\n",
              "11977 135173 Henri Achille Zo                   M   58   NA    NA     France\n",
              "11978 135188 Andr Georges Zoete                 M   25  156    52     France\n",
              "11979 135188 Andr Georges Zoete                 M   25  156    52     France\n",
              "11980 135188 Andr Georges Zoete                 M   28  156    52     France\n",
              "11981 135188 Andr Georges Zoete                 M   33  156    52     France\n",
              "11982 135278 Vincent Zouaoui-Dandrieux          M   27  188    72     France\n",
              "11983 135278 Vincent Zouaoui-Dandrieux          M   31  188    72     France\n",
              "11984 135362 Michel Zucarelli                   M   18  175    67     France\n",
              "11985 135362 Michel Zucarelli                   M   18  175    67     France\n",
              "11986 135538 Jonathan Zwikel                    M   22  183    84     France\n",
              "11987 135538 Jonathan Zwikel                    M   26  183    84     France\n",
              "11988 135539 Marius Edmund Zwiller              M   18   NA    NA     France\n",
              "      NOC Games       Year Season City           Sport            \n",
              "1     FRA 2012 Summer 2012 Summer London         Athletics        \n",
              "2     FRA 1976 Summer 1976 Summer Montreal       Athletics        \n",
              "3     FRA 1956 Summer 1956 Summer Melbourne      Cycling          \n",
              "4     FRA 1956 Summer 1956 Summer Melbourne      Cycling          \n",
              "5     FRA 2008 Summer 2008 Summer Beijing        Handball         \n",
              "6     FRA 2012 Summer 2012 Summer London         Handball         \n",
              "7     FRA 2016 Summer 2016 Summer Rio de Janeiro Handball         \n",
              "8     FRA 2004 Summer 2004 Summer Athina         Handball         \n",
              "9     FRA 2008 Summer 2008 Summer Beijing        Handball         \n",
              "10    FRA 1952 Summer 1952 Summer Helsinki       Athletics        \n",
              "11    FRA 1952 Summer 1952 Summer Helsinki       Athletics        \n",
              "12    FRA 1984 Summer 1984 Summer Los Angeles    Shooting         \n",
              "13    FRA 2012 Summer 2012 Summer London         Football         \n",
              "14    FRA 2016 Summer 2016 Summer Rio de Janeiro Football         \n",
              "15    FRA 1968 Summer 1968 Summer Mexico City    Cycling          \n",
              "16    FRA 1996 Summer 1996 Summer Atlanta        Swimming         \n",
              "17    FRA 1988 Summer 1988 Summer Seoul          Wrestling        \n",
              "18    FRA 2004 Summer 2004 Summer Athina         Cycling          \n",
              "19    FRA 2008 Summer 2008 Summer Beijing        Cycling          \n",
              "20    FRA 2012 Summer 2012 Summer London         Cycling          \n",
              "21    FRA 2016 Summer 2016 Summer Rio de Janeiro Cycling          \n",
              "22    FRA 1972 Summer 1972 Summer Munich         Canoeing         \n",
              "23    FRA 1976 Summer 1976 Summer Montreal       Canoeing         \n",
              "24    FRA 1972 Summer 1972 Summer Munich         Athletics        \n",
              "25    FRA 1976 Summer 1976 Summer Montreal       Athletics        \n",
              "26    FRA 2012 Summer 2012 Summer London         Handball         \n",
              "27    FRA 1900 Summer 1900 Summer Paris          Fencing          \n",
              "28    FRA 1924 Summer 1924 Summer Paris          Art Competitions \n",
              "29    FRA 1900 Summer 1900 Summer Paris          Fencing          \n",
              "30    FRA 1900 Summer 1900 Summer Paris          Swimming         \n",
              "⋮     ⋮   ⋮           ⋮    ⋮      ⋮              ⋮                \n",
              "11959 FRA 1924 Summer 1924 Summer Paris          Athletics        \n",
              "11960 FRA 2008 Summer 2008 Summer Beijing        Modern Pentathlon\n",
              "11961 FRA 1984 Summer 1984 Summer Los Angeles    Football         \n",
              "11962 FRA 1948 Summer 1948 Summer London         Art Competitions \n",
              "11963 FRA 2006 Winter 2006 Winter Torino         Snowboarding     \n",
              "11964 FRA 2010 Winter 2010 Winter Vancouver      Snowboarding     \n",
              "11965 FRA 1924 Summer 1924 Summer Paris          Swimming         \n",
              "11966 FRA 1924 Summer 1924 Summer Paris          Swimming         \n",
              "11967 FRA 1924 Summer 1924 Summer Paris          Swimming         \n",
              "11968 FRA 1928 Summer 1928 Summer Amsterdam      Swimming         \n",
              "11969 FRA 1972 Summer 1972 Summer Munich         Athletics        \n",
              "11970 FRA 2016 Summer 2016 Summer Rio de Janeiro Athletics        \n",
              "11971 FRA 1992 Summer 1992 Summer Barcelona      Athletics        \n",
              "11972 FRA 1948 Summer 1948 Summer London         Swimming         \n",
              "11973 FRA 1952 Summer 1952 Summer Helsinki       Swimming         \n",
              "11974 FRA 1968 Summer 1968 Summer Mexico City    Football         \n",
              "11975 FRA 1952 Summer 1952 Summer Helsinki       Hockey           \n",
              "11976 FRA 1932 Summer 1932 Summer Los Angeles    Art Competitions \n",
              "11977 FRA 1932 Summer 1932 Summer Los Angeles    Art Competitions \n",
              "11978 FRA 1956 Summer 1956 Summer Melbourne      Wrestling        \n",
              "11979 FRA 1956 Summer 1956 Summer Melbourne      Wrestling        \n",
              "11980 FRA 1960 Summer 1960 Summer Roma           Wrestling        \n",
              "11981 FRA 1964 Summer 1964 Summer Tokyo          Wrestling        \n",
              "11982 FRA 2008 Summer 2008 Summer Beijing        Athletics        \n",
              "11983 FRA 2012 Summer 2012 Summer London         Athletics        \n",
              "11984 FRA 1972 Summer 1972 Summer Munich         Cycling          \n",
              "11985 FRA 1972 Summer 1972 Summer Munich         Cycling          \n",
              "11986 FRA 1998 Winter 1998 Winter Nagano         Ice Hockey       \n",
              "11987 FRA 2002 Winter 2002 Winter Salt Lake City Ice Hockey       \n",
              "11988 FRA 1924 Summer 1924 Summer Paris          Swimming         \n",
              "      Event                                              Medal \n",
              "1     Athletics Men's 1,500 metres                       NA    \n",
              "2     Athletics Men's Pole Vault                         NA    \n",
              "3     Cycling Men's Road Race, Individual                NA    \n",
              "4     Cycling Men's Road Race, Team                      Gold  \n",
              "5     Handball Men's Handball                            Gold  \n",
              "6     Handball Men's Handball                            Gold  \n",
              "7     Handball Men's Handball                            Silver\n",
              "8     Handball Men's Handball                            NA    \n",
              "9     Handball Men's Handball                            Gold  \n",
              "10    Athletics Men's 10,000 metres                      NA    \n",
              "11    Athletics Men's 5,000 metres                       NA    \n",
              "12    Shooting Men's Running Target, 50 metres           NA    \n",
              "13    Football Women's Football                          NA    \n",
              "14    Football Women's Football                          NA    \n",
              "15    Cycling Men's Road Race, Individual                NA    \n",
              "16    Swimming Men's 200 metres Butterfly                NA    \n",
              "17    Wrestling Men's Lightweight, Greco-Roman           NA    \n",
              "18    Cycling Men's Mountainbike, Cross-Country          Gold  \n",
              "19    Cycling Men's Mountainbike, Cross-Country          Gold  \n",
              "20    Cycling Men's Mountainbike, Cross-Country          NA    \n",
              "21    Cycling Men's Mountainbike, Cross-Country          NA    \n",
              "22    Canoeing Men's Canadian Doubles, 1,000 metres      NA    \n",
              "23    Canoeing Men's Canadian Doubles, 1,000 metres      NA    \n",
              "24    Athletics Men's Hammer Throw                       NA    \n",
              "25    Athletics Men's Hammer Throw                       NA    \n",
              "26    Handball Men's Handball                            Gold  \n",
              "27    Fencing Men's epee, Individual                     NA    \n",
              "28    Art Competitions Mixed Painting                    NA    \n",
              "29    Fencing Men's epee, Individual                     NA    \n",
              "30    Swimming Men's 200 metres Freestyle                NA    \n",
              "⋮     ⋮                                                  ⋮     \n",
              "11959 Athletics Men's Hammer Throw                       NA    \n",
              "11960 Modern Pentathlon Men's Individual                 NA    \n",
              "11961 Football Men's Football                            Gold  \n",
              "11962 Art Competitions Mixed Architecture, Unknown Event NA    \n",
              "11963 Snowboarding Men's Halfpipe                        NA    \n",
              "11964 Snowboarding Men's Halfpipe                        NA    \n",
              "11965 Swimming Men's 100 metres Freestyle                NA    \n",
              "11966 Swimming Men's 4 x 200 metres Freestyle Relay      NA    \n",
              "11967 Swimming Men's 100 metres Backstroke               NA    \n",
              "11968 Swimming Men's 100 metres Backstroke               NA    \n",
              "11969 Athletics Men's 5,000 metres                       NA    \n",
              "11970 Athletics Men's 4 x 100 metres Relay               NA    \n",
              "11971 Athletics Men's Marathon                           NA    \n",
              "11972 Swimming Men's 100 metres Backstroke               NA    \n",
              "11973 Swimming Men's 100 metres Backstroke               NA    \n",
              "11974 Football Men's Football                            NA    \n",
              "11975 Hockey Men's Hockey                                NA    \n",
              "11976 Art Competitions Mixed Painting, Unknown Event     NA    \n",
              "11977 Art Competitions Mixed Painting, Unknown Event     NA    \n",
              "11978 Wrestling Men's Flyweight, Greco-Roman             NA    \n",
              "11979 Wrestling Men's Flyweight, Freestyle               NA    \n",
              "11980 Wrestling Men's Flyweight, Freestyle               NA    \n",
              "11981 Wrestling Men's Flyweight, Freestyle               NA    \n",
              "11982 Athletics Men's 3,000 metres Steeplechase          NA    \n",
              "11983 Athletics Men's 3,000 metres Steeplechase          NA    \n",
              "11984 Cycling Men's Individual Pursuit, 4,000 metres     NA    \n",
              "11985 Cycling Men's Team Pursuit, 4,000 metres           NA    \n",
              "11986 Ice Hockey Men's Ice Hockey                        NA    \n",
              "11987 Ice Hockey Men's Ice Hockey                        NA    \n",
              "11988 Swimming Men's 200 metres Breaststroke             NA    "
            ],
            "text/latex": "A data.frame: 11988 × 15\n\\begin{tabular}{lllllllllllllll}\n ID & Name & Sex & Age & Height & Weight & Team & NOC & Games & Year & Season & City & Sport & Event & Medal\\\\\n <int> & <chr> & <chr> & <int> & <int> & <dbl> & <chr> & <chr> & <chr> & <int> & <chr> & <chr> & <chr> & <chr> & <chr>\\\\\n\\hline\n\t  34 & Jamale (Djamel-) Aarrass (Ahrass-) & M & 30 & 187 &  76 & France & FRA & 2012 Summer & 2012 & Summer & London         & Athletics        & Athletics Men's 1,500 metres                  & NA    \\\\\n\t  52 & Patrick Abada                      & M & 22 & 189 &  80 & France & FRA & 1976 Summer & 1976 & Summer & Montreal       & Athletics        & Athletics Men's Pole Vault                    & NA    \\\\\n\t  56 & Ren Abadie                         & M & 21 &  NA &  NA & France & FRA & 1956 Summer & 1956 & Summer & Melbourne      & Cycling          & Cycling Men's Road Race, Individual           & NA    \\\\\n\t  56 & Ren Abadie                         & M & 21 &  NA &  NA & France & FRA & 1956 Summer & 1956 & Summer & Melbourne      & Cycling          & Cycling Men's Road Race, Team                 & Gold  \\\\\n\t  73 & Luc Abalo                          & M & 23 & 182 &  86 & France & FRA & 2008 Summer & 2008 & Summer & Beijing        & Handball         & Handball Men's Handball                       & Gold  \\\\\n\t  73 & Luc Abalo                          & M & 27 & 182 &  86 & France & FRA & 2012 Summer & 2012 & Summer & London         & Handball         & Handball Men's Handball                       & Gold  \\\\\n\t  73 & Luc Abalo                          & M & 31 & 182 &  86 & France & FRA & 2016 Summer & 2016 & Summer & Rio de Janeiro & Handball         & Handball Men's Handball                       & Silver\\\\\n\t  93 & Jol Marc Abati                     & M & 34 & 190 &  85 & France & FRA & 2004 Summer & 2004 & Summer & Athina         & Handball         & Handball Men's Handball                       & NA    \\\\\n\t  93 & Jol Marc Abati                     & M & 38 & 190 &  85 & France & FRA & 2008 Summer & 2008 & Summer & Beijing        & Handball         & Handball Men's Handball                       & Gold  \\\\\n\t 167 & Ould Lamine Abdallah               & M & NA &  NA &  NA & France & FRA & 1952 Summer & 1952 & Summer & Helsinki       & Athletics        & Athletics Men's 10,000 metres                 & NA    \\\\\n\t 237 & Ben Ahmed Abdelkrim                & M & 20 &  NA &  NA & France & FRA & 1952 Summer & 1952 & Summer & Helsinki       & Athletics        & Athletics Men's 5,000 metres                  & NA    \\\\\n\t 434 & David Abibssira                    & M & 21 & 179 &  63 & France & FRA & 1984 Summer & 1984 & Summer & Los Angeles    & Shooting         & Shooting Men's Running Target, 50 metres      & NA    \\\\\n\t 444 & Camille Anne Franoise Abily        & F & 27 & 168 &  60 & France & FRA & 2012 Summer & 2012 & Summer & London         & Football         & Football Women's Football                     & NA    \\\\\n\t 444 & Camille Anne Franoise Abily        & F & 31 & 168 &  60 & France & FRA & 2016 Summer & 2016 & Summer & Rio de Janeiro & Football         & Football Women's Football                     & NA    \\\\\n\t 515 & Stphan Abrahamian Gonzalez         & M & 22 &  NA &  NA & France & FRA & 1968 Summer & 1968 & Summer & Mexico City    & Cycling          & Cycling Men's Road Race, Individual           & NA    \\\\\n\t 558 & David Abrard                       & M & 19 & 187 &  81 & France & FRA & 1996 Summer & 1996 & Summer & Atlanta        & Swimming         & Swimming Men's 200 metres Butterfly           & NA    \\\\\n\t 573 & Franck Abrial                      & M & 24 & 174 &  68 & France & FRA & 1988 Summer & 1988 & Summer & Seoul          & Wrestling        & Wrestling Men's Lightweight, Greco-Roman      & NA    \\\\\n\t 583 & Julien Absalon                     & M & 23 & 180 &  68 & France & FRA & 2004 Summer & 2004 & Summer & Athina         & Cycling          & Cycling Men's Mountainbike, Cross-Country     & Gold  \\\\\n\t 583 & Julien Absalon                     & M & 27 & 180 &  68 & France & FRA & 2008 Summer & 2008 & Summer & Beijing        & Cycling          & Cycling Men's Mountainbike, Cross-Country     & Gold  \\\\\n\t 583 & Julien Absalon                     & M & 31 & 180 &  68 & France & FRA & 2012 Summer & 2012 & Summer & London         & Cycling          & Cycling Men's Mountainbike, Cross-Country     & NA    \\\\\n\t 583 & Julien Absalon                     & M & 35 & 180 &  68 & France & FRA & 2016 Summer & 2016 & Summer & Rio de Janeiro & Cycling          & Cycling Men's Mountainbike, Cross-Country     & NA    \\\\\n\t 626 & Alain Acart                        & M & 21 & 175 &  67 & France & FRA & 1972 Summer & 1972 & Summer & Munich         & Canoeing         & Canoeing Men's Canadian Doubles, 1,000 metres & NA    \\\\\n\t 626 & Alain Acart                        & M & 25 & 175 &  67 & France & FRA & 1976 Summer & 1976 & Summer & Montreal       & Canoeing         & Canoeing Men's Canadian Doubles, 1,000 metres & NA    \\\\\n\t 628 & Jacques Accambray                  & M & 22 & 194 & 125 & France & FRA & 1972 Summer & 1972 & Summer & Munich         & Athletics        & Athletics Men's Hammer Throw                  & NA    \\\\\n\t 628 & Jacques Accambray                  & M & 26 & 194 & 125 & France & FRA & 1976 Summer & 1976 & Summer & Montreal       & Athletics        & Athletics Men's Hammer Throw                  & NA    \\\\\n\t 629 & William Accambray                  & M & 24 & 194 & 104 & France & FRA & 2012 Summer & 2012 & Summer & London         & Handball         & Handball Men's Handball                       & Gold  \\\\\n\t 676 & Gaston Achille                     & M & NA &  NA &  NA & France & FRA & 1900 Summer & 1900 & Summer & Paris          & Fencing          & Fencing Men's epee, Individual                & NA    \\\\\n\t 677 & Georges Achille-Fould              & F & 55 &  NA &  NA & France & FRA & 1924 Summer & 1924 & Summer & Paris          & Art Competitions & Art Competitions Mixed Painting               & NA    \\\\\n\t 757 & Adam                               & M & NA &  NA &  NA & France & FRA & 1900 Summer & 1900 & Summer & Paris          & Fencing          & Fencing Men's epee, Individual                & NA    \\\\\n\t 758 & Adam                               & M & NA &  NA &  NA & France & FRA & 1900 Summer & 1900 & Summer & Paris          & Swimming         & Swimming Men's 200 metres Freestyle           & NA    \\\\\n\t ⋮ & ⋮ & ⋮ & ⋮ & ⋮ & ⋮ & ⋮ & ⋮ & ⋮ & ⋮ & ⋮ & ⋮ & ⋮ & ⋮ & ⋮\\\\\n\t 133720 & Pierre Zadin              & M & 30 &  NA & NA & France & FRA & 1924 Summer & 1924 & Summer & Paris          & Athletics         & Athletics Men's Hammer Throw                       & NA  \\\\\n\t 133811 & John Zakrzewski           & M & 25 & 186 & 80 & France & FRA & 2008 Summer & 2008 & Summer & Beijing        & Modern Pentathlon & Modern Pentathlon Men's Individual                 & NA  \\\\\n\t 133968 & Jean-Louis Zanon          & M & 23 & 180 & 70 & France & FRA & 1984 Summer & 1984 & Summer & Los Angeles    & Football          & Football Men's Football                            & Gold\\\\\n\t 134104 & Othello Zavaroni          & M & 38 &  NA & NA & France & FRA & 1948 Summer & 1948 & Summer & London         & Art Competitions  & Art Competitions Mixed Architecture, Unknown Event & NA  \\\\\n\t 134209 & Gary Zebrowski            & M & 21 & 179 & 76 & France & FRA & 2006 Winter & 2006 & Winter & Torino         & Snowboarding      & Snowboarding Men's Halfpipe                        & NA  \\\\\n\t 134209 & Gary Zebrowski            & M & 25 & 179 & 76 & France & FRA & 2010 Winter & 2010 & Winter & Vancouver      & Snowboarding      & Snowboarding Men's Halfpipe                        & NA  \\\\\n\t 134245 & Ernst Emil Georg Zeibig   & M & 22 &  NA & NA & France & FRA & 1924 Summer & 1924 & Summer & Paris          & Swimming          & Swimming Men's 100 metres Freestyle                & NA  \\\\\n\t 134245 & Ernst Emil Georg Zeibig   & M & 22 &  NA & NA & France & FRA & 1924 Summer & 1924 & Summer & Paris          & Swimming          & Swimming Men's 4 x 200 metres Freestyle Relay      & NA  \\\\\n\t 134245 & Ernst Emil Georg Zeibig   & M & 22 &  NA & NA & France & FRA & 1924 Summer & 1924 & Summer & Paris          & Swimming          & Swimming Men's 100 metres Backstroke               & NA  \\\\\n\t 134245 & Ernst Emil Georg Zeibig   & M & 26 &  NA & NA & France & FRA & 1928 Summer & 1928 & Summer & Amsterdam      & Swimming          & Swimming Men's 100 metres Backstroke               & NA  \\\\\n\t 134314 & Raymond Zembri            & M & 23 & 180 & 68 & France & FRA & 1972 Summer & 1972 & Summer & Munich         & Athletics         & Athletics Men's 5,000 metres                       & NA  \\\\\n\t 134401 & Mickal-Meba Zz            & M & 22 & 175 & 66 & France & FRA & 2016 Summer & 2016 & Summer & Rio de Janeiro & Athletics         & Athletics Men's 4 x 100 metres Relay               & NA  \\\\\n\t 135001 & Pascal Zilliox            & M & 30 & 175 & 56 & France & FRA & 1992 Summer & 1992 & Summer & Barcelona      & Athletics         & Athletics Men's Marathon                           & NA  \\\\\n\t 135084 & Lucien Zins               & M & 25 &  NA & NA & France & FRA & 1948 Summer & 1948 & Summer & London         & Swimming          & Swimming Men's 100 metres Backstroke               & NA  \\\\\n\t 135084 & Lucien Zins               & M & 29 &  NA & NA & France & FRA & 1952 Summer & 1952 & Summer & Helsinki       & Swimming          & Swimming Men's 100 metres Backstroke               & NA  \\\\\n\t 135137 & Freddy Zix                & M & 33 & 178 & 76 & France & FRA & 1968 Summer & 1968 & Summer & Mexico City    & Football          & Football Men's Football                            & NA  \\\\\n\t 135139 & Jean Zizine               & M & 29 &  NA & NA & France & FRA & 1952 Summer & 1952 & Summer & Helsinki       & Hockey            & Hockey Men's Hockey                                & NA  \\\\\n\t 135173 & Henri Achille Zo          & M & 58 &  NA & NA & France & FRA & 1932 Summer & 1932 & Summer & Los Angeles    & Art Competitions  & Art Competitions Mixed Painting, Unknown Event     & NA  \\\\\n\t 135173 & Henri Achille Zo          & M & 58 &  NA & NA & France & FRA & 1932 Summer & 1932 & Summer & Los Angeles    & Art Competitions  & Art Competitions Mixed Painting, Unknown Event     & NA  \\\\\n\t 135188 & Andr Georges Zoete        & M & 25 & 156 & 52 & France & FRA & 1956 Summer & 1956 & Summer & Melbourne      & Wrestling         & Wrestling Men's Flyweight, Greco-Roman             & NA  \\\\\n\t 135188 & Andr Georges Zoete        & M & 25 & 156 & 52 & France & FRA & 1956 Summer & 1956 & Summer & Melbourne      & Wrestling         & Wrestling Men's Flyweight, Freestyle               & NA  \\\\\n\t 135188 & Andr Georges Zoete        & M & 28 & 156 & 52 & France & FRA & 1960 Summer & 1960 & Summer & Roma           & Wrestling         & Wrestling Men's Flyweight, Freestyle               & NA  \\\\\n\t 135188 & Andr Georges Zoete        & M & 33 & 156 & 52 & France & FRA & 1964 Summer & 1964 & Summer & Tokyo          & Wrestling         & Wrestling Men's Flyweight, Freestyle               & NA  \\\\\n\t 135278 & Vincent Zouaoui-Dandrieux & M & 27 & 188 & 72 & France & FRA & 2008 Summer & 2008 & Summer & Beijing        & Athletics         & Athletics Men's 3,000 metres Steeplechase          & NA  \\\\\n\t 135278 & Vincent Zouaoui-Dandrieux & M & 31 & 188 & 72 & France & FRA & 2012 Summer & 2012 & Summer & London         & Athletics         & Athletics Men's 3,000 metres Steeplechase          & NA  \\\\\n\t 135362 & Michel Zucarelli          & M & 18 & 175 & 67 & France & FRA & 1972 Summer & 1972 & Summer & Munich         & Cycling           & Cycling Men's Individual Pursuit, 4,000 metres     & NA  \\\\\n\t 135362 & Michel Zucarelli          & M & 18 & 175 & 67 & France & FRA & 1972 Summer & 1972 & Summer & Munich         & Cycling           & Cycling Men's Team Pursuit, 4,000 metres           & NA  \\\\\n\t 135538 & Jonathan Zwikel           & M & 22 & 183 & 84 & France & FRA & 1998 Winter & 1998 & Winter & Nagano         & Ice Hockey        & Ice Hockey Men's Ice Hockey                        & NA  \\\\\n\t 135538 & Jonathan Zwikel           & M & 26 & 183 & 84 & France & FRA & 2002 Winter & 2002 & Winter & Salt Lake City & Ice Hockey        & Ice Hockey Men's Ice Hockey                        & NA  \\\\\n\t 135539 & Marius Edmund Zwiller     & M & 18 &  NA & NA & France & FRA & 1924 Summer & 1924 & Summer & Paris          & Swimming          & Swimming Men's 200 metres Breaststroke             & NA  \\\\\n\\end{tabular}\n",
            "text/markdown": "\nA data.frame: 11988 × 15\n\n| ID &lt;int&gt; | Name &lt;chr&gt; | Sex &lt;chr&gt; | Age &lt;int&gt; | Height &lt;int&gt; | Weight &lt;dbl&gt; | Team &lt;chr&gt; | NOC &lt;chr&gt; | Games &lt;chr&gt; | Year &lt;int&gt; | Season &lt;chr&gt; | City &lt;chr&gt; | Sport &lt;chr&gt; | Event &lt;chr&gt; | Medal &lt;chr&gt; |\n|---|---|---|---|---|---|---|---|---|---|---|---|---|---|---|\n|  34 | Jamale (Djamel-) Aarrass (Ahrass-) | M | 30 | 187 |  76 | France | FRA | 2012 Summer | 2012 | Summer | London         | Athletics        | Athletics Men's 1,500 metres                  | NA     |\n|  52 | Patrick Abada                      | M | 22 | 189 |  80 | France | FRA | 1976 Summer | 1976 | Summer | Montreal       | Athletics        | Athletics Men's Pole Vault                    | NA     |\n|  56 | Ren Abadie                         | M | 21 |  NA |  NA | France | FRA | 1956 Summer | 1956 | Summer | Melbourne      | Cycling          | Cycling Men's Road Race, Individual           | NA     |\n|  56 | Ren Abadie                         | M | 21 |  NA |  NA | France | FRA | 1956 Summer | 1956 | Summer | Melbourne      | Cycling          | Cycling Men's Road Race, Team                 | Gold   |\n|  73 | Luc Abalo                          | M | 23 | 182 |  86 | France | FRA | 2008 Summer | 2008 | Summer | Beijing        | Handball         | Handball Men's Handball                       | Gold   |\n|  73 | Luc Abalo                          | M | 27 | 182 |  86 | France | FRA | 2012 Summer | 2012 | Summer | London         | Handball         | Handball Men's Handball                       | Gold   |\n|  73 | Luc Abalo                          | M | 31 | 182 |  86 | France | FRA | 2016 Summer | 2016 | Summer | Rio de Janeiro | Handball         | Handball Men's Handball                       | Silver |\n|  93 | Jol Marc Abati                     | M | 34 | 190 |  85 | France | FRA | 2004 Summer | 2004 | Summer | Athina         | Handball         | Handball Men's Handball                       | NA     |\n|  93 | Jol Marc Abati                     | M | 38 | 190 |  85 | France | FRA | 2008 Summer | 2008 | Summer | Beijing        | Handball         | Handball Men's Handball                       | Gold   |\n| 167 | Ould Lamine Abdallah               | M | NA |  NA |  NA | France | FRA | 1952 Summer | 1952 | Summer | Helsinki       | Athletics        | Athletics Men's 10,000 metres                 | NA     |\n| 237 | Ben Ahmed Abdelkrim                | M | 20 |  NA |  NA | France | FRA | 1952 Summer | 1952 | Summer | Helsinki       | Athletics        | Athletics Men's 5,000 metres                  | NA     |\n| 434 | David Abibssira                    | M | 21 | 179 |  63 | France | FRA | 1984 Summer | 1984 | Summer | Los Angeles    | Shooting         | Shooting Men's Running Target, 50 metres      | NA     |\n| 444 | Camille Anne Franoise Abily        | F | 27 | 168 |  60 | France | FRA | 2012 Summer | 2012 | Summer | London         | Football         | Football Women's Football                     | NA     |\n| 444 | Camille Anne Franoise Abily        | F | 31 | 168 |  60 | France | FRA | 2016 Summer | 2016 | Summer | Rio de Janeiro | Football         | Football Women's Football                     | NA     |\n| 515 | Stphan Abrahamian Gonzalez         | M | 22 |  NA |  NA | France | FRA | 1968 Summer | 1968 | Summer | Mexico City    | Cycling          | Cycling Men's Road Race, Individual           | NA     |\n| 558 | David Abrard                       | M | 19 | 187 |  81 | France | FRA | 1996 Summer | 1996 | Summer | Atlanta        | Swimming         | Swimming Men's 200 metres Butterfly           | NA     |\n| 573 | Franck Abrial                      | M | 24 | 174 |  68 | France | FRA | 1988 Summer | 1988 | Summer | Seoul          | Wrestling        | Wrestling Men's Lightweight, Greco-Roman      | NA     |\n| 583 | Julien Absalon                     | M | 23 | 180 |  68 | France | FRA | 2004 Summer | 2004 | Summer | Athina         | Cycling          | Cycling Men's Mountainbike, Cross-Country     | Gold   |\n| 583 | Julien Absalon                     | M | 27 | 180 |  68 | France | FRA | 2008 Summer | 2008 | Summer | Beijing        | Cycling          | Cycling Men's Mountainbike, Cross-Country     | Gold   |\n| 583 | Julien Absalon                     | M | 31 | 180 |  68 | France | FRA | 2012 Summer | 2012 | Summer | London         | Cycling          | Cycling Men's Mountainbike, Cross-Country     | NA     |\n| 583 | Julien Absalon                     | M | 35 | 180 |  68 | France | FRA | 2016 Summer | 2016 | Summer | Rio de Janeiro | Cycling          | Cycling Men's Mountainbike, Cross-Country     | NA     |\n| 626 | Alain Acart                        | M | 21 | 175 |  67 | France | FRA | 1972 Summer | 1972 | Summer | Munich         | Canoeing         | Canoeing Men's Canadian Doubles, 1,000 metres | NA     |\n| 626 | Alain Acart                        | M | 25 | 175 |  67 | France | FRA | 1976 Summer | 1976 | Summer | Montreal       | Canoeing         | Canoeing Men's Canadian Doubles, 1,000 metres | NA     |\n| 628 | Jacques Accambray                  | M | 22 | 194 | 125 | France | FRA | 1972 Summer | 1972 | Summer | Munich         | Athletics        | Athletics Men's Hammer Throw                  | NA     |\n| 628 | Jacques Accambray                  | M | 26 | 194 | 125 | France | FRA | 1976 Summer | 1976 | Summer | Montreal       | Athletics        | Athletics Men's Hammer Throw                  | NA     |\n| 629 | William Accambray                  | M | 24 | 194 | 104 | France | FRA | 2012 Summer | 2012 | Summer | London         | Handball         | Handball Men's Handball                       | Gold   |\n| 676 | Gaston Achille                     | M | NA |  NA |  NA | France | FRA | 1900 Summer | 1900 | Summer | Paris          | Fencing          | Fencing Men's epee, Individual                | NA     |\n| 677 | Georges Achille-Fould              | F | 55 |  NA |  NA | France | FRA | 1924 Summer | 1924 | Summer | Paris          | Art Competitions | Art Competitions Mixed Painting               | NA     |\n| 757 | Adam                               | M | NA |  NA |  NA | France | FRA | 1900 Summer | 1900 | Summer | Paris          | Fencing          | Fencing Men's epee, Individual                | NA     |\n| 758 | Adam                               | M | NA |  NA |  NA | France | FRA | 1900 Summer | 1900 | Summer | Paris          | Swimming         | Swimming Men's 200 metres Freestyle           | NA     |\n| ⋮ | ⋮ | ⋮ | ⋮ | ⋮ | ⋮ | ⋮ | ⋮ | ⋮ | ⋮ | ⋮ | ⋮ | ⋮ | ⋮ | ⋮ |\n| 133720 | Pierre Zadin              | M | 30 |  NA | NA | France | FRA | 1924 Summer | 1924 | Summer | Paris          | Athletics         | Athletics Men's Hammer Throw                       | NA   |\n| 133811 | John Zakrzewski           | M | 25 | 186 | 80 | France | FRA | 2008 Summer | 2008 | Summer | Beijing        | Modern Pentathlon | Modern Pentathlon Men's Individual                 | NA   |\n| 133968 | Jean-Louis Zanon          | M | 23 | 180 | 70 | France | FRA | 1984 Summer | 1984 | Summer | Los Angeles    | Football          | Football Men's Football                            | Gold |\n| 134104 | Othello Zavaroni          | M | 38 |  NA | NA | France | FRA | 1948 Summer | 1948 | Summer | London         | Art Competitions  | Art Competitions Mixed Architecture, Unknown Event | NA   |\n| 134209 | Gary Zebrowski            | M | 21 | 179 | 76 | France | FRA | 2006 Winter | 2006 | Winter | Torino         | Snowboarding      | Snowboarding Men's Halfpipe                        | NA   |\n| 134209 | Gary Zebrowski            | M | 25 | 179 | 76 | France | FRA | 2010 Winter | 2010 | Winter | Vancouver      | Snowboarding      | Snowboarding Men's Halfpipe                        | NA   |\n| 134245 | Ernst Emil Georg Zeibig   | M | 22 |  NA | NA | France | FRA | 1924 Summer | 1924 | Summer | Paris          | Swimming          | Swimming Men's 100 metres Freestyle                | NA   |\n| 134245 | Ernst Emil Georg Zeibig   | M | 22 |  NA | NA | France | FRA | 1924 Summer | 1924 | Summer | Paris          | Swimming          | Swimming Men's 4 x 200 metres Freestyle Relay      | NA   |\n| 134245 | Ernst Emil Georg Zeibig   | M | 22 |  NA | NA | France | FRA | 1924 Summer | 1924 | Summer | Paris          | Swimming          | Swimming Men's 100 metres Backstroke               | NA   |\n| 134245 | Ernst Emil Georg Zeibig   | M | 26 |  NA | NA | France | FRA | 1928 Summer | 1928 | Summer | Amsterdam      | Swimming          | Swimming Men's 100 metres Backstroke               | NA   |\n| 134314 | Raymond Zembri            | M | 23 | 180 | 68 | France | FRA | 1972 Summer | 1972 | Summer | Munich         | Athletics         | Athletics Men's 5,000 metres                       | NA   |\n| 134401 | Mickal-Meba Zz            | M | 22 | 175 | 66 | France | FRA | 2016 Summer | 2016 | Summer | Rio de Janeiro | Athletics         | Athletics Men's 4 x 100 metres Relay               | NA   |\n| 135001 | Pascal Zilliox            | M | 30 | 175 | 56 | France | FRA | 1992 Summer | 1992 | Summer | Barcelona      | Athletics         | Athletics Men's Marathon                           | NA   |\n| 135084 | Lucien Zins               | M | 25 |  NA | NA | France | FRA | 1948 Summer | 1948 | Summer | London         | Swimming          | Swimming Men's 100 metres Backstroke               | NA   |\n| 135084 | Lucien Zins               | M | 29 |  NA | NA | France | FRA | 1952 Summer | 1952 | Summer | Helsinki       | Swimming          | Swimming Men's 100 metres Backstroke               | NA   |\n| 135137 | Freddy Zix                | M | 33 | 178 | 76 | France | FRA | 1968 Summer | 1968 | Summer | Mexico City    | Football          | Football Men's Football                            | NA   |\n| 135139 | Jean Zizine               | M | 29 |  NA | NA | France | FRA | 1952 Summer | 1952 | Summer | Helsinki       | Hockey            | Hockey Men's Hockey                                | NA   |\n| 135173 | Henri Achille Zo          | M | 58 |  NA | NA | France | FRA | 1932 Summer | 1932 | Summer | Los Angeles    | Art Competitions  | Art Competitions Mixed Painting, Unknown Event     | NA   |\n| 135173 | Henri Achille Zo          | M | 58 |  NA | NA | France | FRA | 1932 Summer | 1932 | Summer | Los Angeles    | Art Competitions  | Art Competitions Mixed Painting, Unknown Event     | NA   |\n| 135188 | Andr Georges Zoete        | M | 25 | 156 | 52 | France | FRA | 1956 Summer | 1956 | Summer | Melbourne      | Wrestling         | Wrestling Men's Flyweight, Greco-Roman             | NA   |\n| 135188 | Andr Georges Zoete        | M | 25 | 156 | 52 | France | FRA | 1956 Summer | 1956 | Summer | Melbourne      | Wrestling         | Wrestling Men's Flyweight, Freestyle               | NA   |\n| 135188 | Andr Georges Zoete        | M | 28 | 156 | 52 | France | FRA | 1960 Summer | 1960 | Summer | Roma           | Wrestling         | Wrestling Men's Flyweight, Freestyle               | NA   |\n| 135188 | Andr Georges Zoete        | M | 33 | 156 | 52 | France | FRA | 1964 Summer | 1964 | Summer | Tokyo          | Wrestling         | Wrestling Men's Flyweight, Freestyle               | NA   |\n| 135278 | Vincent Zouaoui-Dandrieux | M | 27 | 188 | 72 | France | FRA | 2008 Summer | 2008 | Summer | Beijing        | Athletics         | Athletics Men's 3,000 metres Steeplechase          | NA   |\n| 135278 | Vincent Zouaoui-Dandrieux | M | 31 | 188 | 72 | France | FRA | 2012 Summer | 2012 | Summer | London         | Athletics         | Athletics Men's 3,000 metres Steeplechase          | NA   |\n| 135362 | Michel Zucarelli          | M | 18 | 175 | 67 | France | FRA | 1972 Summer | 1972 | Summer | Munich         | Cycling           | Cycling Men's Individual Pursuit, 4,000 metres     | NA   |\n| 135362 | Michel Zucarelli          | M | 18 | 175 | 67 | France | FRA | 1972 Summer | 1972 | Summer | Munich         | Cycling           | Cycling Men's Team Pursuit, 4,000 metres           | NA   |\n| 135538 | Jonathan Zwikel           | M | 22 | 183 | 84 | France | FRA | 1998 Winter | 1998 | Winter | Nagano         | Ice Hockey        | Ice Hockey Men's Ice Hockey                        | NA   |\n| 135538 | Jonathan Zwikel           | M | 26 | 183 | 84 | France | FRA | 2002 Winter | 2002 | Winter | Salt Lake City | Ice Hockey        | Ice Hockey Men's Ice Hockey                        | NA   |\n| 135539 | Marius Edmund Zwiller     | M | 18 |  NA | NA | France | FRA | 1924 Summer | 1924 | Summer | Paris          | Swimming          | Swimming Men's 200 metres Breaststroke             | NA   |\n\n",
            "text/html": [
              "<table>\n",
              "<caption>A data.frame: 11988 × 15</caption>\n",
              "<thead>\n",
              "\t<tr><th scope=col>ID</th><th scope=col>Name</th><th scope=col>Sex</th><th scope=col>Age</th><th scope=col>Height</th><th scope=col>Weight</th><th scope=col>Team</th><th scope=col>NOC</th><th scope=col>Games</th><th scope=col>Year</th><th scope=col>Season</th><th scope=col>City</th><th scope=col>Sport</th><th scope=col>Event</th><th scope=col>Medal</th></tr>\n",
              "\t<tr><th scope=col>&lt;int&gt;</th><th scope=col>&lt;chr&gt;</th><th scope=col>&lt;chr&gt;</th><th scope=col>&lt;int&gt;</th><th scope=col>&lt;int&gt;</th><th scope=col>&lt;dbl&gt;</th><th scope=col>&lt;chr&gt;</th><th scope=col>&lt;chr&gt;</th><th scope=col>&lt;chr&gt;</th><th scope=col>&lt;int&gt;</th><th scope=col>&lt;chr&gt;</th><th scope=col>&lt;chr&gt;</th><th scope=col>&lt;chr&gt;</th><th scope=col>&lt;chr&gt;</th><th scope=col>&lt;chr&gt;</th></tr>\n",
              "</thead>\n",
              "<tbody>\n",
              "\t<tr><td> 34</td><td>Jamale (Djamel-) Aarrass (Ahrass-)</td><td>M</td><td>30</td><td>187</td><td> 76</td><td>France</td><td>FRA</td><td>2012 Summer</td><td>2012</td><td>Summer</td><td>London        </td><td>Athletics       </td><td>Athletics Men's 1,500 metres                 </td><td>NA    </td></tr>\n",
              "\t<tr><td> 52</td><td>Patrick Abada                     </td><td>M</td><td>22</td><td>189</td><td> 80</td><td>France</td><td>FRA</td><td>1976 Summer</td><td>1976</td><td>Summer</td><td>Montreal      </td><td>Athletics       </td><td>Athletics Men's Pole Vault                   </td><td>NA    </td></tr>\n",
              "\t<tr><td> 56</td><td>Ren Abadie                        </td><td>M</td><td>21</td><td> NA</td><td> NA</td><td>France</td><td>FRA</td><td>1956 Summer</td><td>1956</td><td>Summer</td><td>Melbourne     </td><td>Cycling         </td><td>Cycling Men's Road Race, Individual          </td><td>NA    </td></tr>\n",
              "\t<tr><td> 56</td><td>Ren Abadie                        </td><td>M</td><td>21</td><td> NA</td><td> NA</td><td>France</td><td>FRA</td><td>1956 Summer</td><td>1956</td><td>Summer</td><td>Melbourne     </td><td>Cycling         </td><td>Cycling Men's Road Race, Team                </td><td>Gold  </td></tr>\n",
              "\t<tr><td> 73</td><td>Luc Abalo                         </td><td>M</td><td>23</td><td>182</td><td> 86</td><td>France</td><td>FRA</td><td>2008 Summer</td><td>2008</td><td>Summer</td><td>Beijing       </td><td>Handball        </td><td>Handball Men's Handball                      </td><td>Gold  </td></tr>\n",
              "\t<tr><td> 73</td><td>Luc Abalo                         </td><td>M</td><td>27</td><td>182</td><td> 86</td><td>France</td><td>FRA</td><td>2012 Summer</td><td>2012</td><td>Summer</td><td>London        </td><td>Handball        </td><td>Handball Men's Handball                      </td><td>Gold  </td></tr>\n",
              "\t<tr><td> 73</td><td>Luc Abalo                         </td><td>M</td><td>31</td><td>182</td><td> 86</td><td>France</td><td>FRA</td><td>2016 Summer</td><td>2016</td><td>Summer</td><td>Rio de Janeiro</td><td>Handball        </td><td>Handball Men's Handball                      </td><td>Silver</td></tr>\n",
              "\t<tr><td> 93</td><td>Jol Marc Abati                    </td><td>M</td><td>34</td><td>190</td><td> 85</td><td>France</td><td>FRA</td><td>2004 Summer</td><td>2004</td><td>Summer</td><td>Athina        </td><td>Handball        </td><td>Handball Men's Handball                      </td><td>NA    </td></tr>\n",
              "\t<tr><td> 93</td><td>Jol Marc Abati                    </td><td>M</td><td>38</td><td>190</td><td> 85</td><td>France</td><td>FRA</td><td>2008 Summer</td><td>2008</td><td>Summer</td><td>Beijing       </td><td>Handball        </td><td>Handball Men's Handball                      </td><td>Gold  </td></tr>\n",
              "\t<tr><td>167</td><td>Ould Lamine Abdallah              </td><td>M</td><td>NA</td><td> NA</td><td> NA</td><td>France</td><td>FRA</td><td>1952 Summer</td><td>1952</td><td>Summer</td><td>Helsinki      </td><td>Athletics       </td><td>Athletics Men's 10,000 metres                </td><td>NA    </td></tr>\n",
              "\t<tr><td>237</td><td>Ben Ahmed Abdelkrim               </td><td>M</td><td>20</td><td> NA</td><td> NA</td><td>France</td><td>FRA</td><td>1952 Summer</td><td>1952</td><td>Summer</td><td>Helsinki      </td><td>Athletics       </td><td>Athletics Men's 5,000 metres                 </td><td>NA    </td></tr>\n",
              "\t<tr><td>434</td><td>David Abibssira                   </td><td>M</td><td>21</td><td>179</td><td> 63</td><td>France</td><td>FRA</td><td>1984 Summer</td><td>1984</td><td>Summer</td><td>Los Angeles   </td><td>Shooting        </td><td>Shooting Men's Running Target, 50 metres     </td><td>NA    </td></tr>\n",
              "\t<tr><td>444</td><td>Camille Anne Franoise Abily       </td><td>F</td><td>27</td><td>168</td><td> 60</td><td>France</td><td>FRA</td><td>2012 Summer</td><td>2012</td><td>Summer</td><td>London        </td><td>Football        </td><td>Football Women's Football                    </td><td>NA    </td></tr>\n",
              "\t<tr><td>444</td><td>Camille Anne Franoise Abily       </td><td>F</td><td>31</td><td>168</td><td> 60</td><td>France</td><td>FRA</td><td>2016 Summer</td><td>2016</td><td>Summer</td><td>Rio de Janeiro</td><td>Football        </td><td>Football Women's Football                    </td><td>NA    </td></tr>\n",
              "\t<tr><td>515</td><td>Stphan Abrahamian Gonzalez        </td><td>M</td><td>22</td><td> NA</td><td> NA</td><td>France</td><td>FRA</td><td>1968 Summer</td><td>1968</td><td>Summer</td><td>Mexico City   </td><td>Cycling         </td><td>Cycling Men's Road Race, Individual          </td><td>NA    </td></tr>\n",
              "\t<tr><td>558</td><td>David Abrard                      </td><td>M</td><td>19</td><td>187</td><td> 81</td><td>France</td><td>FRA</td><td>1996 Summer</td><td>1996</td><td>Summer</td><td>Atlanta       </td><td>Swimming        </td><td>Swimming Men's 200 metres Butterfly          </td><td>NA    </td></tr>\n",
              "\t<tr><td>573</td><td>Franck Abrial                     </td><td>M</td><td>24</td><td>174</td><td> 68</td><td>France</td><td>FRA</td><td>1988 Summer</td><td>1988</td><td>Summer</td><td>Seoul         </td><td>Wrestling       </td><td>Wrestling Men's Lightweight, Greco-Roman     </td><td>NA    </td></tr>\n",
              "\t<tr><td>583</td><td>Julien Absalon                    </td><td>M</td><td>23</td><td>180</td><td> 68</td><td>France</td><td>FRA</td><td>2004 Summer</td><td>2004</td><td>Summer</td><td>Athina        </td><td>Cycling         </td><td>Cycling Men's Mountainbike, Cross-Country    </td><td>Gold  </td></tr>\n",
              "\t<tr><td>583</td><td>Julien Absalon                    </td><td>M</td><td>27</td><td>180</td><td> 68</td><td>France</td><td>FRA</td><td>2008 Summer</td><td>2008</td><td>Summer</td><td>Beijing       </td><td>Cycling         </td><td>Cycling Men's Mountainbike, Cross-Country    </td><td>Gold  </td></tr>\n",
              "\t<tr><td>583</td><td>Julien Absalon                    </td><td>M</td><td>31</td><td>180</td><td> 68</td><td>France</td><td>FRA</td><td>2012 Summer</td><td>2012</td><td>Summer</td><td>London        </td><td>Cycling         </td><td>Cycling Men's Mountainbike, Cross-Country    </td><td>NA    </td></tr>\n",
              "\t<tr><td>583</td><td>Julien Absalon                    </td><td>M</td><td>35</td><td>180</td><td> 68</td><td>France</td><td>FRA</td><td>2016 Summer</td><td>2016</td><td>Summer</td><td>Rio de Janeiro</td><td>Cycling         </td><td>Cycling Men's Mountainbike, Cross-Country    </td><td>NA    </td></tr>\n",
              "\t<tr><td>626</td><td>Alain Acart                       </td><td>M</td><td>21</td><td>175</td><td> 67</td><td>France</td><td>FRA</td><td>1972 Summer</td><td>1972</td><td>Summer</td><td>Munich        </td><td>Canoeing        </td><td>Canoeing Men's Canadian Doubles, 1,000 metres</td><td>NA    </td></tr>\n",
              "\t<tr><td>626</td><td>Alain Acart                       </td><td>M</td><td>25</td><td>175</td><td> 67</td><td>France</td><td>FRA</td><td>1976 Summer</td><td>1976</td><td>Summer</td><td>Montreal      </td><td>Canoeing        </td><td>Canoeing Men's Canadian Doubles, 1,000 metres</td><td>NA    </td></tr>\n",
              "\t<tr><td>628</td><td>Jacques Accambray                 </td><td>M</td><td>22</td><td>194</td><td>125</td><td>France</td><td>FRA</td><td>1972 Summer</td><td>1972</td><td>Summer</td><td>Munich        </td><td>Athletics       </td><td>Athletics Men's Hammer Throw                 </td><td>NA    </td></tr>\n",
              "\t<tr><td>628</td><td>Jacques Accambray                 </td><td>M</td><td>26</td><td>194</td><td>125</td><td>France</td><td>FRA</td><td>1976 Summer</td><td>1976</td><td>Summer</td><td>Montreal      </td><td>Athletics       </td><td>Athletics Men's Hammer Throw                 </td><td>NA    </td></tr>\n",
              "\t<tr><td>629</td><td>William Accambray                 </td><td>M</td><td>24</td><td>194</td><td>104</td><td>France</td><td>FRA</td><td>2012 Summer</td><td>2012</td><td>Summer</td><td>London        </td><td>Handball        </td><td>Handball Men's Handball                      </td><td>Gold  </td></tr>\n",
              "\t<tr><td>676</td><td>Gaston Achille                    </td><td>M</td><td>NA</td><td> NA</td><td> NA</td><td>France</td><td>FRA</td><td>1900 Summer</td><td>1900</td><td>Summer</td><td>Paris         </td><td>Fencing         </td><td>Fencing Men's epee, Individual               </td><td>NA    </td></tr>\n",
              "\t<tr><td>677</td><td>Georges Achille-Fould             </td><td>F</td><td>55</td><td> NA</td><td> NA</td><td>France</td><td>FRA</td><td>1924 Summer</td><td>1924</td><td>Summer</td><td>Paris         </td><td>Art Competitions</td><td>Art Competitions Mixed Painting              </td><td>NA    </td></tr>\n",
              "\t<tr><td>757</td><td>Adam                              </td><td>M</td><td>NA</td><td> NA</td><td> NA</td><td>France</td><td>FRA</td><td>1900 Summer</td><td>1900</td><td>Summer</td><td>Paris         </td><td>Fencing         </td><td>Fencing Men's epee, Individual               </td><td>NA    </td></tr>\n",
              "\t<tr><td>758</td><td>Adam                              </td><td>M</td><td>NA</td><td> NA</td><td> NA</td><td>France</td><td>FRA</td><td>1900 Summer</td><td>1900</td><td>Summer</td><td>Paris         </td><td>Swimming        </td><td>Swimming Men's 200 metres Freestyle          </td><td>NA    </td></tr>\n",
              "\t<tr><td>⋮</td><td>⋮</td><td>⋮</td><td>⋮</td><td>⋮</td><td>⋮</td><td>⋮</td><td>⋮</td><td>⋮</td><td>⋮</td><td>⋮</td><td>⋮</td><td>⋮</td><td>⋮</td><td>⋮</td></tr>\n",
              "\t<tr><td>133720</td><td>Pierre Zadin             </td><td>M</td><td>30</td><td> NA</td><td>NA</td><td>France</td><td>FRA</td><td>1924 Summer</td><td>1924</td><td>Summer</td><td>Paris         </td><td>Athletics        </td><td>Athletics Men's Hammer Throw                      </td><td>NA  </td></tr>\n",
              "\t<tr><td>133811</td><td>John Zakrzewski          </td><td>M</td><td>25</td><td>186</td><td>80</td><td>France</td><td>FRA</td><td>2008 Summer</td><td>2008</td><td>Summer</td><td>Beijing       </td><td>Modern Pentathlon</td><td>Modern Pentathlon Men's Individual                </td><td>NA  </td></tr>\n",
              "\t<tr><td>133968</td><td>Jean-Louis Zanon         </td><td>M</td><td>23</td><td>180</td><td>70</td><td>France</td><td>FRA</td><td>1984 Summer</td><td>1984</td><td>Summer</td><td>Los Angeles   </td><td>Football         </td><td>Football Men's Football                           </td><td>Gold</td></tr>\n",
              "\t<tr><td>134104</td><td>Othello Zavaroni         </td><td>M</td><td>38</td><td> NA</td><td>NA</td><td>France</td><td>FRA</td><td>1948 Summer</td><td>1948</td><td>Summer</td><td>London        </td><td>Art Competitions </td><td>Art Competitions Mixed Architecture, Unknown Event</td><td>NA  </td></tr>\n",
              "\t<tr><td>134209</td><td>Gary Zebrowski           </td><td>M</td><td>21</td><td>179</td><td>76</td><td>France</td><td>FRA</td><td>2006 Winter</td><td>2006</td><td>Winter</td><td>Torino        </td><td>Snowboarding     </td><td>Snowboarding Men's Halfpipe                       </td><td>NA  </td></tr>\n",
              "\t<tr><td>134209</td><td>Gary Zebrowski           </td><td>M</td><td>25</td><td>179</td><td>76</td><td>France</td><td>FRA</td><td>2010 Winter</td><td>2010</td><td>Winter</td><td>Vancouver     </td><td>Snowboarding     </td><td>Snowboarding Men's Halfpipe                       </td><td>NA  </td></tr>\n",
              "\t<tr><td>134245</td><td>Ernst Emil Georg Zeibig  </td><td>M</td><td>22</td><td> NA</td><td>NA</td><td>France</td><td>FRA</td><td>1924 Summer</td><td>1924</td><td>Summer</td><td>Paris         </td><td>Swimming         </td><td>Swimming Men's 100 metres Freestyle               </td><td>NA  </td></tr>\n",
              "\t<tr><td>134245</td><td>Ernst Emil Georg Zeibig  </td><td>M</td><td>22</td><td> NA</td><td>NA</td><td>France</td><td>FRA</td><td>1924 Summer</td><td>1924</td><td>Summer</td><td>Paris         </td><td>Swimming         </td><td>Swimming Men's 4 x 200 metres Freestyle Relay     </td><td>NA  </td></tr>\n",
              "\t<tr><td>134245</td><td>Ernst Emil Georg Zeibig  </td><td>M</td><td>22</td><td> NA</td><td>NA</td><td>France</td><td>FRA</td><td>1924 Summer</td><td>1924</td><td>Summer</td><td>Paris         </td><td>Swimming         </td><td>Swimming Men's 100 metres Backstroke              </td><td>NA  </td></tr>\n",
              "\t<tr><td>134245</td><td>Ernst Emil Georg Zeibig  </td><td>M</td><td>26</td><td> NA</td><td>NA</td><td>France</td><td>FRA</td><td>1928 Summer</td><td>1928</td><td>Summer</td><td>Amsterdam     </td><td>Swimming         </td><td>Swimming Men's 100 metres Backstroke              </td><td>NA  </td></tr>\n",
              "\t<tr><td>134314</td><td>Raymond Zembri           </td><td>M</td><td>23</td><td>180</td><td>68</td><td>France</td><td>FRA</td><td>1972 Summer</td><td>1972</td><td>Summer</td><td>Munich        </td><td>Athletics        </td><td>Athletics Men's 5,000 metres                      </td><td>NA  </td></tr>\n",
              "\t<tr><td>134401</td><td>Mickal-Meba Zz           </td><td>M</td><td>22</td><td>175</td><td>66</td><td>France</td><td>FRA</td><td>2016 Summer</td><td>2016</td><td>Summer</td><td>Rio de Janeiro</td><td>Athletics        </td><td>Athletics Men's 4 x 100 metres Relay              </td><td>NA  </td></tr>\n",
              "\t<tr><td>135001</td><td>Pascal Zilliox           </td><td>M</td><td>30</td><td>175</td><td>56</td><td>France</td><td>FRA</td><td>1992 Summer</td><td>1992</td><td>Summer</td><td>Barcelona     </td><td>Athletics        </td><td>Athletics Men's Marathon                          </td><td>NA  </td></tr>\n",
              "\t<tr><td>135084</td><td>Lucien Zins              </td><td>M</td><td>25</td><td> NA</td><td>NA</td><td>France</td><td>FRA</td><td>1948 Summer</td><td>1948</td><td>Summer</td><td>London        </td><td>Swimming         </td><td>Swimming Men's 100 metres Backstroke              </td><td>NA  </td></tr>\n",
              "\t<tr><td>135084</td><td>Lucien Zins              </td><td>M</td><td>29</td><td> NA</td><td>NA</td><td>France</td><td>FRA</td><td>1952 Summer</td><td>1952</td><td>Summer</td><td>Helsinki      </td><td>Swimming         </td><td>Swimming Men's 100 metres Backstroke              </td><td>NA  </td></tr>\n",
              "\t<tr><td>135137</td><td>Freddy Zix               </td><td>M</td><td>33</td><td>178</td><td>76</td><td>France</td><td>FRA</td><td>1968 Summer</td><td>1968</td><td>Summer</td><td>Mexico City   </td><td>Football         </td><td>Football Men's Football                           </td><td>NA  </td></tr>\n",
              "\t<tr><td>135139</td><td>Jean Zizine              </td><td>M</td><td>29</td><td> NA</td><td>NA</td><td>France</td><td>FRA</td><td>1952 Summer</td><td>1952</td><td>Summer</td><td>Helsinki      </td><td>Hockey           </td><td>Hockey Men's Hockey                               </td><td>NA  </td></tr>\n",
              "\t<tr><td>135173</td><td>Henri Achille Zo         </td><td>M</td><td>58</td><td> NA</td><td>NA</td><td>France</td><td>FRA</td><td>1932 Summer</td><td>1932</td><td>Summer</td><td>Los Angeles   </td><td>Art Competitions </td><td>Art Competitions Mixed Painting, Unknown Event    </td><td>NA  </td></tr>\n",
              "\t<tr><td>135173</td><td>Henri Achille Zo         </td><td>M</td><td>58</td><td> NA</td><td>NA</td><td>France</td><td>FRA</td><td>1932 Summer</td><td>1932</td><td>Summer</td><td>Los Angeles   </td><td>Art Competitions </td><td>Art Competitions Mixed Painting, Unknown Event    </td><td>NA  </td></tr>\n",
              "\t<tr><td>135188</td><td>Andr Georges Zoete       </td><td>M</td><td>25</td><td>156</td><td>52</td><td>France</td><td>FRA</td><td>1956 Summer</td><td>1956</td><td>Summer</td><td>Melbourne     </td><td>Wrestling        </td><td>Wrestling Men's Flyweight, Greco-Roman            </td><td>NA  </td></tr>\n",
              "\t<tr><td>135188</td><td>Andr Georges Zoete       </td><td>M</td><td>25</td><td>156</td><td>52</td><td>France</td><td>FRA</td><td>1956 Summer</td><td>1956</td><td>Summer</td><td>Melbourne     </td><td>Wrestling        </td><td>Wrestling Men's Flyweight, Freestyle              </td><td>NA  </td></tr>\n",
              "\t<tr><td>135188</td><td>Andr Georges Zoete       </td><td>M</td><td>28</td><td>156</td><td>52</td><td>France</td><td>FRA</td><td>1960 Summer</td><td>1960</td><td>Summer</td><td>Roma          </td><td>Wrestling        </td><td>Wrestling Men's Flyweight, Freestyle              </td><td>NA  </td></tr>\n",
              "\t<tr><td>135188</td><td>Andr Georges Zoete       </td><td>M</td><td>33</td><td>156</td><td>52</td><td>France</td><td>FRA</td><td>1964 Summer</td><td>1964</td><td>Summer</td><td>Tokyo         </td><td>Wrestling        </td><td>Wrestling Men's Flyweight, Freestyle              </td><td>NA  </td></tr>\n",
              "\t<tr><td>135278</td><td>Vincent Zouaoui-Dandrieux</td><td>M</td><td>27</td><td>188</td><td>72</td><td>France</td><td>FRA</td><td>2008 Summer</td><td>2008</td><td>Summer</td><td>Beijing       </td><td>Athletics        </td><td>Athletics Men's 3,000 metres Steeplechase         </td><td>NA  </td></tr>\n",
              "\t<tr><td>135278</td><td>Vincent Zouaoui-Dandrieux</td><td>M</td><td>31</td><td>188</td><td>72</td><td>France</td><td>FRA</td><td>2012 Summer</td><td>2012</td><td>Summer</td><td>London        </td><td>Athletics        </td><td>Athletics Men's 3,000 metres Steeplechase         </td><td>NA  </td></tr>\n",
              "\t<tr><td>135362</td><td>Michel Zucarelli         </td><td>M</td><td>18</td><td>175</td><td>67</td><td>France</td><td>FRA</td><td>1972 Summer</td><td>1972</td><td>Summer</td><td>Munich        </td><td>Cycling          </td><td>Cycling Men's Individual Pursuit, 4,000 metres    </td><td>NA  </td></tr>\n",
              "\t<tr><td>135362</td><td>Michel Zucarelli         </td><td>M</td><td>18</td><td>175</td><td>67</td><td>France</td><td>FRA</td><td>1972 Summer</td><td>1972</td><td>Summer</td><td>Munich        </td><td>Cycling          </td><td>Cycling Men's Team Pursuit, 4,000 metres          </td><td>NA  </td></tr>\n",
              "\t<tr><td>135538</td><td>Jonathan Zwikel          </td><td>M</td><td>22</td><td>183</td><td>84</td><td>France</td><td>FRA</td><td>1998 Winter</td><td>1998</td><td>Winter</td><td>Nagano        </td><td>Ice Hockey       </td><td>Ice Hockey Men's Ice Hockey                       </td><td>NA  </td></tr>\n",
              "\t<tr><td>135538</td><td>Jonathan Zwikel          </td><td>M</td><td>26</td><td>183</td><td>84</td><td>France</td><td>FRA</td><td>2002 Winter</td><td>2002</td><td>Winter</td><td>Salt Lake City</td><td>Ice Hockey       </td><td>Ice Hockey Men's Ice Hockey                       </td><td>NA  </td></tr>\n",
              "\t<tr><td>135539</td><td>Marius Edmund Zwiller    </td><td>M</td><td>18</td><td> NA</td><td>NA</td><td>France</td><td>FRA</td><td>1924 Summer</td><td>1924</td><td>Summer</td><td>Paris         </td><td>Swimming         </td><td>Swimming Men's 200 metres Breaststroke            </td><td>NA  </td></tr>\n",
              "</tbody>\n",
              "</table>\n"
            ]
          },
          "metadata": {
            "tags": []
          }
        }
      ]
    },
    {
      "cell_type": "code",
      "metadata": {
        "id": "qu_CcBp9mRMU",
        "outputId": "24fe6351-3ae6-47d7-a994-2ad1cf5e462a",
        "colab": {
          "base_uri": "https://localhost:8080/",
          "height": 34
        }
      },
      "source": [
        "### Dimension des données\n",
        "\n",
        "dim(dataset)"
      ],
      "execution_count": 66,
      "outputs": [
        {
          "output_type": "display_data",
          "data": {
            "text/plain": [
              "[1] 271116     15"
            ],
            "text/latex": "\\begin{enumerate*}\n\\item 271116\n\\item 15\n\\end{enumerate*}\n",
            "text/markdown": "1. 271116\n2. 15\n\n\n",
            "text/html": [
              "<style>\n",
              ".list-inline {list-style: none; margin:0; padding: 0}\n",
              ".list-inline>li {display: inline-block}\n",
              ".list-inline>li:not(:last-child)::after {content: \"\\00b7\"; padding: 0 .5ex}\n",
              "</style>\n",
              "<ol class=list-inline><li>271116</li><li>15</li></ol>\n"
            ]
          },
          "metadata": {
            "tags": []
          }
        }
      ]
    },
    {
      "cell_type": "code",
      "metadata": {
        "id": "JiPlcSt0mRMb",
        "outputId": "525304a1-b7d1-4c93-a33e-e25dbe51c3b5",
        "colab": {
          "base_uri": "https://localhost:8080/",
          "height": 68
        }
      },
      "source": [
        "#### Type de données pour chaque variable\n",
        "\n",
        "sapply(dataset, class)"
      ],
      "execution_count": 24,
      "outputs": [
        {
          "output_type": "display_data",
          "data": {
            "text/plain": [
              "         ID        Name         Sex         Age      Height      Weight \n",
              "  \"integer\" \"character\" \"character\"   \"integer\"   \"integer\"   \"numeric\" \n",
              "       Team         NOC       Games        Year      Season        City \n",
              "\"character\" \"character\" \"character\"   \"integer\" \"character\" \"character\" \n",
              "      Sport       Event       Medal \n",
              "\"character\" \"character\" \"character\" "
            ],
            "text/latex": "\\begin{description*}\n\\item[ID] 'integer'\n\\item[Name] 'character'\n\\item[Sex] 'character'\n\\item[Age] 'integer'\n\\item[Height] 'integer'\n\\item[Weight] 'numeric'\n\\item[Team] 'character'\n\\item[NOC] 'character'\n\\item[Games] 'character'\n\\item[Year] 'integer'\n\\item[Season] 'character'\n\\item[City] 'character'\n\\item[Sport] 'character'\n\\item[Event] 'character'\n\\item[Medal] 'character'\n\\end{description*}\n",
            "text/markdown": "ID\n:   'integer'Name\n:   'character'Sex\n:   'character'Age\n:   'integer'Height\n:   'integer'Weight\n:   'numeric'Team\n:   'character'NOC\n:   'character'Games\n:   'character'Year\n:   'integer'Season\n:   'character'City\n:   'character'Sport\n:   'character'Event\n:   'character'Medal\n:   'character'\n\n",
            "text/html": [
              "<style>\n",
              ".dl-inline {width: auto; margin:0; padding: 0}\n",
              ".dl-inline>dt, .dl-inline>dd {float: none; width: auto; display: inline-block}\n",
              ".dl-inline>dt::after {content: \":\\0020\"; padding-right: .5ex}\n",
              ".dl-inline>dt:not(:first-of-type) {padding-left: .5ex}\n",
              "</style><dl class=dl-inline><dt>ID</dt><dd>'integer'</dd><dt>Name</dt><dd>'character'</dd><dt>Sex</dt><dd>'character'</dd><dt>Age</dt><dd>'integer'</dd><dt>Height</dt><dd>'integer'</dd><dt>Weight</dt><dd>'numeric'</dd><dt>Team</dt><dd>'character'</dd><dt>NOC</dt><dd>'character'</dd><dt>Games</dt><dd>'character'</dd><dt>Year</dt><dd>'integer'</dd><dt>Season</dt><dd>'character'</dd><dt>City</dt><dd>'character'</dd><dt>Sport</dt><dd>'character'</dd><dt>Event</dt><dd>'character'</dd><dt>Medal</dt><dd>'character'</dd></dl>\n"
            ]
          },
          "metadata": {
            "tags": []
          }
        }
      ]
    },
    {
      "cell_type": "code",
      "metadata": {
        "id": "EHnYRW5lmRMi",
        "outputId": "a7ce95df-9008-4585-d920-afd78d3477d8",
        "colab": {
          "base_uri": "https://localhost:8080/",
          "height": 561
        }
      },
      "source": [
        "#### Summury des données\n",
        "\n",
        "summary(dataset)"
      ],
      "execution_count": 25,
      "outputs": [
        {
          "output_type": "display_data",
          "data": {
            "text/plain": [
              "       ID             Name               Sex                 Age       \n",
              " Min.   :     1   Length:271116      Length:271116      Min.   :10.00  \n",
              " 1st Qu.: 34643   Class :character   Class :character   1st Qu.:21.00  \n",
              " Median : 68205   Mode  :character   Mode  :character   Median :24.00  \n",
              " Mean   : 68249                                         Mean   :25.56  \n",
              " 3rd Qu.:102097                                         3rd Qu.:28.00  \n",
              " Max.   :135571                                         Max.   :97.00  \n",
              "                                                        NA's   :9474   \n",
              "     Height          Weight          Team               NOC           \n",
              " Min.   :127.0   Min.   : 25.0   Length:271116      Length:271116     \n",
              " 1st Qu.:168.0   1st Qu.: 60.0   Class :character   Class :character  \n",
              " Median :175.0   Median : 70.0   Mode  :character   Mode  :character  \n",
              " Mean   :175.3   Mean   : 70.7                                        \n",
              " 3rd Qu.:183.0   3rd Qu.: 79.0                                        \n",
              " Max.   :226.0   Max.   :214.0                                        \n",
              " NA's   :60171   NA's   :62875                                        \n",
              "    Games                Year         Season              City          \n",
              " Length:271116      Min.   :1896   Length:271116      Length:271116     \n",
              " Class :character   1st Qu.:1960   Class :character   Class :character  \n",
              " Mode  :character   Median :1988   Mode  :character   Mode  :character  \n",
              "                    Mean   :1978                                        \n",
              "                    3rd Qu.:2002                                        \n",
              "                    Max.   :2016                                        \n",
              "                                                                        \n",
              "    Sport              Event              Medal          \n",
              " Length:271116      Length:271116      Length:271116     \n",
              " Class :character   Class :character   Class :character  \n",
              " Mode  :character   Mode  :character   Mode  :character  \n",
              "                                                         \n",
              "                                                         \n",
              "                                                         \n",
              "                                                         "
            ]
          },
          "metadata": {
            "tags": []
          }
        }
      ]
    },
    {
      "cell_type": "code",
      "metadata": {
        "id": "blR2B7A4mRMo"
      },
      "source": [
        "#### Chargement dplyr\n",
        "\n",
        "library(\"dplyr\")"
      ],
      "execution_count": 26,
      "outputs": []
    },
    {
      "cell_type": "code",
      "metadata": {
        "id": "URU77w3ZmRMy",
        "outputId": "53979e85-43f6-4d87-85c8-d348e649332f"
      },
      "source": [
        "#### Sélection des colonnes Team, Games et City\n",
        "head(select(dataset, Team, Games, City ),5)"
      ],
      "execution_count": null,
      "outputs": [
        {
          "output_type": "display_data",
          "data": {
            "text/html": [
              "<table>\n",
              "<thead><tr><th scope=col>Team</th><th scope=col>Games</th><th scope=col>City</th></tr></thead>\n",
              "<tbody>\n",
              "\t<tr><td>China         </td><td>1992 Summer   </td><td>Barcelona     </td></tr>\n",
              "\t<tr><td>China         </td><td>2012 Summer   </td><td>London        </td></tr>\n",
              "\t<tr><td>Denmark       </td><td>1920 Summer   </td><td>Antwerpen     </td></tr>\n",
              "\t<tr><td>Denmark/Sweden</td><td>1900 Summer   </td><td>Paris         </td></tr>\n",
              "\t<tr><td>Netherlands   </td><td>1988 Winter   </td><td>Calgary       </td></tr>\n",
              "</tbody>\n",
              "</table>\n"
            ],
            "text/latex": "\\begin{tabular}{r|lll}\n Team & Games & City\\\\\n\\hline\n\t China          & 1992 Summer    & Barcelona     \\\\\n\t China          & 2012 Summer    & London        \\\\\n\t Denmark        & 1920 Summer    & Antwerpen     \\\\\n\t Denmark/Sweden & 1900 Summer    & Paris         \\\\\n\t Netherlands    & 1988 Winter    & Calgary       \\\\\n\\end{tabular}\n",
            "text/markdown": "\n| Team | Games | City |\n|---|---|---|\n| China          | 1992 Summer    | Barcelona      |\n| China          | 2012 Summer    | London         |\n| Denmark        | 1920 Summer    | Antwerpen      |\n| Denmark/Sweden | 1900 Summer    | Paris          |\n| Netherlands    | 1988 Winter    | Calgary        |\n\n",
            "text/plain": [
              "  Team           Games       City     \n",
              "1 China          1992 Summer Barcelona\n",
              "2 China          2012 Summer London   \n",
              "3 Denmark        1920 Summer Antwerpen\n",
              "4 Denmark/Sweden 1900 Summer Paris    \n",
              "5 Netherlands    1988 Winter Calgary  "
            ]
          },
          "metadata": {
            "tags": []
          }
        }
      ]
    },
    {
      "cell_type": "code",
      "metadata": {
        "id": "g-rLl9TWmRM6",
        "outputId": "40bc1b86-b03f-4d84-9cbc-9400c6e31084",
        "colab": {
          "base_uri": "https://localhost:8080/",
          "height": 204
        }
      },
      "source": [
        "#### Autrement, on peut écrire cette fonction avec le pipe\n",
        "#### Equivalent du point en python\n",
        "select(dataset, Team, Games, City ) %>% head()"
      ],
      "execution_count": 27,
      "outputs": [
        {
          "output_type": "display_data",
          "data": {
            "text/plain": [
              "  Team           Games       City     \n",
              "1 China          1992 Summer Barcelona\n",
              "2 China          2012 Summer London   \n",
              "3 Denmark        1920 Summer Antwerpen\n",
              "4 Denmark/Sweden 1900 Summer Paris    \n",
              "5 Netherlands    1988 Winter Calgary  \n",
              "6 Netherlands    1988 Winter Calgary  "
            ],
            "text/latex": "A data.frame: 6 × 3\n\\begin{tabular}{r|lll}\n  & Team & Games & City\\\\\n  & <chr> & <chr> & <chr>\\\\\n\\hline\n\t1 & China          & 1992 Summer & Barcelona\\\\\n\t2 & China          & 2012 Summer & London   \\\\\n\t3 & Denmark        & 1920 Summer & Antwerpen\\\\\n\t4 & Denmark/Sweden & 1900 Summer & Paris    \\\\\n\t5 & Netherlands    & 1988 Winter & Calgary  \\\\\n\t6 & Netherlands    & 1988 Winter & Calgary  \\\\\n\\end{tabular}\n",
            "text/markdown": "\nA data.frame: 6 × 3\n\n| <!--/--> | Team &lt;chr&gt; | Games &lt;chr&gt; | City &lt;chr&gt; |\n|---|---|---|---|\n| 1 | China          | 1992 Summer | Barcelona |\n| 2 | China          | 2012 Summer | London    |\n| 3 | Denmark        | 1920 Summer | Antwerpen |\n| 4 | Denmark/Sweden | 1900 Summer | Paris     |\n| 5 | Netherlands    | 1988 Winter | Calgary   |\n| 6 | Netherlands    | 1988 Winter | Calgary   |\n\n",
            "text/html": [
              "<table>\n",
              "<caption>A data.frame: 6 × 3</caption>\n",
              "<thead>\n",
              "\t<tr><th></th><th scope=col>Team</th><th scope=col>Games</th><th scope=col>City</th></tr>\n",
              "\t<tr><th></th><th scope=col>&lt;chr&gt;</th><th scope=col>&lt;chr&gt;</th><th scope=col>&lt;chr&gt;</th></tr>\n",
              "</thead>\n",
              "<tbody>\n",
              "\t<tr><th scope=row>1</th><td>China         </td><td>1992 Summer</td><td>Barcelona</td></tr>\n",
              "\t<tr><th scope=row>2</th><td>China         </td><td>2012 Summer</td><td>London   </td></tr>\n",
              "\t<tr><th scope=row>3</th><td>Denmark       </td><td>1920 Summer</td><td>Antwerpen</td></tr>\n",
              "\t<tr><th scope=row>4</th><td>Denmark/Sweden</td><td>1900 Summer</td><td>Paris    </td></tr>\n",
              "\t<tr><th scope=row>5</th><td>Netherlands   </td><td>1988 Winter</td><td>Calgary  </td></tr>\n",
              "\t<tr><th scope=row>6</th><td>Netherlands   </td><td>1988 Winter</td><td>Calgary  </td></tr>\n",
              "</tbody>\n",
              "</table>\n"
            ]
          },
          "metadata": {
            "tags": []
          }
        }
      ]
    },
    {
      "cell_type": "code",
      "metadata": {
        "id": "gRCCMiClmRNJ",
        "outputId": "e16e4d04-bbd4-4dba-f9b1-7c16fae0ec6a",
        "colab": {
          "base_uri": "https://localhost:8080/",
          "height": 204
        }
      },
      "source": [
        "#### Ou encore(méthode que je recommande)\n",
        "\n",
        "dataset %>% select(Team, Games) %>% head()"
      ],
      "execution_count": 28,
      "outputs": [
        {
          "output_type": "display_data",
          "data": {
            "text/plain": [
              "  Team           Games      \n",
              "1 China          1992 Summer\n",
              "2 China          2012 Summer\n",
              "3 Denmark        1920 Summer\n",
              "4 Denmark/Sweden 1900 Summer\n",
              "5 Netherlands    1988 Winter\n",
              "6 Netherlands    1988 Winter"
            ],
            "text/latex": "A data.frame: 6 × 2\n\\begin{tabular}{r|ll}\n  & Team & Games\\\\\n  & <chr> & <chr>\\\\\n\\hline\n\t1 & China          & 1992 Summer\\\\\n\t2 & China          & 2012 Summer\\\\\n\t3 & Denmark        & 1920 Summer\\\\\n\t4 & Denmark/Sweden & 1900 Summer\\\\\n\t5 & Netherlands    & 1988 Winter\\\\\n\t6 & Netherlands    & 1988 Winter\\\\\n\\end{tabular}\n",
            "text/markdown": "\nA data.frame: 6 × 2\n\n| <!--/--> | Team &lt;chr&gt; | Games &lt;chr&gt; |\n|---|---|---|\n| 1 | China          | 1992 Summer |\n| 2 | China          | 2012 Summer |\n| 3 | Denmark        | 1920 Summer |\n| 4 | Denmark/Sweden | 1900 Summer |\n| 5 | Netherlands    | 1988 Winter |\n| 6 | Netherlands    | 1988 Winter |\n\n",
            "text/html": [
              "<table>\n",
              "<caption>A data.frame: 6 × 2</caption>\n",
              "<thead>\n",
              "\t<tr><th></th><th scope=col>Team</th><th scope=col>Games</th></tr>\n",
              "\t<tr><th></th><th scope=col>&lt;chr&gt;</th><th scope=col>&lt;chr&gt;</th></tr>\n",
              "</thead>\n",
              "<tbody>\n",
              "\t<tr><th scope=row>1</th><td>China         </td><td>1992 Summer</td></tr>\n",
              "\t<tr><th scope=row>2</th><td>China         </td><td>2012 Summer</td></tr>\n",
              "\t<tr><th scope=row>3</th><td>Denmark       </td><td>1920 Summer</td></tr>\n",
              "\t<tr><th scope=row>4</th><td>Denmark/Sweden</td><td>1900 Summer</td></tr>\n",
              "\t<tr><th scope=row>5</th><td>Netherlands   </td><td>1988 Winter</td></tr>\n",
              "\t<tr><th scope=row>6</th><td>Netherlands   </td><td>1988 Winter</td></tr>\n",
              "</tbody>\n",
              "</table>\n"
            ]
          },
          "metadata": {
            "tags": []
          }
        }
      ]
    },
    {
      "cell_type": "markdown",
      "metadata": {
        "id": "BenuZl6bmRNP"
      },
      "source": [
        "#### Filter"
      ]
    },
    {
      "cell_type": "code",
      "metadata": {
        "id": "mxxvpCNtmRNR",
        "outputId": "61c42ee6-0a8f-4a1d-adfa-293d2fac855c",
        "colab": {
          "base_uri": "https://localhost:8080/",
          "height": 302
        }
      },
      "source": [
        "#### Filtre sur l'année 1980\n",
        "\n",
        "head(filter(dataset,  Year== \"1980\"),5)"
      ],
      "execution_count": 30,
      "outputs": [
        {
          "output_type": "display_data",
          "data": {
            "text/plain": [
              "  ID  Name                                     Sex Age Height Weight\n",
              "1  11 Jorma Ilmari Aalto                       M   22  182     76.5 \n",
              "2  85 Alejandro Abascal Garca                  M   28  181     82.0 \n",
              "3  86 Jos Manuel Abascal Gmez                  M   22  182     67.0 \n",
              "4  88 Nunu Dzhansuhivna Abashydze (-Myslaieva) F   25  168    105.0 \n",
              "5 108 Giuseppe Abbagnale                       M   20  187     97.0 \n",
              "  Team         NOC Games       Year Season City        Sport               \n",
              "1 Finland      FIN 1980 Winter 1980 Winter Lake Placid Cross Country Skiing\n",
              "2 Spain        ESP 1980 Summer 1980 Summer Moskva      Sailing             \n",
              "3 Spain        ESP 1980 Summer 1980 Summer Moskva      Athletics           \n",
              "4 Soviet Union URS 1980 Summer 1980 Summer Moskva      Athletics           \n",
              "5 Italy        ITA 1980 Summer 1980 Summer Moskva      Rowing              \n",
              "  Event                                       Medal\n",
              "1 Cross Country Skiing Men's 30 kilometres    NA   \n",
              "2 Sailing Mixed Two Person Heavyweight Dinghy Gold \n",
              "3 Athletics Men's 1,500 metres                NA   \n",
              "4 Athletics Women's Shot Put                  NA   \n",
              "5 Rowing Men's Coxed Pairs                    NA   "
            ],
            "text/latex": "A data.frame: 5 × 15\n\\begin{tabular}{r|lllllllllllllll}\n  & ID & Name & Sex & Age & Height & Weight & Team & NOC & Games & Year & Season & City & Sport & Event & Medal\\\\\n  & <int> & <chr> & <chr> & <int> & <int> & <dbl> & <chr> & <chr> & <chr> & <int> & <chr> & <chr> & <chr> & <chr> & <chr>\\\\\n\\hline\n\t1 &  11 & Jorma Ilmari Aalto                       & M & 22 & 182 &  76.5 & Finland      & FIN & 1980 Winter & 1980 & Winter & Lake Placid & Cross Country Skiing & Cross Country Skiing Men's 30 kilometres    & NA  \\\\\n\t2 &  85 & Alejandro Abascal Garca                  & M & 28 & 181 &  82.0 & Spain        & ESP & 1980 Summer & 1980 & Summer & Moskva      & Sailing              & Sailing Mixed Two Person Heavyweight Dinghy & Gold\\\\\n\t3 &  86 & Jos Manuel Abascal Gmez                  & M & 22 & 182 &  67.0 & Spain        & ESP & 1980 Summer & 1980 & Summer & Moskva      & Athletics            & Athletics Men's 1,500 metres                & NA  \\\\\n\t4 &  88 & Nunu Dzhansuhivna Abashydze (-Myslaieva) & F & 25 & 168 & 105.0 & Soviet Union & URS & 1980 Summer & 1980 & Summer & Moskva      & Athletics            & Athletics Women's Shot Put                  & NA  \\\\\n\t5 & 108 & Giuseppe Abbagnale                       & M & 20 & 187 &  97.0 & Italy        & ITA & 1980 Summer & 1980 & Summer & Moskva      & Rowing               & Rowing Men's Coxed Pairs                    & NA  \\\\\n\\end{tabular}\n",
            "text/markdown": "\nA data.frame: 5 × 15\n\n| <!--/--> | ID &lt;int&gt; | Name &lt;chr&gt; | Sex &lt;chr&gt; | Age &lt;int&gt; | Height &lt;int&gt; | Weight &lt;dbl&gt; | Team &lt;chr&gt; | NOC &lt;chr&gt; | Games &lt;chr&gt; | Year &lt;int&gt; | Season &lt;chr&gt; | City &lt;chr&gt; | Sport &lt;chr&gt; | Event &lt;chr&gt; | Medal &lt;chr&gt; |\n|---|---|---|---|---|---|---|---|---|---|---|---|---|---|---|---|\n| 1 |  11 | Jorma Ilmari Aalto                       | M | 22 | 182 |  76.5 | Finland      | FIN | 1980 Winter | 1980 | Winter | Lake Placid | Cross Country Skiing | Cross Country Skiing Men's 30 kilometres    | NA   |\n| 2 |  85 | Alejandro Abascal Garca                  | M | 28 | 181 |  82.0 | Spain        | ESP | 1980 Summer | 1980 | Summer | Moskva      | Sailing              | Sailing Mixed Two Person Heavyweight Dinghy | Gold |\n| 3 |  86 | Jos Manuel Abascal Gmez                  | M | 22 | 182 |  67.0 | Spain        | ESP | 1980 Summer | 1980 | Summer | Moskva      | Athletics            | Athletics Men's 1,500 metres                | NA   |\n| 4 |  88 | Nunu Dzhansuhivna Abashydze (-Myslaieva) | F | 25 | 168 | 105.0 | Soviet Union | URS | 1980 Summer | 1980 | Summer | Moskva      | Athletics            | Athletics Women's Shot Put                  | NA   |\n| 5 | 108 | Giuseppe Abbagnale                       | M | 20 | 187 |  97.0 | Italy        | ITA | 1980 Summer | 1980 | Summer | Moskva      | Rowing               | Rowing Men's Coxed Pairs                    | NA   |\n\n",
            "text/html": [
              "<table>\n",
              "<caption>A data.frame: 5 × 15</caption>\n",
              "<thead>\n",
              "\t<tr><th></th><th scope=col>ID</th><th scope=col>Name</th><th scope=col>Sex</th><th scope=col>Age</th><th scope=col>Height</th><th scope=col>Weight</th><th scope=col>Team</th><th scope=col>NOC</th><th scope=col>Games</th><th scope=col>Year</th><th scope=col>Season</th><th scope=col>City</th><th scope=col>Sport</th><th scope=col>Event</th><th scope=col>Medal</th></tr>\n",
              "\t<tr><th></th><th scope=col>&lt;int&gt;</th><th scope=col>&lt;chr&gt;</th><th scope=col>&lt;chr&gt;</th><th scope=col>&lt;int&gt;</th><th scope=col>&lt;int&gt;</th><th scope=col>&lt;dbl&gt;</th><th scope=col>&lt;chr&gt;</th><th scope=col>&lt;chr&gt;</th><th scope=col>&lt;chr&gt;</th><th scope=col>&lt;int&gt;</th><th scope=col>&lt;chr&gt;</th><th scope=col>&lt;chr&gt;</th><th scope=col>&lt;chr&gt;</th><th scope=col>&lt;chr&gt;</th><th scope=col>&lt;chr&gt;</th></tr>\n",
              "</thead>\n",
              "<tbody>\n",
              "\t<tr><th scope=row>1</th><td> 11</td><td>Jorma Ilmari Aalto                      </td><td>M</td><td>22</td><td>182</td><td> 76.5</td><td>Finland     </td><td>FIN</td><td>1980 Winter</td><td>1980</td><td>Winter</td><td>Lake Placid</td><td>Cross Country Skiing</td><td>Cross Country Skiing Men's 30 kilometres   </td><td>NA  </td></tr>\n",
              "\t<tr><th scope=row>2</th><td> 85</td><td>Alejandro Abascal Garca                 </td><td>M</td><td>28</td><td>181</td><td> 82.0</td><td>Spain       </td><td>ESP</td><td>1980 Summer</td><td>1980</td><td>Summer</td><td>Moskva     </td><td>Sailing             </td><td>Sailing Mixed Two Person Heavyweight Dinghy</td><td>Gold</td></tr>\n",
              "\t<tr><th scope=row>3</th><td> 86</td><td>Jos Manuel Abascal Gmez                 </td><td>M</td><td>22</td><td>182</td><td> 67.0</td><td>Spain       </td><td>ESP</td><td>1980 Summer</td><td>1980</td><td>Summer</td><td>Moskva     </td><td>Athletics           </td><td>Athletics Men's 1,500 metres               </td><td>NA  </td></tr>\n",
              "\t<tr><th scope=row>4</th><td> 88</td><td>Nunu Dzhansuhivna Abashydze (-Myslaieva)</td><td>F</td><td>25</td><td>168</td><td>105.0</td><td>Soviet Union</td><td>URS</td><td>1980 Summer</td><td>1980</td><td>Summer</td><td>Moskva     </td><td>Athletics           </td><td>Athletics Women's Shot Put                 </td><td>NA  </td></tr>\n",
              "\t<tr><th scope=row>5</th><td>108</td><td>Giuseppe Abbagnale                      </td><td>M</td><td>20</td><td>187</td><td> 97.0</td><td>Italy       </td><td>ITA</td><td>1980 Summer</td><td>1980</td><td>Summer</td><td>Moskva     </td><td>Rowing              </td><td>Rowing Men's Coxed Pairs                   </td><td>NA  </td></tr>\n",
              "</tbody>\n",
              "</table>\n"
            ]
          },
          "metadata": {
            "tags": []
          }
        }
      ]
    },
    {
      "cell_type": "markdown",
      "metadata": {
        "id": "qO8zU_8AmRNZ"
      },
      "source": [
        "Attention à bien mettre le == au lieu dusigne ="
      ]
    },
    {
      "cell_type": "code",
      "metadata": {
        "id": "6qdI3uyQmRNa",
        "outputId": "85555026-9529-4a14-8cf6-04b07e53cf1c",
        "colab": {
          "base_uri": "https://localhost:8080/",
          "height": 340
        }
      },
      "source": [
        "#### Autrement\n",
        "\n",
        "dataset %>% filter(Year== \"1980\") %>% head()"
      ],
      "execution_count": 31,
      "outputs": [
        {
          "output_type": "display_data",
          "data": {
            "text/plain": [
              "  ID  Name                                      Sex Age Height Weight\n",
              "1  11 Jorma Ilmari Aalto                        M   22  182     76.5 \n",
              "2  85 Alejandro Abascal Garca                   M   28  181     82.0 \n",
              "3  86 Jos Manuel Abascal Gmez                   M   22  182     67.0 \n",
              "4  88 Nunu Dzhansuhivna Abashydze (-Myslaieva)  F   25  168    105.0 \n",
              "5 108 Giuseppe Abbagnale                        M   20  187     97.0 \n",
              "6 109 Abdul Latif Al-Sayed Abbas Youssef Hashem M   27  176     64.0 \n",
              "  Team         NOC Games       Year Season City        Sport               \n",
              "1 Finland      FIN 1980 Winter 1980 Winter Lake Placid Cross Country Skiing\n",
              "2 Spain        ESP 1980 Summer 1980 Summer Moskva      Sailing             \n",
              "3 Spain        ESP 1980 Summer 1980 Summer Moskva      Athletics           \n",
              "4 Soviet Union URS 1980 Summer 1980 Summer Moskva      Athletics           \n",
              "5 Italy        ITA 1980 Summer 1980 Summer Moskva      Rowing              \n",
              "6 Kuwait       KUW 1980 Summer 1980 Summer Moskva      Athletics           \n",
              "  Event                                       Medal\n",
              "1 Cross Country Skiing Men's 30 kilometres    NA   \n",
              "2 Sailing Mixed Two Person Heavyweight Dinghy Gold \n",
              "3 Athletics Men's 1,500 metres                NA   \n",
              "4 Athletics Women's Shot Put                  NA   \n",
              "5 Rowing Men's Coxed Pairs                    NA   \n",
              "6 Athletics Men's 400 metres Hurdles          NA   "
            ],
            "text/latex": "A data.frame: 6 × 15\n\\begin{tabular}{r|lllllllllllllll}\n  & ID & Name & Sex & Age & Height & Weight & Team & NOC & Games & Year & Season & City & Sport & Event & Medal\\\\\n  & <int> & <chr> & <chr> & <int> & <int> & <dbl> & <chr> & <chr> & <chr> & <int> & <chr> & <chr> & <chr> & <chr> & <chr>\\\\\n\\hline\n\t1 &  11 & Jorma Ilmari Aalto                        & M & 22 & 182 &  76.5 & Finland      & FIN & 1980 Winter & 1980 & Winter & Lake Placid & Cross Country Skiing & Cross Country Skiing Men's 30 kilometres    & NA  \\\\\n\t2 &  85 & Alejandro Abascal Garca                   & M & 28 & 181 &  82.0 & Spain        & ESP & 1980 Summer & 1980 & Summer & Moskva      & Sailing              & Sailing Mixed Two Person Heavyweight Dinghy & Gold\\\\\n\t3 &  86 & Jos Manuel Abascal Gmez                   & M & 22 & 182 &  67.0 & Spain        & ESP & 1980 Summer & 1980 & Summer & Moskva      & Athletics            & Athletics Men's 1,500 metres                & NA  \\\\\n\t4 &  88 & Nunu Dzhansuhivna Abashydze (-Myslaieva)  & F & 25 & 168 & 105.0 & Soviet Union & URS & 1980 Summer & 1980 & Summer & Moskva      & Athletics            & Athletics Women's Shot Put                  & NA  \\\\\n\t5 & 108 & Giuseppe Abbagnale                        & M & 20 & 187 &  97.0 & Italy        & ITA & 1980 Summer & 1980 & Summer & Moskva      & Rowing               & Rowing Men's Coxed Pairs                    & NA  \\\\\n\t6 & 109 & Abdul Latif Al-Sayed Abbas Youssef Hashem & M & 27 & 176 &  64.0 & Kuwait       & KUW & 1980 Summer & 1980 & Summer & Moskva      & Athletics            & Athletics Men's 400 metres Hurdles          & NA  \\\\\n\\end{tabular}\n",
            "text/markdown": "\nA data.frame: 6 × 15\n\n| <!--/--> | ID &lt;int&gt; | Name &lt;chr&gt; | Sex &lt;chr&gt; | Age &lt;int&gt; | Height &lt;int&gt; | Weight &lt;dbl&gt; | Team &lt;chr&gt; | NOC &lt;chr&gt; | Games &lt;chr&gt; | Year &lt;int&gt; | Season &lt;chr&gt; | City &lt;chr&gt; | Sport &lt;chr&gt; | Event &lt;chr&gt; | Medal &lt;chr&gt; |\n|---|---|---|---|---|---|---|---|---|---|---|---|---|---|---|---|\n| 1 |  11 | Jorma Ilmari Aalto                        | M | 22 | 182 |  76.5 | Finland      | FIN | 1980 Winter | 1980 | Winter | Lake Placid | Cross Country Skiing | Cross Country Skiing Men's 30 kilometres    | NA   |\n| 2 |  85 | Alejandro Abascal Garca                   | M | 28 | 181 |  82.0 | Spain        | ESP | 1980 Summer | 1980 | Summer | Moskva      | Sailing              | Sailing Mixed Two Person Heavyweight Dinghy | Gold |\n| 3 |  86 | Jos Manuel Abascal Gmez                   | M | 22 | 182 |  67.0 | Spain        | ESP | 1980 Summer | 1980 | Summer | Moskva      | Athletics            | Athletics Men's 1,500 metres                | NA   |\n| 4 |  88 | Nunu Dzhansuhivna Abashydze (-Myslaieva)  | F | 25 | 168 | 105.0 | Soviet Union | URS | 1980 Summer | 1980 | Summer | Moskva      | Athletics            | Athletics Women's Shot Put                  | NA   |\n| 5 | 108 | Giuseppe Abbagnale                        | M | 20 | 187 |  97.0 | Italy        | ITA | 1980 Summer | 1980 | Summer | Moskva      | Rowing               | Rowing Men's Coxed Pairs                    | NA   |\n| 6 | 109 | Abdul Latif Al-Sayed Abbas Youssef Hashem | M | 27 | 176 |  64.0 | Kuwait       | KUW | 1980 Summer | 1980 | Summer | Moskva      | Athletics            | Athletics Men's 400 metres Hurdles          | NA   |\n\n",
            "text/html": [
              "<table>\n",
              "<caption>A data.frame: 6 × 15</caption>\n",
              "<thead>\n",
              "\t<tr><th></th><th scope=col>ID</th><th scope=col>Name</th><th scope=col>Sex</th><th scope=col>Age</th><th scope=col>Height</th><th scope=col>Weight</th><th scope=col>Team</th><th scope=col>NOC</th><th scope=col>Games</th><th scope=col>Year</th><th scope=col>Season</th><th scope=col>City</th><th scope=col>Sport</th><th scope=col>Event</th><th scope=col>Medal</th></tr>\n",
              "\t<tr><th></th><th scope=col>&lt;int&gt;</th><th scope=col>&lt;chr&gt;</th><th scope=col>&lt;chr&gt;</th><th scope=col>&lt;int&gt;</th><th scope=col>&lt;int&gt;</th><th scope=col>&lt;dbl&gt;</th><th scope=col>&lt;chr&gt;</th><th scope=col>&lt;chr&gt;</th><th scope=col>&lt;chr&gt;</th><th scope=col>&lt;int&gt;</th><th scope=col>&lt;chr&gt;</th><th scope=col>&lt;chr&gt;</th><th scope=col>&lt;chr&gt;</th><th scope=col>&lt;chr&gt;</th><th scope=col>&lt;chr&gt;</th></tr>\n",
              "</thead>\n",
              "<tbody>\n",
              "\t<tr><th scope=row>1</th><td> 11</td><td>Jorma Ilmari Aalto                       </td><td>M</td><td>22</td><td>182</td><td> 76.5</td><td>Finland     </td><td>FIN</td><td>1980 Winter</td><td>1980</td><td>Winter</td><td>Lake Placid</td><td>Cross Country Skiing</td><td>Cross Country Skiing Men's 30 kilometres   </td><td>NA  </td></tr>\n",
              "\t<tr><th scope=row>2</th><td> 85</td><td>Alejandro Abascal Garca                  </td><td>M</td><td>28</td><td>181</td><td> 82.0</td><td>Spain       </td><td>ESP</td><td>1980 Summer</td><td>1980</td><td>Summer</td><td>Moskva     </td><td>Sailing             </td><td>Sailing Mixed Two Person Heavyweight Dinghy</td><td>Gold</td></tr>\n",
              "\t<tr><th scope=row>3</th><td> 86</td><td>Jos Manuel Abascal Gmez                  </td><td>M</td><td>22</td><td>182</td><td> 67.0</td><td>Spain       </td><td>ESP</td><td>1980 Summer</td><td>1980</td><td>Summer</td><td>Moskva     </td><td>Athletics           </td><td>Athletics Men's 1,500 metres               </td><td>NA  </td></tr>\n",
              "\t<tr><th scope=row>4</th><td> 88</td><td>Nunu Dzhansuhivna Abashydze (-Myslaieva) </td><td>F</td><td>25</td><td>168</td><td>105.0</td><td>Soviet Union</td><td>URS</td><td>1980 Summer</td><td>1980</td><td>Summer</td><td>Moskva     </td><td>Athletics           </td><td>Athletics Women's Shot Put                 </td><td>NA  </td></tr>\n",
              "\t<tr><th scope=row>5</th><td>108</td><td>Giuseppe Abbagnale                       </td><td>M</td><td>20</td><td>187</td><td> 97.0</td><td>Italy       </td><td>ITA</td><td>1980 Summer</td><td>1980</td><td>Summer</td><td>Moskva     </td><td>Rowing              </td><td>Rowing Men's Coxed Pairs                   </td><td>NA  </td></tr>\n",
              "\t<tr><th scope=row>6</th><td>109</td><td>Abdul Latif Al-Sayed Abbas Youssef Hashem</td><td>M</td><td>27</td><td>176</td><td> 64.0</td><td>Kuwait      </td><td>KUW</td><td>1980 Summer</td><td>1980</td><td>Summer</td><td>Moskva     </td><td>Athletics           </td><td>Athletics Men's 400 metres Hurdles         </td><td>NA  </td></tr>\n",
              "</tbody>\n",
              "</table>\n"
            ]
          },
          "metadata": {
            "tags": []
          }
        }
      ]
    },
    {
      "cell_type": "markdown",
      "metadata": {
        "id": "lWs36dQwmRNg"
      },
      "source": [
        "#### Arrange"
      ]
    },
    {
      "cell_type": "code",
      "metadata": {
        "id": "uMOm44oymRNi",
        "outputId": "47f693ab-dcbb-48f6-be2f-1aaf8e909c94",
        "colab": {
          "base_uri": "https://localhost:8080/",
          "height": 730
        }
      },
      "source": [
        "#### Trie des données par naissance et année par ordre croissant\n",
        "\n",
        "head(arrange(dataset), 10)"
      ],
      "execution_count": 35,
      "outputs": [
        {
          "output_type": "display_data",
          "data": {
            "text/plain": [
              "   ID Name                     Sex Age Height Weight Team           NOC\n",
              "1  1  A Dijiang                M   24  180    80     China          CHN\n",
              "2  2  A Lamusi                 M   23  170    60     China          CHN\n",
              "3  3  Gunnar Nielsen Aaby      M   24   NA    NA     Denmark        DEN\n",
              "4  4  Edgar Lindenau Aabye     M   34   NA    NA     Denmark/Sweden DEN\n",
              "5  5  Christine Jacoba Aaftink F   21  185    82     Netherlands    NED\n",
              "6  5  Christine Jacoba Aaftink F   21  185    82     Netherlands    NED\n",
              "7  5  Christine Jacoba Aaftink F   25  185    82     Netherlands    NED\n",
              "8  5  Christine Jacoba Aaftink F   25  185    82     Netherlands    NED\n",
              "9  5  Christine Jacoba Aaftink F   27  185    82     Netherlands    NED\n",
              "10 5  Christine Jacoba Aaftink F   27  185    82     Netherlands    NED\n",
              "   Games       Year Season City        Sport        \n",
              "1  1992 Summer 1992 Summer Barcelona   Basketball   \n",
              "2  2012 Summer 2012 Summer London      Judo         \n",
              "3  1920 Summer 1920 Summer Antwerpen   Football     \n",
              "4  1900 Summer 1900 Summer Paris       Tug-Of-War   \n",
              "5  1988 Winter 1988 Winter Calgary     Speed Skating\n",
              "6  1988 Winter 1988 Winter Calgary     Speed Skating\n",
              "7  1992 Winter 1992 Winter Albertville Speed Skating\n",
              "8  1992 Winter 1992 Winter Albertville Speed Skating\n",
              "9  1994 Winter 1994 Winter Lillehammer Speed Skating\n",
              "10 1994 Winter 1994 Winter Lillehammer Speed Skating\n",
              "   Event                              Medal\n",
              "1  Basketball Men's Basketball        NA   \n",
              "2  Judo Men's Extra-Lightweight       NA   \n",
              "3  Football Men's Football            NA   \n",
              "4  Tug-Of-War Men's Tug-Of-War        Gold \n",
              "5  Speed Skating Women's 500 metres   NA   \n",
              "6  Speed Skating Women's 1,000 metres NA   \n",
              "7  Speed Skating Women's 500 metres   NA   \n",
              "8  Speed Skating Women's 1,000 metres NA   \n",
              "9  Speed Skating Women's 500 metres   NA   \n",
              "10 Speed Skating Women's 1,000 metres NA   "
            ],
            "text/latex": "A data.frame: 10 × 15\n\\begin{tabular}{r|lllllllllllllll}\n  & ID & Name & Sex & Age & Height & Weight & Team & NOC & Games & Year & Season & City & Sport & Event & Medal\\\\\n  & <int> & <chr> & <chr> & <int> & <int> & <dbl> & <chr> & <chr> & <chr> & <int> & <chr> & <chr> & <chr> & <chr> & <chr>\\\\\n\\hline\n\t1 & 1 & A Dijiang                & M & 24 & 180 & 80 & China          & CHN & 1992 Summer & 1992 & Summer & Barcelona   & Basketball    & Basketball Men's Basketball        & NA  \\\\\n\t2 & 2 & A Lamusi                 & M & 23 & 170 & 60 & China          & CHN & 2012 Summer & 2012 & Summer & London      & Judo          & Judo Men's Extra-Lightweight       & NA  \\\\\n\t3 & 3 & Gunnar Nielsen Aaby      & M & 24 &  NA & NA & Denmark        & DEN & 1920 Summer & 1920 & Summer & Antwerpen   & Football      & Football Men's Football            & NA  \\\\\n\t4 & 4 & Edgar Lindenau Aabye     & M & 34 &  NA & NA & Denmark/Sweden & DEN & 1900 Summer & 1900 & Summer & Paris       & Tug-Of-War    & Tug-Of-War Men's Tug-Of-War        & Gold\\\\\n\t5 & 5 & Christine Jacoba Aaftink & F & 21 & 185 & 82 & Netherlands    & NED & 1988 Winter & 1988 & Winter & Calgary     & Speed Skating & Speed Skating Women's 500 metres   & NA  \\\\\n\t6 & 5 & Christine Jacoba Aaftink & F & 21 & 185 & 82 & Netherlands    & NED & 1988 Winter & 1988 & Winter & Calgary     & Speed Skating & Speed Skating Women's 1,000 metres & NA  \\\\\n\t7 & 5 & Christine Jacoba Aaftink & F & 25 & 185 & 82 & Netherlands    & NED & 1992 Winter & 1992 & Winter & Albertville & Speed Skating & Speed Skating Women's 500 metres   & NA  \\\\\n\t8 & 5 & Christine Jacoba Aaftink & F & 25 & 185 & 82 & Netherlands    & NED & 1992 Winter & 1992 & Winter & Albertville & Speed Skating & Speed Skating Women's 1,000 metres & NA  \\\\\n\t9 & 5 & Christine Jacoba Aaftink & F & 27 & 185 & 82 & Netherlands    & NED & 1994 Winter & 1994 & Winter & Lillehammer & Speed Skating & Speed Skating Women's 500 metres   & NA  \\\\\n\t10 & 5 & Christine Jacoba Aaftink & F & 27 & 185 & 82 & Netherlands    & NED & 1994 Winter & 1994 & Winter & Lillehammer & Speed Skating & Speed Skating Women's 1,000 metres & NA  \\\\\n\\end{tabular}\n",
            "text/markdown": "\nA data.frame: 10 × 15\n\n| <!--/--> | ID &lt;int&gt; | Name &lt;chr&gt; | Sex &lt;chr&gt; | Age &lt;int&gt; | Height &lt;int&gt; | Weight &lt;dbl&gt; | Team &lt;chr&gt; | NOC &lt;chr&gt; | Games &lt;chr&gt; | Year &lt;int&gt; | Season &lt;chr&gt; | City &lt;chr&gt; | Sport &lt;chr&gt; | Event &lt;chr&gt; | Medal &lt;chr&gt; |\n|---|---|---|---|---|---|---|---|---|---|---|---|---|---|---|---|\n| 1 | 1 | A Dijiang                | M | 24 | 180 | 80 | China          | CHN | 1992 Summer | 1992 | Summer | Barcelona   | Basketball    | Basketball Men's Basketball        | NA   |\n| 2 | 2 | A Lamusi                 | M | 23 | 170 | 60 | China          | CHN | 2012 Summer | 2012 | Summer | London      | Judo          | Judo Men's Extra-Lightweight       | NA   |\n| 3 | 3 | Gunnar Nielsen Aaby      | M | 24 |  NA | NA | Denmark        | DEN | 1920 Summer | 1920 | Summer | Antwerpen   | Football      | Football Men's Football            | NA   |\n| 4 | 4 | Edgar Lindenau Aabye     | M | 34 |  NA | NA | Denmark/Sweden | DEN | 1900 Summer | 1900 | Summer | Paris       | Tug-Of-War    | Tug-Of-War Men's Tug-Of-War        | Gold |\n| 5 | 5 | Christine Jacoba Aaftink | F | 21 | 185 | 82 | Netherlands    | NED | 1988 Winter | 1988 | Winter | Calgary     | Speed Skating | Speed Skating Women's 500 metres   | NA   |\n| 6 | 5 | Christine Jacoba Aaftink | F | 21 | 185 | 82 | Netherlands    | NED | 1988 Winter | 1988 | Winter | Calgary     | Speed Skating | Speed Skating Women's 1,000 metres | NA   |\n| 7 | 5 | Christine Jacoba Aaftink | F | 25 | 185 | 82 | Netherlands    | NED | 1992 Winter | 1992 | Winter | Albertville | Speed Skating | Speed Skating Women's 500 metres   | NA   |\n| 8 | 5 | Christine Jacoba Aaftink | F | 25 | 185 | 82 | Netherlands    | NED | 1992 Winter | 1992 | Winter | Albertville | Speed Skating | Speed Skating Women's 1,000 metres | NA   |\n| 9 | 5 | Christine Jacoba Aaftink | F | 27 | 185 | 82 | Netherlands    | NED | 1994 Winter | 1994 | Winter | Lillehammer | Speed Skating | Speed Skating Women's 500 metres   | NA   |\n| 10 | 5 | Christine Jacoba Aaftink | F | 27 | 185 | 82 | Netherlands    | NED | 1994 Winter | 1994 | Winter | Lillehammer | Speed Skating | Speed Skating Women's 1,000 metres | NA   |\n\n",
            "text/html": [
              "<table>\n",
              "<caption>A data.frame: 10 × 15</caption>\n",
              "<thead>\n",
              "\t<tr><th></th><th scope=col>ID</th><th scope=col>Name</th><th scope=col>Sex</th><th scope=col>Age</th><th scope=col>Height</th><th scope=col>Weight</th><th scope=col>Team</th><th scope=col>NOC</th><th scope=col>Games</th><th scope=col>Year</th><th scope=col>Season</th><th scope=col>City</th><th scope=col>Sport</th><th scope=col>Event</th><th scope=col>Medal</th></tr>\n",
              "\t<tr><th></th><th scope=col>&lt;int&gt;</th><th scope=col>&lt;chr&gt;</th><th scope=col>&lt;chr&gt;</th><th scope=col>&lt;int&gt;</th><th scope=col>&lt;int&gt;</th><th scope=col>&lt;dbl&gt;</th><th scope=col>&lt;chr&gt;</th><th scope=col>&lt;chr&gt;</th><th scope=col>&lt;chr&gt;</th><th scope=col>&lt;int&gt;</th><th scope=col>&lt;chr&gt;</th><th scope=col>&lt;chr&gt;</th><th scope=col>&lt;chr&gt;</th><th scope=col>&lt;chr&gt;</th><th scope=col>&lt;chr&gt;</th></tr>\n",
              "</thead>\n",
              "<tbody>\n",
              "\t<tr><th scope=row>1</th><td>1</td><td>A Dijiang               </td><td>M</td><td>24</td><td>180</td><td>80</td><td>China         </td><td>CHN</td><td>1992 Summer</td><td>1992</td><td>Summer</td><td>Barcelona  </td><td>Basketball   </td><td>Basketball Men's Basketball       </td><td>NA  </td></tr>\n",
              "\t<tr><th scope=row>2</th><td>2</td><td>A Lamusi                </td><td>M</td><td>23</td><td>170</td><td>60</td><td>China         </td><td>CHN</td><td>2012 Summer</td><td>2012</td><td>Summer</td><td>London     </td><td>Judo         </td><td>Judo Men's Extra-Lightweight      </td><td>NA  </td></tr>\n",
              "\t<tr><th scope=row>3</th><td>3</td><td>Gunnar Nielsen Aaby     </td><td>M</td><td>24</td><td> NA</td><td>NA</td><td>Denmark       </td><td>DEN</td><td>1920 Summer</td><td>1920</td><td>Summer</td><td>Antwerpen  </td><td>Football     </td><td>Football Men's Football           </td><td>NA  </td></tr>\n",
              "\t<tr><th scope=row>4</th><td>4</td><td>Edgar Lindenau Aabye    </td><td>M</td><td>34</td><td> NA</td><td>NA</td><td>Denmark/Sweden</td><td>DEN</td><td>1900 Summer</td><td>1900</td><td>Summer</td><td>Paris      </td><td>Tug-Of-War   </td><td>Tug-Of-War Men's Tug-Of-War       </td><td>Gold</td></tr>\n",
              "\t<tr><th scope=row>5</th><td>5</td><td>Christine Jacoba Aaftink</td><td>F</td><td>21</td><td>185</td><td>82</td><td>Netherlands   </td><td>NED</td><td>1988 Winter</td><td>1988</td><td>Winter</td><td>Calgary    </td><td>Speed Skating</td><td>Speed Skating Women's 500 metres  </td><td>NA  </td></tr>\n",
              "\t<tr><th scope=row>6</th><td>5</td><td>Christine Jacoba Aaftink</td><td>F</td><td>21</td><td>185</td><td>82</td><td>Netherlands   </td><td>NED</td><td>1988 Winter</td><td>1988</td><td>Winter</td><td>Calgary    </td><td>Speed Skating</td><td>Speed Skating Women's 1,000 metres</td><td>NA  </td></tr>\n",
              "\t<tr><th scope=row>7</th><td>5</td><td>Christine Jacoba Aaftink</td><td>F</td><td>25</td><td>185</td><td>82</td><td>Netherlands   </td><td>NED</td><td>1992 Winter</td><td>1992</td><td>Winter</td><td>Albertville</td><td>Speed Skating</td><td>Speed Skating Women's 500 metres  </td><td>NA  </td></tr>\n",
              "\t<tr><th scope=row>8</th><td>5</td><td>Christine Jacoba Aaftink</td><td>F</td><td>25</td><td>185</td><td>82</td><td>Netherlands   </td><td>NED</td><td>1992 Winter</td><td>1992</td><td>Winter</td><td>Albertville</td><td>Speed Skating</td><td>Speed Skating Women's 1,000 metres</td><td>NA  </td></tr>\n",
              "\t<tr><th scope=row>9</th><td>5</td><td>Christine Jacoba Aaftink</td><td>F</td><td>27</td><td>185</td><td>82</td><td>Netherlands   </td><td>NED</td><td>1994 Winter</td><td>1994</td><td>Winter</td><td>Lillehammer</td><td>Speed Skating</td><td>Speed Skating Women's 500 metres  </td><td>NA  </td></tr>\n",
              "\t<tr><th scope=row>10</th><td>5</td><td>Christine Jacoba Aaftink</td><td>F</td><td>27</td><td>185</td><td>82</td><td>Netherlands   </td><td>NED</td><td>1994 Winter</td><td>1994</td><td>Winter</td><td>Lillehammer</td><td>Speed Skating</td><td>Speed Skating Women's 1,000 metres</td><td>NA  </td></tr>\n",
              "</tbody>\n",
              "</table>\n"
            ]
          },
          "metadata": {
            "tags": []
          }
        }
      ]
    },
    {
      "cell_type": "code",
      "metadata": {
        "id": "zvcYOkWDmRNp",
        "outputId": "23fa61f4-ef03-4268-8738-d7018bb2e273",
        "colab": {
          "base_uri": "https://localhost:8080/",
          "height": 1000
        }
      },
      "source": [
        "#### Trie des données par ordre décroissant\n",
        "\n",
        "head(arrange(dataset, desc(Year), desc(Sport)), 20)"
      ],
      "execution_count": 36,
      "outputs": [
        {
          "output_type": "display_data",
          "data": {
            "text/plain": [
              "   ID   Name                                   Sex Age Height Weight Team      \n",
              "1   250 Saeid Morad Abdevali                   M   26  170     80    Iran      \n",
              "2   338 Muminzhon Abdullayev                   M   26  190    130    Uzbekistan\n",
              "3   354 Bekzod Makhamadzhonovich Abdurakhmonov M   26  172     74    Uzbekistan\n",
              "4   721 Mara Jos Acosta Acosta                 F   24  172     69    Venezuela \n",
              "5   864 Yasemin Adar                           F   24  180     75    Turkey    \n",
              "6   902 Odunayo Folasade Adekuoroye            F   22  169     53    Nigeria   \n",
              "7   924 Aminat Oluwafunmilayo Adeniyi          F   23  165     58    Nigeria   \n",
              "8  1525 Zied Ait Ouagram                       M   27  191     75    Morocco   \n",
              "9  1634 Taha Akgl                              M   25  192    125    Turkey    \n",
              "10 1645 Habibollah Jomeh Akhlaghi              M   31  175     90    Iran      \n",
              "11 2359 Islam-Beka Said-Tsilimovich Albiyev    M   27  165     66    Russia    \n",
              "12 2474 Daniel Tihomirov Aleksandrov           M   24  182     81    Bulgaria  \n",
              "13 2497 Artur Aleksanyan                       M   24  190     98    Armenia   \n",
              "14 2605 Alin Alexuc-Ciurariu                   M   26  191    105    Romania   \n",
              "15 2685 Annabel Laure Ali                      F   31  176     75    Cameroon  \n",
              "16 3440 Sandro Aminashvili                     M   24  180     85    Georgia   \n",
              "17 3537 Marwa Al-Amri                          F   27  160     58    Tunisia   \n",
              "18 4211 Valeriy Oleksandrovych Andriitsev      M   29  181     97    Ukraine   \n",
              "19 4454 Chakir Ansari                          M   25  168     57    Morocco   \n",
              "20 4501 Lissette Alexandra Antes Castillo      F   25  177     58    Ecuador   \n",
              "   NOC Games       Year Season City           Sport    \n",
              "1  IRI 2016 Summer 2016 Summer Rio de Janeiro Wrestling\n",
              "2  UZB 2016 Summer 2016 Summer Rio de Janeiro Wrestling\n",
              "3  UZB 2016 Summer 2016 Summer Rio de Janeiro Wrestling\n",
              "4  VEN 2016 Summer 2016 Summer Rio de Janeiro Wrestling\n",
              "5  TUR 2016 Summer 2016 Summer Rio de Janeiro Wrestling\n",
              "6  NGR 2016 Summer 2016 Summer Rio de Janeiro Wrestling\n",
              "7  NGR 2016 Summer 2016 Summer Rio de Janeiro Wrestling\n",
              "8  MAR 2016 Summer 2016 Summer Rio de Janeiro Wrestling\n",
              "9  TUR 2016 Summer 2016 Summer Rio de Janeiro Wrestling\n",
              "10 IRI 2016 Summer 2016 Summer Rio de Janeiro Wrestling\n",
              "11 RUS 2016 Summer 2016 Summer Rio de Janeiro Wrestling\n",
              "12 BUL 2016 Summer 2016 Summer Rio de Janeiro Wrestling\n",
              "13 ARM 2016 Summer 2016 Summer Rio de Janeiro Wrestling\n",
              "14 ROU 2016 Summer 2016 Summer Rio de Janeiro Wrestling\n",
              "15 CMR 2016 Summer 2016 Summer Rio de Janeiro Wrestling\n",
              "16 GEO 2016 Summer 2016 Summer Rio de Janeiro Wrestling\n",
              "17 TUN 2016 Summer 2016 Summer Rio de Janeiro Wrestling\n",
              "18 UKR 2016 Summer 2016 Summer Rio de Janeiro Wrestling\n",
              "19 MAR 2016 Summer 2016 Summer Rio de Janeiro Wrestling\n",
              "20 ECU 2016 Summer 2016 Summer Rio de Janeiro Wrestling\n",
              "   Event                                          Medal \n",
              "1  Wrestling Men's Middleweight, Greco-Roman      Bronze\n",
              "2  Wrestling Men's Super-Heavyweight, Greco-Roman NA    \n",
              "3  Wrestling Men's Middleweight, Freestyle        NA    \n",
              "4  Wrestling Women's Light-Heavyweight, Freestyle NA    \n",
              "5  Wrestling Women's Heavyweight, Freestyle       NA    \n",
              "6  Wrestling Women's Featherweight, Freestyle     NA    \n",
              "7  Wrestling Women's Lightweight, Freestyle       NA    \n",
              "8  Wrestling Men's Middleweight, Greco-Roman      NA    \n",
              "9  Wrestling Men's Super-Heavyweight, Freestyle   Gold  \n",
              "10 Wrestling Men's Light-Heavyweight, Greco-Roman NA    \n",
              "11 Wrestling Men's Welterweight, Greco-Roman      NA    \n",
              "12 Wrestling Men's Middleweight, Greco-Roman      NA    \n",
              "13 Wrestling Men's Heavyweight, Greco-Roman       Gold  \n",
              "14 Wrestling Men's Heavyweight, Greco-Roman       NA    \n",
              "15 Wrestling Women's Heavyweight, Freestyle       NA    \n",
              "16 Wrestling Men's Light-Heavyweight, Freestyle   NA    \n",
              "17 Wrestling Women's Lightweight, Freestyle       Bronze\n",
              "18 Wrestling Men's Heavyweight, Freestyle         NA    \n",
              "19 Wrestling Men's Featherweight, Freestyle       NA    \n",
              "20 Wrestling Women's Lightweight, Freestyle       NA    "
            ],
            "text/latex": "A data.frame: 20 × 15\n\\begin{tabular}{r|lllllllllllllll}\n  & ID & Name & Sex & Age & Height & Weight & Team & NOC & Games & Year & Season & City & Sport & Event & Medal\\\\\n  & <int> & <chr> & <chr> & <int> & <int> & <dbl> & <chr> & <chr> & <chr> & <int> & <chr> & <chr> & <chr> & <chr> & <chr>\\\\\n\\hline\n\t1 &  250 & Saeid Morad Abdevali                   & M & 26 & 170 &  80 & Iran       & IRI & 2016 Summer & 2016 & Summer & Rio de Janeiro & Wrestling & Wrestling Men's Middleweight, Greco-Roman      & Bronze\\\\\n\t2 &  338 & Muminzhon Abdullayev                   & M & 26 & 190 & 130 & Uzbekistan & UZB & 2016 Summer & 2016 & Summer & Rio de Janeiro & Wrestling & Wrestling Men's Super-Heavyweight, Greco-Roman & NA    \\\\\n\t3 &  354 & Bekzod Makhamadzhonovich Abdurakhmonov & M & 26 & 172 &  74 & Uzbekistan & UZB & 2016 Summer & 2016 & Summer & Rio de Janeiro & Wrestling & Wrestling Men's Middleweight, Freestyle        & NA    \\\\\n\t4 &  721 & Mara Jos Acosta Acosta                 & F & 24 & 172 &  69 & Venezuela  & VEN & 2016 Summer & 2016 & Summer & Rio de Janeiro & Wrestling & Wrestling Women's Light-Heavyweight, Freestyle & NA    \\\\\n\t5 &  864 & Yasemin Adar                           & F & 24 & 180 &  75 & Turkey     & TUR & 2016 Summer & 2016 & Summer & Rio de Janeiro & Wrestling & Wrestling Women's Heavyweight, Freestyle       & NA    \\\\\n\t6 &  902 & Odunayo Folasade Adekuoroye            & F & 22 & 169 &  53 & Nigeria    & NGR & 2016 Summer & 2016 & Summer & Rio de Janeiro & Wrestling & Wrestling Women's Featherweight, Freestyle     & NA    \\\\\n\t7 &  924 & Aminat Oluwafunmilayo Adeniyi          & F & 23 & 165 &  58 & Nigeria    & NGR & 2016 Summer & 2016 & Summer & Rio de Janeiro & Wrestling & Wrestling Women's Lightweight, Freestyle       & NA    \\\\\n\t8 & 1525 & Zied Ait Ouagram                       & M & 27 & 191 &  75 & Morocco    & MAR & 2016 Summer & 2016 & Summer & Rio de Janeiro & Wrestling & Wrestling Men's Middleweight, Greco-Roman      & NA    \\\\\n\t9 & 1634 & Taha Akgl                              & M & 25 & 192 & 125 & Turkey     & TUR & 2016 Summer & 2016 & Summer & Rio de Janeiro & Wrestling & Wrestling Men's Super-Heavyweight, Freestyle   & Gold  \\\\\n\t10 & 1645 & Habibollah Jomeh Akhlaghi              & M & 31 & 175 &  90 & Iran       & IRI & 2016 Summer & 2016 & Summer & Rio de Janeiro & Wrestling & Wrestling Men's Light-Heavyweight, Greco-Roman & NA    \\\\\n\t11 & 2359 & Islam-Beka Said-Tsilimovich Albiyev    & M & 27 & 165 &  66 & Russia     & RUS & 2016 Summer & 2016 & Summer & Rio de Janeiro & Wrestling & Wrestling Men's Welterweight, Greco-Roman      & NA    \\\\\n\t12 & 2474 & Daniel Tihomirov Aleksandrov           & M & 24 & 182 &  81 & Bulgaria   & BUL & 2016 Summer & 2016 & Summer & Rio de Janeiro & Wrestling & Wrestling Men's Middleweight, Greco-Roman      & NA    \\\\\n\t13 & 2497 & Artur Aleksanyan                       & M & 24 & 190 &  98 & Armenia    & ARM & 2016 Summer & 2016 & Summer & Rio de Janeiro & Wrestling & Wrestling Men's Heavyweight, Greco-Roman       & Gold  \\\\\n\t14 & 2605 & Alin Alexuc-Ciurariu                   & M & 26 & 191 & 105 & Romania    & ROU & 2016 Summer & 2016 & Summer & Rio de Janeiro & Wrestling & Wrestling Men's Heavyweight, Greco-Roman       & NA    \\\\\n\t15 & 2685 & Annabel Laure Ali                      & F & 31 & 176 &  75 & Cameroon   & CMR & 2016 Summer & 2016 & Summer & Rio de Janeiro & Wrestling & Wrestling Women's Heavyweight, Freestyle       & NA    \\\\\n\t16 & 3440 & Sandro Aminashvili                     & M & 24 & 180 &  85 & Georgia    & GEO & 2016 Summer & 2016 & Summer & Rio de Janeiro & Wrestling & Wrestling Men's Light-Heavyweight, Freestyle   & NA    \\\\\n\t17 & 3537 & Marwa Al-Amri                          & F & 27 & 160 &  58 & Tunisia    & TUN & 2016 Summer & 2016 & Summer & Rio de Janeiro & Wrestling & Wrestling Women's Lightweight, Freestyle       & Bronze\\\\\n\t18 & 4211 & Valeriy Oleksandrovych Andriitsev      & M & 29 & 181 &  97 & Ukraine    & UKR & 2016 Summer & 2016 & Summer & Rio de Janeiro & Wrestling & Wrestling Men's Heavyweight, Freestyle         & NA    \\\\\n\t19 & 4454 & Chakir Ansari                          & M & 25 & 168 &  57 & Morocco    & MAR & 2016 Summer & 2016 & Summer & Rio de Janeiro & Wrestling & Wrestling Men's Featherweight, Freestyle       & NA    \\\\\n\t20 & 4501 & Lissette Alexandra Antes Castillo      & F & 25 & 177 &  58 & Ecuador    & ECU & 2016 Summer & 2016 & Summer & Rio de Janeiro & Wrestling & Wrestling Women's Lightweight, Freestyle       & NA    \\\\\n\\end{tabular}\n",
            "text/markdown": "\nA data.frame: 20 × 15\n\n| <!--/--> | ID &lt;int&gt; | Name &lt;chr&gt; | Sex &lt;chr&gt; | Age &lt;int&gt; | Height &lt;int&gt; | Weight &lt;dbl&gt; | Team &lt;chr&gt; | NOC &lt;chr&gt; | Games &lt;chr&gt; | Year &lt;int&gt; | Season &lt;chr&gt; | City &lt;chr&gt; | Sport &lt;chr&gt; | Event &lt;chr&gt; | Medal &lt;chr&gt; |\n|---|---|---|---|---|---|---|---|---|---|---|---|---|---|---|---|\n| 1 |  250 | Saeid Morad Abdevali                   | M | 26 | 170 |  80 | Iran       | IRI | 2016 Summer | 2016 | Summer | Rio de Janeiro | Wrestling | Wrestling Men's Middleweight, Greco-Roman      | Bronze |\n| 2 |  338 | Muminzhon Abdullayev                   | M | 26 | 190 | 130 | Uzbekistan | UZB | 2016 Summer | 2016 | Summer | Rio de Janeiro | Wrestling | Wrestling Men's Super-Heavyweight, Greco-Roman | NA     |\n| 3 |  354 | Bekzod Makhamadzhonovich Abdurakhmonov | M | 26 | 172 |  74 | Uzbekistan | UZB | 2016 Summer | 2016 | Summer | Rio de Janeiro | Wrestling | Wrestling Men's Middleweight, Freestyle        | NA     |\n| 4 |  721 | Mara Jos Acosta Acosta                 | F | 24 | 172 |  69 | Venezuela  | VEN | 2016 Summer | 2016 | Summer | Rio de Janeiro | Wrestling | Wrestling Women's Light-Heavyweight, Freestyle | NA     |\n| 5 |  864 | Yasemin Adar                           | F | 24 | 180 |  75 | Turkey     | TUR | 2016 Summer | 2016 | Summer | Rio de Janeiro | Wrestling | Wrestling Women's Heavyweight, Freestyle       | NA     |\n| 6 |  902 | Odunayo Folasade Adekuoroye            | F | 22 | 169 |  53 | Nigeria    | NGR | 2016 Summer | 2016 | Summer | Rio de Janeiro | Wrestling | Wrestling Women's Featherweight, Freestyle     | NA     |\n| 7 |  924 | Aminat Oluwafunmilayo Adeniyi          | F | 23 | 165 |  58 | Nigeria    | NGR | 2016 Summer | 2016 | Summer | Rio de Janeiro | Wrestling | Wrestling Women's Lightweight, Freestyle       | NA     |\n| 8 | 1525 | Zied Ait Ouagram                       | M | 27 | 191 |  75 | Morocco    | MAR | 2016 Summer | 2016 | Summer | Rio de Janeiro | Wrestling | Wrestling Men's Middleweight, Greco-Roman      | NA     |\n| 9 | 1634 | Taha Akgl                              | M | 25 | 192 | 125 | Turkey     | TUR | 2016 Summer | 2016 | Summer | Rio de Janeiro | Wrestling | Wrestling Men's Super-Heavyweight, Freestyle   | Gold   |\n| 10 | 1645 | Habibollah Jomeh Akhlaghi              | M | 31 | 175 |  90 | Iran       | IRI | 2016 Summer | 2016 | Summer | Rio de Janeiro | Wrestling | Wrestling Men's Light-Heavyweight, Greco-Roman | NA     |\n| 11 | 2359 | Islam-Beka Said-Tsilimovich Albiyev    | M | 27 | 165 |  66 | Russia     | RUS | 2016 Summer | 2016 | Summer | Rio de Janeiro | Wrestling | Wrestling Men's Welterweight, Greco-Roman      | NA     |\n| 12 | 2474 | Daniel Tihomirov Aleksandrov           | M | 24 | 182 |  81 | Bulgaria   | BUL | 2016 Summer | 2016 | Summer | Rio de Janeiro | Wrestling | Wrestling Men's Middleweight, Greco-Roman      | NA     |\n| 13 | 2497 | Artur Aleksanyan                       | M | 24 | 190 |  98 | Armenia    | ARM | 2016 Summer | 2016 | Summer | Rio de Janeiro | Wrestling | Wrestling Men's Heavyweight, Greco-Roman       | Gold   |\n| 14 | 2605 | Alin Alexuc-Ciurariu                   | M | 26 | 191 | 105 | Romania    | ROU | 2016 Summer | 2016 | Summer | Rio de Janeiro | Wrestling | Wrestling Men's Heavyweight, Greco-Roman       | NA     |\n| 15 | 2685 | Annabel Laure Ali                      | F | 31 | 176 |  75 | Cameroon   | CMR | 2016 Summer | 2016 | Summer | Rio de Janeiro | Wrestling | Wrestling Women's Heavyweight, Freestyle       | NA     |\n| 16 | 3440 | Sandro Aminashvili                     | M | 24 | 180 |  85 | Georgia    | GEO | 2016 Summer | 2016 | Summer | Rio de Janeiro | Wrestling | Wrestling Men's Light-Heavyweight, Freestyle   | NA     |\n| 17 | 3537 | Marwa Al-Amri                          | F | 27 | 160 |  58 | Tunisia    | TUN | 2016 Summer | 2016 | Summer | Rio de Janeiro | Wrestling | Wrestling Women's Lightweight, Freestyle       | Bronze |\n| 18 | 4211 | Valeriy Oleksandrovych Andriitsev      | M | 29 | 181 |  97 | Ukraine    | UKR | 2016 Summer | 2016 | Summer | Rio de Janeiro | Wrestling | Wrestling Men's Heavyweight, Freestyle         | NA     |\n| 19 | 4454 | Chakir Ansari                          | M | 25 | 168 |  57 | Morocco    | MAR | 2016 Summer | 2016 | Summer | Rio de Janeiro | Wrestling | Wrestling Men's Featherweight, Freestyle       | NA     |\n| 20 | 4501 | Lissette Alexandra Antes Castillo      | F | 25 | 177 |  58 | Ecuador    | ECU | 2016 Summer | 2016 | Summer | Rio de Janeiro | Wrestling | Wrestling Women's Lightweight, Freestyle       | NA     |\n\n",
            "text/html": [
              "<table>\n",
              "<caption>A data.frame: 20 × 15</caption>\n",
              "<thead>\n",
              "\t<tr><th></th><th scope=col>ID</th><th scope=col>Name</th><th scope=col>Sex</th><th scope=col>Age</th><th scope=col>Height</th><th scope=col>Weight</th><th scope=col>Team</th><th scope=col>NOC</th><th scope=col>Games</th><th scope=col>Year</th><th scope=col>Season</th><th scope=col>City</th><th scope=col>Sport</th><th scope=col>Event</th><th scope=col>Medal</th></tr>\n",
              "\t<tr><th></th><th scope=col>&lt;int&gt;</th><th scope=col>&lt;chr&gt;</th><th scope=col>&lt;chr&gt;</th><th scope=col>&lt;int&gt;</th><th scope=col>&lt;int&gt;</th><th scope=col>&lt;dbl&gt;</th><th scope=col>&lt;chr&gt;</th><th scope=col>&lt;chr&gt;</th><th scope=col>&lt;chr&gt;</th><th scope=col>&lt;int&gt;</th><th scope=col>&lt;chr&gt;</th><th scope=col>&lt;chr&gt;</th><th scope=col>&lt;chr&gt;</th><th scope=col>&lt;chr&gt;</th><th scope=col>&lt;chr&gt;</th></tr>\n",
              "</thead>\n",
              "<tbody>\n",
              "\t<tr><th scope=row>1</th><td> 250</td><td>Saeid Morad Abdevali                  </td><td>M</td><td>26</td><td>170</td><td> 80</td><td>Iran      </td><td>IRI</td><td>2016 Summer</td><td>2016</td><td>Summer</td><td>Rio de Janeiro</td><td>Wrestling</td><td>Wrestling Men's Middleweight, Greco-Roman     </td><td>Bronze</td></tr>\n",
              "\t<tr><th scope=row>2</th><td> 338</td><td>Muminzhon Abdullayev                  </td><td>M</td><td>26</td><td>190</td><td>130</td><td>Uzbekistan</td><td>UZB</td><td>2016 Summer</td><td>2016</td><td>Summer</td><td>Rio de Janeiro</td><td>Wrestling</td><td>Wrestling Men's Super-Heavyweight, Greco-Roman</td><td>NA    </td></tr>\n",
              "\t<tr><th scope=row>3</th><td> 354</td><td>Bekzod Makhamadzhonovich Abdurakhmonov</td><td>M</td><td>26</td><td>172</td><td> 74</td><td>Uzbekistan</td><td>UZB</td><td>2016 Summer</td><td>2016</td><td>Summer</td><td>Rio de Janeiro</td><td>Wrestling</td><td>Wrestling Men's Middleweight, Freestyle       </td><td>NA    </td></tr>\n",
              "\t<tr><th scope=row>4</th><td> 721</td><td>Mara Jos Acosta Acosta                </td><td>F</td><td>24</td><td>172</td><td> 69</td><td>Venezuela </td><td>VEN</td><td>2016 Summer</td><td>2016</td><td>Summer</td><td>Rio de Janeiro</td><td>Wrestling</td><td>Wrestling Women's Light-Heavyweight, Freestyle</td><td>NA    </td></tr>\n",
              "\t<tr><th scope=row>5</th><td> 864</td><td>Yasemin Adar                          </td><td>F</td><td>24</td><td>180</td><td> 75</td><td>Turkey    </td><td>TUR</td><td>2016 Summer</td><td>2016</td><td>Summer</td><td>Rio de Janeiro</td><td>Wrestling</td><td>Wrestling Women's Heavyweight, Freestyle      </td><td>NA    </td></tr>\n",
              "\t<tr><th scope=row>6</th><td> 902</td><td>Odunayo Folasade Adekuoroye           </td><td>F</td><td>22</td><td>169</td><td> 53</td><td>Nigeria   </td><td>NGR</td><td>2016 Summer</td><td>2016</td><td>Summer</td><td>Rio de Janeiro</td><td>Wrestling</td><td>Wrestling Women's Featherweight, Freestyle    </td><td>NA    </td></tr>\n",
              "\t<tr><th scope=row>7</th><td> 924</td><td>Aminat Oluwafunmilayo Adeniyi         </td><td>F</td><td>23</td><td>165</td><td> 58</td><td>Nigeria   </td><td>NGR</td><td>2016 Summer</td><td>2016</td><td>Summer</td><td>Rio de Janeiro</td><td>Wrestling</td><td>Wrestling Women's Lightweight, Freestyle      </td><td>NA    </td></tr>\n",
              "\t<tr><th scope=row>8</th><td>1525</td><td>Zied Ait Ouagram                      </td><td>M</td><td>27</td><td>191</td><td> 75</td><td>Morocco   </td><td>MAR</td><td>2016 Summer</td><td>2016</td><td>Summer</td><td>Rio de Janeiro</td><td>Wrestling</td><td>Wrestling Men's Middleweight, Greco-Roman     </td><td>NA    </td></tr>\n",
              "\t<tr><th scope=row>9</th><td>1634</td><td>Taha Akgl                             </td><td>M</td><td>25</td><td>192</td><td>125</td><td>Turkey    </td><td>TUR</td><td>2016 Summer</td><td>2016</td><td>Summer</td><td>Rio de Janeiro</td><td>Wrestling</td><td>Wrestling Men's Super-Heavyweight, Freestyle  </td><td>Gold  </td></tr>\n",
              "\t<tr><th scope=row>10</th><td>1645</td><td>Habibollah Jomeh Akhlaghi             </td><td>M</td><td>31</td><td>175</td><td> 90</td><td>Iran      </td><td>IRI</td><td>2016 Summer</td><td>2016</td><td>Summer</td><td>Rio de Janeiro</td><td>Wrestling</td><td>Wrestling Men's Light-Heavyweight, Greco-Roman</td><td>NA    </td></tr>\n",
              "\t<tr><th scope=row>11</th><td>2359</td><td>Islam-Beka Said-Tsilimovich Albiyev   </td><td>M</td><td>27</td><td>165</td><td> 66</td><td>Russia    </td><td>RUS</td><td>2016 Summer</td><td>2016</td><td>Summer</td><td>Rio de Janeiro</td><td>Wrestling</td><td>Wrestling Men's Welterweight, Greco-Roman     </td><td>NA    </td></tr>\n",
              "\t<tr><th scope=row>12</th><td>2474</td><td>Daniel Tihomirov Aleksandrov          </td><td>M</td><td>24</td><td>182</td><td> 81</td><td>Bulgaria  </td><td>BUL</td><td>2016 Summer</td><td>2016</td><td>Summer</td><td>Rio de Janeiro</td><td>Wrestling</td><td>Wrestling Men's Middleweight, Greco-Roman     </td><td>NA    </td></tr>\n",
              "\t<tr><th scope=row>13</th><td>2497</td><td>Artur Aleksanyan                      </td><td>M</td><td>24</td><td>190</td><td> 98</td><td>Armenia   </td><td>ARM</td><td>2016 Summer</td><td>2016</td><td>Summer</td><td>Rio de Janeiro</td><td>Wrestling</td><td>Wrestling Men's Heavyweight, Greco-Roman      </td><td>Gold  </td></tr>\n",
              "\t<tr><th scope=row>14</th><td>2605</td><td>Alin Alexuc-Ciurariu                  </td><td>M</td><td>26</td><td>191</td><td>105</td><td>Romania   </td><td>ROU</td><td>2016 Summer</td><td>2016</td><td>Summer</td><td>Rio de Janeiro</td><td>Wrestling</td><td>Wrestling Men's Heavyweight, Greco-Roman      </td><td>NA    </td></tr>\n",
              "\t<tr><th scope=row>15</th><td>2685</td><td>Annabel Laure Ali                     </td><td>F</td><td>31</td><td>176</td><td> 75</td><td>Cameroon  </td><td>CMR</td><td>2016 Summer</td><td>2016</td><td>Summer</td><td>Rio de Janeiro</td><td>Wrestling</td><td>Wrestling Women's Heavyweight, Freestyle      </td><td>NA    </td></tr>\n",
              "\t<tr><th scope=row>16</th><td>3440</td><td>Sandro Aminashvili                    </td><td>M</td><td>24</td><td>180</td><td> 85</td><td>Georgia   </td><td>GEO</td><td>2016 Summer</td><td>2016</td><td>Summer</td><td>Rio de Janeiro</td><td>Wrestling</td><td>Wrestling Men's Light-Heavyweight, Freestyle  </td><td>NA    </td></tr>\n",
              "\t<tr><th scope=row>17</th><td>3537</td><td>Marwa Al-Amri                         </td><td>F</td><td>27</td><td>160</td><td> 58</td><td>Tunisia   </td><td>TUN</td><td>2016 Summer</td><td>2016</td><td>Summer</td><td>Rio de Janeiro</td><td>Wrestling</td><td>Wrestling Women's Lightweight, Freestyle      </td><td>Bronze</td></tr>\n",
              "\t<tr><th scope=row>18</th><td>4211</td><td>Valeriy Oleksandrovych Andriitsev     </td><td>M</td><td>29</td><td>181</td><td> 97</td><td>Ukraine   </td><td>UKR</td><td>2016 Summer</td><td>2016</td><td>Summer</td><td>Rio de Janeiro</td><td>Wrestling</td><td>Wrestling Men's Heavyweight, Freestyle        </td><td>NA    </td></tr>\n",
              "\t<tr><th scope=row>19</th><td>4454</td><td>Chakir Ansari                         </td><td>M</td><td>25</td><td>168</td><td> 57</td><td>Morocco   </td><td>MAR</td><td>2016 Summer</td><td>2016</td><td>Summer</td><td>Rio de Janeiro</td><td>Wrestling</td><td>Wrestling Men's Featherweight, Freestyle      </td><td>NA    </td></tr>\n",
              "\t<tr><th scope=row>20</th><td>4501</td><td>Lissette Alexandra Antes Castillo     </td><td>F</td><td>25</td><td>177</td><td> 58</td><td>Ecuador   </td><td>ECU</td><td>2016 Summer</td><td>2016</td><td>Summer</td><td>Rio de Janeiro</td><td>Wrestling</td><td>Wrestling Women's Lightweight, Freestyle      </td><td>NA    </td></tr>\n",
              "</tbody>\n",
              "</table>\n"
            ]
          },
          "metadata": {
            "tags": []
          }
        }
      ]
    },
    {
      "cell_type": "markdown",
      "metadata": {
        "id": "N3g-Fj1pmRNv"
      },
      "source": [
        "#### Mutate"
      ]
    },
    {
      "cell_type": "code",
      "metadata": {
        "id": "mr2wzn-3mRNw",
        "outputId": "bd7cb3e4-bb44-4410-9777-c70fe7e769f6",
        "colab": {
          "base_uri": "https://localhost:8080/",
          "height": 459
        }
      },
      "source": [
        "#### Ajout d'une nouvelle variable year_start qui définie l'année 1880 comme l'année 0\n",
        "\n",
        "mutate(dataset, year_start = Year - 1880) %>% head()"
      ],
      "execution_count": 37,
      "outputs": [
        {
          "output_type": "display_data",
          "data": {
            "text/plain": [
              "  ID Name                     Sex Age Height Weight Team           NOC\n",
              "1 1  A Dijiang                M   24  180    80     China          CHN\n",
              "2 2  A Lamusi                 M   23  170    60     China          CHN\n",
              "3 3  Gunnar Nielsen Aaby      M   24   NA    NA     Denmark        DEN\n",
              "4 4  Edgar Lindenau Aabye     M   34   NA    NA     Denmark/Sweden DEN\n",
              "5 5  Christine Jacoba Aaftink F   21  185    82     Netherlands    NED\n",
              "6 5  Christine Jacoba Aaftink F   21  185    82     Netherlands    NED\n",
              "  Games       Year Season City      Sport        \n",
              "1 1992 Summer 1992 Summer Barcelona Basketball   \n",
              "2 2012 Summer 2012 Summer London    Judo         \n",
              "3 1920 Summer 1920 Summer Antwerpen Football     \n",
              "4 1900 Summer 1900 Summer Paris     Tug-Of-War   \n",
              "5 1988 Winter 1988 Winter Calgary   Speed Skating\n",
              "6 1988 Winter 1988 Winter Calgary   Speed Skating\n",
              "  Event                              Medal year_start\n",
              "1 Basketball Men's Basketball        NA    112       \n",
              "2 Judo Men's Extra-Lightweight       NA    132       \n",
              "3 Football Men's Football            NA     40       \n",
              "4 Tug-Of-War Men's Tug-Of-War        Gold   20       \n",
              "5 Speed Skating Women's 500 metres   NA    108       \n",
              "6 Speed Skating Women's 1,000 metres NA    108       "
            ],
            "text/latex": "A data.frame: 6 × 16\n\\begin{tabular}{r|llllllllllllllll}\n  & ID & Name & Sex & Age & Height & Weight & Team & NOC & Games & Year & Season & City & Sport & Event & Medal & year\\_start\\\\\n  & <int> & <chr> & <chr> & <int> & <int> & <dbl> & <chr> & <chr> & <chr> & <int> & <chr> & <chr> & <chr> & <chr> & <chr> & <dbl>\\\\\n\\hline\n\t1 & 1 & A Dijiang                & M & 24 & 180 & 80 & China          & CHN & 1992 Summer & 1992 & Summer & Barcelona & Basketball    & Basketball Men's Basketball        & NA   & 112\\\\\n\t2 & 2 & A Lamusi                 & M & 23 & 170 & 60 & China          & CHN & 2012 Summer & 2012 & Summer & London    & Judo          & Judo Men's Extra-Lightweight       & NA   & 132\\\\\n\t3 & 3 & Gunnar Nielsen Aaby      & M & 24 &  NA & NA & Denmark        & DEN & 1920 Summer & 1920 & Summer & Antwerpen & Football      & Football Men's Football            & NA   &  40\\\\\n\t4 & 4 & Edgar Lindenau Aabye     & M & 34 &  NA & NA & Denmark/Sweden & DEN & 1900 Summer & 1900 & Summer & Paris     & Tug-Of-War    & Tug-Of-War Men's Tug-Of-War        & Gold &  20\\\\\n\t5 & 5 & Christine Jacoba Aaftink & F & 21 & 185 & 82 & Netherlands    & NED & 1988 Winter & 1988 & Winter & Calgary   & Speed Skating & Speed Skating Women's 500 metres   & NA   & 108\\\\\n\t6 & 5 & Christine Jacoba Aaftink & F & 21 & 185 & 82 & Netherlands    & NED & 1988 Winter & 1988 & Winter & Calgary   & Speed Skating & Speed Skating Women's 1,000 metres & NA   & 108\\\\\n\\end{tabular}\n",
            "text/markdown": "\nA data.frame: 6 × 16\n\n| <!--/--> | ID &lt;int&gt; | Name &lt;chr&gt; | Sex &lt;chr&gt; | Age &lt;int&gt; | Height &lt;int&gt; | Weight &lt;dbl&gt; | Team &lt;chr&gt; | NOC &lt;chr&gt; | Games &lt;chr&gt; | Year &lt;int&gt; | Season &lt;chr&gt; | City &lt;chr&gt; | Sport &lt;chr&gt; | Event &lt;chr&gt; | Medal &lt;chr&gt; | year_start &lt;dbl&gt; |\n|---|---|---|---|---|---|---|---|---|---|---|---|---|---|---|---|---|\n| 1 | 1 | A Dijiang                | M | 24 | 180 | 80 | China          | CHN | 1992 Summer | 1992 | Summer | Barcelona | Basketball    | Basketball Men's Basketball        | NA   | 112 |\n| 2 | 2 | A Lamusi                 | M | 23 | 170 | 60 | China          | CHN | 2012 Summer | 2012 | Summer | London    | Judo          | Judo Men's Extra-Lightweight       | NA   | 132 |\n| 3 | 3 | Gunnar Nielsen Aaby      | M | 24 |  NA | NA | Denmark        | DEN | 1920 Summer | 1920 | Summer | Antwerpen | Football      | Football Men's Football            | NA   |  40 |\n| 4 | 4 | Edgar Lindenau Aabye     | M | 34 |  NA | NA | Denmark/Sweden | DEN | 1900 Summer | 1900 | Summer | Paris     | Tug-Of-War    | Tug-Of-War Men's Tug-Of-War        | Gold |  20 |\n| 5 | 5 | Christine Jacoba Aaftink | F | 21 | 185 | 82 | Netherlands    | NED | 1988 Winter | 1988 | Winter | Calgary   | Speed Skating | Speed Skating Women's 500 metres   | NA   | 108 |\n| 6 | 5 | Christine Jacoba Aaftink | F | 21 | 185 | 82 | Netherlands    | NED | 1988 Winter | 1988 | Winter | Calgary   | Speed Skating | Speed Skating Women's 1,000 metres | NA   | 108 |\n\n",
            "text/html": [
              "<table>\n",
              "<caption>A data.frame: 6 × 16</caption>\n",
              "<thead>\n",
              "\t<tr><th></th><th scope=col>ID</th><th scope=col>Name</th><th scope=col>Sex</th><th scope=col>Age</th><th scope=col>Height</th><th scope=col>Weight</th><th scope=col>Team</th><th scope=col>NOC</th><th scope=col>Games</th><th scope=col>Year</th><th scope=col>Season</th><th scope=col>City</th><th scope=col>Sport</th><th scope=col>Event</th><th scope=col>Medal</th><th scope=col>year_start</th></tr>\n",
              "\t<tr><th></th><th scope=col>&lt;int&gt;</th><th scope=col>&lt;chr&gt;</th><th scope=col>&lt;chr&gt;</th><th scope=col>&lt;int&gt;</th><th scope=col>&lt;int&gt;</th><th scope=col>&lt;dbl&gt;</th><th scope=col>&lt;chr&gt;</th><th scope=col>&lt;chr&gt;</th><th scope=col>&lt;chr&gt;</th><th scope=col>&lt;int&gt;</th><th scope=col>&lt;chr&gt;</th><th scope=col>&lt;chr&gt;</th><th scope=col>&lt;chr&gt;</th><th scope=col>&lt;chr&gt;</th><th scope=col>&lt;chr&gt;</th><th scope=col>&lt;dbl&gt;</th></tr>\n",
              "</thead>\n",
              "<tbody>\n",
              "\t<tr><th scope=row>1</th><td>1</td><td>A Dijiang               </td><td>M</td><td>24</td><td>180</td><td>80</td><td>China         </td><td>CHN</td><td>1992 Summer</td><td>1992</td><td>Summer</td><td>Barcelona</td><td>Basketball   </td><td>Basketball Men's Basketball       </td><td>NA  </td><td>112</td></tr>\n",
              "\t<tr><th scope=row>2</th><td>2</td><td>A Lamusi                </td><td>M</td><td>23</td><td>170</td><td>60</td><td>China         </td><td>CHN</td><td>2012 Summer</td><td>2012</td><td>Summer</td><td>London   </td><td>Judo         </td><td>Judo Men's Extra-Lightweight      </td><td>NA  </td><td>132</td></tr>\n",
              "\t<tr><th scope=row>3</th><td>3</td><td>Gunnar Nielsen Aaby     </td><td>M</td><td>24</td><td> NA</td><td>NA</td><td>Denmark       </td><td>DEN</td><td>1920 Summer</td><td>1920</td><td>Summer</td><td>Antwerpen</td><td>Football     </td><td>Football Men's Football           </td><td>NA  </td><td> 40</td></tr>\n",
              "\t<tr><th scope=row>4</th><td>4</td><td>Edgar Lindenau Aabye    </td><td>M</td><td>34</td><td> NA</td><td>NA</td><td>Denmark/Sweden</td><td>DEN</td><td>1900 Summer</td><td>1900</td><td>Summer</td><td>Paris    </td><td>Tug-Of-War   </td><td>Tug-Of-War Men's Tug-Of-War       </td><td>Gold</td><td> 20</td></tr>\n",
              "\t<tr><th scope=row>5</th><td>5</td><td>Christine Jacoba Aaftink</td><td>F</td><td>21</td><td>185</td><td>82</td><td>Netherlands   </td><td>NED</td><td>1988 Winter</td><td>1988</td><td>Winter</td><td>Calgary  </td><td>Speed Skating</td><td>Speed Skating Women's 500 metres  </td><td>NA  </td><td>108</td></tr>\n",
              "\t<tr><th scope=row>6</th><td>5</td><td>Christine Jacoba Aaftink</td><td>F</td><td>21</td><td>185</td><td>82</td><td>Netherlands   </td><td>NED</td><td>1988 Winter</td><td>1988</td><td>Winter</td><td>Calgary  </td><td>Speed Skating</td><td>Speed Skating Women's 1,000 metres</td><td>NA  </td><td>108</td></tr>\n",
              "</tbody>\n",
              "</table>\n"
            ]
          },
          "metadata": {
            "tags": []
          }
        }
      ]
    },
    {
      "cell_type": "markdown",
      "metadata": {
        "id": "-Oi-7qYmmRN2"
      },
      "source": [
        "#### Summarise"
      ]
    },
    {
      "cell_type": "code",
      "metadata": {
        "id": "i6ByKyTnmRN3",
        "outputId": "70e97de2-7901-45f3-b852-1e60542d6596",
        "colab": {
          "base_uri": "https://localhost:8080/",
          "height": 133
        }
      },
      "source": [
        "#### Résumé des données à l'aide de summaryse\n",
        "#### Somme totale des prénoms\n",
        "\n",
        "summarise(dataset, somme = sum(Height))"
      ],
      "execution_count": 40,
      "outputs": [
        {
          "output_type": "display_data",
          "data": {
            "text/plain": [
              "  somme\n",
              "1 NA   "
            ],
            "text/latex": "A data.frame: 1 × 1\n\\begin{tabular}{l}\n somme\\\\\n <int>\\\\\n\\hline\n\t NA\\\\\n\\end{tabular}\n",
            "text/markdown": "\nA data.frame: 1 × 1\n\n| somme &lt;int&gt; |\n|---|\n| NA |\n\n",
            "text/html": [
              "<table>\n",
              "<caption>A data.frame: 1 × 1</caption>\n",
              "<thead>\n",
              "\t<tr><th scope=col>somme</th></tr>\n",
              "\t<tr><th scope=col>&lt;int&gt;</th></tr>\n",
              "</thead>\n",
              "<tbody>\n",
              "\t<tr><td>NA</td></tr>\n",
              "</tbody>\n",
              "</table>\n"
            ]
          },
          "metadata": {
            "tags": []
          }
        }
      ]
    },
    {
      "cell_type": "code",
      "metadata": {
        "id": "fiBP-1s_mROB",
        "outputId": "79328e42-d64b-4ea6-d652-1380bc9156a4",
        "colab": {
          "base_uri": "https://localhost:8080/",
          "height": 238
        }
      },
      "source": [
        "#### Grouper par année et sommer le poins\n",
        "\n",
        "by_annee <- group_by(dataset, Team)\n",
        "summarise(by_annee, somme = sum(Weight), na.rm = TRUE) %>% head()"
      ],
      "execution_count": 41,
      "outputs": [
        {
          "output_type": "stream",
          "text": [
            "`summarise()` ungrouping output (override with `.groups` argument)\n",
            "\n"
          ],
          "name": "stderr"
        },
        {
          "output_type": "display_data",
          "data": {
            "text/plain": [
              "  Team                  somme na.rm\n",
              "1 30. Februar            NA   TRUE \n",
              "2 A North American Team  NA   TRUE \n",
              "3 Acipactli             226   TRUE \n",
              "4 Acturus                NA   TRUE \n",
              "5 Afghanistan            NA   TRUE \n",
              "6 Akatonbo              240   TRUE "
            ],
            "text/latex": "A tibble: 6 × 3\n\\begin{tabular}{lll}\n Team & somme & na.rm\\\\\n <chr> & <dbl> & <lgl>\\\\\n\\hline\n\t 30. Februar           &  NA & TRUE\\\\\n\t A North American Team &  NA & TRUE\\\\\n\t Acipactli             & 226 & TRUE\\\\\n\t Acturus               &  NA & TRUE\\\\\n\t Afghanistan           &  NA & TRUE\\\\\n\t Akatonbo              & 240 & TRUE\\\\\n\\end{tabular}\n",
            "text/markdown": "\nA tibble: 6 × 3\n\n| Team &lt;chr&gt; | somme &lt;dbl&gt; | na.rm &lt;lgl&gt; |\n|---|---|---|\n| 30. Februar           |  NA | TRUE |\n| A North American Team |  NA | TRUE |\n| Acipactli             | 226 | TRUE |\n| Acturus               |  NA | TRUE |\n| Afghanistan           |  NA | TRUE |\n| Akatonbo              | 240 | TRUE |\n\n",
            "text/html": [
              "<table>\n",
              "<caption>A tibble: 6 × 3</caption>\n",
              "<thead>\n",
              "\t<tr><th scope=col>Team</th><th scope=col>somme</th><th scope=col>na.rm</th></tr>\n",
              "\t<tr><th scope=col>&lt;chr&gt;</th><th scope=col>&lt;dbl&gt;</th><th scope=col>&lt;lgl&gt;</th></tr>\n",
              "</thead>\n",
              "<tbody>\n",
              "\t<tr><td>30. Februar          </td><td> NA</td><td>TRUE</td></tr>\n",
              "\t<tr><td>A North American Team</td><td> NA</td><td>TRUE</td></tr>\n",
              "\t<tr><td>Acipactli            </td><td>226</td><td>TRUE</td></tr>\n",
              "\t<tr><td>Acturus              </td><td> NA</td><td>TRUE</td></tr>\n",
              "\t<tr><td>Afghanistan          </td><td> NA</td><td>TRUE</td></tr>\n",
              "\t<tr><td>Akatonbo             </td><td>240</td><td>TRUE</td></tr>\n",
              "</tbody>\n",
              "</table>\n"
            ]
          },
          "metadata": {
            "tags": []
          }
        }
      ]
    },
    {
      "cell_type": "code",
      "metadata": {
        "id": "XfVoS4BgmROO",
        "outputId": "cdd45d92-af56-4099-8d3b-2da6d5b47b88",
        "colab": {
          "base_uri": "https://localhost:8080/",
          "height": 1000
        }
      },
      "source": [
        "dataset %>% filter(Sport == \"Judo\" | Sport == \"Football\") %>% arrange(Year)"
      ],
      "execution_count": 42,
      "outputs": [
        {
          "output_type": "display_data",
          "data": {
            "text/plain": [
              "      ID     Name                                       Sex Age Height Weight\n",
              "1       2829 Richard Louis Pierre Allemane              M   18  NA     NA    \n",
              "2       6510 Louis Dsir Bach                            M   17  NA     NA    \n",
              "3      12293 Alfred Bloch                               M   NA  NA     NA    \n",
              "4      16085 Claude Percival Buckenham                  M   24  NA     NA    \n",
              "5      16727 Tom Eustace Burridge                       M   19  NA     NA    \n",
              "6      17893 Fernand mile Canelle                       M   18  NA     NA    \n",
              "7      19595 Alfred Ernest Chalk                        M   25  NA     NA    \n",
              "8      27218 Albert Delbecque                           M   NA  NA     NA    \n",
              "9      30724 R. Duparc                                  M   NA  NA     NA    \n",
              "10     36903 Maurice Eugne Fraysse                      M   20  NA     NA    \n",
              "11     37926 Ren Paul Virgile Gaillard                  M   22  NA     NA    \n",
              "12     38830 Georges Garnier                            M   NA  NA     NA    \n",
              "13     41949 William Sullivan Gosling                   M   30  NA     NA    \n",
              "14     42370 Ren Grandjean                              M   NA  NA     NA    \n",
              "15     46449 Henry North Haslam                         M   NA  NA     NA    \n",
              "16     51292 Lucien Paul Nol Huteau                     M   21  NA     NA    \n",
              "17     55677 James Henry Jones                          M   NA  NA     NA    \n",
              "18     58471 Raul Kelecom                               M   NA  NA     NA    \n",
              "19     66151 Marcel Lambert                             M   NA  NA     NA    \n",
              "20     67659 Marcel Leboutte                            M   NA  NA     NA    \n",
              "21     71187 Lucien Jean Londot                         M   NA  NA     NA    \n",
              "22     72827 Maurice Macaire                            M   18  NA     NA    \n",
              "23     81896 Ernest Marie Eugne Adolphe Moreau de Melen M   NA  NA     NA    \n",
              "24     85040 Edmond Neefs                               M   NA  NA     NA    \n",
              "25     85802 John Nicholas                              M   20  NA     NA    \n",
              "26     92824 Georges Pelgrims                           M   NA  NA     NA    \n",
              "27     92908 Gaston Peltier                             M   NA  NA     NA    \n",
              "28     97829 William Francis Patterson \"Bill\" Quash     M   31  NA     NA    \n",
              "29     99984 Alphonse Renier                            M   NA  NA     NA    \n",
              "30    113625 Frederick George \"Fred\" Spackman           M   NA  NA     NA    \n",
              "⋮     ⋮      ⋮                                          ⋮   ⋮   ⋮      ⋮     \n",
              "10517 130489 Rhian Emilie Wilkinson                     F   34  166     66   \n",
              "10518 130541 William de Asevedo Furtado                 M   21  176     65   \n",
              "10519 130634 Lydia Grace Yilkari Williams               F   28  175     65   \n",
              "10520 131786 Wu Haiyan                                  F   23  166     58   \n",
              "10521 132132 Simon Yacoub                               M   27  166     60   \n",
              "10522 132187 Shinya Yajima                              M   22  171     67   \n",
              "10523 132239 Kirsty Lee Yallop                          F   29  165     60   \n",
              "10524 132243 Kanae Yamabe                               F   25  172    108   \n",
              "10525 132414 Yan Naing Soe                              M   37  180     98   \n",
              "10526 132519 Yang Junxia                                F   27  169     63   \n",
              "10527 132522 Yang Li                                    F   25  167     58   \n",
              "10528 132653 Svitlana Mykolavna Yaromka                 F   27  162     78   \n",
              "10529 132662 Denis Nikolayevich Yartsev                 M   25  176     73   \n",
              "10530 132746 Kunathip Yea-On                            M   20  193    148   \n",
              "10531 133368 Yu Song                                    F   29  182    128   \n",
              "10532 133600 Irina Aleksandrovna Zabludina              F   29  160     57   \n",
              "10533 133648 Shelina Laura Zadorsky                     F   23  172     67   \n",
              "10534 133858 Vanessa Martina Zambotti Barreto           F   34  175    125   \n",
              "10535 133973 Heorhiy Malkhazovych Zantaraia             M   28  171     66   \n",
              "10536 134211 Jos Carlos Cracco Neto                     M   22  170     69   \n",
              "10537 134329 Morad Zemouri                              M   23  173     73   \n",
              "10538 134404 Mihael gank                                M   22  181     90   \n",
              "10539 134540 Zhang Rui                                  F   27  172     62   \n",
              "10540 134622 Zhang Zhehui                               F   28  177     76   \n",
              "10541 134654 Zhao Lina                                  F   24  188     67   \n",
              "10542 134658 Zhao Rong                                  F   25  171     59   \n",
              "10543 134788 Zhou Chao                                  F   29  170     70   \n",
              "10544 135275 Rizlen Al-Zouak                            F   30  164     63   \n",
              "10545 135287 Houd Zourdani                              M   22  165     66   \n",
              "10546 135453 Kelita Zupancic                            F   26  169     70   \n",
              "      Team              NOC Games       Year Season City           Sport   \n",
              "1     USFSA             FRA 1900 Summer 1900 Summer Paris          Football\n",
              "2     USFSA             FRA 1900 Summer 1900 Summer Paris          Football\n",
              "3     USFSA             FRA 1900 Summer 1900 Summer Paris          Football\n",
              "4     Upton Park FC     GBR 1900 Summer 1900 Summer Paris          Football\n",
              "5     Upton Park FC     GBR 1900 Summer 1900 Summer Paris          Football\n",
              "6     USFSA             FRA 1900 Summer 1900 Summer Paris          Football\n",
              "7     Upton Park FC     GBR 1900 Summer 1900 Summer Paris          Football\n",
              "8     Univ. of Brussels BEL 1900 Summer 1900 Summer Paris          Football\n",
              "9     USFSA             FRA 1900 Summer 1900 Summer Paris          Football\n",
              "10    USFSA             FRA 1900 Summer 1900 Summer Paris          Football\n",
              "11    USFSA             FRA 1900 Summer 1900 Summer Paris          Football\n",
              "12    USFSA             FRA 1900 Summer 1900 Summer Paris          Football\n",
              "13    Upton Park FC     GBR 1900 Summer 1900 Summer Paris          Football\n",
              "14    USFSA             FRA 1900 Summer 1900 Summer Paris          Football\n",
              "15    Upton Park FC     GBR 1900 Summer 1900 Summer Paris          Football\n",
              "16    USFSA             FRA 1900 Summer 1900 Summer Paris          Football\n",
              "17    Upton Park FC     GBR 1900 Summer 1900 Summer Paris          Football\n",
              "18    Univ. of Brussels BEL 1900 Summer 1900 Summer Paris          Football\n",
              "19    USFSA             FRA 1900 Summer 1900 Summer Paris          Football\n",
              "20    Univ. of Brussels BEL 1900 Summer 1900 Summer Paris          Football\n",
              "21    Univ. of Brussels BEL 1900 Summer 1900 Summer Paris          Football\n",
              "22    USFSA             FRA 1900 Summer 1900 Summer Paris          Football\n",
              "23    Univ. of Brussels BEL 1900 Summer 1900 Summer Paris          Football\n",
              "24    Univ. of Brussels BEL 1900 Summer 1900 Summer Paris          Football\n",
              "25    Upton Park FC     GBR 1900 Summer 1900 Summer Paris          Football\n",
              "26    Univ. of Brussels BEL 1900 Summer 1900 Summer Paris          Football\n",
              "27    USFSA             FRA 1900 Summer 1900 Summer Paris          Football\n",
              "28    Upton Park FC     GBR 1900 Summer 1900 Summer Paris          Football\n",
              "29    Univ. of Brussels BEL 1900 Summer 1900 Summer Paris          Football\n",
              "30    Upton Park FC     GBR 1900 Summer 1900 Summer Paris          Football\n",
              "⋮     ⋮                 ⋮   ⋮           ⋮    ⋮      ⋮              ⋮       \n",
              "10517 Canada            CAN 2016 Summer 2016 Summer Rio de Janeiro Football\n",
              "10518 Brazil            BRA 2016 Summer 2016 Summer Rio de Janeiro Football\n",
              "10519 Australia         AUS 2016 Summer 2016 Summer Rio de Janeiro Football\n",
              "10520 China             CHN 2016 Summer 2016 Summer Rio de Janeiro Football\n",
              "10521 Palestine         PLE 2016 Summer 2016 Summer Rio de Janeiro Judo    \n",
              "10522 Japan             JPN 2016 Summer 2016 Summer Rio de Janeiro Football\n",
              "10523 New Zealand       NZL 2016 Summer 2016 Summer Rio de Janeiro Football\n",
              "10524 Japan             JPN 2016 Summer 2016 Summer Rio de Janeiro Judo    \n",
              "10525 Myanmar           MYA 2016 Summer 2016 Summer Rio de Janeiro Judo    \n",
              "10526 China             CHN 2016 Summer 2016 Summer Rio de Janeiro Judo    \n",
              "10527 China             CHN 2016 Summer 2016 Summer Rio de Janeiro Football\n",
              "10528 Ukraine           UKR 2016 Summer 2016 Summer Rio de Janeiro Judo    \n",
              "10529 Russia            RUS 2016 Summer 2016 Summer Rio de Janeiro Judo    \n",
              "10530 Thailand          THA 2016 Summer 2016 Summer Rio de Janeiro Judo    \n",
              "10531 China             CHN 2016 Summer 2016 Summer Rio de Janeiro Judo    \n",
              "10532 Russia            RUS 2016 Summer 2016 Summer Rio de Janeiro Judo    \n",
              "10533 Canada            CAN 2016 Summer 2016 Summer Rio de Janeiro Football\n",
              "10534 Mexico            MEX 2016 Summer 2016 Summer Rio de Janeiro Judo    \n",
              "10535 Ukraine           UKR 2016 Summer 2016 Summer Rio de Janeiro Judo    \n",
              "10536 Brazil            BRA 2016 Summer 2016 Summer Rio de Janeiro Football\n",
              "10537 Qatar             QAT 2016 Summer 2016 Summer Rio de Janeiro Judo    \n",
              "10538 Slovenia          SLO 2016 Summer 2016 Summer Rio de Janeiro Judo    \n",
              "10539 China             CHN 2016 Summer 2016 Summer Rio de Janeiro Football\n",
              "10540 China             CHN 2016 Summer 2016 Summer Rio de Janeiro Judo    \n",
              "10541 China             CHN 2016 Summer 2016 Summer Rio de Janeiro Football\n",
              "10542 China             CHN 2016 Summer 2016 Summer Rio de Janeiro Football\n",
              "10543 China             CHN 2016 Summer 2016 Summer Rio de Janeiro Judo    \n",
              "10544 Morocco           MAR 2016 Summer 2016 Summer Rio de Janeiro Judo    \n",
              "10545 Algeria           ALG 2016 Summer 2016 Summer Rio de Janeiro Judo    \n",
              "10546 Canada            CAN 2016 Summer 2016 Summer Rio de Janeiro Judo    \n",
              "      Event                          Medal \n",
              "1     Football Men's Football        Silver\n",
              "2     Football Men's Football        Silver\n",
              "3     Football Men's Football        Silver\n",
              "4     Football Men's Football        Gold  \n",
              "5     Football Men's Football        Gold  \n",
              "6     Football Men's Football        Silver\n",
              "7     Football Men's Football        Gold  \n",
              "8     Football Men's Football        Bronze\n",
              "9     Football Men's Football        Silver\n",
              "10    Football Men's Football        Silver\n",
              "11    Football Men's Football        Silver\n",
              "12    Football Men's Football        Silver\n",
              "13    Football Men's Football        Gold  \n",
              "14    Football Men's Football        Silver\n",
              "15    Football Men's Football        Gold  \n",
              "16    Football Men's Football        Silver\n",
              "17    Football Men's Football        Gold  \n",
              "18    Football Men's Football        Bronze\n",
              "19    Football Men's Football        Silver\n",
              "20    Football Men's Football        Bronze\n",
              "21    Football Men's Football        Bronze\n",
              "22    Football Men's Football        Silver\n",
              "23    Football Men's Football        Bronze\n",
              "24    Football Men's Football        Bronze\n",
              "25    Football Men's Football        Gold  \n",
              "26    Football Men's Football        Bronze\n",
              "27    Football Men's Football        Silver\n",
              "28    Football Men's Football        Gold  \n",
              "29    Football Men's Football        Bronze\n",
              "30    Football Men's Football        Gold  \n",
              "⋮     ⋮                              ⋮     \n",
              "10517 Football Women's Football      Bronze\n",
              "10518 Football Men's Football        Gold  \n",
              "10519 Football Women's Football      NA    \n",
              "10520 Football Women's Football      NA    \n",
              "10521 Judo Men's Extra-Lightweight   NA    \n",
              "10522 Football Men's Football        NA    \n",
              "10523 Football Women's Football      NA    \n",
              "10524 Judo Women's Heavyweight       Bronze\n",
              "10525 Judo Men's Half-Heavyweight    NA    \n",
              "10526 Judo Women's Half-Middleweight NA    \n",
              "10527 Football Women's Football      NA    \n",
              "10528 Judo Women's Heavyweight       NA    \n",
              "10529 Judo Men's Lightweight         NA    \n",
              "10530 Judo Men's Heavyweight         NA    \n",
              "10531 Judo Women's Heavyweight       Bronze\n",
              "10532 Judo Women's Lightweight       NA    \n",
              "10533 Football Women's Football      Bronze\n",
              "10534 Judo Women's Heavyweight       NA    \n",
              "10535 Judo Men's Half-Lightweight    NA    \n",
              "10536 Football Men's Football        Gold  \n",
              "10537 Judo Men's Lightweight         NA    \n",
              "10538 Judo Men's Middleweight        NA    \n",
              "10539 Football Women's Football      NA    \n",
              "10540 Judo Women's Half-Heavyweight  NA    \n",
              "10541 Football Women's Football      NA    \n",
              "10542 Football Women's Football      NA    \n",
              "10543 Judo Women's Middleweight      NA    \n",
              "10544 Judo Women's Half-Middleweight NA    \n",
              "10545 Judo Men's Half-Lightweight    NA    \n",
              "10546 Judo Women's Middleweight      NA    "
            ],
            "text/latex": "A data.frame: 10546 × 15\n\\begin{tabular}{lllllllllllllll}\n ID & Name & Sex & Age & Height & Weight & Team & NOC & Games & Year & Season & City & Sport & Event & Medal\\\\\n <int> & <chr> & <chr> & <int> & <int> & <dbl> & <chr> & <chr> & <chr> & <int> & <chr> & <chr> & <chr> & <chr> & <chr>\\\\\n\\hline\n\t   2829 & Richard Louis Pierre Allemane              & M & 18 & NA & NA & USFSA             & FRA & 1900 Summer & 1900 & Summer & Paris & Football & Football Men's Football & Silver\\\\\n\t   6510 & Louis Dsir Bach                            & M & 17 & NA & NA & USFSA             & FRA & 1900 Summer & 1900 & Summer & Paris & Football & Football Men's Football & Silver\\\\\n\t  12293 & Alfred Bloch                               & M & NA & NA & NA & USFSA             & FRA & 1900 Summer & 1900 & Summer & Paris & Football & Football Men's Football & Silver\\\\\n\t  16085 & Claude Percival Buckenham                  & M & 24 & NA & NA & Upton Park FC     & GBR & 1900 Summer & 1900 & Summer & Paris & Football & Football Men's Football & Gold  \\\\\n\t  16727 & Tom Eustace Burridge                       & M & 19 & NA & NA & Upton Park FC     & GBR & 1900 Summer & 1900 & Summer & Paris & Football & Football Men's Football & Gold  \\\\\n\t  17893 & Fernand mile Canelle                       & M & 18 & NA & NA & USFSA             & FRA & 1900 Summer & 1900 & Summer & Paris & Football & Football Men's Football & Silver\\\\\n\t  19595 & Alfred Ernest Chalk                        & M & 25 & NA & NA & Upton Park FC     & GBR & 1900 Summer & 1900 & Summer & Paris & Football & Football Men's Football & Gold  \\\\\n\t  27218 & Albert Delbecque                           & M & NA & NA & NA & Univ. of Brussels & BEL & 1900 Summer & 1900 & Summer & Paris & Football & Football Men's Football & Bronze\\\\\n\t  30724 & R. Duparc                                  & M & NA & NA & NA & USFSA             & FRA & 1900 Summer & 1900 & Summer & Paris & Football & Football Men's Football & Silver\\\\\n\t  36903 & Maurice Eugne Fraysse                      & M & 20 & NA & NA & USFSA             & FRA & 1900 Summer & 1900 & Summer & Paris & Football & Football Men's Football & Silver\\\\\n\t  37926 & Ren Paul Virgile Gaillard                  & M & 22 & NA & NA & USFSA             & FRA & 1900 Summer & 1900 & Summer & Paris & Football & Football Men's Football & Silver\\\\\n\t  38830 & Georges Garnier                            & M & NA & NA & NA & USFSA             & FRA & 1900 Summer & 1900 & Summer & Paris & Football & Football Men's Football & Silver\\\\\n\t  41949 & William Sullivan Gosling                   & M & 30 & NA & NA & Upton Park FC     & GBR & 1900 Summer & 1900 & Summer & Paris & Football & Football Men's Football & Gold  \\\\\n\t  42370 & Ren Grandjean                              & M & NA & NA & NA & USFSA             & FRA & 1900 Summer & 1900 & Summer & Paris & Football & Football Men's Football & Silver\\\\\n\t  46449 & Henry North Haslam                         & M & NA & NA & NA & Upton Park FC     & GBR & 1900 Summer & 1900 & Summer & Paris & Football & Football Men's Football & Gold  \\\\\n\t  51292 & Lucien Paul Nol Huteau                     & M & 21 & NA & NA & USFSA             & FRA & 1900 Summer & 1900 & Summer & Paris & Football & Football Men's Football & Silver\\\\\n\t  55677 & James Henry Jones                          & M & NA & NA & NA & Upton Park FC     & GBR & 1900 Summer & 1900 & Summer & Paris & Football & Football Men's Football & Gold  \\\\\n\t  58471 & Raul Kelecom                               & M & NA & NA & NA & Univ. of Brussels & BEL & 1900 Summer & 1900 & Summer & Paris & Football & Football Men's Football & Bronze\\\\\n\t  66151 & Marcel Lambert                             & M & NA & NA & NA & USFSA             & FRA & 1900 Summer & 1900 & Summer & Paris & Football & Football Men's Football & Silver\\\\\n\t  67659 & Marcel Leboutte                            & M & NA & NA & NA & Univ. of Brussels & BEL & 1900 Summer & 1900 & Summer & Paris & Football & Football Men's Football & Bronze\\\\\n\t  71187 & Lucien Jean Londot                         & M & NA & NA & NA & Univ. of Brussels & BEL & 1900 Summer & 1900 & Summer & Paris & Football & Football Men's Football & Bronze\\\\\n\t  72827 & Maurice Macaire                            & M & 18 & NA & NA & USFSA             & FRA & 1900 Summer & 1900 & Summer & Paris & Football & Football Men's Football & Silver\\\\\n\t  81896 & Ernest Marie Eugne Adolphe Moreau de Melen & M & NA & NA & NA & Univ. of Brussels & BEL & 1900 Summer & 1900 & Summer & Paris & Football & Football Men's Football & Bronze\\\\\n\t  85040 & Edmond Neefs                               & M & NA & NA & NA & Univ. of Brussels & BEL & 1900 Summer & 1900 & Summer & Paris & Football & Football Men's Football & Bronze\\\\\n\t  85802 & John Nicholas                              & M & 20 & NA & NA & Upton Park FC     & GBR & 1900 Summer & 1900 & Summer & Paris & Football & Football Men's Football & Gold  \\\\\n\t  92824 & Georges Pelgrims                           & M & NA & NA & NA & Univ. of Brussels & BEL & 1900 Summer & 1900 & Summer & Paris & Football & Football Men's Football & Bronze\\\\\n\t  92908 & Gaston Peltier                             & M & NA & NA & NA & USFSA             & FRA & 1900 Summer & 1900 & Summer & Paris & Football & Football Men's Football & Silver\\\\\n\t  97829 & William Francis Patterson \"Bill\" Quash     & M & 31 & NA & NA & Upton Park FC     & GBR & 1900 Summer & 1900 & Summer & Paris & Football & Football Men's Football & Gold  \\\\\n\t  99984 & Alphonse Renier                            & M & NA & NA & NA & Univ. of Brussels & BEL & 1900 Summer & 1900 & Summer & Paris & Football & Football Men's Football & Bronze\\\\\n\t 113625 & Frederick George \"Fred\" Spackman           & M & NA & NA & NA & Upton Park FC     & GBR & 1900 Summer & 1900 & Summer & Paris & Football & Football Men's Football & Gold  \\\\\n\t ⋮ & ⋮ & ⋮ & ⋮ & ⋮ & ⋮ & ⋮ & ⋮ & ⋮ & ⋮ & ⋮ & ⋮ & ⋮ & ⋮ & ⋮\\\\\n\t 130489 & Rhian Emilie Wilkinson           & F & 34 & 166 &  66 & Canada      & CAN & 2016 Summer & 2016 & Summer & Rio de Janeiro & Football & Football Women's Football      & Bronze\\\\\n\t 130541 & William de Asevedo Furtado       & M & 21 & 176 &  65 & Brazil      & BRA & 2016 Summer & 2016 & Summer & Rio de Janeiro & Football & Football Men's Football        & Gold  \\\\\n\t 130634 & Lydia Grace Yilkari Williams     & F & 28 & 175 &  65 & Australia   & AUS & 2016 Summer & 2016 & Summer & Rio de Janeiro & Football & Football Women's Football      & NA    \\\\\n\t 131786 & Wu Haiyan                        & F & 23 & 166 &  58 & China       & CHN & 2016 Summer & 2016 & Summer & Rio de Janeiro & Football & Football Women's Football      & NA    \\\\\n\t 132132 & Simon Yacoub                     & M & 27 & 166 &  60 & Palestine   & PLE & 2016 Summer & 2016 & Summer & Rio de Janeiro & Judo     & Judo Men's Extra-Lightweight   & NA    \\\\\n\t 132187 & Shinya Yajima                    & M & 22 & 171 &  67 & Japan       & JPN & 2016 Summer & 2016 & Summer & Rio de Janeiro & Football & Football Men's Football        & NA    \\\\\n\t 132239 & Kirsty Lee Yallop                & F & 29 & 165 &  60 & New Zealand & NZL & 2016 Summer & 2016 & Summer & Rio de Janeiro & Football & Football Women's Football      & NA    \\\\\n\t 132243 & Kanae Yamabe                     & F & 25 & 172 & 108 & Japan       & JPN & 2016 Summer & 2016 & Summer & Rio de Janeiro & Judo     & Judo Women's Heavyweight       & Bronze\\\\\n\t 132414 & Yan Naing Soe                    & M & 37 & 180 &  98 & Myanmar     & MYA & 2016 Summer & 2016 & Summer & Rio de Janeiro & Judo     & Judo Men's Half-Heavyweight    & NA    \\\\\n\t 132519 & Yang Junxia                      & F & 27 & 169 &  63 & China       & CHN & 2016 Summer & 2016 & Summer & Rio de Janeiro & Judo     & Judo Women's Half-Middleweight & NA    \\\\\n\t 132522 & Yang Li                          & F & 25 & 167 &  58 & China       & CHN & 2016 Summer & 2016 & Summer & Rio de Janeiro & Football & Football Women's Football      & NA    \\\\\n\t 132653 & Svitlana Mykolavna Yaromka       & F & 27 & 162 &  78 & Ukraine     & UKR & 2016 Summer & 2016 & Summer & Rio de Janeiro & Judo     & Judo Women's Heavyweight       & NA    \\\\\n\t 132662 & Denis Nikolayevich Yartsev       & M & 25 & 176 &  73 & Russia      & RUS & 2016 Summer & 2016 & Summer & Rio de Janeiro & Judo     & Judo Men's Lightweight         & NA    \\\\\n\t 132746 & Kunathip Yea-On                  & M & 20 & 193 & 148 & Thailand    & THA & 2016 Summer & 2016 & Summer & Rio de Janeiro & Judo     & Judo Men's Heavyweight         & NA    \\\\\n\t 133368 & Yu Song                          & F & 29 & 182 & 128 & China       & CHN & 2016 Summer & 2016 & Summer & Rio de Janeiro & Judo     & Judo Women's Heavyweight       & Bronze\\\\\n\t 133600 & Irina Aleksandrovna Zabludina    & F & 29 & 160 &  57 & Russia      & RUS & 2016 Summer & 2016 & Summer & Rio de Janeiro & Judo     & Judo Women's Lightweight       & NA    \\\\\n\t 133648 & Shelina Laura Zadorsky           & F & 23 & 172 &  67 & Canada      & CAN & 2016 Summer & 2016 & Summer & Rio de Janeiro & Football & Football Women's Football      & Bronze\\\\\n\t 133858 & Vanessa Martina Zambotti Barreto & F & 34 & 175 & 125 & Mexico      & MEX & 2016 Summer & 2016 & Summer & Rio de Janeiro & Judo     & Judo Women's Heavyweight       & NA    \\\\\n\t 133973 & Heorhiy Malkhazovych Zantaraia   & M & 28 & 171 &  66 & Ukraine     & UKR & 2016 Summer & 2016 & Summer & Rio de Janeiro & Judo     & Judo Men's Half-Lightweight    & NA    \\\\\n\t 134211 & Jos Carlos Cracco Neto           & M & 22 & 170 &  69 & Brazil      & BRA & 2016 Summer & 2016 & Summer & Rio de Janeiro & Football & Football Men's Football        & Gold  \\\\\n\t 134329 & Morad Zemouri                    & M & 23 & 173 &  73 & Qatar       & QAT & 2016 Summer & 2016 & Summer & Rio de Janeiro & Judo     & Judo Men's Lightweight         & NA    \\\\\n\t 134404 & Mihael gank                      & M & 22 & 181 &  90 & Slovenia    & SLO & 2016 Summer & 2016 & Summer & Rio de Janeiro & Judo     & Judo Men's Middleweight        & NA    \\\\\n\t 134540 & Zhang Rui                        & F & 27 & 172 &  62 & China       & CHN & 2016 Summer & 2016 & Summer & Rio de Janeiro & Football & Football Women's Football      & NA    \\\\\n\t 134622 & Zhang Zhehui                     & F & 28 & 177 &  76 & China       & CHN & 2016 Summer & 2016 & Summer & Rio de Janeiro & Judo     & Judo Women's Half-Heavyweight  & NA    \\\\\n\t 134654 & Zhao Lina                        & F & 24 & 188 &  67 & China       & CHN & 2016 Summer & 2016 & Summer & Rio de Janeiro & Football & Football Women's Football      & NA    \\\\\n\t 134658 & Zhao Rong                        & F & 25 & 171 &  59 & China       & CHN & 2016 Summer & 2016 & Summer & Rio de Janeiro & Football & Football Women's Football      & NA    \\\\\n\t 134788 & Zhou Chao                        & F & 29 & 170 &  70 & China       & CHN & 2016 Summer & 2016 & Summer & Rio de Janeiro & Judo     & Judo Women's Middleweight      & NA    \\\\\n\t 135275 & Rizlen Al-Zouak                  & F & 30 & 164 &  63 & Morocco     & MAR & 2016 Summer & 2016 & Summer & Rio de Janeiro & Judo     & Judo Women's Half-Middleweight & NA    \\\\\n\t 135287 & Houd Zourdani                    & M & 22 & 165 &  66 & Algeria     & ALG & 2016 Summer & 2016 & Summer & Rio de Janeiro & Judo     & Judo Men's Half-Lightweight    & NA    \\\\\n\t 135453 & Kelita Zupancic                  & F & 26 & 169 &  70 & Canada      & CAN & 2016 Summer & 2016 & Summer & Rio de Janeiro & Judo     & Judo Women's Middleweight      & NA    \\\\\n\\end{tabular}\n",
            "text/markdown": "\nA data.frame: 10546 × 15\n\n| ID &lt;int&gt; | Name &lt;chr&gt; | Sex &lt;chr&gt; | Age &lt;int&gt; | Height &lt;int&gt; | Weight &lt;dbl&gt; | Team &lt;chr&gt; | NOC &lt;chr&gt; | Games &lt;chr&gt; | Year &lt;int&gt; | Season &lt;chr&gt; | City &lt;chr&gt; | Sport &lt;chr&gt; | Event &lt;chr&gt; | Medal &lt;chr&gt; |\n|---|---|---|---|---|---|---|---|---|---|---|---|---|---|---|\n|   2829 | Richard Louis Pierre Allemane              | M | 18 | NA | NA | USFSA             | FRA | 1900 Summer | 1900 | Summer | Paris | Football | Football Men's Football | Silver |\n|   6510 | Louis Dsir Bach                            | M | 17 | NA | NA | USFSA             | FRA | 1900 Summer | 1900 | Summer | Paris | Football | Football Men's Football | Silver |\n|  12293 | Alfred Bloch                               | M | NA | NA | NA | USFSA             | FRA | 1900 Summer | 1900 | Summer | Paris | Football | Football Men's Football | Silver |\n|  16085 | Claude Percival Buckenham                  | M | 24 | NA | NA | Upton Park FC     | GBR | 1900 Summer | 1900 | Summer | Paris | Football | Football Men's Football | Gold   |\n|  16727 | Tom Eustace Burridge                       | M | 19 | NA | NA | Upton Park FC     | GBR | 1900 Summer | 1900 | Summer | Paris | Football | Football Men's Football | Gold   |\n|  17893 | Fernand mile Canelle                       | M | 18 | NA | NA | USFSA             | FRA | 1900 Summer | 1900 | Summer | Paris | Football | Football Men's Football | Silver |\n|  19595 | Alfred Ernest Chalk                        | M | 25 | NA | NA | Upton Park FC     | GBR | 1900 Summer | 1900 | Summer | Paris | Football | Football Men's Football | Gold   |\n|  27218 | Albert Delbecque                           | M | NA | NA | NA | Univ. of Brussels | BEL | 1900 Summer | 1900 | Summer | Paris | Football | Football Men's Football | Bronze |\n|  30724 | R. Duparc                                  | M | NA | NA | NA | USFSA             | FRA | 1900 Summer | 1900 | Summer | Paris | Football | Football Men's Football | Silver |\n|  36903 | Maurice Eugne Fraysse                      | M | 20 | NA | NA | USFSA             | FRA | 1900 Summer | 1900 | Summer | Paris | Football | Football Men's Football | Silver |\n|  37926 | Ren Paul Virgile Gaillard                  | M | 22 | NA | NA | USFSA             | FRA | 1900 Summer | 1900 | Summer | Paris | Football | Football Men's Football | Silver |\n|  38830 | Georges Garnier                            | M | NA | NA | NA | USFSA             | FRA | 1900 Summer | 1900 | Summer | Paris | Football | Football Men's Football | Silver |\n|  41949 | William Sullivan Gosling                   | M | 30 | NA | NA | Upton Park FC     | GBR | 1900 Summer | 1900 | Summer | Paris | Football | Football Men's Football | Gold   |\n|  42370 | Ren Grandjean                              | M | NA | NA | NA | USFSA             | FRA | 1900 Summer | 1900 | Summer | Paris | Football | Football Men's Football | Silver |\n|  46449 | Henry North Haslam                         | M | NA | NA | NA | Upton Park FC     | GBR | 1900 Summer | 1900 | Summer | Paris | Football | Football Men's Football | Gold   |\n|  51292 | Lucien Paul Nol Huteau                     | M | 21 | NA | NA | USFSA             | FRA | 1900 Summer | 1900 | Summer | Paris | Football | Football Men's Football | Silver |\n|  55677 | James Henry Jones                          | M | NA | NA | NA | Upton Park FC     | GBR | 1900 Summer | 1900 | Summer | Paris | Football | Football Men's Football | Gold   |\n|  58471 | Raul Kelecom                               | M | NA | NA | NA | Univ. of Brussels | BEL | 1900 Summer | 1900 | Summer | Paris | Football | Football Men's Football | Bronze |\n|  66151 | Marcel Lambert                             | M | NA | NA | NA | USFSA             | FRA | 1900 Summer | 1900 | Summer | Paris | Football | Football Men's Football | Silver |\n|  67659 | Marcel Leboutte                            | M | NA | NA | NA | Univ. of Brussels | BEL | 1900 Summer | 1900 | Summer | Paris | Football | Football Men's Football | Bronze |\n|  71187 | Lucien Jean Londot                         | M | NA | NA | NA | Univ. of Brussels | BEL | 1900 Summer | 1900 | Summer | Paris | Football | Football Men's Football | Bronze |\n|  72827 | Maurice Macaire                            | M | 18 | NA | NA | USFSA             | FRA | 1900 Summer | 1900 | Summer | Paris | Football | Football Men's Football | Silver |\n|  81896 | Ernest Marie Eugne Adolphe Moreau de Melen | M | NA | NA | NA | Univ. of Brussels | BEL | 1900 Summer | 1900 | Summer | Paris | Football | Football Men's Football | Bronze |\n|  85040 | Edmond Neefs                               | M | NA | NA | NA | Univ. of Brussels | BEL | 1900 Summer | 1900 | Summer | Paris | Football | Football Men's Football | Bronze |\n|  85802 | John Nicholas                              | M | 20 | NA | NA | Upton Park FC     | GBR | 1900 Summer | 1900 | Summer | Paris | Football | Football Men's Football | Gold   |\n|  92824 | Georges Pelgrims                           | M | NA | NA | NA | Univ. of Brussels | BEL | 1900 Summer | 1900 | Summer | Paris | Football | Football Men's Football | Bronze |\n|  92908 | Gaston Peltier                             | M | NA | NA | NA | USFSA             | FRA | 1900 Summer | 1900 | Summer | Paris | Football | Football Men's Football | Silver |\n|  97829 | William Francis Patterson \"Bill\" Quash     | M | 31 | NA | NA | Upton Park FC     | GBR | 1900 Summer | 1900 | Summer | Paris | Football | Football Men's Football | Gold   |\n|  99984 | Alphonse Renier                            | M | NA | NA | NA | Univ. of Brussels | BEL | 1900 Summer | 1900 | Summer | Paris | Football | Football Men's Football | Bronze |\n| 113625 | Frederick George \"Fred\" Spackman           | M | NA | NA | NA | Upton Park FC     | GBR | 1900 Summer | 1900 | Summer | Paris | Football | Football Men's Football | Gold   |\n| ⋮ | ⋮ | ⋮ | ⋮ | ⋮ | ⋮ | ⋮ | ⋮ | ⋮ | ⋮ | ⋮ | ⋮ | ⋮ | ⋮ | ⋮ |\n| 130489 | Rhian Emilie Wilkinson           | F | 34 | 166 |  66 | Canada      | CAN | 2016 Summer | 2016 | Summer | Rio de Janeiro | Football | Football Women's Football      | Bronze |\n| 130541 | William de Asevedo Furtado       | M | 21 | 176 |  65 | Brazil      | BRA | 2016 Summer | 2016 | Summer | Rio de Janeiro | Football | Football Men's Football        | Gold   |\n| 130634 | Lydia Grace Yilkari Williams     | F | 28 | 175 |  65 | Australia   | AUS | 2016 Summer | 2016 | Summer | Rio de Janeiro | Football | Football Women's Football      | NA     |\n| 131786 | Wu Haiyan                        | F | 23 | 166 |  58 | China       | CHN | 2016 Summer | 2016 | Summer | Rio de Janeiro | Football | Football Women's Football      | NA     |\n| 132132 | Simon Yacoub                     | M | 27 | 166 |  60 | Palestine   | PLE | 2016 Summer | 2016 | Summer | Rio de Janeiro | Judo     | Judo Men's Extra-Lightweight   | NA     |\n| 132187 | Shinya Yajima                    | M | 22 | 171 |  67 | Japan       | JPN | 2016 Summer | 2016 | Summer | Rio de Janeiro | Football | Football Men's Football        | NA     |\n| 132239 | Kirsty Lee Yallop                | F | 29 | 165 |  60 | New Zealand | NZL | 2016 Summer | 2016 | Summer | Rio de Janeiro | Football | Football Women's Football      | NA     |\n| 132243 | Kanae Yamabe                     | F | 25 | 172 | 108 | Japan       | JPN | 2016 Summer | 2016 | Summer | Rio de Janeiro | Judo     | Judo Women's Heavyweight       | Bronze |\n| 132414 | Yan Naing Soe                    | M | 37 | 180 |  98 | Myanmar     | MYA | 2016 Summer | 2016 | Summer | Rio de Janeiro | Judo     | Judo Men's Half-Heavyweight    | NA     |\n| 132519 | Yang Junxia                      | F | 27 | 169 |  63 | China       | CHN | 2016 Summer | 2016 | Summer | Rio de Janeiro | Judo     | Judo Women's Half-Middleweight | NA     |\n| 132522 | Yang Li                          | F | 25 | 167 |  58 | China       | CHN | 2016 Summer | 2016 | Summer | Rio de Janeiro | Football | Football Women's Football      | NA     |\n| 132653 | Svitlana Mykolavna Yaromka       | F | 27 | 162 |  78 | Ukraine     | UKR | 2016 Summer | 2016 | Summer | Rio de Janeiro | Judo     | Judo Women's Heavyweight       | NA     |\n| 132662 | Denis Nikolayevich Yartsev       | M | 25 | 176 |  73 | Russia      | RUS | 2016 Summer | 2016 | Summer | Rio de Janeiro | Judo     | Judo Men's Lightweight         | NA     |\n| 132746 | Kunathip Yea-On                  | M | 20 | 193 | 148 | Thailand    | THA | 2016 Summer | 2016 | Summer | Rio de Janeiro | Judo     | Judo Men's Heavyweight         | NA     |\n| 133368 | Yu Song                          | F | 29 | 182 | 128 | China       | CHN | 2016 Summer | 2016 | Summer | Rio de Janeiro | Judo     | Judo Women's Heavyweight       | Bronze |\n| 133600 | Irina Aleksandrovna Zabludina    | F | 29 | 160 |  57 | Russia      | RUS | 2016 Summer | 2016 | Summer | Rio de Janeiro | Judo     | Judo Women's Lightweight       | NA     |\n| 133648 | Shelina Laura Zadorsky           | F | 23 | 172 |  67 | Canada      | CAN | 2016 Summer | 2016 | Summer | Rio de Janeiro | Football | Football Women's Football      | Bronze |\n| 133858 | Vanessa Martina Zambotti Barreto | F | 34 | 175 | 125 | Mexico      | MEX | 2016 Summer | 2016 | Summer | Rio de Janeiro | Judo     | Judo Women's Heavyweight       | NA     |\n| 133973 | Heorhiy Malkhazovych Zantaraia   | M | 28 | 171 |  66 | Ukraine     | UKR | 2016 Summer | 2016 | Summer | Rio de Janeiro | Judo     | Judo Men's Half-Lightweight    | NA     |\n| 134211 | Jos Carlos Cracco Neto           | M | 22 | 170 |  69 | Brazil      | BRA | 2016 Summer | 2016 | Summer | Rio de Janeiro | Football | Football Men's Football        | Gold   |\n| 134329 | Morad Zemouri                    | M | 23 | 173 |  73 | Qatar       | QAT | 2016 Summer | 2016 | Summer | Rio de Janeiro | Judo     | Judo Men's Lightweight         | NA     |\n| 134404 | Mihael gank                      | M | 22 | 181 |  90 | Slovenia    | SLO | 2016 Summer | 2016 | Summer | Rio de Janeiro | Judo     | Judo Men's Middleweight        | NA     |\n| 134540 | Zhang Rui                        | F | 27 | 172 |  62 | China       | CHN | 2016 Summer | 2016 | Summer | Rio de Janeiro | Football | Football Women's Football      | NA     |\n| 134622 | Zhang Zhehui                     | F | 28 | 177 |  76 | China       | CHN | 2016 Summer | 2016 | Summer | Rio de Janeiro | Judo     | Judo Women's Half-Heavyweight  | NA     |\n| 134654 | Zhao Lina                        | F | 24 | 188 |  67 | China       | CHN | 2016 Summer | 2016 | Summer | Rio de Janeiro | Football | Football Women's Football      | NA     |\n| 134658 | Zhao Rong                        | F | 25 | 171 |  59 | China       | CHN | 2016 Summer | 2016 | Summer | Rio de Janeiro | Football | Football Women's Football      | NA     |\n| 134788 | Zhou Chao                        | F | 29 | 170 |  70 | China       | CHN | 2016 Summer | 2016 | Summer | Rio de Janeiro | Judo     | Judo Women's Middleweight      | NA     |\n| 135275 | Rizlen Al-Zouak                  | F | 30 | 164 |  63 | Morocco     | MAR | 2016 Summer | 2016 | Summer | Rio de Janeiro | Judo     | Judo Women's Half-Middleweight | NA     |\n| 135287 | Houd Zourdani                    | M | 22 | 165 |  66 | Algeria     | ALG | 2016 Summer | 2016 | Summer | Rio de Janeiro | Judo     | Judo Men's Half-Lightweight    | NA     |\n| 135453 | Kelita Zupancic                  | F | 26 | 169 |  70 | Canada      | CAN | 2016 Summer | 2016 | Summer | Rio de Janeiro | Judo     | Judo Women's Middleweight      | NA     |\n\n",
            "text/html": [
              "<table>\n",
              "<caption>A data.frame: 10546 × 15</caption>\n",
              "<thead>\n",
              "\t<tr><th scope=col>ID</th><th scope=col>Name</th><th scope=col>Sex</th><th scope=col>Age</th><th scope=col>Height</th><th scope=col>Weight</th><th scope=col>Team</th><th scope=col>NOC</th><th scope=col>Games</th><th scope=col>Year</th><th scope=col>Season</th><th scope=col>City</th><th scope=col>Sport</th><th scope=col>Event</th><th scope=col>Medal</th></tr>\n",
              "\t<tr><th scope=col>&lt;int&gt;</th><th scope=col>&lt;chr&gt;</th><th scope=col>&lt;chr&gt;</th><th scope=col>&lt;int&gt;</th><th scope=col>&lt;int&gt;</th><th scope=col>&lt;dbl&gt;</th><th scope=col>&lt;chr&gt;</th><th scope=col>&lt;chr&gt;</th><th scope=col>&lt;chr&gt;</th><th scope=col>&lt;int&gt;</th><th scope=col>&lt;chr&gt;</th><th scope=col>&lt;chr&gt;</th><th scope=col>&lt;chr&gt;</th><th scope=col>&lt;chr&gt;</th><th scope=col>&lt;chr&gt;</th></tr>\n",
              "</thead>\n",
              "<tbody>\n",
              "\t<tr><td>  2829</td><td>Richard Louis Pierre Allemane             </td><td>M</td><td>18</td><td>NA</td><td>NA</td><td>USFSA            </td><td>FRA</td><td>1900 Summer</td><td>1900</td><td>Summer</td><td>Paris</td><td>Football</td><td>Football Men's Football</td><td>Silver</td></tr>\n",
              "\t<tr><td>  6510</td><td>Louis Dsir Bach                           </td><td>M</td><td>17</td><td>NA</td><td>NA</td><td>USFSA            </td><td>FRA</td><td>1900 Summer</td><td>1900</td><td>Summer</td><td>Paris</td><td>Football</td><td>Football Men's Football</td><td>Silver</td></tr>\n",
              "\t<tr><td> 12293</td><td>Alfred Bloch                              </td><td>M</td><td>NA</td><td>NA</td><td>NA</td><td>USFSA            </td><td>FRA</td><td>1900 Summer</td><td>1900</td><td>Summer</td><td>Paris</td><td>Football</td><td>Football Men's Football</td><td>Silver</td></tr>\n",
              "\t<tr><td> 16085</td><td>Claude Percival Buckenham                 </td><td>M</td><td>24</td><td>NA</td><td>NA</td><td>Upton Park FC    </td><td>GBR</td><td>1900 Summer</td><td>1900</td><td>Summer</td><td>Paris</td><td>Football</td><td>Football Men's Football</td><td>Gold  </td></tr>\n",
              "\t<tr><td> 16727</td><td>Tom Eustace Burridge                      </td><td>M</td><td>19</td><td>NA</td><td>NA</td><td>Upton Park FC    </td><td>GBR</td><td>1900 Summer</td><td>1900</td><td>Summer</td><td>Paris</td><td>Football</td><td>Football Men's Football</td><td>Gold  </td></tr>\n",
              "\t<tr><td> 17893</td><td>Fernand mile Canelle                      </td><td>M</td><td>18</td><td>NA</td><td>NA</td><td>USFSA            </td><td>FRA</td><td>1900 Summer</td><td>1900</td><td>Summer</td><td>Paris</td><td>Football</td><td>Football Men's Football</td><td>Silver</td></tr>\n",
              "\t<tr><td> 19595</td><td>Alfred Ernest Chalk                       </td><td>M</td><td>25</td><td>NA</td><td>NA</td><td>Upton Park FC    </td><td>GBR</td><td>1900 Summer</td><td>1900</td><td>Summer</td><td>Paris</td><td>Football</td><td>Football Men's Football</td><td>Gold  </td></tr>\n",
              "\t<tr><td> 27218</td><td>Albert Delbecque                          </td><td>M</td><td>NA</td><td>NA</td><td>NA</td><td>Univ. of Brussels</td><td>BEL</td><td>1900 Summer</td><td>1900</td><td>Summer</td><td>Paris</td><td>Football</td><td>Football Men's Football</td><td>Bronze</td></tr>\n",
              "\t<tr><td> 30724</td><td>R. Duparc                                 </td><td>M</td><td>NA</td><td>NA</td><td>NA</td><td>USFSA            </td><td>FRA</td><td>1900 Summer</td><td>1900</td><td>Summer</td><td>Paris</td><td>Football</td><td>Football Men's Football</td><td>Silver</td></tr>\n",
              "\t<tr><td> 36903</td><td>Maurice Eugne Fraysse                     </td><td>M</td><td>20</td><td>NA</td><td>NA</td><td>USFSA            </td><td>FRA</td><td>1900 Summer</td><td>1900</td><td>Summer</td><td>Paris</td><td>Football</td><td>Football Men's Football</td><td>Silver</td></tr>\n",
              "\t<tr><td> 37926</td><td>Ren Paul Virgile Gaillard                 </td><td>M</td><td>22</td><td>NA</td><td>NA</td><td>USFSA            </td><td>FRA</td><td>1900 Summer</td><td>1900</td><td>Summer</td><td>Paris</td><td>Football</td><td>Football Men's Football</td><td>Silver</td></tr>\n",
              "\t<tr><td> 38830</td><td>Georges Garnier                           </td><td>M</td><td>NA</td><td>NA</td><td>NA</td><td>USFSA            </td><td>FRA</td><td>1900 Summer</td><td>1900</td><td>Summer</td><td>Paris</td><td>Football</td><td>Football Men's Football</td><td>Silver</td></tr>\n",
              "\t<tr><td> 41949</td><td>William Sullivan Gosling                  </td><td>M</td><td>30</td><td>NA</td><td>NA</td><td>Upton Park FC    </td><td>GBR</td><td>1900 Summer</td><td>1900</td><td>Summer</td><td>Paris</td><td>Football</td><td>Football Men's Football</td><td>Gold  </td></tr>\n",
              "\t<tr><td> 42370</td><td>Ren Grandjean                             </td><td>M</td><td>NA</td><td>NA</td><td>NA</td><td>USFSA            </td><td>FRA</td><td>1900 Summer</td><td>1900</td><td>Summer</td><td>Paris</td><td>Football</td><td>Football Men's Football</td><td>Silver</td></tr>\n",
              "\t<tr><td> 46449</td><td>Henry North Haslam                        </td><td>M</td><td>NA</td><td>NA</td><td>NA</td><td>Upton Park FC    </td><td>GBR</td><td>1900 Summer</td><td>1900</td><td>Summer</td><td>Paris</td><td>Football</td><td>Football Men's Football</td><td>Gold  </td></tr>\n",
              "\t<tr><td> 51292</td><td>Lucien Paul Nol Huteau                    </td><td>M</td><td>21</td><td>NA</td><td>NA</td><td>USFSA            </td><td>FRA</td><td>1900 Summer</td><td>1900</td><td>Summer</td><td>Paris</td><td>Football</td><td>Football Men's Football</td><td>Silver</td></tr>\n",
              "\t<tr><td> 55677</td><td>James Henry Jones                         </td><td>M</td><td>NA</td><td>NA</td><td>NA</td><td>Upton Park FC    </td><td>GBR</td><td>1900 Summer</td><td>1900</td><td>Summer</td><td>Paris</td><td>Football</td><td>Football Men's Football</td><td>Gold  </td></tr>\n",
              "\t<tr><td> 58471</td><td>Raul Kelecom                              </td><td>M</td><td>NA</td><td>NA</td><td>NA</td><td>Univ. of Brussels</td><td>BEL</td><td>1900 Summer</td><td>1900</td><td>Summer</td><td>Paris</td><td>Football</td><td>Football Men's Football</td><td>Bronze</td></tr>\n",
              "\t<tr><td> 66151</td><td>Marcel Lambert                            </td><td>M</td><td>NA</td><td>NA</td><td>NA</td><td>USFSA            </td><td>FRA</td><td>1900 Summer</td><td>1900</td><td>Summer</td><td>Paris</td><td>Football</td><td>Football Men's Football</td><td>Silver</td></tr>\n",
              "\t<tr><td> 67659</td><td>Marcel Leboutte                           </td><td>M</td><td>NA</td><td>NA</td><td>NA</td><td>Univ. of Brussels</td><td>BEL</td><td>1900 Summer</td><td>1900</td><td>Summer</td><td>Paris</td><td>Football</td><td>Football Men's Football</td><td>Bronze</td></tr>\n",
              "\t<tr><td> 71187</td><td>Lucien Jean Londot                        </td><td>M</td><td>NA</td><td>NA</td><td>NA</td><td>Univ. of Brussels</td><td>BEL</td><td>1900 Summer</td><td>1900</td><td>Summer</td><td>Paris</td><td>Football</td><td>Football Men's Football</td><td>Bronze</td></tr>\n",
              "\t<tr><td> 72827</td><td>Maurice Macaire                           </td><td>M</td><td>18</td><td>NA</td><td>NA</td><td>USFSA            </td><td>FRA</td><td>1900 Summer</td><td>1900</td><td>Summer</td><td>Paris</td><td>Football</td><td>Football Men's Football</td><td>Silver</td></tr>\n",
              "\t<tr><td> 81896</td><td>Ernest Marie Eugne Adolphe Moreau de Melen</td><td>M</td><td>NA</td><td>NA</td><td>NA</td><td>Univ. of Brussels</td><td>BEL</td><td>1900 Summer</td><td>1900</td><td>Summer</td><td>Paris</td><td>Football</td><td>Football Men's Football</td><td>Bronze</td></tr>\n",
              "\t<tr><td> 85040</td><td>Edmond Neefs                              </td><td>M</td><td>NA</td><td>NA</td><td>NA</td><td>Univ. of Brussels</td><td>BEL</td><td>1900 Summer</td><td>1900</td><td>Summer</td><td>Paris</td><td>Football</td><td>Football Men's Football</td><td>Bronze</td></tr>\n",
              "\t<tr><td> 85802</td><td>John Nicholas                             </td><td>M</td><td>20</td><td>NA</td><td>NA</td><td>Upton Park FC    </td><td>GBR</td><td>1900 Summer</td><td>1900</td><td>Summer</td><td>Paris</td><td>Football</td><td>Football Men's Football</td><td>Gold  </td></tr>\n",
              "\t<tr><td> 92824</td><td>Georges Pelgrims                          </td><td>M</td><td>NA</td><td>NA</td><td>NA</td><td>Univ. of Brussels</td><td>BEL</td><td>1900 Summer</td><td>1900</td><td>Summer</td><td>Paris</td><td>Football</td><td>Football Men's Football</td><td>Bronze</td></tr>\n",
              "\t<tr><td> 92908</td><td>Gaston Peltier                            </td><td>M</td><td>NA</td><td>NA</td><td>NA</td><td>USFSA            </td><td>FRA</td><td>1900 Summer</td><td>1900</td><td>Summer</td><td>Paris</td><td>Football</td><td>Football Men's Football</td><td>Silver</td></tr>\n",
              "\t<tr><td> 97829</td><td>William Francis Patterson \"Bill\" Quash    </td><td>M</td><td>31</td><td>NA</td><td>NA</td><td>Upton Park FC    </td><td>GBR</td><td>1900 Summer</td><td>1900</td><td>Summer</td><td>Paris</td><td>Football</td><td>Football Men's Football</td><td>Gold  </td></tr>\n",
              "\t<tr><td> 99984</td><td>Alphonse Renier                           </td><td>M</td><td>NA</td><td>NA</td><td>NA</td><td>Univ. of Brussels</td><td>BEL</td><td>1900 Summer</td><td>1900</td><td>Summer</td><td>Paris</td><td>Football</td><td>Football Men's Football</td><td>Bronze</td></tr>\n",
              "\t<tr><td>113625</td><td>Frederick George \"Fred\" Spackman          </td><td>M</td><td>NA</td><td>NA</td><td>NA</td><td>Upton Park FC    </td><td>GBR</td><td>1900 Summer</td><td>1900</td><td>Summer</td><td>Paris</td><td>Football</td><td>Football Men's Football</td><td>Gold  </td></tr>\n",
              "\t<tr><td>⋮</td><td>⋮</td><td>⋮</td><td>⋮</td><td>⋮</td><td>⋮</td><td>⋮</td><td>⋮</td><td>⋮</td><td>⋮</td><td>⋮</td><td>⋮</td><td>⋮</td><td>⋮</td><td>⋮</td></tr>\n",
              "\t<tr><td>130489</td><td>Rhian Emilie Wilkinson          </td><td>F</td><td>34</td><td>166</td><td> 66</td><td>Canada     </td><td>CAN</td><td>2016 Summer</td><td>2016</td><td>Summer</td><td>Rio de Janeiro</td><td>Football</td><td>Football Women's Football     </td><td>Bronze</td></tr>\n",
              "\t<tr><td>130541</td><td>William de Asevedo Furtado      </td><td>M</td><td>21</td><td>176</td><td> 65</td><td>Brazil     </td><td>BRA</td><td>2016 Summer</td><td>2016</td><td>Summer</td><td>Rio de Janeiro</td><td>Football</td><td>Football Men's Football       </td><td>Gold  </td></tr>\n",
              "\t<tr><td>130634</td><td>Lydia Grace Yilkari Williams    </td><td>F</td><td>28</td><td>175</td><td> 65</td><td>Australia  </td><td>AUS</td><td>2016 Summer</td><td>2016</td><td>Summer</td><td>Rio de Janeiro</td><td>Football</td><td>Football Women's Football     </td><td>NA    </td></tr>\n",
              "\t<tr><td>131786</td><td>Wu Haiyan                       </td><td>F</td><td>23</td><td>166</td><td> 58</td><td>China      </td><td>CHN</td><td>2016 Summer</td><td>2016</td><td>Summer</td><td>Rio de Janeiro</td><td>Football</td><td>Football Women's Football     </td><td>NA    </td></tr>\n",
              "\t<tr><td>132132</td><td>Simon Yacoub                    </td><td>M</td><td>27</td><td>166</td><td> 60</td><td>Palestine  </td><td>PLE</td><td>2016 Summer</td><td>2016</td><td>Summer</td><td>Rio de Janeiro</td><td>Judo    </td><td>Judo Men's Extra-Lightweight  </td><td>NA    </td></tr>\n",
              "\t<tr><td>132187</td><td>Shinya Yajima                   </td><td>M</td><td>22</td><td>171</td><td> 67</td><td>Japan      </td><td>JPN</td><td>2016 Summer</td><td>2016</td><td>Summer</td><td>Rio de Janeiro</td><td>Football</td><td>Football Men's Football       </td><td>NA    </td></tr>\n",
              "\t<tr><td>132239</td><td>Kirsty Lee Yallop               </td><td>F</td><td>29</td><td>165</td><td> 60</td><td>New Zealand</td><td>NZL</td><td>2016 Summer</td><td>2016</td><td>Summer</td><td>Rio de Janeiro</td><td>Football</td><td>Football Women's Football     </td><td>NA    </td></tr>\n",
              "\t<tr><td>132243</td><td>Kanae Yamabe                    </td><td>F</td><td>25</td><td>172</td><td>108</td><td>Japan      </td><td>JPN</td><td>2016 Summer</td><td>2016</td><td>Summer</td><td>Rio de Janeiro</td><td>Judo    </td><td>Judo Women's Heavyweight      </td><td>Bronze</td></tr>\n",
              "\t<tr><td>132414</td><td>Yan Naing Soe                   </td><td>M</td><td>37</td><td>180</td><td> 98</td><td>Myanmar    </td><td>MYA</td><td>2016 Summer</td><td>2016</td><td>Summer</td><td>Rio de Janeiro</td><td>Judo    </td><td>Judo Men's Half-Heavyweight   </td><td>NA    </td></tr>\n",
              "\t<tr><td>132519</td><td>Yang Junxia                     </td><td>F</td><td>27</td><td>169</td><td> 63</td><td>China      </td><td>CHN</td><td>2016 Summer</td><td>2016</td><td>Summer</td><td>Rio de Janeiro</td><td>Judo    </td><td>Judo Women's Half-Middleweight</td><td>NA    </td></tr>\n",
              "\t<tr><td>132522</td><td>Yang Li                         </td><td>F</td><td>25</td><td>167</td><td> 58</td><td>China      </td><td>CHN</td><td>2016 Summer</td><td>2016</td><td>Summer</td><td>Rio de Janeiro</td><td>Football</td><td>Football Women's Football     </td><td>NA    </td></tr>\n",
              "\t<tr><td>132653</td><td>Svitlana Mykolavna Yaromka      </td><td>F</td><td>27</td><td>162</td><td> 78</td><td>Ukraine    </td><td>UKR</td><td>2016 Summer</td><td>2016</td><td>Summer</td><td>Rio de Janeiro</td><td>Judo    </td><td>Judo Women's Heavyweight      </td><td>NA    </td></tr>\n",
              "\t<tr><td>132662</td><td>Denis Nikolayevich Yartsev      </td><td>M</td><td>25</td><td>176</td><td> 73</td><td>Russia     </td><td>RUS</td><td>2016 Summer</td><td>2016</td><td>Summer</td><td>Rio de Janeiro</td><td>Judo    </td><td>Judo Men's Lightweight        </td><td>NA    </td></tr>\n",
              "\t<tr><td>132746</td><td>Kunathip Yea-On                 </td><td>M</td><td>20</td><td>193</td><td>148</td><td>Thailand   </td><td>THA</td><td>2016 Summer</td><td>2016</td><td>Summer</td><td>Rio de Janeiro</td><td>Judo    </td><td>Judo Men's Heavyweight        </td><td>NA    </td></tr>\n",
              "\t<tr><td>133368</td><td>Yu Song                         </td><td>F</td><td>29</td><td>182</td><td>128</td><td>China      </td><td>CHN</td><td>2016 Summer</td><td>2016</td><td>Summer</td><td>Rio de Janeiro</td><td>Judo    </td><td>Judo Women's Heavyweight      </td><td>Bronze</td></tr>\n",
              "\t<tr><td>133600</td><td>Irina Aleksandrovna Zabludina   </td><td>F</td><td>29</td><td>160</td><td> 57</td><td>Russia     </td><td>RUS</td><td>2016 Summer</td><td>2016</td><td>Summer</td><td>Rio de Janeiro</td><td>Judo    </td><td>Judo Women's Lightweight      </td><td>NA    </td></tr>\n",
              "\t<tr><td>133648</td><td>Shelina Laura Zadorsky          </td><td>F</td><td>23</td><td>172</td><td> 67</td><td>Canada     </td><td>CAN</td><td>2016 Summer</td><td>2016</td><td>Summer</td><td>Rio de Janeiro</td><td>Football</td><td>Football Women's Football     </td><td>Bronze</td></tr>\n",
              "\t<tr><td>133858</td><td>Vanessa Martina Zambotti Barreto</td><td>F</td><td>34</td><td>175</td><td>125</td><td>Mexico     </td><td>MEX</td><td>2016 Summer</td><td>2016</td><td>Summer</td><td>Rio de Janeiro</td><td>Judo    </td><td>Judo Women's Heavyweight      </td><td>NA    </td></tr>\n",
              "\t<tr><td>133973</td><td>Heorhiy Malkhazovych Zantaraia  </td><td>M</td><td>28</td><td>171</td><td> 66</td><td>Ukraine    </td><td>UKR</td><td>2016 Summer</td><td>2016</td><td>Summer</td><td>Rio de Janeiro</td><td>Judo    </td><td>Judo Men's Half-Lightweight   </td><td>NA    </td></tr>\n",
              "\t<tr><td>134211</td><td>Jos Carlos Cracco Neto          </td><td>M</td><td>22</td><td>170</td><td> 69</td><td>Brazil     </td><td>BRA</td><td>2016 Summer</td><td>2016</td><td>Summer</td><td>Rio de Janeiro</td><td>Football</td><td>Football Men's Football       </td><td>Gold  </td></tr>\n",
              "\t<tr><td>134329</td><td>Morad Zemouri                   </td><td>M</td><td>23</td><td>173</td><td> 73</td><td>Qatar      </td><td>QAT</td><td>2016 Summer</td><td>2016</td><td>Summer</td><td>Rio de Janeiro</td><td>Judo    </td><td>Judo Men's Lightweight        </td><td>NA    </td></tr>\n",
              "\t<tr><td>134404</td><td>Mihael gank                     </td><td>M</td><td>22</td><td>181</td><td> 90</td><td>Slovenia   </td><td>SLO</td><td>2016 Summer</td><td>2016</td><td>Summer</td><td>Rio de Janeiro</td><td>Judo    </td><td>Judo Men's Middleweight       </td><td>NA    </td></tr>\n",
              "\t<tr><td>134540</td><td>Zhang Rui                       </td><td>F</td><td>27</td><td>172</td><td> 62</td><td>China      </td><td>CHN</td><td>2016 Summer</td><td>2016</td><td>Summer</td><td>Rio de Janeiro</td><td>Football</td><td>Football Women's Football     </td><td>NA    </td></tr>\n",
              "\t<tr><td>134622</td><td>Zhang Zhehui                    </td><td>F</td><td>28</td><td>177</td><td> 76</td><td>China      </td><td>CHN</td><td>2016 Summer</td><td>2016</td><td>Summer</td><td>Rio de Janeiro</td><td>Judo    </td><td>Judo Women's Half-Heavyweight </td><td>NA    </td></tr>\n",
              "\t<tr><td>134654</td><td>Zhao Lina                       </td><td>F</td><td>24</td><td>188</td><td> 67</td><td>China      </td><td>CHN</td><td>2016 Summer</td><td>2016</td><td>Summer</td><td>Rio de Janeiro</td><td>Football</td><td>Football Women's Football     </td><td>NA    </td></tr>\n",
              "\t<tr><td>134658</td><td>Zhao Rong                       </td><td>F</td><td>25</td><td>171</td><td> 59</td><td>China      </td><td>CHN</td><td>2016 Summer</td><td>2016</td><td>Summer</td><td>Rio de Janeiro</td><td>Football</td><td>Football Women's Football     </td><td>NA    </td></tr>\n",
              "\t<tr><td>134788</td><td>Zhou Chao                       </td><td>F</td><td>29</td><td>170</td><td> 70</td><td>China      </td><td>CHN</td><td>2016 Summer</td><td>2016</td><td>Summer</td><td>Rio de Janeiro</td><td>Judo    </td><td>Judo Women's Middleweight     </td><td>NA    </td></tr>\n",
              "\t<tr><td>135275</td><td>Rizlen Al-Zouak                 </td><td>F</td><td>30</td><td>164</td><td> 63</td><td>Morocco    </td><td>MAR</td><td>2016 Summer</td><td>2016</td><td>Summer</td><td>Rio de Janeiro</td><td>Judo    </td><td>Judo Women's Half-Middleweight</td><td>NA    </td></tr>\n",
              "\t<tr><td>135287</td><td>Houd Zourdani                   </td><td>M</td><td>22</td><td>165</td><td> 66</td><td>Algeria    </td><td>ALG</td><td>2016 Summer</td><td>2016</td><td>Summer</td><td>Rio de Janeiro</td><td>Judo    </td><td>Judo Men's Half-Lightweight   </td><td>NA    </td></tr>\n",
              "\t<tr><td>135453</td><td>Kelita Zupancic                 </td><td>F</td><td>26</td><td>169</td><td> 70</td><td>Canada     </td><td>CAN</td><td>2016 Summer</td><td>2016</td><td>Summer</td><td>Rio de Janeiro</td><td>Judo    </td><td>Judo Women's Middleweight     </td><td>NA    </td></tr>\n",
              "</tbody>\n",
              "</table>\n"
            ]
          },
          "metadata": {
            "tags": []
          }
        }
      ]
    },
    {
      "cell_type": "markdown",
      "metadata": {
        "id": "dVPLdti_mROV"
      },
      "source": [
        "#### Exercice\n"
      ]
    },
    {
      "cell_type": "markdown",
      "metadata": {
        "id": "k85Fo1rWmROW"
      },
      "source": [
        "<div class=\"alert alert-success\">\n",
        " <b>EXERCISE</b>:\n",
        " <ul>\n",
        "        <li>Has the number of athletes, nations, and events changed over time?</li>\n",
        "        <li>Number of men and women over time ?</li>\n",
        "        <li>Number of women relative to men across countries ?</li>\n",
        "        <li>Proportion of women on Olympic teams: 1936 ?</li>\n",
        "        <li>Medal counts for women of different nations: 1936 ?</li>\n",
        "        <li>Proportion of women on Olympic teams: 1976 ?</li>\n",
        "        <li>Medal counts for women of different nations: 1976 ?</li>\n",
        "        <li>Athlete height over time ?</li>\n",
        "        <li>Athlete weight over time ?</li>\n",
        "\n",
        "</ul> \n",
        "\n",
        "</div>"
      ]
    },
    {
      "cell_type": "code",
      "metadata": {
        "id": "0XDM1keupvHV",
        "outputId": "912782d6-f863-4c78-dc46-a3c2d523a5d6",
        "colab": {
          "base_uri": "https://localhost:8080/"
        }
      },
      "source": [
        "# count number of athletes, nations, & events, excluding the Art Competitions\n",
        "counts <- dataset  %>%\n",
        "  group_by( Year) %>%\n",
        "  summarise(\n",
        "    Athletes = length(unique(ID)),\n",
        "    Nations = length(unique(NOC)),\n",
        "    Events = length(unique(Event))\n",
        "  )"
      ],
      "execution_count": 52,
      "outputs": [
        {
          "output_type": "stream",
          "text": [
            "`summarise()` ungrouping output (override with `.groups` argument)\n",
            "\n"
          ],
          "name": "stderr"
        }
      ]
    },
    {
      "cell_type": "code",
      "metadata": {
        "id": "KeWg_NHsqGP1",
        "outputId": "46f4cc32-94a3-46ce-cd66-a0f1603fc395",
        "colab": {
          "base_uri": "https://localhost:8080/",
          "height": 813
        }
      },
      "source": [
        "counts"
      ],
      "execution_count": 53,
      "outputs": [
        {
          "output_type": "display_data",
          "data": {
            "text/plain": [
              "   Year Athletes Nations Events\n",
              "1  1896   176     12      43   \n",
              "2  1900  1224     31      90   \n",
              "3  1904   650     15      95   \n",
              "4  1906   841     21      74   \n",
              "5  1908  2024     22     109   \n",
              "6  1912  2409     29     107   \n",
              "7  1920  2676     29     158   \n",
              "8  1924  3565     46     148   \n",
              "9  1928  3703     46     136   \n",
              "10 1932  2174     47     145   \n",
              "11 1936  5142     50     167   \n",
              "12 1948  5068     61     175   \n",
              "13 1952  5622     69     171   \n",
              "14 1956  4167     75     175   \n",
              "15 1960  6017     84     177   \n",
              "16 1964  6230     94     197   \n",
              "17 1968  6717    112     207   \n",
              "18 1972  8122    121     228   \n",
              "19 1976  7200     93     235   \n",
              "20 1980  6330     90     241   \n",
              "21 1984  8067    148     260   \n",
              "22 1988  9873    160     283   \n",
              "23 1992 11183    170     314   \n",
              "24 1994  1738     67      61   \n",
              "25 1996 10339    197     271   \n",
              "26 1998  2179     72      68   \n",
              "27 2000 10647    200     300   \n",
              "28 2002  2399     77      78   \n",
              "29 2004 10557    201     301   \n",
              "30 2006  2494     79      84   \n",
              "31 2008 10899    204     302   \n",
              "32 2010  2536     82      86   \n",
              "33 2012 10517    205     302   \n",
              "34 2014  2745     89      98   \n",
              "35 2016 11179    207     306   "
            ],
            "text/latex": "A tibble: 35 × 4\n\\begin{tabular}{llll}\n Year & Athletes & Nations & Events\\\\\n <int> & <int> & <int> & <int>\\\\\n\\hline\n\t 1896 &   176 &  12 &  43\\\\\n\t 1900 &  1224 &  31 &  90\\\\\n\t 1904 &   650 &  15 &  95\\\\\n\t 1906 &   841 &  21 &  74\\\\\n\t 1908 &  2024 &  22 & 109\\\\\n\t 1912 &  2409 &  29 & 107\\\\\n\t 1920 &  2676 &  29 & 158\\\\\n\t 1924 &  3565 &  46 & 148\\\\\n\t 1928 &  3703 &  46 & 136\\\\\n\t 1932 &  2174 &  47 & 145\\\\\n\t 1936 &  5142 &  50 & 167\\\\\n\t 1948 &  5068 &  61 & 175\\\\\n\t 1952 &  5622 &  69 & 171\\\\\n\t 1956 &  4167 &  75 & 175\\\\\n\t 1960 &  6017 &  84 & 177\\\\\n\t 1964 &  6230 &  94 & 197\\\\\n\t 1968 &  6717 & 112 & 207\\\\\n\t 1972 &  8122 & 121 & 228\\\\\n\t 1976 &  7200 &  93 & 235\\\\\n\t 1980 &  6330 &  90 & 241\\\\\n\t 1984 &  8067 & 148 & 260\\\\\n\t 1988 &  9873 & 160 & 283\\\\\n\t 1992 & 11183 & 170 & 314\\\\\n\t 1994 &  1738 &  67 &  61\\\\\n\t 1996 & 10339 & 197 & 271\\\\\n\t 1998 &  2179 &  72 &  68\\\\\n\t 2000 & 10647 & 200 & 300\\\\\n\t 2002 &  2399 &  77 &  78\\\\\n\t 2004 & 10557 & 201 & 301\\\\\n\t 2006 &  2494 &  79 &  84\\\\\n\t 2008 & 10899 & 204 & 302\\\\\n\t 2010 &  2536 &  82 &  86\\\\\n\t 2012 & 10517 & 205 & 302\\\\\n\t 2014 &  2745 &  89 &  98\\\\\n\t 2016 & 11179 & 207 & 306\\\\\n\\end{tabular}\n",
            "text/markdown": "\nA tibble: 35 × 4\n\n| Year &lt;int&gt; | Athletes &lt;int&gt; | Nations &lt;int&gt; | Events &lt;int&gt; |\n|---|---|---|---|\n| 1896 |   176 |  12 |  43 |\n| 1900 |  1224 |  31 |  90 |\n| 1904 |   650 |  15 |  95 |\n| 1906 |   841 |  21 |  74 |\n| 1908 |  2024 |  22 | 109 |\n| 1912 |  2409 |  29 | 107 |\n| 1920 |  2676 |  29 | 158 |\n| 1924 |  3565 |  46 | 148 |\n| 1928 |  3703 |  46 | 136 |\n| 1932 |  2174 |  47 | 145 |\n| 1936 |  5142 |  50 | 167 |\n| 1948 |  5068 |  61 | 175 |\n| 1952 |  5622 |  69 | 171 |\n| 1956 |  4167 |  75 | 175 |\n| 1960 |  6017 |  84 | 177 |\n| 1964 |  6230 |  94 | 197 |\n| 1968 |  6717 | 112 | 207 |\n| 1972 |  8122 | 121 | 228 |\n| 1976 |  7200 |  93 | 235 |\n| 1980 |  6330 |  90 | 241 |\n| 1984 |  8067 | 148 | 260 |\n| 1988 |  9873 | 160 | 283 |\n| 1992 | 11183 | 170 | 314 |\n| 1994 |  1738 |  67 |  61 |\n| 1996 | 10339 | 197 | 271 |\n| 1998 |  2179 |  72 |  68 |\n| 2000 | 10647 | 200 | 300 |\n| 2002 |  2399 |  77 |  78 |\n| 2004 | 10557 | 201 | 301 |\n| 2006 |  2494 |  79 |  84 |\n| 2008 | 10899 | 204 | 302 |\n| 2010 |  2536 |  82 |  86 |\n| 2012 | 10517 | 205 | 302 |\n| 2014 |  2745 |  89 |  98 |\n| 2016 | 11179 | 207 | 306 |\n\n",
            "text/html": [
              "<table>\n",
              "<caption>A tibble: 35 × 4</caption>\n",
              "<thead>\n",
              "\t<tr><th scope=col>Year</th><th scope=col>Athletes</th><th scope=col>Nations</th><th scope=col>Events</th></tr>\n",
              "\t<tr><th scope=col>&lt;int&gt;</th><th scope=col>&lt;int&gt;</th><th scope=col>&lt;int&gt;</th><th scope=col>&lt;int&gt;</th></tr>\n",
              "</thead>\n",
              "<tbody>\n",
              "\t<tr><td>1896</td><td>  176</td><td> 12</td><td> 43</td></tr>\n",
              "\t<tr><td>1900</td><td> 1224</td><td> 31</td><td> 90</td></tr>\n",
              "\t<tr><td>1904</td><td>  650</td><td> 15</td><td> 95</td></tr>\n",
              "\t<tr><td>1906</td><td>  841</td><td> 21</td><td> 74</td></tr>\n",
              "\t<tr><td>1908</td><td> 2024</td><td> 22</td><td>109</td></tr>\n",
              "\t<tr><td>1912</td><td> 2409</td><td> 29</td><td>107</td></tr>\n",
              "\t<tr><td>1920</td><td> 2676</td><td> 29</td><td>158</td></tr>\n",
              "\t<tr><td>1924</td><td> 3565</td><td> 46</td><td>148</td></tr>\n",
              "\t<tr><td>1928</td><td> 3703</td><td> 46</td><td>136</td></tr>\n",
              "\t<tr><td>1932</td><td> 2174</td><td> 47</td><td>145</td></tr>\n",
              "\t<tr><td>1936</td><td> 5142</td><td> 50</td><td>167</td></tr>\n",
              "\t<tr><td>1948</td><td> 5068</td><td> 61</td><td>175</td></tr>\n",
              "\t<tr><td>1952</td><td> 5622</td><td> 69</td><td>171</td></tr>\n",
              "\t<tr><td>1956</td><td> 4167</td><td> 75</td><td>175</td></tr>\n",
              "\t<tr><td>1960</td><td> 6017</td><td> 84</td><td>177</td></tr>\n",
              "\t<tr><td>1964</td><td> 6230</td><td> 94</td><td>197</td></tr>\n",
              "\t<tr><td>1968</td><td> 6717</td><td>112</td><td>207</td></tr>\n",
              "\t<tr><td>1972</td><td> 8122</td><td>121</td><td>228</td></tr>\n",
              "\t<tr><td>1976</td><td> 7200</td><td> 93</td><td>235</td></tr>\n",
              "\t<tr><td>1980</td><td> 6330</td><td> 90</td><td>241</td></tr>\n",
              "\t<tr><td>1984</td><td> 8067</td><td>148</td><td>260</td></tr>\n",
              "\t<tr><td>1988</td><td> 9873</td><td>160</td><td>283</td></tr>\n",
              "\t<tr><td>1992</td><td>11183</td><td>170</td><td>314</td></tr>\n",
              "\t<tr><td>1994</td><td> 1738</td><td> 67</td><td> 61</td></tr>\n",
              "\t<tr><td>1996</td><td>10339</td><td>197</td><td>271</td></tr>\n",
              "\t<tr><td>1998</td><td> 2179</td><td> 72</td><td> 68</td></tr>\n",
              "\t<tr><td>2000</td><td>10647</td><td>200</td><td>300</td></tr>\n",
              "\t<tr><td>2002</td><td> 2399</td><td> 77</td><td> 78</td></tr>\n",
              "\t<tr><td>2004</td><td>10557</td><td>201</td><td>301</td></tr>\n",
              "\t<tr><td>2006</td><td> 2494</td><td> 79</td><td> 84</td></tr>\n",
              "\t<tr><td>2008</td><td>10899</td><td>204</td><td>302</td></tr>\n",
              "\t<tr><td>2010</td><td> 2536</td><td> 82</td><td> 86</td></tr>\n",
              "\t<tr><td>2012</td><td>10517</td><td>205</td><td>302</td></tr>\n",
              "\t<tr><td>2014</td><td> 2745</td><td> 89</td><td> 98</td></tr>\n",
              "\t<tr><td>2016</td><td>11179</td><td>207</td><td>306</td></tr>\n",
              "</tbody>\n",
              "</table>\n"
            ]
          },
          "metadata": {
            "tags": []
          }
        }
      ]
    },
    {
      "cell_type": "code",
      "metadata": {
        "id": "VWfa_c97v1qY",
        "outputId": "7b66fa38-53ae-4c74-9f79-36c639756c90",
        "colab": {
          "base_uri": "https://localhost:8080/",
          "height": 1000
        }
      },
      "source": [
        "dataset  %>%\n",
        "  group_by( Year,Sex) %>%\n",
        "  summarise( Athletes = length(unique(ID))\n",
        "  )\n",
        "  head()"
      ],
      "execution_count": 68,
      "outputs": [
        {
          "output_type": "stream",
          "text": [
            "`summarise()` regrouping output by 'Year' (override with `.groups` argument)\n",
            "\n"
          ],
          "name": "stderr"
        },
        {
          "output_type": "display_data",
          "data": {
            "text/plain": [
              "   Year Sex Athletes\n",
              "1  1896 M    176    \n",
              "2  1900 F     23    \n",
              "3  1900 M   1201    \n",
              "4  1904 F      6    \n",
              "5  1904 M    644    \n",
              "6  1906 F      6    \n",
              "7  1906 M    835    \n",
              "8  1908 F     44    \n",
              "9  1908 M   1980    \n",
              "10 1912 F     53    \n",
              "11 1912 M   2356    \n",
              "12 1920 F     78    \n",
              "13 1920 M   2598    \n",
              "14 1924 F    169    \n",
              "15 1924 M   3396    \n",
              "16 1928 F    340    \n",
              "17 1928 M   3363    \n",
              "18 1932 F    222    \n",
              "19 1932 M   1952    \n",
              "20 1936 F    441    \n",
              "21 1936 M   4701    \n",
              "22 1948 F    523    \n",
              "23 1948 M   4545    \n",
              "24 1952 F    629    \n",
              "25 1952 M   4993    \n",
              "26 1956 F    516    \n",
              "27 1956 M   3651    \n",
              "28 1960 F    757    \n",
              "29 1960 M   5260    \n",
              "30 1964 F    880    \n",
              "⋮  ⋮    ⋮   ⋮       \n",
              "40 1984 F   1846    \n",
              "41 1984 M   6221    \n",
              "42 1988 F   2514    \n",
              "43 1988 M   7359    \n",
              "44 1992 F   3210    \n",
              "45 1992 M   7973    \n",
              "46 1994 F    522    \n",
              "47 1994 M   1216    \n",
              "48 1996 F   3517    \n",
              "49 1996 M   6822    \n",
              "50 1998 F    789    \n",
              "51 1998 M   1390    \n",
              "52 2000 F   4068    \n",
              "53 2000 M   6579    \n",
              "54 2002 F    886    \n",
              "55 2002 M   1513    \n",
              "56 2004 F   4300    \n",
              "57 2004 M   6257    \n",
              "58 2006 F    955    \n",
              "59 2006 M   1539    \n",
              "60 2008 F   4609    \n",
              "61 2008 M   6290    \n",
              "62 2010 F   1033    \n",
              "63 2010 M   1503    \n",
              "64 2012 F   4654    \n",
              "65 2012 M   5863    \n",
              "66 2014 F   1102    \n",
              "67 2014 M   1643    \n",
              "68 2016 F   5034    \n",
              "69 2016 M   6145    "
            ],
            "text/latex": "A grouped\\_df: 69 × 3\n\\begin{tabular}{lll}\n Year & Sex & Athletes\\\\\n <int> & <chr> & <int>\\\\\n\\hline\n\t 1896 & M &  176\\\\\n\t 1900 & F &   23\\\\\n\t 1900 & M & 1201\\\\\n\t 1904 & F &    6\\\\\n\t 1904 & M &  644\\\\\n\t 1906 & F &    6\\\\\n\t 1906 & M &  835\\\\\n\t 1908 & F &   44\\\\\n\t 1908 & M & 1980\\\\\n\t 1912 & F &   53\\\\\n\t 1912 & M & 2356\\\\\n\t 1920 & F &   78\\\\\n\t 1920 & M & 2598\\\\\n\t 1924 & F &  169\\\\\n\t 1924 & M & 3396\\\\\n\t 1928 & F &  340\\\\\n\t 1928 & M & 3363\\\\\n\t 1932 & F &  222\\\\\n\t 1932 & M & 1952\\\\\n\t 1936 & F &  441\\\\\n\t 1936 & M & 4701\\\\\n\t 1948 & F &  523\\\\\n\t 1948 & M & 4545\\\\\n\t 1952 & F &  629\\\\\n\t 1952 & M & 4993\\\\\n\t 1956 & F &  516\\\\\n\t 1956 & M & 3651\\\\\n\t 1960 & F &  757\\\\\n\t 1960 & M & 5260\\\\\n\t 1964 & F &  880\\\\\n\t ⋮ & ⋮ & ⋮\\\\\n\t 1984 & F & 1846\\\\\n\t 1984 & M & 6221\\\\\n\t 1988 & F & 2514\\\\\n\t 1988 & M & 7359\\\\\n\t 1992 & F & 3210\\\\\n\t 1992 & M & 7973\\\\\n\t 1994 & F &  522\\\\\n\t 1994 & M & 1216\\\\\n\t 1996 & F & 3517\\\\\n\t 1996 & M & 6822\\\\\n\t 1998 & F &  789\\\\\n\t 1998 & M & 1390\\\\\n\t 2000 & F & 4068\\\\\n\t 2000 & M & 6579\\\\\n\t 2002 & F &  886\\\\\n\t 2002 & M & 1513\\\\\n\t 2004 & F & 4300\\\\\n\t 2004 & M & 6257\\\\\n\t 2006 & F &  955\\\\\n\t 2006 & M & 1539\\\\\n\t 2008 & F & 4609\\\\\n\t 2008 & M & 6290\\\\\n\t 2010 & F & 1033\\\\\n\t 2010 & M & 1503\\\\\n\t 2012 & F & 4654\\\\\n\t 2012 & M & 5863\\\\\n\t 2014 & F & 1102\\\\\n\t 2014 & M & 1643\\\\\n\t 2016 & F & 5034\\\\\n\t 2016 & M & 6145\\\\\n\\end{tabular}\n",
            "text/markdown": "\nA grouped_df: 69 × 3\n\n| Year &lt;int&gt; | Sex &lt;chr&gt; | Athletes &lt;int&gt; |\n|---|---|---|\n| 1896 | M |  176 |\n| 1900 | F |   23 |\n| 1900 | M | 1201 |\n| 1904 | F |    6 |\n| 1904 | M |  644 |\n| 1906 | F |    6 |\n| 1906 | M |  835 |\n| 1908 | F |   44 |\n| 1908 | M | 1980 |\n| 1912 | F |   53 |\n| 1912 | M | 2356 |\n| 1920 | F |   78 |\n| 1920 | M | 2598 |\n| 1924 | F |  169 |\n| 1924 | M | 3396 |\n| 1928 | F |  340 |\n| 1928 | M | 3363 |\n| 1932 | F |  222 |\n| 1932 | M | 1952 |\n| 1936 | F |  441 |\n| 1936 | M | 4701 |\n| 1948 | F |  523 |\n| 1948 | M | 4545 |\n| 1952 | F |  629 |\n| 1952 | M | 4993 |\n| 1956 | F |  516 |\n| 1956 | M | 3651 |\n| 1960 | F |  757 |\n| 1960 | M | 5260 |\n| 1964 | F |  880 |\n| ⋮ | ⋮ | ⋮ |\n| 1984 | F | 1846 |\n| 1984 | M | 6221 |\n| 1988 | F | 2514 |\n| 1988 | M | 7359 |\n| 1992 | F | 3210 |\n| 1992 | M | 7973 |\n| 1994 | F |  522 |\n| 1994 | M | 1216 |\n| 1996 | F | 3517 |\n| 1996 | M | 6822 |\n| 1998 | F |  789 |\n| 1998 | M | 1390 |\n| 2000 | F | 4068 |\n| 2000 | M | 6579 |\n| 2002 | F |  886 |\n| 2002 | M | 1513 |\n| 2004 | F | 4300 |\n| 2004 | M | 6257 |\n| 2006 | F |  955 |\n| 2006 | M | 1539 |\n| 2008 | F | 4609 |\n| 2008 | M | 6290 |\n| 2010 | F | 1033 |\n| 2010 | M | 1503 |\n| 2012 | F | 4654 |\n| 2012 | M | 5863 |\n| 2014 | F | 1102 |\n| 2014 | M | 1643 |\n| 2016 | F | 5034 |\n| 2016 | M | 6145 |\n\n",
            "text/html": [
              "<table>\n",
              "<caption>A grouped_df: 69 × 3</caption>\n",
              "<thead>\n",
              "\t<tr><th scope=col>Year</th><th scope=col>Sex</th><th scope=col>Athletes</th></tr>\n",
              "\t<tr><th scope=col>&lt;int&gt;</th><th scope=col>&lt;chr&gt;</th><th scope=col>&lt;int&gt;</th></tr>\n",
              "</thead>\n",
              "<tbody>\n",
              "\t<tr><td>1896</td><td>M</td><td> 176</td></tr>\n",
              "\t<tr><td>1900</td><td>F</td><td>  23</td></tr>\n",
              "\t<tr><td>1900</td><td>M</td><td>1201</td></tr>\n",
              "\t<tr><td>1904</td><td>F</td><td>   6</td></tr>\n",
              "\t<tr><td>1904</td><td>M</td><td> 644</td></tr>\n",
              "\t<tr><td>1906</td><td>F</td><td>   6</td></tr>\n",
              "\t<tr><td>1906</td><td>M</td><td> 835</td></tr>\n",
              "\t<tr><td>1908</td><td>F</td><td>  44</td></tr>\n",
              "\t<tr><td>1908</td><td>M</td><td>1980</td></tr>\n",
              "\t<tr><td>1912</td><td>F</td><td>  53</td></tr>\n",
              "\t<tr><td>1912</td><td>M</td><td>2356</td></tr>\n",
              "\t<tr><td>1920</td><td>F</td><td>  78</td></tr>\n",
              "\t<tr><td>1920</td><td>M</td><td>2598</td></tr>\n",
              "\t<tr><td>1924</td><td>F</td><td> 169</td></tr>\n",
              "\t<tr><td>1924</td><td>M</td><td>3396</td></tr>\n",
              "\t<tr><td>1928</td><td>F</td><td> 340</td></tr>\n",
              "\t<tr><td>1928</td><td>M</td><td>3363</td></tr>\n",
              "\t<tr><td>1932</td><td>F</td><td> 222</td></tr>\n",
              "\t<tr><td>1932</td><td>M</td><td>1952</td></tr>\n",
              "\t<tr><td>1936</td><td>F</td><td> 441</td></tr>\n",
              "\t<tr><td>1936</td><td>M</td><td>4701</td></tr>\n",
              "\t<tr><td>1948</td><td>F</td><td> 523</td></tr>\n",
              "\t<tr><td>1948</td><td>M</td><td>4545</td></tr>\n",
              "\t<tr><td>1952</td><td>F</td><td> 629</td></tr>\n",
              "\t<tr><td>1952</td><td>M</td><td>4993</td></tr>\n",
              "\t<tr><td>1956</td><td>F</td><td> 516</td></tr>\n",
              "\t<tr><td>1956</td><td>M</td><td>3651</td></tr>\n",
              "\t<tr><td>1960</td><td>F</td><td> 757</td></tr>\n",
              "\t<tr><td>1960</td><td>M</td><td>5260</td></tr>\n",
              "\t<tr><td>1964</td><td>F</td><td> 880</td></tr>\n",
              "\t<tr><td>⋮</td><td>⋮</td><td>⋮</td></tr>\n",
              "\t<tr><td>1984</td><td>F</td><td>1846</td></tr>\n",
              "\t<tr><td>1984</td><td>M</td><td>6221</td></tr>\n",
              "\t<tr><td>1988</td><td>F</td><td>2514</td></tr>\n",
              "\t<tr><td>1988</td><td>M</td><td>7359</td></tr>\n",
              "\t<tr><td>1992</td><td>F</td><td>3210</td></tr>\n",
              "\t<tr><td>1992</td><td>M</td><td>7973</td></tr>\n",
              "\t<tr><td>1994</td><td>F</td><td> 522</td></tr>\n",
              "\t<tr><td>1994</td><td>M</td><td>1216</td></tr>\n",
              "\t<tr><td>1996</td><td>F</td><td>3517</td></tr>\n",
              "\t<tr><td>1996</td><td>M</td><td>6822</td></tr>\n",
              "\t<tr><td>1998</td><td>F</td><td> 789</td></tr>\n",
              "\t<tr><td>1998</td><td>M</td><td>1390</td></tr>\n",
              "\t<tr><td>2000</td><td>F</td><td>4068</td></tr>\n",
              "\t<tr><td>2000</td><td>M</td><td>6579</td></tr>\n",
              "\t<tr><td>2002</td><td>F</td><td> 886</td></tr>\n",
              "\t<tr><td>2002</td><td>M</td><td>1513</td></tr>\n",
              "\t<tr><td>2004</td><td>F</td><td>4300</td></tr>\n",
              "\t<tr><td>2004</td><td>M</td><td>6257</td></tr>\n",
              "\t<tr><td>2006</td><td>F</td><td> 955</td></tr>\n",
              "\t<tr><td>2006</td><td>M</td><td>1539</td></tr>\n",
              "\t<tr><td>2008</td><td>F</td><td>4609</td></tr>\n",
              "\t<tr><td>2008</td><td>M</td><td>6290</td></tr>\n",
              "\t<tr><td>2010</td><td>F</td><td>1033</td></tr>\n",
              "\t<tr><td>2010</td><td>M</td><td>1503</td></tr>\n",
              "\t<tr><td>2012</td><td>F</td><td>4654</td></tr>\n",
              "\t<tr><td>2012</td><td>M</td><td>5863</td></tr>\n",
              "\t<tr><td>2014</td><td>F</td><td>1102</td></tr>\n",
              "\t<tr><td>2014</td><td>M</td><td>1643</td></tr>\n",
              "\t<tr><td>2016</td><td>F</td><td>5034</td></tr>\n",
              "\t<tr><td>2016</td><td>M</td><td>6145</td></tr>\n",
              "</tbody>\n",
              "</table>\n"
            ]
          },
          "metadata": {
            "tags": []
          }
        },
        {
          "output_type": "error",
          "ename": "ERROR",
          "evalue": "ignored",
          "traceback": [
            "Error in checkHT(n, dx <- dim(x)): argument \"x\" is missing, with no default\nTraceback:\n",
            "1. head()",
            "2. head.default()",
            "3. checkHT(n, dx <- dim(x))"
          ]
        }
      ]
    },
    {
      "cell_type": "code",
      "metadata": {
        "id": "diEuiqKT0aNS",
        "outputId": "4b73b82c-0184-475e-e9fb-f2469842032b",
        "colab": {
          "base_uri": "https://localhost:8080/",
          "height": 1000
        }
      },
      "source": [
        "dataset  %>%\n",
        "  group_by( NOC,Sex) %>%\n",
        "  summarise( Athletes = length(unique(ID))\n",
        "  )\n",
        "  head()"
      ],
      "execution_count": 69,
      "outputs": [
        {
          "output_type": "stream",
          "text": [
            "`summarise()` regrouping output by 'NOC' (override with `.groups` argument)\n",
            "\n"
          ],
          "name": "stderr"
        },
        {
          "output_type": "display_data",
          "data": {
            "text/plain": [
              "    NOC Sex Athletes\n",
              "1   AFG F      4    \n",
              "2   AFG M     99    \n",
              "3   AHO F     10    \n",
              "4   AHO M     45    \n",
              "5   ALB F     16    \n",
              "6   ALB M     29    \n",
              "7   ALG F     55    \n",
              "8   ALG M    318    \n",
              "9   AND F     18    \n",
              "10  AND M     43    \n",
              "11  ANG F     75    \n",
              "12  ANG M     88    \n",
              "13  ANT F     18    \n",
              "14  ANT M     52    \n",
              "15  ANZ F      2    \n",
              "16  ANZ M     51    \n",
              "17  ARG F    313    \n",
              "18  ARG M   1535    \n",
              "19  ARM F     28    \n",
              "20  ARM M    118    \n",
              "21  ARU F     11    \n",
              "22  ARU M     21    \n",
              "23  ASA F      5    \n",
              "24  ASA M     24    \n",
              "25  AUS F   1281    \n",
              "26  AUS M   2539    \n",
              "27  AUT F    503    \n",
              "28  AUT M   1834    \n",
              "29  AZE F     48    \n",
              "30  AZE M    145    \n",
              "⋮   ⋮   ⋮   ⋮       \n",
              "423 UNK M      2    \n",
              "424 URS F    714    \n",
              "425 URS M   2234    \n",
              "426 URU F     28    \n",
              "427 URU M    338    \n",
              "428 USA F   2613    \n",
              "429 USA M   7040    \n",
              "430 UZB F     79    \n",
              "431 UZB M    216    \n",
              "432 VAN F      8    \n",
              "433 VAN M     17    \n",
              "434 VEN F    118    \n",
              "435 VEN M    431    \n",
              "436 VIE F     48    \n",
              "437 VIE M     56    \n",
              "438 VIN F      8    \n",
              "439 VIN M     20    \n",
              "440 VNM F      2    \n",
              "441 VNM M     37    \n",
              "442 WIF M     13    \n",
              "443 YAR M     10    \n",
              "444 YEM F      4    \n",
              "445 YEM M     24    \n",
              "446 YMD M      5    \n",
              "447 YUG F    169    \n",
              "448 YUG M   1101    \n",
              "449 ZAM F     13    \n",
              "450 ZAM M    132    \n",
              "451 ZIM F     72    \n",
              "452 ZIM M    124    "
            ],
            "text/latex": "A grouped\\_df: 452 × 3\n\\begin{tabular}{lll}\n NOC & Sex & Athletes\\\\\n <chr> & <chr> & <int>\\\\\n\\hline\n\t AFG & F &    4\\\\\n\t AFG & M &   99\\\\\n\t AHO & F &   10\\\\\n\t AHO & M &   45\\\\\n\t ALB & F &   16\\\\\n\t ALB & M &   29\\\\\n\t ALG & F &   55\\\\\n\t ALG & M &  318\\\\\n\t AND & F &   18\\\\\n\t AND & M &   43\\\\\n\t ANG & F &   75\\\\\n\t ANG & M &   88\\\\\n\t ANT & F &   18\\\\\n\t ANT & M &   52\\\\\n\t ANZ & F &    2\\\\\n\t ANZ & M &   51\\\\\n\t ARG & F &  313\\\\\n\t ARG & M & 1535\\\\\n\t ARM & F &   28\\\\\n\t ARM & M &  118\\\\\n\t ARU & F &   11\\\\\n\t ARU & M &   21\\\\\n\t ASA & F &    5\\\\\n\t ASA & M &   24\\\\\n\t AUS & F & 1281\\\\\n\t AUS & M & 2539\\\\\n\t AUT & F &  503\\\\\n\t AUT & M & 1834\\\\\n\t AZE & F &   48\\\\\n\t AZE & M &  145\\\\\n\t ⋮ & ⋮ & ⋮\\\\\n\t UNK & M &    2\\\\\n\t URS & F &  714\\\\\n\t URS & M & 2234\\\\\n\t URU & F &   28\\\\\n\t URU & M &  338\\\\\n\t USA & F & 2613\\\\\n\t USA & M & 7040\\\\\n\t UZB & F &   79\\\\\n\t UZB & M &  216\\\\\n\t VAN & F &    8\\\\\n\t VAN & M &   17\\\\\n\t VEN & F &  118\\\\\n\t VEN & M &  431\\\\\n\t VIE & F &   48\\\\\n\t VIE & M &   56\\\\\n\t VIN & F &    8\\\\\n\t VIN & M &   20\\\\\n\t VNM & F &    2\\\\\n\t VNM & M &   37\\\\\n\t WIF & M &   13\\\\\n\t YAR & M &   10\\\\\n\t YEM & F &    4\\\\\n\t YEM & M &   24\\\\\n\t YMD & M &    5\\\\\n\t YUG & F &  169\\\\\n\t YUG & M & 1101\\\\\n\t ZAM & F &   13\\\\\n\t ZAM & M &  132\\\\\n\t ZIM & F &   72\\\\\n\t ZIM & M &  124\\\\\n\\end{tabular}\n",
            "text/markdown": "\nA grouped_df: 452 × 3\n\n| NOC &lt;chr&gt; | Sex &lt;chr&gt; | Athletes &lt;int&gt; |\n|---|---|---|\n| AFG | F |    4 |\n| AFG | M |   99 |\n| AHO | F |   10 |\n| AHO | M |   45 |\n| ALB | F |   16 |\n| ALB | M |   29 |\n| ALG | F |   55 |\n| ALG | M |  318 |\n| AND | F |   18 |\n| AND | M |   43 |\n| ANG | F |   75 |\n| ANG | M |   88 |\n| ANT | F |   18 |\n| ANT | M |   52 |\n| ANZ | F |    2 |\n| ANZ | M |   51 |\n| ARG | F |  313 |\n| ARG | M | 1535 |\n| ARM | F |   28 |\n| ARM | M |  118 |\n| ARU | F |   11 |\n| ARU | M |   21 |\n| ASA | F |    5 |\n| ASA | M |   24 |\n| AUS | F | 1281 |\n| AUS | M | 2539 |\n| AUT | F |  503 |\n| AUT | M | 1834 |\n| AZE | F |   48 |\n| AZE | M |  145 |\n| ⋮ | ⋮ | ⋮ |\n| UNK | M |    2 |\n| URS | F |  714 |\n| URS | M | 2234 |\n| URU | F |   28 |\n| URU | M |  338 |\n| USA | F | 2613 |\n| USA | M | 7040 |\n| UZB | F |   79 |\n| UZB | M |  216 |\n| VAN | F |    8 |\n| VAN | M |   17 |\n| VEN | F |  118 |\n| VEN | M |  431 |\n| VIE | F |   48 |\n| VIE | M |   56 |\n| VIN | F |    8 |\n| VIN | M |   20 |\n| VNM | F |    2 |\n| VNM | M |   37 |\n| WIF | M |   13 |\n| YAR | M |   10 |\n| YEM | F |    4 |\n| YEM | M |   24 |\n| YMD | M |    5 |\n| YUG | F |  169 |\n| YUG | M | 1101 |\n| ZAM | F |   13 |\n| ZAM | M |  132 |\n| ZIM | F |   72 |\n| ZIM | M |  124 |\n\n",
            "text/html": [
              "<table>\n",
              "<caption>A grouped_df: 452 × 3</caption>\n",
              "<thead>\n",
              "\t<tr><th scope=col>NOC</th><th scope=col>Sex</th><th scope=col>Athletes</th></tr>\n",
              "\t<tr><th scope=col>&lt;chr&gt;</th><th scope=col>&lt;chr&gt;</th><th scope=col>&lt;int&gt;</th></tr>\n",
              "</thead>\n",
              "<tbody>\n",
              "\t<tr><td>AFG</td><td>F</td><td>   4</td></tr>\n",
              "\t<tr><td>AFG</td><td>M</td><td>  99</td></tr>\n",
              "\t<tr><td>AHO</td><td>F</td><td>  10</td></tr>\n",
              "\t<tr><td>AHO</td><td>M</td><td>  45</td></tr>\n",
              "\t<tr><td>ALB</td><td>F</td><td>  16</td></tr>\n",
              "\t<tr><td>ALB</td><td>M</td><td>  29</td></tr>\n",
              "\t<tr><td>ALG</td><td>F</td><td>  55</td></tr>\n",
              "\t<tr><td>ALG</td><td>M</td><td> 318</td></tr>\n",
              "\t<tr><td>AND</td><td>F</td><td>  18</td></tr>\n",
              "\t<tr><td>AND</td><td>M</td><td>  43</td></tr>\n",
              "\t<tr><td>ANG</td><td>F</td><td>  75</td></tr>\n",
              "\t<tr><td>ANG</td><td>M</td><td>  88</td></tr>\n",
              "\t<tr><td>ANT</td><td>F</td><td>  18</td></tr>\n",
              "\t<tr><td>ANT</td><td>M</td><td>  52</td></tr>\n",
              "\t<tr><td>ANZ</td><td>F</td><td>   2</td></tr>\n",
              "\t<tr><td>ANZ</td><td>M</td><td>  51</td></tr>\n",
              "\t<tr><td>ARG</td><td>F</td><td> 313</td></tr>\n",
              "\t<tr><td>ARG</td><td>M</td><td>1535</td></tr>\n",
              "\t<tr><td>ARM</td><td>F</td><td>  28</td></tr>\n",
              "\t<tr><td>ARM</td><td>M</td><td> 118</td></tr>\n",
              "\t<tr><td>ARU</td><td>F</td><td>  11</td></tr>\n",
              "\t<tr><td>ARU</td><td>M</td><td>  21</td></tr>\n",
              "\t<tr><td>ASA</td><td>F</td><td>   5</td></tr>\n",
              "\t<tr><td>ASA</td><td>M</td><td>  24</td></tr>\n",
              "\t<tr><td>AUS</td><td>F</td><td>1281</td></tr>\n",
              "\t<tr><td>AUS</td><td>M</td><td>2539</td></tr>\n",
              "\t<tr><td>AUT</td><td>F</td><td> 503</td></tr>\n",
              "\t<tr><td>AUT</td><td>M</td><td>1834</td></tr>\n",
              "\t<tr><td>AZE</td><td>F</td><td>  48</td></tr>\n",
              "\t<tr><td>AZE</td><td>M</td><td> 145</td></tr>\n",
              "\t<tr><td>⋮</td><td>⋮</td><td>⋮</td></tr>\n",
              "\t<tr><td>UNK</td><td>M</td><td>   2</td></tr>\n",
              "\t<tr><td>URS</td><td>F</td><td> 714</td></tr>\n",
              "\t<tr><td>URS</td><td>M</td><td>2234</td></tr>\n",
              "\t<tr><td>URU</td><td>F</td><td>  28</td></tr>\n",
              "\t<tr><td>URU</td><td>M</td><td> 338</td></tr>\n",
              "\t<tr><td>USA</td><td>F</td><td>2613</td></tr>\n",
              "\t<tr><td>USA</td><td>M</td><td>7040</td></tr>\n",
              "\t<tr><td>UZB</td><td>F</td><td>  79</td></tr>\n",
              "\t<tr><td>UZB</td><td>M</td><td> 216</td></tr>\n",
              "\t<tr><td>VAN</td><td>F</td><td>   8</td></tr>\n",
              "\t<tr><td>VAN</td><td>M</td><td>  17</td></tr>\n",
              "\t<tr><td>VEN</td><td>F</td><td> 118</td></tr>\n",
              "\t<tr><td>VEN</td><td>M</td><td> 431</td></tr>\n",
              "\t<tr><td>VIE</td><td>F</td><td>  48</td></tr>\n",
              "\t<tr><td>VIE</td><td>M</td><td>  56</td></tr>\n",
              "\t<tr><td>VIN</td><td>F</td><td>   8</td></tr>\n",
              "\t<tr><td>VIN</td><td>M</td><td>  20</td></tr>\n",
              "\t<tr><td>VNM</td><td>F</td><td>   2</td></tr>\n",
              "\t<tr><td>VNM</td><td>M</td><td>  37</td></tr>\n",
              "\t<tr><td>WIF</td><td>M</td><td>  13</td></tr>\n",
              "\t<tr><td>YAR</td><td>M</td><td>  10</td></tr>\n",
              "\t<tr><td>YEM</td><td>F</td><td>   4</td></tr>\n",
              "\t<tr><td>YEM</td><td>M</td><td>  24</td></tr>\n",
              "\t<tr><td>YMD</td><td>M</td><td>   5</td></tr>\n",
              "\t<tr><td>YUG</td><td>F</td><td> 169</td></tr>\n",
              "\t<tr><td>YUG</td><td>M</td><td>1101</td></tr>\n",
              "\t<tr><td>ZAM</td><td>F</td><td>  13</td></tr>\n",
              "\t<tr><td>ZAM</td><td>M</td><td> 132</td></tr>\n",
              "\t<tr><td>ZIM</td><td>F</td><td>  72</td></tr>\n",
              "\t<tr><td>ZIM</td><td>M</td><td> 124</td></tr>\n",
              "</tbody>\n",
              "</table>\n"
            ]
          },
          "metadata": {
            "tags": []
          }
        },
        {
          "output_type": "error",
          "ename": "ERROR",
          "evalue": "ignored",
          "traceback": [
            "Error in checkHT(n, dx <- dim(x)): argument \"x\" is missing, with no default\nTraceback:\n",
            "1. head()",
            "2. head.default()",
            "3. checkHT(n, dx <- dim(x))"
          ]
        }
      ]
    },
    {
      "cell_type": "code",
      "metadata": {
        "id": "n6lyl3vC4G_Q",
        "outputId": "3b9bc0c4-59ca-45d7-bcb6-339a2078eb48",
        "colab": {
          "base_uri": "https://localhost:8080/",
          "height": 1000
        }
      },
      "source": [
        " dataset %>% filter(Year %in% c(1936 )) %>%\n",
        "  group_by( Year,NOC,Sex) %>%\n",
        "  summarise( Athletes = length(unique(ID))\n",
        "  )\n",
        "  "
      ],
      "execution_count": 84,
      "outputs": [
        {
          "output_type": "stream",
          "text": [
            "`summarise()` regrouping output by 'Year', 'NOC' (override with `.groups` argument)\n",
            "\n"
          ],
          "name": "stderr"
        },
        {
          "output_type": "display_data",
          "data": {
            "text/plain": [
              "   Year NOC Sex Athletes\n",
              "1  1936 AFG M    15     \n",
              "2  1936 ARG F     1     \n",
              "3  1936 ARG M    50     \n",
              "4  1936 AUS F     4     \n",
              "5  1936 AUS M    29     \n",
              "6  1936 AUT F    27     \n",
              "7  1936 AUT M   265     \n",
              "8  1936 BEL F     8     \n",
              "9  1936 BEL M   168     \n",
              "10 1936 BER M     5     \n",
              "11 1936 BOL M     2     \n",
              "12 1936 BRA F     6     \n",
              "13 1936 BRA M    67     \n",
              "14 1936 BUL M    33     \n",
              "15 1936 CAN F    25     \n",
              "16 1936 CAN M   101     \n",
              "17 1936 CHI F     1     \n",
              "18 1936 CHI M    39     \n",
              "19 1936 CHN F     2     \n",
              "20 1936 CHN M    52     \n",
              "21 1936 COL M     5     \n",
              "22 1936 CRC M     1     \n",
              "23 1936 DEN F    16     \n",
              "24 1936 DEN M   105     \n",
              "25 1936 EGY M    53     \n",
              "26 1936 ESP F     2     \n",
              "27 1936 ESP M     4     \n",
              "28 1936 EST F     2     \n",
              "29 1936 EST M    36     \n",
              "30 1936 FIN F     5     \n",
              "⋮  ⋮    ⋮   ⋮   ⋮       \n",
              "53 1936 MEX M    32     \n",
              "54 1936 MLT M    11     \n",
              "55 1936 MON M     8     \n",
              "56 1936 NED F    22     \n",
              "57 1936 NED M   151     \n",
              "58 1936 NOR F     8     \n",
              "59 1936 NOR M    92     \n",
              "60 1936 NZL M     7     \n",
              "61 1936 PER M    40     \n",
              "62 1936 PHI M    28     \n",
              "63 1936 POL F    17     \n",
              "64 1936 POL M   147     \n",
              "65 1936 POR M    19     \n",
              "66 1936 ROU F     3     \n",
              "67 1936 ROU M    65     \n",
              "68 1936 RSA F     5     \n",
              "69 1936 RSA M    27     \n",
              "70 1936 SUI F    10     \n",
              "71 1936 SUI M   214     \n",
              "72 1936 SWE F     9     \n",
              "73 1936 SWE M   193     \n",
              "74 1936 TCH F    19     \n",
              "75 1936 TCH M   215     \n",
              "76 1936 TUR F     2     \n",
              "77 1936 TUR M    52     \n",
              "78 1936 URU M    37     \n",
              "79 1936 USA F    55     \n",
              "80 1936 USA M   359     \n",
              "81 1936 YUG F    15     \n",
              "82 1936 YUG M    95     "
            ],
            "text/latex": "A grouped\\_df: 82 × 4\n\\begin{tabular}{llll}\n Year & NOC & Sex & Athletes\\\\\n <int> & <chr> & <chr> & <int>\\\\\n\\hline\n\t 1936 & AFG & M &  15\\\\\n\t 1936 & ARG & F &   1\\\\\n\t 1936 & ARG & M &  50\\\\\n\t 1936 & AUS & F &   4\\\\\n\t 1936 & AUS & M &  29\\\\\n\t 1936 & AUT & F &  27\\\\\n\t 1936 & AUT & M & 265\\\\\n\t 1936 & BEL & F &   8\\\\\n\t 1936 & BEL & M & 168\\\\\n\t 1936 & BER & M &   5\\\\\n\t 1936 & BOL & M &   2\\\\\n\t 1936 & BRA & F &   6\\\\\n\t 1936 & BRA & M &  67\\\\\n\t 1936 & BUL & M &  33\\\\\n\t 1936 & CAN & F &  25\\\\\n\t 1936 & CAN & M & 101\\\\\n\t 1936 & CHI & F &   1\\\\\n\t 1936 & CHI & M &  39\\\\\n\t 1936 & CHN & F &   2\\\\\n\t 1936 & CHN & M &  52\\\\\n\t 1936 & COL & M &   5\\\\\n\t 1936 & CRC & M &   1\\\\\n\t 1936 & DEN & F &  16\\\\\n\t 1936 & DEN & M & 105\\\\\n\t 1936 & EGY & M &  53\\\\\n\t 1936 & ESP & F &   2\\\\\n\t 1936 & ESP & M &   4\\\\\n\t 1936 & EST & F &   2\\\\\n\t 1936 & EST & M &  36\\\\\n\t 1936 & FIN & F &   5\\\\\n\t ⋮ & ⋮ & ⋮ & ⋮\\\\\n\t 1936 & MEX & M &  32\\\\\n\t 1936 & MLT & M &  11\\\\\n\t 1936 & MON & M &   8\\\\\n\t 1936 & NED & F &  22\\\\\n\t 1936 & NED & M & 151\\\\\n\t 1936 & NOR & F &   8\\\\\n\t 1936 & NOR & M &  92\\\\\n\t 1936 & NZL & M &   7\\\\\n\t 1936 & PER & M &  40\\\\\n\t 1936 & PHI & M &  28\\\\\n\t 1936 & POL & F &  17\\\\\n\t 1936 & POL & M & 147\\\\\n\t 1936 & POR & M &  19\\\\\n\t 1936 & ROU & F &   3\\\\\n\t 1936 & ROU & M &  65\\\\\n\t 1936 & RSA & F &   5\\\\\n\t 1936 & RSA & M &  27\\\\\n\t 1936 & SUI & F &  10\\\\\n\t 1936 & SUI & M & 214\\\\\n\t 1936 & SWE & F &   9\\\\\n\t 1936 & SWE & M & 193\\\\\n\t 1936 & TCH & F &  19\\\\\n\t 1936 & TCH & M & 215\\\\\n\t 1936 & TUR & F &   2\\\\\n\t 1936 & TUR & M &  52\\\\\n\t 1936 & URU & M &  37\\\\\n\t 1936 & USA & F &  55\\\\\n\t 1936 & USA & M & 359\\\\\n\t 1936 & YUG & F &  15\\\\\n\t 1936 & YUG & M &  95\\\\\n\\end{tabular}\n",
            "text/markdown": "\nA grouped_df: 82 × 4\n\n| Year &lt;int&gt; | NOC &lt;chr&gt; | Sex &lt;chr&gt; | Athletes &lt;int&gt; |\n|---|---|---|---|\n| 1936 | AFG | M |  15 |\n| 1936 | ARG | F |   1 |\n| 1936 | ARG | M |  50 |\n| 1936 | AUS | F |   4 |\n| 1936 | AUS | M |  29 |\n| 1936 | AUT | F |  27 |\n| 1936 | AUT | M | 265 |\n| 1936 | BEL | F |   8 |\n| 1936 | BEL | M | 168 |\n| 1936 | BER | M |   5 |\n| 1936 | BOL | M |   2 |\n| 1936 | BRA | F |   6 |\n| 1936 | BRA | M |  67 |\n| 1936 | BUL | M |  33 |\n| 1936 | CAN | F |  25 |\n| 1936 | CAN | M | 101 |\n| 1936 | CHI | F |   1 |\n| 1936 | CHI | M |  39 |\n| 1936 | CHN | F |   2 |\n| 1936 | CHN | M |  52 |\n| 1936 | COL | M |   5 |\n| 1936 | CRC | M |   1 |\n| 1936 | DEN | F |  16 |\n| 1936 | DEN | M | 105 |\n| 1936 | EGY | M |  53 |\n| 1936 | ESP | F |   2 |\n| 1936 | ESP | M |   4 |\n| 1936 | EST | F |   2 |\n| 1936 | EST | M |  36 |\n| 1936 | FIN | F |   5 |\n| ⋮ | ⋮ | ⋮ | ⋮ |\n| 1936 | MEX | M |  32 |\n| 1936 | MLT | M |  11 |\n| 1936 | MON | M |   8 |\n| 1936 | NED | F |  22 |\n| 1936 | NED | M | 151 |\n| 1936 | NOR | F |   8 |\n| 1936 | NOR | M |  92 |\n| 1936 | NZL | M |   7 |\n| 1936 | PER | M |  40 |\n| 1936 | PHI | M |  28 |\n| 1936 | POL | F |  17 |\n| 1936 | POL | M | 147 |\n| 1936 | POR | M |  19 |\n| 1936 | ROU | F |   3 |\n| 1936 | ROU | M |  65 |\n| 1936 | RSA | F |   5 |\n| 1936 | RSA | M |  27 |\n| 1936 | SUI | F |  10 |\n| 1936 | SUI | M | 214 |\n| 1936 | SWE | F |   9 |\n| 1936 | SWE | M | 193 |\n| 1936 | TCH | F |  19 |\n| 1936 | TCH | M | 215 |\n| 1936 | TUR | F |   2 |\n| 1936 | TUR | M |  52 |\n| 1936 | URU | M |  37 |\n| 1936 | USA | F |  55 |\n| 1936 | USA | M | 359 |\n| 1936 | YUG | F |  15 |\n| 1936 | YUG | M |  95 |\n\n",
            "text/html": [
              "<table>\n",
              "<caption>A grouped_df: 82 × 4</caption>\n",
              "<thead>\n",
              "\t<tr><th scope=col>Year</th><th scope=col>NOC</th><th scope=col>Sex</th><th scope=col>Athletes</th></tr>\n",
              "\t<tr><th scope=col>&lt;int&gt;</th><th scope=col>&lt;chr&gt;</th><th scope=col>&lt;chr&gt;</th><th scope=col>&lt;int&gt;</th></tr>\n",
              "</thead>\n",
              "<tbody>\n",
              "\t<tr><td>1936</td><td>AFG</td><td>M</td><td> 15</td></tr>\n",
              "\t<tr><td>1936</td><td>ARG</td><td>F</td><td>  1</td></tr>\n",
              "\t<tr><td>1936</td><td>ARG</td><td>M</td><td> 50</td></tr>\n",
              "\t<tr><td>1936</td><td>AUS</td><td>F</td><td>  4</td></tr>\n",
              "\t<tr><td>1936</td><td>AUS</td><td>M</td><td> 29</td></tr>\n",
              "\t<tr><td>1936</td><td>AUT</td><td>F</td><td> 27</td></tr>\n",
              "\t<tr><td>1936</td><td>AUT</td><td>M</td><td>265</td></tr>\n",
              "\t<tr><td>1936</td><td>BEL</td><td>F</td><td>  8</td></tr>\n",
              "\t<tr><td>1936</td><td>BEL</td><td>M</td><td>168</td></tr>\n",
              "\t<tr><td>1936</td><td>BER</td><td>M</td><td>  5</td></tr>\n",
              "\t<tr><td>1936</td><td>BOL</td><td>M</td><td>  2</td></tr>\n",
              "\t<tr><td>1936</td><td>BRA</td><td>F</td><td>  6</td></tr>\n",
              "\t<tr><td>1936</td><td>BRA</td><td>M</td><td> 67</td></tr>\n",
              "\t<tr><td>1936</td><td>BUL</td><td>M</td><td> 33</td></tr>\n",
              "\t<tr><td>1936</td><td>CAN</td><td>F</td><td> 25</td></tr>\n",
              "\t<tr><td>1936</td><td>CAN</td><td>M</td><td>101</td></tr>\n",
              "\t<tr><td>1936</td><td>CHI</td><td>F</td><td>  1</td></tr>\n",
              "\t<tr><td>1936</td><td>CHI</td><td>M</td><td> 39</td></tr>\n",
              "\t<tr><td>1936</td><td>CHN</td><td>F</td><td>  2</td></tr>\n",
              "\t<tr><td>1936</td><td>CHN</td><td>M</td><td> 52</td></tr>\n",
              "\t<tr><td>1936</td><td>COL</td><td>M</td><td>  5</td></tr>\n",
              "\t<tr><td>1936</td><td>CRC</td><td>M</td><td>  1</td></tr>\n",
              "\t<tr><td>1936</td><td>DEN</td><td>F</td><td> 16</td></tr>\n",
              "\t<tr><td>1936</td><td>DEN</td><td>M</td><td>105</td></tr>\n",
              "\t<tr><td>1936</td><td>EGY</td><td>M</td><td> 53</td></tr>\n",
              "\t<tr><td>1936</td><td>ESP</td><td>F</td><td>  2</td></tr>\n",
              "\t<tr><td>1936</td><td>ESP</td><td>M</td><td>  4</td></tr>\n",
              "\t<tr><td>1936</td><td>EST</td><td>F</td><td>  2</td></tr>\n",
              "\t<tr><td>1936</td><td>EST</td><td>M</td><td> 36</td></tr>\n",
              "\t<tr><td>1936</td><td>FIN</td><td>F</td><td>  5</td></tr>\n",
              "\t<tr><td>⋮</td><td>⋮</td><td>⋮</td><td>⋮</td></tr>\n",
              "\t<tr><td>1936</td><td>MEX</td><td>M</td><td> 32</td></tr>\n",
              "\t<tr><td>1936</td><td>MLT</td><td>M</td><td> 11</td></tr>\n",
              "\t<tr><td>1936</td><td>MON</td><td>M</td><td>  8</td></tr>\n",
              "\t<tr><td>1936</td><td>NED</td><td>F</td><td> 22</td></tr>\n",
              "\t<tr><td>1936</td><td>NED</td><td>M</td><td>151</td></tr>\n",
              "\t<tr><td>1936</td><td>NOR</td><td>F</td><td>  8</td></tr>\n",
              "\t<tr><td>1936</td><td>NOR</td><td>M</td><td> 92</td></tr>\n",
              "\t<tr><td>1936</td><td>NZL</td><td>M</td><td>  7</td></tr>\n",
              "\t<tr><td>1936</td><td>PER</td><td>M</td><td> 40</td></tr>\n",
              "\t<tr><td>1936</td><td>PHI</td><td>M</td><td> 28</td></tr>\n",
              "\t<tr><td>1936</td><td>POL</td><td>F</td><td> 17</td></tr>\n",
              "\t<tr><td>1936</td><td>POL</td><td>M</td><td>147</td></tr>\n",
              "\t<tr><td>1936</td><td>POR</td><td>M</td><td> 19</td></tr>\n",
              "\t<tr><td>1936</td><td>ROU</td><td>F</td><td>  3</td></tr>\n",
              "\t<tr><td>1936</td><td>ROU</td><td>M</td><td> 65</td></tr>\n",
              "\t<tr><td>1936</td><td>RSA</td><td>F</td><td>  5</td></tr>\n",
              "\t<tr><td>1936</td><td>RSA</td><td>M</td><td> 27</td></tr>\n",
              "\t<tr><td>1936</td><td>SUI</td><td>F</td><td> 10</td></tr>\n",
              "\t<tr><td>1936</td><td>SUI</td><td>M</td><td>214</td></tr>\n",
              "\t<tr><td>1936</td><td>SWE</td><td>F</td><td>  9</td></tr>\n",
              "\t<tr><td>1936</td><td>SWE</td><td>M</td><td>193</td></tr>\n",
              "\t<tr><td>1936</td><td>TCH</td><td>F</td><td> 19</td></tr>\n",
              "\t<tr><td>1936</td><td>TCH</td><td>M</td><td>215</td></tr>\n",
              "\t<tr><td>1936</td><td>TUR</td><td>F</td><td>  2</td></tr>\n",
              "\t<tr><td>1936</td><td>TUR</td><td>M</td><td> 52</td></tr>\n",
              "\t<tr><td>1936</td><td>URU</td><td>M</td><td> 37</td></tr>\n",
              "\t<tr><td>1936</td><td>USA</td><td>F</td><td> 55</td></tr>\n",
              "\t<tr><td>1936</td><td>USA</td><td>M</td><td>359</td></tr>\n",
              "\t<tr><td>1936</td><td>YUG</td><td>F</td><td> 15</td></tr>\n",
              "\t<tr><td>1936</td><td>YUG</td><td>M</td><td> 95</td></tr>\n",
              "</tbody>\n",
              "</table>\n"
            ]
          },
          "metadata": {
            "tags": []
          }
        }
      ]
    }
  ]
}