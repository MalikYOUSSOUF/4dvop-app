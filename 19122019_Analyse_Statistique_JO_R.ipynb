{
  "nbformat": 4,
  "nbformat_minor": 0,
  "metadata": {
    "kernelspec": {
      "display_name": "R",
      "language": "R",
      "name": "ir"
    },
    "language_info": {
      "codemirror_mode": "r",
      "file_extension": ".r",
      "mimetype": "text/x-r-source",
      "name": "R",
      "pygments_lexer": "r",
      "version": "3.6.0"
    },
    "colab": {
      "name": "19122019_Analyse_Statistique_JO_R.ipynb",
      "provenance": [],
      "collapsed_sections": [],
      "include_colab_link": true
    }
  },
  "cells": [
    {
      "cell_type": "markdown",
      "metadata": {
        "id": "view-in-github",
        "colab_type": "text"
      },
      "source": [
        "<a href=\"https://colab.research.google.com/github/MalikYOUSSOUF/4dvop-app/blob/master/19122019_Analyse_Statistique_JO_R.ipynb\" target=\"_parent\"><img src=\"https://colab.research.google.com/assets/colab-badge.svg\" alt=\"Open In Colab\"/></a>"
      ]
    },
    {
      "cell_type": "markdown",
      "metadata": {
        "id": "iRO2VpmfmRLv"
      },
      "source": [
        "# Analyse statistique sur les Jeux Olympiques avec R"
      ]
    },
    {
      "cell_type": "markdown",
      "metadata": {
        "id": "pFp9rTtgmRLz"
      },
      "source": [
        "![image.png](attachment:image.png)"
      ]
    },
    {
      "cell_type": "markdown",
      "metadata": {
        "id": "IdelHS54mRL0"
      },
      "source": [
        "#### Téléchargement des données\n",
        "https://docs.google.com/document/d/1HgPH1u0r7Pze5HrErzVXbxFcA_9wUpknUCMtgbPh8BM/edit?usp=sharing"
      ]
    },
    {
      "cell_type": "markdown",
      "metadata": {
        "id": "WAa5c_ZlmRL1"
      },
      "source": [
        "Plan:\n",
        "\n",
        "1. Rappel sur Dplyr\n",
        "2. Exemple de manipulation de donnée\n",
        "3. Questions"
      ]
    },
    {
      "cell_type": "markdown",
      "metadata": {
        "id": "j8-gtmIjmRL3"
      },
      "source": [
        "#### Rappel sur R:\n",
        "\n",
        "* https://suzan.rbind.io/2018/02/dplyr-tutorial-3/#filtering-rows-based-on-a-numeric-variable\n",
        "* https://ggplot2.tidyverse.org/\n",
        "* https://thinkr.fr/utiliser-la-grammaire-dplyr-pour-triturer-ses-donnees/"
      ]
    },
    {
      "cell_type": "markdown",
      "metadata": {
        "id": "RYQ0qliwmRL4"
      },
      "source": [
        "#### II- Exemple de manipulation de données"
      ]
    },
    {
      "cell_type": "markdown",
      "metadata": {
        "id": "8NgOXJqwmRL5"
      },
      "source": [
        "##### Manipulation de données avec dplyr"
      ]
    },
    {
      "cell_type": "markdown",
      "metadata": {
        "id": "yn0Pfs8nmRL7"
      },
      "source": [
        "Il ya 5 fonctions à connaitre dans le package dplyr.\n",
        "* **select** : Selection de colonnes\n",
        "* **filter** : Filtre sur les données\n",
        "* **mutate** : Création d'une nouvel colonne\n",
        "* **arrange** : Trie des données\n",
        "* **summarise** : Aggrege les données en un résumé"
      ]
    },
    {
      "cell_type": "code",
      "metadata": {
        "id": "TuWYoxYMoT_G",
        "outputId": "68fb91fb-07dc-456c-b96f-d251065bc8b0",
        "colab": {
          "base_uri": "https://localhost:8080/"
        }
      },
      "source": [
        "install.packages(\"tidyverse\")\n"
      ],
      "execution_count": 58,
      "outputs": [
        {
          "output_type": "stream",
          "text": [
            "Installing package into ‘/usr/local/lib/R/site-library’\n",
            "(as ‘lib’ is unspecified)\n",
            "\n"
          ],
          "name": "stderr"
        }
      ]
    },
    {
      "cell_type": "code",
      "metadata": {
        "id": "6nVW8IRGoTeE",
        "outputId": "b909edad-1c4d-4fa0-eaf2-51c56da28cd4",
        "colab": {
          "base_uri": "https://localhost:8080/"
        }
      },
      "source": [
        "install.packages(\"dplyr\")"
      ],
      "execution_count": 8,
      "outputs": [
        {
          "output_type": "stream",
          "text": [
            "Installing package into ‘/usr/local/lib/R/site-library’\n",
            "(as ‘lib’ is unspecified)\n",
            "\n"
          ],
          "name": "stderr"
        }
      ]
    },
    {
      "cell_type": "code",
      "metadata": {
        "id": "EHvUf_LDmRL9",
        "outputId": "da34248c-18b5-4639-893e-f0a8416e5078",
        "colab": {
          "base_uri": "https://localhost:8080/",
          "height": 425
        }
      },
      "source": [
        "# Définition du nom de fichier\n",
        "filename <- \"athlete_events.csv\" \n",
        "# Chargement du fichier\n",
        "dataset <- read.csv(filename, header=TRUE, encoding = \"UTF-8\") \n",
        "\n",
        "# Affichage des 5 premières lignes\n",
        "head(dataset)"
      ],
      "execution_count": 35,
      "outputs": [
        {
          "output_type": "stream",
          "text": [
            "Warning message in scan(file = file, what = what, sep = sep, quote = quote, dec = dec, :\n",
            "“EOF within quoted string”\n"
          ],
          "name": "stderr"
        },
        {
          "output_type": "display_data",
          "data": {
            "text/plain": [
              "  ID Name                     Sex Age Height Weight Team           NOC\n",
              "1 1  A Dijiang                M   24  180    80     China          CHN\n",
              "2 2  A Lamusi                 M   23  170    60     China          CHN\n",
              "3 3  Gunnar Nielsen Aaby      M   24   NA    NA     Denmark        DEN\n",
              "4 4  Edgar Lindenau Aabye     M   34   NA    NA     Denmark/Sweden DEN\n",
              "5 5  Christine Jacoba Aaftink F   21  185    82     Netherlands    NED\n",
              "6 5  Christine Jacoba Aaftink F   21  185    82     Netherlands    NED\n",
              "  Games       Year Season City      Sport        \n",
              "1 1992 Summer 1992 Summer Barcelona Basketball   \n",
              "2 2012 Summer 2012 Summer London    Judo         \n",
              "3 1920 Summer 1920 Summer Antwerpen Football     \n",
              "4 1900 Summer 1900 Summer Paris     Tug-Of-War   \n",
              "5 1988 Winter 1988 Winter Calgary   Speed Skating\n",
              "6 1988 Winter 1988 Winter Calgary   Speed Skating\n",
              "  Event                              Medal\n",
              "1 Basketball Men's Basketball        NA   \n",
              "2 Judo Men's Extra-Lightweight       NA   \n",
              "3 Football Men's Football            NA   \n",
              "4 Tug-Of-War Men's Tug-Of-War        Gold \n",
              "5 Speed Skating Women's 500 metres   NA   \n",
              "6 Speed Skating Women's 1,000 metres NA   "
            ],
            "text/latex": "A data.frame: 6 × 15\n\\begin{tabular}{r|lllllllllllllll}\n  & ID & Name & Sex & Age & Height & Weight & Team & NOC & Games & Year & Season & City & Sport & Event & Medal\\\\\n  & <int> & <chr> & <chr> & <int> & <int> & <dbl> & <chr> & <chr> & <chr> & <int> & <chr> & <chr> & <chr> & <chr> & <chr>\\\\\n\\hline\n\t1 & 1 & A Dijiang                & M & 24 & 180 & 80 & China          & CHN & 1992 Summer & 1992 & Summer & Barcelona & Basketball    & Basketball Men's Basketball        & NA  \\\\\n\t2 & 2 & A Lamusi                 & M & 23 & 170 & 60 & China          & CHN & 2012 Summer & 2012 & Summer & London    & Judo          & Judo Men's Extra-Lightweight       & NA  \\\\\n\t3 & 3 & Gunnar Nielsen Aaby      & M & 24 &  NA & NA & Denmark        & DEN & 1920 Summer & 1920 & Summer & Antwerpen & Football      & Football Men's Football            & NA  \\\\\n\t4 & 4 & Edgar Lindenau Aabye     & M & 34 &  NA & NA & Denmark/Sweden & DEN & 1900 Summer & 1900 & Summer & Paris     & Tug-Of-War    & Tug-Of-War Men's Tug-Of-War        & Gold\\\\\n\t5 & 5 & Christine Jacoba Aaftink & F & 21 & 185 & 82 & Netherlands    & NED & 1988 Winter & 1988 & Winter & Calgary   & Speed Skating & Speed Skating Women's 500 metres   & NA  \\\\\n\t6 & 5 & Christine Jacoba Aaftink & F & 21 & 185 & 82 & Netherlands    & NED & 1988 Winter & 1988 & Winter & Calgary   & Speed Skating & Speed Skating Women's 1,000 metres & NA  \\\\\n\\end{tabular}\n",
            "text/markdown": "\nA data.frame: 6 × 15\n\n| <!--/--> | ID &lt;int&gt; | Name &lt;chr&gt; | Sex &lt;chr&gt; | Age &lt;int&gt; | Height &lt;int&gt; | Weight &lt;dbl&gt; | Team &lt;chr&gt; | NOC &lt;chr&gt; | Games &lt;chr&gt; | Year &lt;int&gt; | Season &lt;chr&gt; | City &lt;chr&gt; | Sport &lt;chr&gt; | Event &lt;chr&gt; | Medal &lt;chr&gt; |\n|---|---|---|---|---|---|---|---|---|---|---|---|---|---|---|---|\n| 1 | 1 | A Dijiang                | M | 24 | 180 | 80 | China          | CHN | 1992 Summer | 1992 | Summer | Barcelona | Basketball    | Basketball Men's Basketball        | NA   |\n| 2 | 2 | A Lamusi                 | M | 23 | 170 | 60 | China          | CHN | 2012 Summer | 2012 | Summer | London    | Judo          | Judo Men's Extra-Lightweight       | NA   |\n| 3 | 3 | Gunnar Nielsen Aaby      | M | 24 |  NA | NA | Denmark        | DEN | 1920 Summer | 1920 | Summer | Antwerpen | Football      | Football Men's Football            | NA   |\n| 4 | 4 | Edgar Lindenau Aabye     | M | 34 |  NA | NA | Denmark/Sweden | DEN | 1900 Summer | 1900 | Summer | Paris     | Tug-Of-War    | Tug-Of-War Men's Tug-Of-War        | Gold |\n| 5 | 5 | Christine Jacoba Aaftink | F | 21 | 185 | 82 | Netherlands    | NED | 1988 Winter | 1988 | Winter | Calgary   | Speed Skating | Speed Skating Women's 500 metres   | NA   |\n| 6 | 5 | Christine Jacoba Aaftink | F | 21 | 185 | 82 | Netherlands    | NED | 1988 Winter | 1988 | Winter | Calgary   | Speed Skating | Speed Skating Women's 1,000 metres | NA   |\n\n",
            "text/html": [
              "<table>\n",
              "<caption>A data.frame: 6 × 15</caption>\n",
              "<thead>\n",
              "\t<tr><th></th><th scope=col>ID</th><th scope=col>Name</th><th scope=col>Sex</th><th scope=col>Age</th><th scope=col>Height</th><th scope=col>Weight</th><th scope=col>Team</th><th scope=col>NOC</th><th scope=col>Games</th><th scope=col>Year</th><th scope=col>Season</th><th scope=col>City</th><th scope=col>Sport</th><th scope=col>Event</th><th scope=col>Medal</th></tr>\n",
              "\t<tr><th></th><th scope=col>&lt;int&gt;</th><th scope=col>&lt;chr&gt;</th><th scope=col>&lt;chr&gt;</th><th scope=col>&lt;int&gt;</th><th scope=col>&lt;int&gt;</th><th scope=col>&lt;dbl&gt;</th><th scope=col>&lt;chr&gt;</th><th scope=col>&lt;chr&gt;</th><th scope=col>&lt;chr&gt;</th><th scope=col>&lt;int&gt;</th><th scope=col>&lt;chr&gt;</th><th scope=col>&lt;chr&gt;</th><th scope=col>&lt;chr&gt;</th><th scope=col>&lt;chr&gt;</th><th scope=col>&lt;chr&gt;</th></tr>\n",
              "</thead>\n",
              "<tbody>\n",
              "\t<tr><th scope=row>1</th><td>1</td><td>A Dijiang               </td><td>M</td><td>24</td><td>180</td><td>80</td><td>China         </td><td>CHN</td><td>1992 Summer</td><td>1992</td><td>Summer</td><td>Barcelona</td><td>Basketball   </td><td>Basketball Men's Basketball       </td><td>NA  </td></tr>\n",
              "\t<tr><th scope=row>2</th><td>2</td><td>A Lamusi                </td><td>M</td><td>23</td><td>170</td><td>60</td><td>China         </td><td>CHN</td><td>2012 Summer</td><td>2012</td><td>Summer</td><td>London   </td><td>Judo         </td><td>Judo Men's Extra-Lightweight      </td><td>NA  </td></tr>\n",
              "\t<tr><th scope=row>3</th><td>3</td><td>Gunnar Nielsen Aaby     </td><td>M</td><td>24</td><td> NA</td><td>NA</td><td>Denmark       </td><td>DEN</td><td>1920 Summer</td><td>1920</td><td>Summer</td><td>Antwerpen</td><td>Football     </td><td>Football Men's Football           </td><td>NA  </td></tr>\n",
              "\t<tr><th scope=row>4</th><td>4</td><td>Edgar Lindenau Aabye    </td><td>M</td><td>34</td><td> NA</td><td>NA</td><td>Denmark/Sweden</td><td>DEN</td><td>1900 Summer</td><td>1900</td><td>Summer</td><td>Paris    </td><td>Tug-Of-War   </td><td>Tug-Of-War Men's Tug-Of-War       </td><td>Gold</td></tr>\n",
              "\t<tr><th scope=row>5</th><td>5</td><td>Christine Jacoba Aaftink</td><td>F</td><td>21</td><td>185</td><td>82</td><td>Netherlands   </td><td>NED</td><td>1988 Winter</td><td>1988</td><td>Winter</td><td>Calgary  </td><td>Speed Skating</td><td>Speed Skating Women's 500 metres  </td><td>NA  </td></tr>\n",
              "\t<tr><th scope=row>6</th><td>5</td><td>Christine Jacoba Aaftink</td><td>F</td><td>21</td><td>185</td><td>82</td><td>Netherlands   </td><td>NED</td><td>1988 Winter</td><td>1988</td><td>Winter</td><td>Calgary  </td><td>Speed Skating</td><td>Speed Skating Women's 1,000 metres</td><td>NA  </td></tr>\n",
              "</tbody>\n",
              "</table>\n"
            ]
          },
          "metadata": {
            "tags": []
          }
        }
      ]
    },
    {
      "cell_type": "code",
      "metadata": {
        "id": "0mrOO2QKmRMJ",
        "outputId": "df915c88-f97b-44df-c2d0-10e57e6c9c42",
        "colab": {
          "base_uri": "https://localhost:8080/",
          "height": 1000
        }
      },
      "source": [
        "#### Filtre sur le pays France\n",
        "library(\"dplyr\")\n",
        "dataset %>% filter(Team == \"France\")"
      ],
      "execution_count": 36,
      "outputs": [
        {
          "output_type": "display_data",
          "data": {
            "text/plain": [
              "     ID    Name                               Sex Age Height Weight Team   NOC\n",
              "1     34   Jamale (Djamel-) Aarrass (Ahrass-) M   30  187     76    France FRA\n",
              "2     52   Patrick Abada                      M   22  189     80    France FRA\n",
              "3     56   Ren Abadie                         M   21   NA     NA    France FRA\n",
              "4     56   Ren Abadie                         M   21   NA     NA    France FRA\n",
              "5     73   Luc Abalo                          M   23  182     86    France FRA\n",
              "6     73   Luc Abalo                          M   27  182     86    France FRA\n",
              "7     73   Luc Abalo                          M   31  182     86    France FRA\n",
              "8     93   Jol Marc Abati                     M   34  190     85    France FRA\n",
              "9     93   Jol Marc Abati                     M   38  190     85    France FRA\n",
              "10   167   Ould Lamine Abdallah               M   NA   NA     NA    France FRA\n",
              "11   237   Ben Ahmed Abdelkrim                M   20   NA     NA    France FRA\n",
              "12   434   David Abibssira                    M   21  179     63    France FRA\n",
              "13   444   Camille Anne Franoise Abily        F   27  168     60    France FRA\n",
              "14   444   Camille Anne Franoise Abily        F   31  168     60    France FRA\n",
              "15   515   Stphan Abrahamian Gonzalez         M   22   NA     NA    France FRA\n",
              "16   558   David Abrard                       M   19  187     81    France FRA\n",
              "17   573   Franck Abrial                      M   24  174     68    France FRA\n",
              "18   583   Julien Absalon                     M   23  180     68    France FRA\n",
              "19   583   Julien Absalon                     M   27  180     68    France FRA\n",
              "20   583   Julien Absalon                     M   31  180     68    France FRA\n",
              "21   583   Julien Absalon                     M   35  180     68    France FRA\n",
              "22   626   Alain Acart                        M   21  175     67    France FRA\n",
              "23   626   Alain Acart                        M   25  175     67    France FRA\n",
              "24   628   Jacques Accambray                  M   22  194    125    France FRA\n",
              "25   628   Jacques Accambray                  M   26  194    125    France FRA\n",
              "26   629   William Accambray                  M   24  194    104    France FRA\n",
              "27   676   Gaston Achille                     M   NA   NA     NA    France FRA\n",
              "28   677   Georges Achille-Fould              F   55   NA     NA    France FRA\n",
              "29   757   Adam                               M   NA   NA     NA    France FRA\n",
              "30   758   Adam                               M   NA   NA     NA    France FRA\n",
              "⋮    ⋮     ⋮                                  ⋮   ⋮   ⋮      ⋮      ⋮      ⋮  \n",
              "9154 93088 Carole Pon                         F   29  162    52     France FRA\n",
              "9155 93088 Carole Pon                         F   33  162    52     France FRA\n",
              "9156 93107 Thierry Pponnet                    M   24  166    57     France FRA\n",
              "9157 93107 Thierry Pponnet                    M   29  166    57     France FRA\n",
              "9158 93115 Laure Pequegnot                    F   22  168    63     France FRA\n",
              "9159 93115 Laure Pequegnot                    F   26  168    63     France FRA\n",
              "9160 93115 Laure Pequegnot                    F   26  168    63     France FRA\n",
              "9161 93115 Laure Pequegnot                    F   30  168    63     France FRA\n",
              "9162 93117 Patrick Henri Pera                 M   19  176    70     France FRA\n",
              "9163 93117 Patrick Henri Pera                 M   23  176    70     France FRA\n",
              "9164 93121 Alexandre \"Alex\" Perahia           M   26  188    86     France FRA\n",
              "9165 93146 Jean-Christophe Praud              M   27  172    62     France FRA\n",
              "9166 93146 Jean-Christophe Praud              M   31  172    62     France FRA\n",
              "9167 93146 Jean-Christophe Praud              M   35  172    62     France FRA\n",
              "9168 93157 Louis Percy                        M   39  170    NA     France FRA\n",
              "9169 93157 Louis Percy                        M   39  170    NA     France FRA\n",
              "9170 93157 Louis Percy                        M   39  170    NA     France FRA\n",
              "9171 93157 Louis Percy                        M   39  170    NA     France FRA\n",
              "9172 93157 Louis Percy                        M   39  170    NA     France FRA\n",
              "9173 93169 Marie-Jos Juliana Prec (Hontas-)   F   20  180    60     France FRA\n",
              "9174 93169 Marie-Jos Juliana Prec (Hontas-)   F   24  180    60     France FRA\n",
              "9175 93169 Marie-Jos Juliana Prec (Hontas-)   F   24  180    60     France FRA\n",
              "9176 93169 Marie-Jos Juliana Prec (Hontas-)   F   28  180    60     France FRA\n",
              "9177 93169 Marie-Jos Juliana Prec (Hontas-)   F   28  180    60     France FRA\n",
              "9178 93169 Marie-Jos Juliana Prec (Hontas-)   F   28  180    60     France FRA\n",
              "9179 93244 Delphyne Peretto                   F   24  170    56     France FRA\n",
              "9180 93244 Delphyne Peretto                   F   24  170    56     France FRA\n",
              "9181 93244 Delphyne Peretto                   F   24  170    56     France FRA\n",
              "9182 93244 Delphyne Peretto                   F   24  170    56     France FRA\n",
              "9183 93244 Delphyne Peretto                   F   24  170    56     France FRA\n",
              "     Games       Year Season City           Sport           \n",
              "1    2012 Summer 2012 Summer London         Athletics       \n",
              "2    1976 Summer 1976 Summer Montreal       Athletics       \n",
              "3    1956 Summer 1956 Summer Melbourne      Cycling         \n",
              "4    1956 Summer 1956 Summer Melbourne      Cycling         \n",
              "5    2008 Summer 2008 Summer Beijing        Handball        \n",
              "6    2012 Summer 2012 Summer London         Handball        \n",
              "7    2016 Summer 2016 Summer Rio de Janeiro Handball        \n",
              "8    2004 Summer 2004 Summer Athina         Handball        \n",
              "9    2008 Summer 2008 Summer Beijing        Handball        \n",
              "10   1952 Summer 1952 Summer Helsinki       Athletics       \n",
              "11   1952 Summer 1952 Summer Helsinki       Athletics       \n",
              "12   1984 Summer 1984 Summer Los Angeles    Shooting        \n",
              "13   2012 Summer 2012 Summer London         Football        \n",
              "14   2016 Summer 2016 Summer Rio de Janeiro Football        \n",
              "15   1968 Summer 1968 Summer Mexico City    Cycling         \n",
              "16   1996 Summer 1996 Summer Atlanta        Swimming        \n",
              "17   1988 Summer 1988 Summer Seoul          Wrestling       \n",
              "18   2004 Summer 2004 Summer Athina         Cycling         \n",
              "19   2008 Summer 2008 Summer Beijing        Cycling         \n",
              "20   2012 Summer 2012 Summer London         Cycling         \n",
              "21   2016 Summer 2016 Summer Rio de Janeiro Cycling         \n",
              "22   1972 Summer 1972 Summer Munich         Canoeing        \n",
              "23   1976 Summer 1976 Summer Montreal       Canoeing        \n",
              "24   1972 Summer 1972 Summer Munich         Athletics       \n",
              "25   1976 Summer 1976 Summer Montreal       Athletics       \n",
              "26   2012 Summer 2012 Summer London         Handball        \n",
              "27   1900 Summer 1900 Summer Paris          Fencing         \n",
              "28   1924 Summer 1924 Summer Paris          Art Competitions\n",
              "29   1900 Summer 1900 Summer Paris          Fencing         \n",
              "30   1900 Summer 1900 Summer Paris          Swimming        \n",
              "⋮    ⋮           ⋮    ⋮      ⋮              ⋮               \n",
              "9154 2008 Summer 2008 Summer Beijing        Triathlon       \n",
              "9155 2012 Summer 2012 Summer London         Triathlon       \n",
              "9156 1984 Summer 1984 Summer Los Angeles    Sailing         \n",
              "9157 1988 Summer 1988 Summer Seoul          Sailing         \n",
              "9158 1998 Winter 1998 Winter Nagano         Alpine Skiing   \n",
              "9159 2002 Winter 2002 Winter Salt Lake City Alpine Skiing   \n",
              "9160 2002 Winter 2002 Winter Salt Lake City Alpine Skiing   \n",
              "9161 2006 Winter 2006 Winter Torino         Alpine Skiing   \n",
              "9162 1968 Winter 1968 Winter Grenoble       Figure Skating  \n",
              "9163 1972 Winter 1972 Winter Sapporo        Figure Skating  \n",
              "9164 1988 Summer 1988 Summer Seoul          Rowing          \n",
              "9165 2004 Summer 2004 Summer Athina         Cycling         \n",
              "9166 2008 Summer 2008 Summer Beijing        Cycling         \n",
              "9167 2012 Summer 2012 Summer London         Cycling         \n",
              "9168 1912 Summer 1912 Summer Stockholm      Shooting        \n",
              "9169 1912 Summer 1912 Summer Stockholm      Shooting        \n",
              "9170 1912 Summer 1912 Summer Stockholm      Shooting        \n",
              "9171 1912 Summer 1912 Summer Stockholm      Shooting        \n",
              "9172 1912 Summer 1912 Summer Stockholm      Shooting        \n",
              "9173 1988 Summer 1988 Summer Seoul          Athletics       \n",
              "9174 1992 Summer 1992 Summer Barcelona      Athletics       \n",
              "9175 1992 Summer 1992 Summer Barcelona      Athletics       \n",
              "9176 1996 Summer 1996 Summer Atlanta        Athletics       \n",
              "9177 1996 Summer 1996 Summer Atlanta        Athletics       \n",
              "9178 1996 Summer 1996 Summer Atlanta        Athletics       \n",
              "9179 2006 Winter 2006 Winter Torino         Biathlon        \n",
              "9180 2006 Winter 2006 Winter Torino         Biathlon        \n",
              "9181 2006 Winter 2006 Winter Torino         Biathlon        \n",
              "9182 2006 Winter 2006 Winter Torino         Biathlon        \n",
              "9183 2006 Winter 2006 Winter Torino         Biathlon        \n",
              "     Event                                                             Medal \n",
              "1    Athletics Men's 1,500 metres                                      NA    \n",
              "2    Athletics Men's Pole Vault                                        NA    \n",
              "3    Cycling Men's Road Race, Individual                               NA    \n",
              "4    Cycling Men's Road Race, Team                                     Gold  \n",
              "5    Handball Men's Handball                                           Gold  \n",
              "6    Handball Men's Handball                                           Gold  \n",
              "7    Handball Men's Handball                                           Silver\n",
              "8    Handball Men's Handball                                           NA    \n",
              "9    Handball Men's Handball                                           Gold  \n",
              "10   Athletics Men's 10,000 metres                                     NA    \n",
              "11   Athletics Men's 5,000 metres                                      NA    \n",
              "12   Shooting Men's Running Target, 50 metres                          NA    \n",
              "13   Football Women's Football                                         NA    \n",
              "14   Football Women's Football                                         NA    \n",
              "15   Cycling Men's Road Race, Individual                               NA    \n",
              "16   Swimming Men's 200 metres Butterfly                               NA    \n",
              "17   Wrestling Men's Lightweight, Greco-Roman                          NA    \n",
              "18   Cycling Men's Mountainbike, Cross-Country                         Gold  \n",
              "19   Cycling Men's Mountainbike, Cross-Country                         Gold  \n",
              "20   Cycling Men's Mountainbike, Cross-Country                         NA    \n",
              "21   Cycling Men's Mountainbike, Cross-Country                         NA    \n",
              "22   Canoeing Men's Canadian Doubles, 1,000 metres                     NA    \n",
              "23   Canoeing Men's Canadian Doubles, 1,000 metres                     NA    \n",
              "24   Athletics Men's Hammer Throw                                      NA    \n",
              "25   Athletics Men's Hammer Throw                                      NA    \n",
              "26   Handball Men's Handball                                           Gold  \n",
              "27   Fencing Men's epee, Individual                                    NA    \n",
              "28   Art Competitions Mixed Painting                                   NA    \n",
              "29   Fencing Men's epee, Individual                                    NA    \n",
              "30   Swimming Men's 200 metres Freestyle                               NA    \n",
              "⋮    ⋮                                                                 ⋮     \n",
              "9154 Triathlon Women's Olympic Distance                                NA    \n",
              "9155 Triathlon Women's Olympic Distance                                NA    \n",
              "9156 Sailing Mixed Two Person Dinghy                                   Bronze\n",
              "9157 Sailing Men's Two Person Dinghy                                   Gold  \n",
              "9158 Alpine Skiing Women's Slalom                                      NA    \n",
              "9159 Alpine Skiing Women's Giant Slalom                                NA    \n",
              "9160 Alpine Skiing Women's Slalom                                      Silver\n",
              "9161 Alpine Skiing Women's Slalom                                      NA    \n",
              "9162 Figure Skating Men's Singles                                      Bronze\n",
              "9163 Figure Skating Men's Singles                                      Bronze\n",
              "9164 Rowing Men's Coxless Pairs                                        NA    \n",
              "9165 Cycling Men's Mountainbike, Cross-Country                         NA    \n",
              "9166 Cycling Men's Mountainbike, Cross-Country                         Silver\n",
              "9167 Cycling Men's Mountainbike, Cross-Country                         NA    \n",
              "9168 Shooting Men's Free Rifle, Three Positions, 300 metres            NA    \n",
              "9169 Shooting Men's Free Rifle, Three Positions, 300 metres, Team      NA    \n",
              "9170 Shooting Men's Military Rifle, Three Positions, 300 metres        NA    \n",
              "9171 Shooting Men's Military Rifle, Any Position, 600 metres           NA    \n",
              "9172 Shooting Men's Military Rifle, 200, 400, 500 and 600 metres, Team NA    \n",
              "9173 Athletics Women's 200 metres                                      NA    \n",
              "9174 Athletics Women's 400 metres                                      Gold  \n",
              "9175 Athletics Women's 4 x 100 metres Relay                            NA    \n",
              "9176 Athletics Women's 200 metres                                      Gold  \n",
              "9177 Athletics Women's 400 metres                                      Gold  \n",
              "9178 Athletics Women's 4 x 100 metres Relay                            NA    \n",
              "9179 Biathlon Women's 7.5 kilometres Sprint                            NA    \n",
              "9180 Biathlon Women's 10 kilometres Pursuit                            NA    \n",
              "9181 Biathlon Women's 12.5 kilometres Mass Start                       NA    \n",
              "9182 Biathlon Women's 15 kilometres                                    NA    \n",
              "9183 Biathlon Women's 4 x 6 kilometres Relay                           Bronze"
            ],
            "text/latex": "A data.frame: 9183 × 15\n\\begin{tabular}{lllllllllllllll}\n ID & Name & Sex & Age & Height & Weight & Team & NOC & Games & Year & Season & City & Sport & Event & Medal\\\\\n <int> & <chr> & <chr> & <int> & <int> & <dbl> & <chr> & <chr> & <chr> & <int> & <chr> & <chr> & <chr> & <chr> & <chr>\\\\\n\\hline\n\t  34 & Jamale (Djamel-) Aarrass (Ahrass-) & M & 30 & 187 &  76 & France & FRA & 2012 Summer & 2012 & Summer & London         & Athletics        & Athletics Men's 1,500 metres                  & NA    \\\\\n\t  52 & Patrick Abada                      & M & 22 & 189 &  80 & France & FRA & 1976 Summer & 1976 & Summer & Montreal       & Athletics        & Athletics Men's Pole Vault                    & NA    \\\\\n\t  56 & Ren Abadie                         & M & 21 &  NA &  NA & France & FRA & 1956 Summer & 1956 & Summer & Melbourne      & Cycling          & Cycling Men's Road Race, Individual           & NA    \\\\\n\t  56 & Ren Abadie                         & M & 21 &  NA &  NA & France & FRA & 1956 Summer & 1956 & Summer & Melbourne      & Cycling          & Cycling Men's Road Race, Team                 & Gold  \\\\\n\t  73 & Luc Abalo                          & M & 23 & 182 &  86 & France & FRA & 2008 Summer & 2008 & Summer & Beijing        & Handball         & Handball Men's Handball                       & Gold  \\\\\n\t  73 & Luc Abalo                          & M & 27 & 182 &  86 & France & FRA & 2012 Summer & 2012 & Summer & London         & Handball         & Handball Men's Handball                       & Gold  \\\\\n\t  73 & Luc Abalo                          & M & 31 & 182 &  86 & France & FRA & 2016 Summer & 2016 & Summer & Rio de Janeiro & Handball         & Handball Men's Handball                       & Silver\\\\\n\t  93 & Jol Marc Abati                     & M & 34 & 190 &  85 & France & FRA & 2004 Summer & 2004 & Summer & Athina         & Handball         & Handball Men's Handball                       & NA    \\\\\n\t  93 & Jol Marc Abati                     & M & 38 & 190 &  85 & France & FRA & 2008 Summer & 2008 & Summer & Beijing        & Handball         & Handball Men's Handball                       & Gold  \\\\\n\t 167 & Ould Lamine Abdallah               & M & NA &  NA &  NA & France & FRA & 1952 Summer & 1952 & Summer & Helsinki       & Athletics        & Athletics Men's 10,000 metres                 & NA    \\\\\n\t 237 & Ben Ahmed Abdelkrim                & M & 20 &  NA &  NA & France & FRA & 1952 Summer & 1952 & Summer & Helsinki       & Athletics        & Athletics Men's 5,000 metres                  & NA    \\\\\n\t 434 & David Abibssira                    & M & 21 & 179 &  63 & France & FRA & 1984 Summer & 1984 & Summer & Los Angeles    & Shooting         & Shooting Men's Running Target, 50 metres      & NA    \\\\\n\t 444 & Camille Anne Franoise Abily        & F & 27 & 168 &  60 & France & FRA & 2012 Summer & 2012 & Summer & London         & Football         & Football Women's Football                     & NA    \\\\\n\t 444 & Camille Anne Franoise Abily        & F & 31 & 168 &  60 & France & FRA & 2016 Summer & 2016 & Summer & Rio de Janeiro & Football         & Football Women's Football                     & NA    \\\\\n\t 515 & Stphan Abrahamian Gonzalez         & M & 22 &  NA &  NA & France & FRA & 1968 Summer & 1968 & Summer & Mexico City    & Cycling          & Cycling Men's Road Race, Individual           & NA    \\\\\n\t 558 & David Abrard                       & M & 19 & 187 &  81 & France & FRA & 1996 Summer & 1996 & Summer & Atlanta        & Swimming         & Swimming Men's 200 metres Butterfly           & NA    \\\\\n\t 573 & Franck Abrial                      & M & 24 & 174 &  68 & France & FRA & 1988 Summer & 1988 & Summer & Seoul          & Wrestling        & Wrestling Men's Lightweight, Greco-Roman      & NA    \\\\\n\t 583 & Julien Absalon                     & M & 23 & 180 &  68 & France & FRA & 2004 Summer & 2004 & Summer & Athina         & Cycling          & Cycling Men's Mountainbike, Cross-Country     & Gold  \\\\\n\t 583 & Julien Absalon                     & M & 27 & 180 &  68 & France & FRA & 2008 Summer & 2008 & Summer & Beijing        & Cycling          & Cycling Men's Mountainbike, Cross-Country     & Gold  \\\\\n\t 583 & Julien Absalon                     & M & 31 & 180 &  68 & France & FRA & 2012 Summer & 2012 & Summer & London         & Cycling          & Cycling Men's Mountainbike, Cross-Country     & NA    \\\\\n\t 583 & Julien Absalon                     & M & 35 & 180 &  68 & France & FRA & 2016 Summer & 2016 & Summer & Rio de Janeiro & Cycling          & Cycling Men's Mountainbike, Cross-Country     & NA    \\\\\n\t 626 & Alain Acart                        & M & 21 & 175 &  67 & France & FRA & 1972 Summer & 1972 & Summer & Munich         & Canoeing         & Canoeing Men's Canadian Doubles, 1,000 metres & NA    \\\\\n\t 626 & Alain Acart                        & M & 25 & 175 &  67 & France & FRA & 1976 Summer & 1976 & Summer & Montreal       & Canoeing         & Canoeing Men's Canadian Doubles, 1,000 metres & NA    \\\\\n\t 628 & Jacques Accambray                  & M & 22 & 194 & 125 & France & FRA & 1972 Summer & 1972 & Summer & Munich         & Athletics        & Athletics Men's Hammer Throw                  & NA    \\\\\n\t 628 & Jacques Accambray                  & M & 26 & 194 & 125 & France & FRA & 1976 Summer & 1976 & Summer & Montreal       & Athletics        & Athletics Men's Hammer Throw                  & NA    \\\\\n\t 629 & William Accambray                  & M & 24 & 194 & 104 & France & FRA & 2012 Summer & 2012 & Summer & London         & Handball         & Handball Men's Handball                       & Gold  \\\\\n\t 676 & Gaston Achille                     & M & NA &  NA &  NA & France & FRA & 1900 Summer & 1900 & Summer & Paris          & Fencing          & Fencing Men's epee, Individual                & NA    \\\\\n\t 677 & Georges Achille-Fould              & F & 55 &  NA &  NA & France & FRA & 1924 Summer & 1924 & Summer & Paris          & Art Competitions & Art Competitions Mixed Painting               & NA    \\\\\n\t 757 & Adam                               & M & NA &  NA &  NA & France & FRA & 1900 Summer & 1900 & Summer & Paris          & Fencing          & Fencing Men's epee, Individual                & NA    \\\\\n\t 758 & Adam                               & M & NA &  NA &  NA & France & FRA & 1900 Summer & 1900 & Summer & Paris          & Swimming         & Swimming Men's 200 metres Freestyle           & NA    \\\\\n\t ⋮ & ⋮ & ⋮ & ⋮ & ⋮ & ⋮ & ⋮ & ⋮ & ⋮ & ⋮ & ⋮ & ⋮ & ⋮ & ⋮ & ⋮\\\\\n\t 93088 & Carole Pon                       & F & 29 & 162 & 52 & France & FRA & 2008 Summer & 2008 & Summer & Beijing        & Triathlon      & Triathlon Women's Olympic Distance                                & NA    \\\\\n\t 93088 & Carole Pon                       & F & 33 & 162 & 52 & France & FRA & 2012 Summer & 2012 & Summer & London         & Triathlon      & Triathlon Women's Olympic Distance                                & NA    \\\\\n\t 93107 & Thierry Pponnet                  & M & 24 & 166 & 57 & France & FRA & 1984 Summer & 1984 & Summer & Los Angeles    & Sailing        & Sailing Mixed Two Person Dinghy                                   & Bronze\\\\\n\t 93107 & Thierry Pponnet                  & M & 29 & 166 & 57 & France & FRA & 1988 Summer & 1988 & Summer & Seoul          & Sailing        & Sailing Men's Two Person Dinghy                                   & Gold  \\\\\n\t 93115 & Laure Pequegnot                  & F & 22 & 168 & 63 & France & FRA & 1998 Winter & 1998 & Winter & Nagano         & Alpine Skiing  & Alpine Skiing Women's Slalom                                      & NA    \\\\\n\t 93115 & Laure Pequegnot                  & F & 26 & 168 & 63 & France & FRA & 2002 Winter & 2002 & Winter & Salt Lake City & Alpine Skiing  & Alpine Skiing Women's Giant Slalom                                & NA    \\\\\n\t 93115 & Laure Pequegnot                  & F & 26 & 168 & 63 & France & FRA & 2002 Winter & 2002 & Winter & Salt Lake City & Alpine Skiing  & Alpine Skiing Women's Slalom                                      & Silver\\\\\n\t 93115 & Laure Pequegnot                  & F & 30 & 168 & 63 & France & FRA & 2006 Winter & 2006 & Winter & Torino         & Alpine Skiing  & Alpine Skiing Women's Slalom                                      & NA    \\\\\n\t 93117 & Patrick Henri Pera               & M & 19 & 176 & 70 & France & FRA & 1968 Winter & 1968 & Winter & Grenoble       & Figure Skating & Figure Skating Men's Singles                                      & Bronze\\\\\n\t 93117 & Patrick Henri Pera               & M & 23 & 176 & 70 & France & FRA & 1972 Winter & 1972 & Winter & Sapporo        & Figure Skating & Figure Skating Men's Singles                                      & Bronze\\\\\n\t 93121 & Alexandre \"Alex\" Perahia         & M & 26 & 188 & 86 & France & FRA & 1988 Summer & 1988 & Summer & Seoul          & Rowing         & Rowing Men's Coxless Pairs                                        & NA    \\\\\n\t 93146 & Jean-Christophe Praud            & M & 27 & 172 & 62 & France & FRA & 2004 Summer & 2004 & Summer & Athina         & Cycling        & Cycling Men's Mountainbike, Cross-Country                         & NA    \\\\\n\t 93146 & Jean-Christophe Praud            & M & 31 & 172 & 62 & France & FRA & 2008 Summer & 2008 & Summer & Beijing        & Cycling        & Cycling Men's Mountainbike, Cross-Country                         & Silver\\\\\n\t 93146 & Jean-Christophe Praud            & M & 35 & 172 & 62 & France & FRA & 2012 Summer & 2012 & Summer & London         & Cycling        & Cycling Men's Mountainbike, Cross-Country                         & NA    \\\\\n\t 93157 & Louis Percy                      & M & 39 & 170 & NA & France & FRA & 1912 Summer & 1912 & Summer & Stockholm      & Shooting       & Shooting Men's Free Rifle, Three Positions, 300 metres            & NA    \\\\\n\t 93157 & Louis Percy                      & M & 39 & 170 & NA & France & FRA & 1912 Summer & 1912 & Summer & Stockholm      & Shooting       & Shooting Men's Free Rifle, Three Positions, 300 metres, Team      & NA    \\\\\n\t 93157 & Louis Percy                      & M & 39 & 170 & NA & France & FRA & 1912 Summer & 1912 & Summer & Stockholm      & Shooting       & Shooting Men's Military Rifle, Three Positions, 300 metres        & NA    \\\\\n\t 93157 & Louis Percy                      & M & 39 & 170 & NA & France & FRA & 1912 Summer & 1912 & Summer & Stockholm      & Shooting       & Shooting Men's Military Rifle, Any Position, 600 metres           & NA    \\\\\n\t 93157 & Louis Percy                      & M & 39 & 170 & NA & France & FRA & 1912 Summer & 1912 & Summer & Stockholm      & Shooting       & Shooting Men's Military Rifle, 200, 400, 500 and 600 metres, Team & NA    \\\\\n\t 93169 & Marie-Jos Juliana Prec (Hontas-) & F & 20 & 180 & 60 & France & FRA & 1988 Summer & 1988 & Summer & Seoul          & Athletics      & Athletics Women's 200 metres                                      & NA    \\\\\n\t 93169 & Marie-Jos Juliana Prec (Hontas-) & F & 24 & 180 & 60 & France & FRA & 1992 Summer & 1992 & Summer & Barcelona      & Athletics      & Athletics Women's 400 metres                                      & Gold  \\\\\n\t 93169 & Marie-Jos Juliana Prec (Hontas-) & F & 24 & 180 & 60 & France & FRA & 1992 Summer & 1992 & Summer & Barcelona      & Athletics      & Athletics Women's 4 x 100 metres Relay                            & NA    \\\\\n\t 93169 & Marie-Jos Juliana Prec (Hontas-) & F & 28 & 180 & 60 & France & FRA & 1996 Summer & 1996 & Summer & Atlanta        & Athletics      & Athletics Women's 200 metres                                      & Gold  \\\\\n\t 93169 & Marie-Jos Juliana Prec (Hontas-) & F & 28 & 180 & 60 & France & FRA & 1996 Summer & 1996 & Summer & Atlanta        & Athletics      & Athletics Women's 400 metres                                      & Gold  \\\\\n\t 93169 & Marie-Jos Juliana Prec (Hontas-) & F & 28 & 180 & 60 & France & FRA & 1996 Summer & 1996 & Summer & Atlanta        & Athletics      & Athletics Women's 4 x 100 metres Relay                            & NA    \\\\\n\t 93244 & Delphyne Peretto                 & F & 24 & 170 & 56 & France & FRA & 2006 Winter & 2006 & Winter & Torino         & Biathlon       & Biathlon Women's 7.5 kilometres Sprint                            & NA    \\\\\n\t 93244 & Delphyne Peretto                 & F & 24 & 170 & 56 & France & FRA & 2006 Winter & 2006 & Winter & Torino         & Biathlon       & Biathlon Women's 10 kilometres Pursuit                            & NA    \\\\\n\t 93244 & Delphyne Peretto                 & F & 24 & 170 & 56 & France & FRA & 2006 Winter & 2006 & Winter & Torino         & Biathlon       & Biathlon Women's 12.5 kilometres Mass Start                       & NA    \\\\\n\t 93244 & Delphyne Peretto                 & F & 24 & 170 & 56 & France & FRA & 2006 Winter & 2006 & Winter & Torino         & Biathlon       & Biathlon Women's 15 kilometres                                    & NA    \\\\\n\t 93244 & Delphyne Peretto                 & F & 24 & 170 & 56 & France & FRA & 2006 Winter & 2006 & Winter & Torino         & Biathlon       & Biathlon Women's 4 x 6 kilometres Relay                           & Bronze\\\\\n\\end{tabular}\n",
            "text/markdown": "\nA data.frame: 9183 × 15\n\n| ID &lt;int&gt; | Name &lt;chr&gt; | Sex &lt;chr&gt; | Age &lt;int&gt; | Height &lt;int&gt; | Weight &lt;dbl&gt; | Team &lt;chr&gt; | NOC &lt;chr&gt; | Games &lt;chr&gt; | Year &lt;int&gt; | Season &lt;chr&gt; | City &lt;chr&gt; | Sport &lt;chr&gt; | Event &lt;chr&gt; | Medal &lt;chr&gt; |\n|---|---|---|---|---|---|---|---|---|---|---|---|---|---|---|\n|  34 | Jamale (Djamel-) Aarrass (Ahrass-) | M | 30 | 187 |  76 | France | FRA | 2012 Summer | 2012 | Summer | London         | Athletics        | Athletics Men's 1,500 metres                  | NA     |\n|  52 | Patrick Abada                      | M | 22 | 189 |  80 | France | FRA | 1976 Summer | 1976 | Summer | Montreal       | Athletics        | Athletics Men's Pole Vault                    | NA     |\n|  56 | Ren Abadie                         | M | 21 |  NA |  NA | France | FRA | 1956 Summer | 1956 | Summer | Melbourne      | Cycling          | Cycling Men's Road Race, Individual           | NA     |\n|  56 | Ren Abadie                         | M | 21 |  NA |  NA | France | FRA | 1956 Summer | 1956 | Summer | Melbourne      | Cycling          | Cycling Men's Road Race, Team                 | Gold   |\n|  73 | Luc Abalo                          | M | 23 | 182 |  86 | France | FRA | 2008 Summer | 2008 | Summer | Beijing        | Handball         | Handball Men's Handball                       | Gold   |\n|  73 | Luc Abalo                          | M | 27 | 182 |  86 | France | FRA | 2012 Summer | 2012 | Summer | London         | Handball         | Handball Men's Handball                       | Gold   |\n|  73 | Luc Abalo                          | M | 31 | 182 |  86 | France | FRA | 2016 Summer | 2016 | Summer | Rio de Janeiro | Handball         | Handball Men's Handball                       | Silver |\n|  93 | Jol Marc Abati                     | M | 34 | 190 |  85 | France | FRA | 2004 Summer | 2004 | Summer | Athina         | Handball         | Handball Men's Handball                       | NA     |\n|  93 | Jol Marc Abati                     | M | 38 | 190 |  85 | France | FRA | 2008 Summer | 2008 | Summer | Beijing        | Handball         | Handball Men's Handball                       | Gold   |\n| 167 | Ould Lamine Abdallah               | M | NA |  NA |  NA | France | FRA | 1952 Summer | 1952 | Summer | Helsinki       | Athletics        | Athletics Men's 10,000 metres                 | NA     |\n| 237 | Ben Ahmed Abdelkrim                | M | 20 |  NA |  NA | France | FRA | 1952 Summer | 1952 | Summer | Helsinki       | Athletics        | Athletics Men's 5,000 metres                  | NA     |\n| 434 | David Abibssira                    | M | 21 | 179 |  63 | France | FRA | 1984 Summer | 1984 | Summer | Los Angeles    | Shooting         | Shooting Men's Running Target, 50 metres      | NA     |\n| 444 | Camille Anne Franoise Abily        | F | 27 | 168 |  60 | France | FRA | 2012 Summer | 2012 | Summer | London         | Football         | Football Women's Football                     | NA     |\n| 444 | Camille Anne Franoise Abily        | F | 31 | 168 |  60 | France | FRA | 2016 Summer | 2016 | Summer | Rio de Janeiro | Football         | Football Women's Football                     | NA     |\n| 515 | Stphan Abrahamian Gonzalez         | M | 22 |  NA |  NA | France | FRA | 1968 Summer | 1968 | Summer | Mexico City    | Cycling          | Cycling Men's Road Race, Individual           | NA     |\n| 558 | David Abrard                       | M | 19 | 187 |  81 | France | FRA | 1996 Summer | 1996 | Summer | Atlanta        | Swimming         | Swimming Men's 200 metres Butterfly           | NA     |\n| 573 | Franck Abrial                      | M | 24 | 174 |  68 | France | FRA | 1988 Summer | 1988 | Summer | Seoul          | Wrestling        | Wrestling Men's Lightweight, Greco-Roman      | NA     |\n| 583 | Julien Absalon                     | M | 23 | 180 |  68 | France | FRA | 2004 Summer | 2004 | Summer | Athina         | Cycling          | Cycling Men's Mountainbike, Cross-Country     | Gold   |\n| 583 | Julien Absalon                     | M | 27 | 180 |  68 | France | FRA | 2008 Summer | 2008 | Summer | Beijing        | Cycling          | Cycling Men's Mountainbike, Cross-Country     | Gold   |\n| 583 | Julien Absalon                     | M | 31 | 180 |  68 | France | FRA | 2012 Summer | 2012 | Summer | London         | Cycling          | Cycling Men's Mountainbike, Cross-Country     | NA     |\n| 583 | Julien Absalon                     | M | 35 | 180 |  68 | France | FRA | 2016 Summer | 2016 | Summer | Rio de Janeiro | Cycling          | Cycling Men's Mountainbike, Cross-Country     | NA     |\n| 626 | Alain Acart                        | M | 21 | 175 |  67 | France | FRA | 1972 Summer | 1972 | Summer | Munich         | Canoeing         | Canoeing Men's Canadian Doubles, 1,000 metres | NA     |\n| 626 | Alain Acart                        | M | 25 | 175 |  67 | France | FRA | 1976 Summer | 1976 | Summer | Montreal       | Canoeing         | Canoeing Men's Canadian Doubles, 1,000 metres | NA     |\n| 628 | Jacques Accambray                  | M | 22 | 194 | 125 | France | FRA | 1972 Summer | 1972 | Summer | Munich         | Athletics        | Athletics Men's Hammer Throw                  | NA     |\n| 628 | Jacques Accambray                  | M | 26 | 194 | 125 | France | FRA | 1976 Summer | 1976 | Summer | Montreal       | Athletics        | Athletics Men's Hammer Throw                  | NA     |\n| 629 | William Accambray                  | M | 24 | 194 | 104 | France | FRA | 2012 Summer | 2012 | Summer | London         | Handball         | Handball Men's Handball                       | Gold   |\n| 676 | Gaston Achille                     | M | NA |  NA |  NA | France | FRA | 1900 Summer | 1900 | Summer | Paris          | Fencing          | Fencing Men's epee, Individual                | NA     |\n| 677 | Georges Achille-Fould              | F | 55 |  NA |  NA | France | FRA | 1924 Summer | 1924 | Summer | Paris          | Art Competitions | Art Competitions Mixed Painting               | NA     |\n| 757 | Adam                               | M | NA |  NA |  NA | France | FRA | 1900 Summer | 1900 | Summer | Paris          | Fencing          | Fencing Men's epee, Individual                | NA     |\n| 758 | Adam                               | M | NA |  NA |  NA | France | FRA | 1900 Summer | 1900 | Summer | Paris          | Swimming         | Swimming Men's 200 metres Freestyle           | NA     |\n| ⋮ | ⋮ | ⋮ | ⋮ | ⋮ | ⋮ | ⋮ | ⋮ | ⋮ | ⋮ | ⋮ | ⋮ | ⋮ | ⋮ | ⋮ |\n| 93088 | Carole Pon                       | F | 29 | 162 | 52 | France | FRA | 2008 Summer | 2008 | Summer | Beijing        | Triathlon      | Triathlon Women's Olympic Distance                                | NA     |\n| 93088 | Carole Pon                       | F | 33 | 162 | 52 | France | FRA | 2012 Summer | 2012 | Summer | London         | Triathlon      | Triathlon Women's Olympic Distance                                | NA     |\n| 93107 | Thierry Pponnet                  | M | 24 | 166 | 57 | France | FRA | 1984 Summer | 1984 | Summer | Los Angeles    | Sailing        | Sailing Mixed Two Person Dinghy                                   | Bronze |\n| 93107 | Thierry Pponnet                  | M | 29 | 166 | 57 | France | FRA | 1988 Summer | 1988 | Summer | Seoul          | Sailing        | Sailing Men's Two Person Dinghy                                   | Gold   |\n| 93115 | Laure Pequegnot                  | F | 22 | 168 | 63 | France | FRA | 1998 Winter | 1998 | Winter | Nagano         | Alpine Skiing  | Alpine Skiing Women's Slalom                                      | NA     |\n| 93115 | Laure Pequegnot                  | F | 26 | 168 | 63 | France | FRA | 2002 Winter | 2002 | Winter | Salt Lake City | Alpine Skiing  | Alpine Skiing Women's Giant Slalom                                | NA     |\n| 93115 | Laure Pequegnot                  | F | 26 | 168 | 63 | France | FRA | 2002 Winter | 2002 | Winter | Salt Lake City | Alpine Skiing  | Alpine Skiing Women's Slalom                                      | Silver |\n| 93115 | Laure Pequegnot                  | F | 30 | 168 | 63 | France | FRA | 2006 Winter | 2006 | Winter | Torino         | Alpine Skiing  | Alpine Skiing Women's Slalom                                      | NA     |\n| 93117 | Patrick Henri Pera               | M | 19 | 176 | 70 | France | FRA | 1968 Winter | 1968 | Winter | Grenoble       | Figure Skating | Figure Skating Men's Singles                                      | Bronze |\n| 93117 | Patrick Henri Pera               | M | 23 | 176 | 70 | France | FRA | 1972 Winter | 1972 | Winter | Sapporo        | Figure Skating | Figure Skating Men's Singles                                      | Bronze |\n| 93121 | Alexandre \"Alex\" Perahia         | M | 26 | 188 | 86 | France | FRA | 1988 Summer | 1988 | Summer | Seoul          | Rowing         | Rowing Men's Coxless Pairs                                        | NA     |\n| 93146 | Jean-Christophe Praud            | M | 27 | 172 | 62 | France | FRA | 2004 Summer | 2004 | Summer | Athina         | Cycling        | Cycling Men's Mountainbike, Cross-Country                         | NA     |\n| 93146 | Jean-Christophe Praud            | M | 31 | 172 | 62 | France | FRA | 2008 Summer | 2008 | Summer | Beijing        | Cycling        | Cycling Men's Mountainbike, Cross-Country                         | Silver |\n| 93146 | Jean-Christophe Praud            | M | 35 | 172 | 62 | France | FRA | 2012 Summer | 2012 | Summer | London         | Cycling        | Cycling Men's Mountainbike, Cross-Country                         | NA     |\n| 93157 | Louis Percy                      | M | 39 | 170 | NA | France | FRA | 1912 Summer | 1912 | Summer | Stockholm      | Shooting       | Shooting Men's Free Rifle, Three Positions, 300 metres            | NA     |\n| 93157 | Louis Percy                      | M | 39 | 170 | NA | France | FRA | 1912 Summer | 1912 | Summer | Stockholm      | Shooting       | Shooting Men's Free Rifle, Three Positions, 300 metres, Team      | NA     |\n| 93157 | Louis Percy                      | M | 39 | 170 | NA | France | FRA | 1912 Summer | 1912 | Summer | Stockholm      | Shooting       | Shooting Men's Military Rifle, Three Positions, 300 metres        | NA     |\n| 93157 | Louis Percy                      | M | 39 | 170 | NA | France | FRA | 1912 Summer | 1912 | Summer | Stockholm      | Shooting       | Shooting Men's Military Rifle, Any Position, 600 metres           | NA     |\n| 93157 | Louis Percy                      | M | 39 | 170 | NA | France | FRA | 1912 Summer | 1912 | Summer | Stockholm      | Shooting       | Shooting Men's Military Rifle, 200, 400, 500 and 600 metres, Team | NA     |\n| 93169 | Marie-Jos Juliana Prec (Hontas-) | F | 20 | 180 | 60 | France | FRA | 1988 Summer | 1988 | Summer | Seoul          | Athletics      | Athletics Women's 200 metres                                      | NA     |\n| 93169 | Marie-Jos Juliana Prec (Hontas-) | F | 24 | 180 | 60 | France | FRA | 1992 Summer | 1992 | Summer | Barcelona      | Athletics      | Athletics Women's 400 metres                                      | Gold   |\n| 93169 | Marie-Jos Juliana Prec (Hontas-) | F | 24 | 180 | 60 | France | FRA | 1992 Summer | 1992 | Summer | Barcelona      | Athletics      | Athletics Women's 4 x 100 metres Relay                            | NA     |\n| 93169 | Marie-Jos Juliana Prec (Hontas-) | F | 28 | 180 | 60 | France | FRA | 1996 Summer | 1996 | Summer | Atlanta        | Athletics      | Athletics Women's 200 metres                                      | Gold   |\n| 93169 | Marie-Jos Juliana Prec (Hontas-) | F | 28 | 180 | 60 | France | FRA | 1996 Summer | 1996 | Summer | Atlanta        | Athletics      | Athletics Women's 400 metres                                      | Gold   |\n| 93169 | Marie-Jos Juliana Prec (Hontas-) | F | 28 | 180 | 60 | France | FRA | 1996 Summer | 1996 | Summer | Atlanta        | Athletics      | Athletics Women's 4 x 100 metres Relay                            | NA     |\n| 93244 | Delphyne Peretto                 | F | 24 | 170 | 56 | France | FRA | 2006 Winter | 2006 | Winter | Torino         | Biathlon       | Biathlon Women's 7.5 kilometres Sprint                            | NA     |\n| 93244 | Delphyne Peretto                 | F | 24 | 170 | 56 | France | FRA | 2006 Winter | 2006 | Winter | Torino         | Biathlon       | Biathlon Women's 10 kilometres Pursuit                            | NA     |\n| 93244 | Delphyne Peretto                 | F | 24 | 170 | 56 | France | FRA | 2006 Winter | 2006 | Winter | Torino         | Biathlon       | Biathlon Women's 12.5 kilometres Mass Start                       | NA     |\n| 93244 | Delphyne Peretto                 | F | 24 | 170 | 56 | France | FRA | 2006 Winter | 2006 | Winter | Torino         | Biathlon       | Biathlon Women's 15 kilometres                                    | NA     |\n| 93244 | Delphyne Peretto                 | F | 24 | 170 | 56 | France | FRA | 2006 Winter | 2006 | Winter | Torino         | Biathlon       | Biathlon Women's 4 x 6 kilometres Relay                           | Bronze |\n\n",
            "text/html": [
              "<table>\n",
              "<caption>A data.frame: 9183 × 15</caption>\n",
              "<thead>\n",
              "\t<tr><th scope=col>ID</th><th scope=col>Name</th><th scope=col>Sex</th><th scope=col>Age</th><th scope=col>Height</th><th scope=col>Weight</th><th scope=col>Team</th><th scope=col>NOC</th><th scope=col>Games</th><th scope=col>Year</th><th scope=col>Season</th><th scope=col>City</th><th scope=col>Sport</th><th scope=col>Event</th><th scope=col>Medal</th></tr>\n",
              "\t<tr><th scope=col>&lt;int&gt;</th><th scope=col>&lt;chr&gt;</th><th scope=col>&lt;chr&gt;</th><th scope=col>&lt;int&gt;</th><th scope=col>&lt;int&gt;</th><th scope=col>&lt;dbl&gt;</th><th scope=col>&lt;chr&gt;</th><th scope=col>&lt;chr&gt;</th><th scope=col>&lt;chr&gt;</th><th scope=col>&lt;int&gt;</th><th scope=col>&lt;chr&gt;</th><th scope=col>&lt;chr&gt;</th><th scope=col>&lt;chr&gt;</th><th scope=col>&lt;chr&gt;</th><th scope=col>&lt;chr&gt;</th></tr>\n",
              "</thead>\n",
              "<tbody>\n",
              "\t<tr><td> 34</td><td>Jamale (Djamel-) Aarrass (Ahrass-)</td><td>M</td><td>30</td><td>187</td><td> 76</td><td>France</td><td>FRA</td><td>2012 Summer</td><td>2012</td><td>Summer</td><td>London        </td><td>Athletics       </td><td>Athletics Men's 1,500 metres                 </td><td>NA    </td></tr>\n",
              "\t<tr><td> 52</td><td>Patrick Abada                     </td><td>M</td><td>22</td><td>189</td><td> 80</td><td>France</td><td>FRA</td><td>1976 Summer</td><td>1976</td><td>Summer</td><td>Montreal      </td><td>Athletics       </td><td>Athletics Men's Pole Vault                   </td><td>NA    </td></tr>\n",
              "\t<tr><td> 56</td><td>Ren Abadie                        </td><td>M</td><td>21</td><td> NA</td><td> NA</td><td>France</td><td>FRA</td><td>1956 Summer</td><td>1956</td><td>Summer</td><td>Melbourne     </td><td>Cycling         </td><td>Cycling Men's Road Race, Individual          </td><td>NA    </td></tr>\n",
              "\t<tr><td> 56</td><td>Ren Abadie                        </td><td>M</td><td>21</td><td> NA</td><td> NA</td><td>France</td><td>FRA</td><td>1956 Summer</td><td>1956</td><td>Summer</td><td>Melbourne     </td><td>Cycling         </td><td>Cycling Men's Road Race, Team                </td><td>Gold  </td></tr>\n",
              "\t<tr><td> 73</td><td>Luc Abalo                         </td><td>M</td><td>23</td><td>182</td><td> 86</td><td>France</td><td>FRA</td><td>2008 Summer</td><td>2008</td><td>Summer</td><td>Beijing       </td><td>Handball        </td><td>Handball Men's Handball                      </td><td>Gold  </td></tr>\n",
              "\t<tr><td> 73</td><td>Luc Abalo                         </td><td>M</td><td>27</td><td>182</td><td> 86</td><td>France</td><td>FRA</td><td>2012 Summer</td><td>2012</td><td>Summer</td><td>London        </td><td>Handball        </td><td>Handball Men's Handball                      </td><td>Gold  </td></tr>\n",
              "\t<tr><td> 73</td><td>Luc Abalo                         </td><td>M</td><td>31</td><td>182</td><td> 86</td><td>France</td><td>FRA</td><td>2016 Summer</td><td>2016</td><td>Summer</td><td>Rio de Janeiro</td><td>Handball        </td><td>Handball Men's Handball                      </td><td>Silver</td></tr>\n",
              "\t<tr><td> 93</td><td>Jol Marc Abati                    </td><td>M</td><td>34</td><td>190</td><td> 85</td><td>France</td><td>FRA</td><td>2004 Summer</td><td>2004</td><td>Summer</td><td>Athina        </td><td>Handball        </td><td>Handball Men's Handball                      </td><td>NA    </td></tr>\n",
              "\t<tr><td> 93</td><td>Jol Marc Abati                    </td><td>M</td><td>38</td><td>190</td><td> 85</td><td>France</td><td>FRA</td><td>2008 Summer</td><td>2008</td><td>Summer</td><td>Beijing       </td><td>Handball        </td><td>Handball Men's Handball                      </td><td>Gold  </td></tr>\n",
              "\t<tr><td>167</td><td>Ould Lamine Abdallah              </td><td>M</td><td>NA</td><td> NA</td><td> NA</td><td>France</td><td>FRA</td><td>1952 Summer</td><td>1952</td><td>Summer</td><td>Helsinki      </td><td>Athletics       </td><td>Athletics Men's 10,000 metres                </td><td>NA    </td></tr>\n",
              "\t<tr><td>237</td><td>Ben Ahmed Abdelkrim               </td><td>M</td><td>20</td><td> NA</td><td> NA</td><td>France</td><td>FRA</td><td>1952 Summer</td><td>1952</td><td>Summer</td><td>Helsinki      </td><td>Athletics       </td><td>Athletics Men's 5,000 metres                 </td><td>NA    </td></tr>\n",
              "\t<tr><td>434</td><td>David Abibssira                   </td><td>M</td><td>21</td><td>179</td><td> 63</td><td>France</td><td>FRA</td><td>1984 Summer</td><td>1984</td><td>Summer</td><td>Los Angeles   </td><td>Shooting        </td><td>Shooting Men's Running Target, 50 metres     </td><td>NA    </td></tr>\n",
              "\t<tr><td>444</td><td>Camille Anne Franoise Abily       </td><td>F</td><td>27</td><td>168</td><td> 60</td><td>France</td><td>FRA</td><td>2012 Summer</td><td>2012</td><td>Summer</td><td>London        </td><td>Football        </td><td>Football Women's Football                    </td><td>NA    </td></tr>\n",
              "\t<tr><td>444</td><td>Camille Anne Franoise Abily       </td><td>F</td><td>31</td><td>168</td><td> 60</td><td>France</td><td>FRA</td><td>2016 Summer</td><td>2016</td><td>Summer</td><td>Rio de Janeiro</td><td>Football        </td><td>Football Women's Football                    </td><td>NA    </td></tr>\n",
              "\t<tr><td>515</td><td>Stphan Abrahamian Gonzalez        </td><td>M</td><td>22</td><td> NA</td><td> NA</td><td>France</td><td>FRA</td><td>1968 Summer</td><td>1968</td><td>Summer</td><td>Mexico City   </td><td>Cycling         </td><td>Cycling Men's Road Race, Individual          </td><td>NA    </td></tr>\n",
              "\t<tr><td>558</td><td>David Abrard                      </td><td>M</td><td>19</td><td>187</td><td> 81</td><td>France</td><td>FRA</td><td>1996 Summer</td><td>1996</td><td>Summer</td><td>Atlanta       </td><td>Swimming        </td><td>Swimming Men's 200 metres Butterfly          </td><td>NA    </td></tr>\n",
              "\t<tr><td>573</td><td>Franck Abrial                     </td><td>M</td><td>24</td><td>174</td><td> 68</td><td>France</td><td>FRA</td><td>1988 Summer</td><td>1988</td><td>Summer</td><td>Seoul         </td><td>Wrestling       </td><td>Wrestling Men's Lightweight, Greco-Roman     </td><td>NA    </td></tr>\n",
              "\t<tr><td>583</td><td>Julien Absalon                    </td><td>M</td><td>23</td><td>180</td><td> 68</td><td>France</td><td>FRA</td><td>2004 Summer</td><td>2004</td><td>Summer</td><td>Athina        </td><td>Cycling         </td><td>Cycling Men's Mountainbike, Cross-Country    </td><td>Gold  </td></tr>\n",
              "\t<tr><td>583</td><td>Julien Absalon                    </td><td>M</td><td>27</td><td>180</td><td> 68</td><td>France</td><td>FRA</td><td>2008 Summer</td><td>2008</td><td>Summer</td><td>Beijing       </td><td>Cycling         </td><td>Cycling Men's Mountainbike, Cross-Country    </td><td>Gold  </td></tr>\n",
              "\t<tr><td>583</td><td>Julien Absalon                    </td><td>M</td><td>31</td><td>180</td><td> 68</td><td>France</td><td>FRA</td><td>2012 Summer</td><td>2012</td><td>Summer</td><td>London        </td><td>Cycling         </td><td>Cycling Men's Mountainbike, Cross-Country    </td><td>NA    </td></tr>\n",
              "\t<tr><td>583</td><td>Julien Absalon                    </td><td>M</td><td>35</td><td>180</td><td> 68</td><td>France</td><td>FRA</td><td>2016 Summer</td><td>2016</td><td>Summer</td><td>Rio de Janeiro</td><td>Cycling         </td><td>Cycling Men's Mountainbike, Cross-Country    </td><td>NA    </td></tr>\n",
              "\t<tr><td>626</td><td>Alain Acart                       </td><td>M</td><td>21</td><td>175</td><td> 67</td><td>France</td><td>FRA</td><td>1972 Summer</td><td>1972</td><td>Summer</td><td>Munich        </td><td>Canoeing        </td><td>Canoeing Men's Canadian Doubles, 1,000 metres</td><td>NA    </td></tr>\n",
              "\t<tr><td>626</td><td>Alain Acart                       </td><td>M</td><td>25</td><td>175</td><td> 67</td><td>France</td><td>FRA</td><td>1976 Summer</td><td>1976</td><td>Summer</td><td>Montreal      </td><td>Canoeing        </td><td>Canoeing Men's Canadian Doubles, 1,000 metres</td><td>NA    </td></tr>\n",
              "\t<tr><td>628</td><td>Jacques Accambray                 </td><td>M</td><td>22</td><td>194</td><td>125</td><td>France</td><td>FRA</td><td>1972 Summer</td><td>1972</td><td>Summer</td><td>Munich        </td><td>Athletics       </td><td>Athletics Men's Hammer Throw                 </td><td>NA    </td></tr>\n",
              "\t<tr><td>628</td><td>Jacques Accambray                 </td><td>M</td><td>26</td><td>194</td><td>125</td><td>France</td><td>FRA</td><td>1976 Summer</td><td>1976</td><td>Summer</td><td>Montreal      </td><td>Athletics       </td><td>Athletics Men's Hammer Throw                 </td><td>NA    </td></tr>\n",
              "\t<tr><td>629</td><td>William Accambray                 </td><td>M</td><td>24</td><td>194</td><td>104</td><td>France</td><td>FRA</td><td>2012 Summer</td><td>2012</td><td>Summer</td><td>London        </td><td>Handball        </td><td>Handball Men's Handball                      </td><td>Gold  </td></tr>\n",
              "\t<tr><td>676</td><td>Gaston Achille                    </td><td>M</td><td>NA</td><td> NA</td><td> NA</td><td>France</td><td>FRA</td><td>1900 Summer</td><td>1900</td><td>Summer</td><td>Paris         </td><td>Fencing         </td><td>Fencing Men's epee, Individual               </td><td>NA    </td></tr>\n",
              "\t<tr><td>677</td><td>Georges Achille-Fould             </td><td>F</td><td>55</td><td> NA</td><td> NA</td><td>France</td><td>FRA</td><td>1924 Summer</td><td>1924</td><td>Summer</td><td>Paris         </td><td>Art Competitions</td><td>Art Competitions Mixed Painting              </td><td>NA    </td></tr>\n",
              "\t<tr><td>757</td><td>Adam                              </td><td>M</td><td>NA</td><td> NA</td><td> NA</td><td>France</td><td>FRA</td><td>1900 Summer</td><td>1900</td><td>Summer</td><td>Paris         </td><td>Fencing         </td><td>Fencing Men's epee, Individual               </td><td>NA    </td></tr>\n",
              "\t<tr><td>758</td><td>Adam                              </td><td>M</td><td>NA</td><td> NA</td><td> NA</td><td>France</td><td>FRA</td><td>1900 Summer</td><td>1900</td><td>Summer</td><td>Paris         </td><td>Swimming        </td><td>Swimming Men's 200 metres Freestyle          </td><td>NA    </td></tr>\n",
              "\t<tr><td>⋮</td><td>⋮</td><td>⋮</td><td>⋮</td><td>⋮</td><td>⋮</td><td>⋮</td><td>⋮</td><td>⋮</td><td>⋮</td><td>⋮</td><td>⋮</td><td>⋮</td><td>⋮</td><td>⋮</td></tr>\n",
              "\t<tr><td>93088</td><td>Carole Pon                      </td><td>F</td><td>29</td><td>162</td><td>52</td><td>France</td><td>FRA</td><td>2008 Summer</td><td>2008</td><td>Summer</td><td>Beijing       </td><td>Triathlon     </td><td>Triathlon Women's Olympic Distance                               </td><td>NA    </td></tr>\n",
              "\t<tr><td>93088</td><td>Carole Pon                      </td><td>F</td><td>33</td><td>162</td><td>52</td><td>France</td><td>FRA</td><td>2012 Summer</td><td>2012</td><td>Summer</td><td>London        </td><td>Triathlon     </td><td>Triathlon Women's Olympic Distance                               </td><td>NA    </td></tr>\n",
              "\t<tr><td>93107</td><td>Thierry Pponnet                 </td><td>M</td><td>24</td><td>166</td><td>57</td><td>France</td><td>FRA</td><td>1984 Summer</td><td>1984</td><td>Summer</td><td>Los Angeles   </td><td>Sailing       </td><td>Sailing Mixed Two Person Dinghy                                  </td><td>Bronze</td></tr>\n",
              "\t<tr><td>93107</td><td>Thierry Pponnet                 </td><td>M</td><td>29</td><td>166</td><td>57</td><td>France</td><td>FRA</td><td>1988 Summer</td><td>1988</td><td>Summer</td><td>Seoul         </td><td>Sailing       </td><td>Sailing Men's Two Person Dinghy                                  </td><td>Gold  </td></tr>\n",
              "\t<tr><td>93115</td><td>Laure Pequegnot                 </td><td>F</td><td>22</td><td>168</td><td>63</td><td>France</td><td>FRA</td><td>1998 Winter</td><td>1998</td><td>Winter</td><td>Nagano        </td><td>Alpine Skiing </td><td>Alpine Skiing Women's Slalom                                     </td><td>NA    </td></tr>\n",
              "\t<tr><td>93115</td><td>Laure Pequegnot                 </td><td>F</td><td>26</td><td>168</td><td>63</td><td>France</td><td>FRA</td><td>2002 Winter</td><td>2002</td><td>Winter</td><td>Salt Lake City</td><td>Alpine Skiing </td><td>Alpine Skiing Women's Giant Slalom                               </td><td>NA    </td></tr>\n",
              "\t<tr><td>93115</td><td>Laure Pequegnot                 </td><td>F</td><td>26</td><td>168</td><td>63</td><td>France</td><td>FRA</td><td>2002 Winter</td><td>2002</td><td>Winter</td><td>Salt Lake City</td><td>Alpine Skiing </td><td>Alpine Skiing Women's Slalom                                     </td><td>Silver</td></tr>\n",
              "\t<tr><td>93115</td><td>Laure Pequegnot                 </td><td>F</td><td>30</td><td>168</td><td>63</td><td>France</td><td>FRA</td><td>2006 Winter</td><td>2006</td><td>Winter</td><td>Torino        </td><td>Alpine Skiing </td><td>Alpine Skiing Women's Slalom                                     </td><td>NA    </td></tr>\n",
              "\t<tr><td>93117</td><td>Patrick Henri Pera              </td><td>M</td><td>19</td><td>176</td><td>70</td><td>France</td><td>FRA</td><td>1968 Winter</td><td>1968</td><td>Winter</td><td>Grenoble      </td><td>Figure Skating</td><td>Figure Skating Men's Singles                                     </td><td>Bronze</td></tr>\n",
              "\t<tr><td>93117</td><td>Patrick Henri Pera              </td><td>M</td><td>23</td><td>176</td><td>70</td><td>France</td><td>FRA</td><td>1972 Winter</td><td>1972</td><td>Winter</td><td>Sapporo       </td><td>Figure Skating</td><td>Figure Skating Men's Singles                                     </td><td>Bronze</td></tr>\n",
              "\t<tr><td>93121</td><td>Alexandre \"Alex\" Perahia        </td><td>M</td><td>26</td><td>188</td><td>86</td><td>France</td><td>FRA</td><td>1988 Summer</td><td>1988</td><td>Summer</td><td>Seoul         </td><td>Rowing        </td><td>Rowing Men's Coxless Pairs                                       </td><td>NA    </td></tr>\n",
              "\t<tr><td>93146</td><td>Jean-Christophe Praud           </td><td>M</td><td>27</td><td>172</td><td>62</td><td>France</td><td>FRA</td><td>2004 Summer</td><td>2004</td><td>Summer</td><td>Athina        </td><td>Cycling       </td><td>Cycling Men's Mountainbike, Cross-Country                        </td><td>NA    </td></tr>\n",
              "\t<tr><td>93146</td><td>Jean-Christophe Praud           </td><td>M</td><td>31</td><td>172</td><td>62</td><td>France</td><td>FRA</td><td>2008 Summer</td><td>2008</td><td>Summer</td><td>Beijing       </td><td>Cycling       </td><td>Cycling Men's Mountainbike, Cross-Country                        </td><td>Silver</td></tr>\n",
              "\t<tr><td>93146</td><td>Jean-Christophe Praud           </td><td>M</td><td>35</td><td>172</td><td>62</td><td>France</td><td>FRA</td><td>2012 Summer</td><td>2012</td><td>Summer</td><td>London        </td><td>Cycling       </td><td>Cycling Men's Mountainbike, Cross-Country                        </td><td>NA    </td></tr>\n",
              "\t<tr><td>93157</td><td>Louis Percy                     </td><td>M</td><td>39</td><td>170</td><td>NA</td><td>France</td><td>FRA</td><td>1912 Summer</td><td>1912</td><td>Summer</td><td>Stockholm     </td><td>Shooting      </td><td>Shooting Men's Free Rifle, Three Positions, 300 metres           </td><td>NA    </td></tr>\n",
              "\t<tr><td>93157</td><td>Louis Percy                     </td><td>M</td><td>39</td><td>170</td><td>NA</td><td>France</td><td>FRA</td><td>1912 Summer</td><td>1912</td><td>Summer</td><td>Stockholm     </td><td>Shooting      </td><td>Shooting Men's Free Rifle, Three Positions, 300 metres, Team     </td><td>NA    </td></tr>\n",
              "\t<tr><td>93157</td><td>Louis Percy                     </td><td>M</td><td>39</td><td>170</td><td>NA</td><td>France</td><td>FRA</td><td>1912 Summer</td><td>1912</td><td>Summer</td><td>Stockholm     </td><td>Shooting      </td><td>Shooting Men's Military Rifle, Three Positions, 300 metres       </td><td>NA    </td></tr>\n",
              "\t<tr><td>93157</td><td>Louis Percy                     </td><td>M</td><td>39</td><td>170</td><td>NA</td><td>France</td><td>FRA</td><td>1912 Summer</td><td>1912</td><td>Summer</td><td>Stockholm     </td><td>Shooting      </td><td>Shooting Men's Military Rifle, Any Position, 600 metres          </td><td>NA    </td></tr>\n",
              "\t<tr><td>93157</td><td>Louis Percy                     </td><td>M</td><td>39</td><td>170</td><td>NA</td><td>France</td><td>FRA</td><td>1912 Summer</td><td>1912</td><td>Summer</td><td>Stockholm     </td><td>Shooting      </td><td>Shooting Men's Military Rifle, 200, 400, 500 and 600 metres, Team</td><td>NA    </td></tr>\n",
              "\t<tr><td>93169</td><td>Marie-Jos Juliana Prec (Hontas-)</td><td>F</td><td>20</td><td>180</td><td>60</td><td>France</td><td>FRA</td><td>1988 Summer</td><td>1988</td><td>Summer</td><td>Seoul         </td><td>Athletics     </td><td>Athletics Women's 200 metres                                     </td><td>NA    </td></tr>\n",
              "\t<tr><td>93169</td><td>Marie-Jos Juliana Prec (Hontas-)</td><td>F</td><td>24</td><td>180</td><td>60</td><td>France</td><td>FRA</td><td>1992 Summer</td><td>1992</td><td>Summer</td><td>Barcelona     </td><td>Athletics     </td><td>Athletics Women's 400 metres                                     </td><td>Gold  </td></tr>\n",
              "\t<tr><td>93169</td><td>Marie-Jos Juliana Prec (Hontas-)</td><td>F</td><td>24</td><td>180</td><td>60</td><td>France</td><td>FRA</td><td>1992 Summer</td><td>1992</td><td>Summer</td><td>Barcelona     </td><td>Athletics     </td><td>Athletics Women's 4 x 100 metres Relay                           </td><td>NA    </td></tr>\n",
              "\t<tr><td>93169</td><td>Marie-Jos Juliana Prec (Hontas-)</td><td>F</td><td>28</td><td>180</td><td>60</td><td>France</td><td>FRA</td><td>1996 Summer</td><td>1996</td><td>Summer</td><td>Atlanta       </td><td>Athletics     </td><td>Athletics Women's 200 metres                                     </td><td>Gold  </td></tr>\n",
              "\t<tr><td>93169</td><td>Marie-Jos Juliana Prec (Hontas-)</td><td>F</td><td>28</td><td>180</td><td>60</td><td>France</td><td>FRA</td><td>1996 Summer</td><td>1996</td><td>Summer</td><td>Atlanta       </td><td>Athletics     </td><td>Athletics Women's 400 metres                                     </td><td>Gold  </td></tr>\n",
              "\t<tr><td>93169</td><td>Marie-Jos Juliana Prec (Hontas-)</td><td>F</td><td>28</td><td>180</td><td>60</td><td>France</td><td>FRA</td><td>1996 Summer</td><td>1996</td><td>Summer</td><td>Atlanta       </td><td>Athletics     </td><td>Athletics Women's 4 x 100 metres Relay                           </td><td>NA    </td></tr>\n",
              "\t<tr><td>93244</td><td>Delphyne Peretto                </td><td>F</td><td>24</td><td>170</td><td>56</td><td>France</td><td>FRA</td><td>2006 Winter</td><td>2006</td><td>Winter</td><td>Torino        </td><td>Biathlon      </td><td>Biathlon Women's 7.5 kilometres Sprint                           </td><td>NA    </td></tr>\n",
              "\t<tr><td>93244</td><td>Delphyne Peretto                </td><td>F</td><td>24</td><td>170</td><td>56</td><td>France</td><td>FRA</td><td>2006 Winter</td><td>2006</td><td>Winter</td><td>Torino        </td><td>Biathlon      </td><td>Biathlon Women's 10 kilometres Pursuit                           </td><td>NA    </td></tr>\n",
              "\t<tr><td>93244</td><td>Delphyne Peretto                </td><td>F</td><td>24</td><td>170</td><td>56</td><td>France</td><td>FRA</td><td>2006 Winter</td><td>2006</td><td>Winter</td><td>Torino        </td><td>Biathlon      </td><td>Biathlon Women's 12.5 kilometres Mass Start                      </td><td>NA    </td></tr>\n",
              "\t<tr><td>93244</td><td>Delphyne Peretto                </td><td>F</td><td>24</td><td>170</td><td>56</td><td>France</td><td>FRA</td><td>2006 Winter</td><td>2006</td><td>Winter</td><td>Torino        </td><td>Biathlon      </td><td>Biathlon Women's 15 kilometres                                   </td><td>NA    </td></tr>\n",
              "\t<tr><td>93244</td><td>Delphyne Peretto                </td><td>F</td><td>24</td><td>170</td><td>56</td><td>France</td><td>FRA</td><td>2006 Winter</td><td>2006</td><td>Winter</td><td>Torino        </td><td>Biathlon      </td><td>Biathlon Women's 4 x 6 kilometres Relay                          </td><td>Bronze</td></tr>\n",
              "</tbody>\n",
              "</table>\n"
            ]
          },
          "metadata": {
            "tags": []
          }
        }
      ]
    },
    {
      "cell_type": "code",
      "metadata": {
        "id": "qu_CcBp9mRMU",
        "outputId": "3ad3b351-6071-4810-ab0a-4d350ed7fd5d",
        "colab": {
          "base_uri": "https://localhost:8080/",
          "height": 34
        }
      },
      "source": [
        "### Dimension des données\n",
        "\n",
        "dim(dataset)"
      ],
      "execution_count": 37,
      "outputs": [
        {
          "output_type": "display_data",
          "data": {
            "text/plain": [
              "[1] 185478     15"
            ],
            "text/latex": "\\begin{enumerate*}\n\\item 185478\n\\item 15\n\\end{enumerate*}\n",
            "text/markdown": "1. 185478\n2. 15\n\n\n",
            "text/html": [
              "<style>\n",
              ".list-inline {list-style: none; margin:0; padding: 0}\n",
              ".list-inline>li {display: inline-block}\n",
              ".list-inline>li:not(:last-child)::after {content: \"\\00b7\"; padding: 0 .5ex}\n",
              "</style>\n",
              "<ol class=list-inline><li>185478</li><li>15</li></ol>\n"
            ]
          },
          "metadata": {
            "tags": []
          }
        }
      ]
    },
    {
      "cell_type": "code",
      "metadata": {
        "id": "JiPlcSt0mRMb",
        "outputId": "588d07a7-ad32-403a-bcbd-2ba33037779a",
        "colab": {
          "base_uri": "https://localhost:8080/",
          "height": 68
        }
      },
      "source": [
        "#### Type de données pour chaque variable\n",
        "\n",
        "sapply(dataset, class)"
      ],
      "execution_count": 38,
      "outputs": [
        {
          "output_type": "display_data",
          "data": {
            "text/plain": [
              "         ID        Name         Sex         Age      Height      Weight \n",
              "  \"integer\" \"character\" \"character\"   \"integer\"   \"integer\"   \"numeric\" \n",
              "       Team         NOC       Games        Year      Season        City \n",
              "\"character\" \"character\" \"character\"   \"integer\" \"character\" \"character\" \n",
              "      Sport       Event       Medal \n",
              "\"character\" \"character\" \"character\" "
            ],
            "text/latex": "\\begin{description*}\n\\item[ID] 'integer'\n\\item[Name] 'character'\n\\item[Sex] 'character'\n\\item[Age] 'integer'\n\\item[Height] 'integer'\n\\item[Weight] 'numeric'\n\\item[Team] 'character'\n\\item[NOC] 'character'\n\\item[Games] 'character'\n\\item[Year] 'integer'\n\\item[Season] 'character'\n\\item[City] 'character'\n\\item[Sport] 'character'\n\\item[Event] 'character'\n\\item[Medal] 'character'\n\\end{description*}\n",
            "text/markdown": "ID\n:   'integer'Name\n:   'character'Sex\n:   'character'Age\n:   'integer'Height\n:   'integer'Weight\n:   'numeric'Team\n:   'character'NOC\n:   'character'Games\n:   'character'Year\n:   'integer'Season\n:   'character'City\n:   'character'Sport\n:   'character'Event\n:   'character'Medal\n:   'character'\n\n",
            "text/html": [
              "<style>\n",
              ".dl-inline {width: auto; margin:0; padding: 0}\n",
              ".dl-inline>dt, .dl-inline>dd {float: none; width: auto; display: inline-block}\n",
              ".dl-inline>dt::after {content: \":\\0020\"; padding-right: .5ex}\n",
              ".dl-inline>dt:not(:first-of-type) {padding-left: .5ex}\n",
              "</style><dl class=dl-inline><dt>ID</dt><dd>'integer'</dd><dt>Name</dt><dd>'character'</dd><dt>Sex</dt><dd>'character'</dd><dt>Age</dt><dd>'integer'</dd><dt>Height</dt><dd>'integer'</dd><dt>Weight</dt><dd>'numeric'</dd><dt>Team</dt><dd>'character'</dd><dt>NOC</dt><dd>'character'</dd><dt>Games</dt><dd>'character'</dd><dt>Year</dt><dd>'integer'</dd><dt>Season</dt><dd>'character'</dd><dt>City</dt><dd>'character'</dd><dt>Sport</dt><dd>'character'</dd><dt>Event</dt><dd>'character'</dd><dt>Medal</dt><dd>'character'</dd></dl>\n"
            ]
          },
          "metadata": {
            "tags": []
          }
        }
      ]
    },
    {
      "cell_type": "code",
      "metadata": {
        "id": "EHnYRW5lmRMi",
        "outputId": "367cb324-ab6a-4c0e-cb6a-903f01033d57",
        "colab": {
          "base_uri": "https://localhost:8080/",
          "height": 561
        }
      },
      "source": [
        "#### Summury des données\n",
        "\n",
        "summary(dataset)"
      ],
      "execution_count": 39,
      "outputs": [
        {
          "output_type": "display_data",
          "data": {
            "text/plain": [
              "       ID            Name               Sex                 Age       \n",
              " Min.   :    1   Length:185478      Length:185478      Min.   :10.00  \n",
              " 1st Qu.:23921   Class :character   Class :character   1st Qu.:21.00  \n",
              " Median :46989   Mode  :character   Mode  :character   Median :24.00  \n",
              " Mean   :46901                                         Mean   :25.56  \n",
              " 3rd Qu.:69880                                         3rd Qu.:28.00  \n",
              " Max.   :93247                                         Max.   :96.00  \n",
              "                                                       NA's   :6477   \n",
              "     Height          Weight           Team               NOC           \n",
              " Min.   :127.0   Min.   : 25.00   Length:185478      Length:185478     \n",
              " 1st Qu.:168.0   1st Qu.: 60.00   Class :character   Class :character  \n",
              " Median :175.0   Median : 70.00   Mode  :character   Mode  :character  \n",
              " Mean   :175.3   Mean   : 70.71                                        \n",
              " 3rd Qu.:183.0   3rd Qu.: 79.00                                        \n",
              " Max.   :223.0   Max.   :214.00                                        \n",
              " NA's   :41398   NA's   :43410                                         \n",
              "    Games                Year         Season              City          \n",
              " Length:185478      Min.   :1896   Length:185478      Length:185478     \n",
              " Class :character   1st Qu.:1960   Class :character   Class :character  \n",
              " Mode  :character   Median :1988   Mode  :character   Mode  :character  \n",
              "                    Mean   :1978                                        \n",
              "                    3rd Qu.:2002                                        \n",
              "                    Max.   :2016                                        \n",
              "                                                                        \n",
              "    Sport              Event              Medal          \n",
              " Length:185478      Length:185478      Length:185478     \n",
              " Class :character   Class :character   Class :character  \n",
              " Mode  :character   Mode  :character   Mode  :character  \n",
              "                                                         \n",
              "                                                         \n",
              "                                                         \n",
              "                                                         "
            ]
          },
          "metadata": {
            "tags": []
          }
        }
      ]
    },
    {
      "cell_type": "code",
      "metadata": {
        "id": "blR2B7A4mRMo"
      },
      "source": [
        "#### Chargement dplyr\n",
        "\n",
        "library(\"dplyr\")"
      ],
      "execution_count": 40,
      "outputs": []
    },
    {
      "cell_type": "code",
      "metadata": {
        "id": "URU77w3ZmRMy",
        "outputId": "435afb4d-85f3-45d3-af95-06246a40b089",
        "colab": {
          "base_uri": "https://localhost:8080/",
          "height": 183
        }
      },
      "source": [
        "#### Sélection des colonnes Team, Games et City\n",
        "head(select(dataset, Team, Games, City ),5)"
      ],
      "execution_count": 41,
      "outputs": [
        {
          "output_type": "display_data",
          "data": {
            "text/plain": [
              "  Team           Games       City     \n",
              "1 China          1992 Summer Barcelona\n",
              "2 China          2012 Summer London   \n",
              "3 Denmark        1920 Summer Antwerpen\n",
              "4 Denmark/Sweden 1900 Summer Paris    \n",
              "5 Netherlands    1988 Winter Calgary  "
            ],
            "text/latex": "A data.frame: 5 × 3\n\\begin{tabular}{r|lll}\n  & Team & Games & City\\\\\n  & <chr> & <chr> & <chr>\\\\\n\\hline\n\t1 & China          & 1992 Summer & Barcelona\\\\\n\t2 & China          & 2012 Summer & London   \\\\\n\t3 & Denmark        & 1920 Summer & Antwerpen\\\\\n\t4 & Denmark/Sweden & 1900 Summer & Paris    \\\\\n\t5 & Netherlands    & 1988 Winter & Calgary  \\\\\n\\end{tabular}\n",
            "text/markdown": "\nA data.frame: 5 × 3\n\n| <!--/--> | Team &lt;chr&gt; | Games &lt;chr&gt; | City &lt;chr&gt; |\n|---|---|---|---|\n| 1 | China          | 1992 Summer | Barcelona |\n| 2 | China          | 2012 Summer | London    |\n| 3 | Denmark        | 1920 Summer | Antwerpen |\n| 4 | Denmark/Sweden | 1900 Summer | Paris     |\n| 5 | Netherlands    | 1988 Winter | Calgary   |\n\n",
            "text/html": [
              "<table>\n",
              "<caption>A data.frame: 5 × 3</caption>\n",
              "<thead>\n",
              "\t<tr><th></th><th scope=col>Team</th><th scope=col>Games</th><th scope=col>City</th></tr>\n",
              "\t<tr><th></th><th scope=col>&lt;chr&gt;</th><th scope=col>&lt;chr&gt;</th><th scope=col>&lt;chr&gt;</th></tr>\n",
              "</thead>\n",
              "<tbody>\n",
              "\t<tr><th scope=row>1</th><td>China         </td><td>1992 Summer</td><td>Barcelona</td></tr>\n",
              "\t<tr><th scope=row>2</th><td>China         </td><td>2012 Summer</td><td>London   </td></tr>\n",
              "\t<tr><th scope=row>3</th><td>Denmark       </td><td>1920 Summer</td><td>Antwerpen</td></tr>\n",
              "\t<tr><th scope=row>4</th><td>Denmark/Sweden</td><td>1900 Summer</td><td>Paris    </td></tr>\n",
              "\t<tr><th scope=row>5</th><td>Netherlands   </td><td>1988 Winter</td><td>Calgary  </td></tr>\n",
              "</tbody>\n",
              "</table>\n"
            ]
          },
          "metadata": {
            "tags": []
          }
        }
      ]
    },
    {
      "cell_type": "code",
      "metadata": {
        "id": "g-rLl9TWmRM6",
        "outputId": "29e58ab9-2cb7-4e7f-cdd8-4e341d67d0db",
        "colab": {
          "base_uri": "https://localhost:8080/",
          "height": 204
        }
      },
      "source": [
        "#### Autrement, on peut écrire cette fonction avec le pipe\n",
        "#### Equivalent du point en python\n",
        "select(dataset, Team, Games, City ) %>% head()"
      ],
      "execution_count": 42,
      "outputs": [
        {
          "output_type": "display_data",
          "data": {
            "text/plain": [
              "  Team           Games       City     \n",
              "1 China          1992 Summer Barcelona\n",
              "2 China          2012 Summer London   \n",
              "3 Denmark        1920 Summer Antwerpen\n",
              "4 Denmark/Sweden 1900 Summer Paris    \n",
              "5 Netherlands    1988 Winter Calgary  \n",
              "6 Netherlands    1988 Winter Calgary  "
            ],
            "text/latex": "A data.frame: 6 × 3\n\\begin{tabular}{r|lll}\n  & Team & Games & City\\\\\n  & <chr> & <chr> & <chr>\\\\\n\\hline\n\t1 & China          & 1992 Summer & Barcelona\\\\\n\t2 & China          & 2012 Summer & London   \\\\\n\t3 & Denmark        & 1920 Summer & Antwerpen\\\\\n\t4 & Denmark/Sweden & 1900 Summer & Paris    \\\\\n\t5 & Netherlands    & 1988 Winter & Calgary  \\\\\n\t6 & Netherlands    & 1988 Winter & Calgary  \\\\\n\\end{tabular}\n",
            "text/markdown": "\nA data.frame: 6 × 3\n\n| <!--/--> | Team &lt;chr&gt; | Games &lt;chr&gt; | City &lt;chr&gt; |\n|---|---|---|---|\n| 1 | China          | 1992 Summer | Barcelona |\n| 2 | China          | 2012 Summer | London    |\n| 3 | Denmark        | 1920 Summer | Antwerpen |\n| 4 | Denmark/Sweden | 1900 Summer | Paris     |\n| 5 | Netherlands    | 1988 Winter | Calgary   |\n| 6 | Netherlands    | 1988 Winter | Calgary   |\n\n",
            "text/html": [
              "<table>\n",
              "<caption>A data.frame: 6 × 3</caption>\n",
              "<thead>\n",
              "\t<tr><th></th><th scope=col>Team</th><th scope=col>Games</th><th scope=col>City</th></tr>\n",
              "\t<tr><th></th><th scope=col>&lt;chr&gt;</th><th scope=col>&lt;chr&gt;</th><th scope=col>&lt;chr&gt;</th></tr>\n",
              "</thead>\n",
              "<tbody>\n",
              "\t<tr><th scope=row>1</th><td>China         </td><td>1992 Summer</td><td>Barcelona</td></tr>\n",
              "\t<tr><th scope=row>2</th><td>China         </td><td>2012 Summer</td><td>London   </td></tr>\n",
              "\t<tr><th scope=row>3</th><td>Denmark       </td><td>1920 Summer</td><td>Antwerpen</td></tr>\n",
              "\t<tr><th scope=row>4</th><td>Denmark/Sweden</td><td>1900 Summer</td><td>Paris    </td></tr>\n",
              "\t<tr><th scope=row>5</th><td>Netherlands   </td><td>1988 Winter</td><td>Calgary  </td></tr>\n",
              "\t<tr><th scope=row>6</th><td>Netherlands   </td><td>1988 Winter</td><td>Calgary  </td></tr>\n",
              "</tbody>\n",
              "</table>\n"
            ]
          },
          "metadata": {
            "tags": []
          }
        }
      ]
    },
    {
      "cell_type": "code",
      "metadata": {
        "id": "gRCCMiClmRNJ",
        "outputId": "246afe1f-e619-4684-e660-73fba573dab3",
        "colab": {
          "base_uri": "https://localhost:8080/",
          "height": 204
        }
      },
      "source": [
        "#### Ou encore(méthode que je recommande)\n",
        "\n",
        "dataset %>% select(Team, Games) %>% head()"
      ],
      "execution_count": 43,
      "outputs": [
        {
          "output_type": "display_data",
          "data": {
            "text/plain": [
              "  Team           Games      \n",
              "1 China          1992 Summer\n",
              "2 China          2012 Summer\n",
              "3 Denmark        1920 Summer\n",
              "4 Denmark/Sweden 1900 Summer\n",
              "5 Netherlands    1988 Winter\n",
              "6 Netherlands    1988 Winter"
            ],
            "text/latex": "A data.frame: 6 × 2\n\\begin{tabular}{r|ll}\n  & Team & Games\\\\\n  & <chr> & <chr>\\\\\n\\hline\n\t1 & China          & 1992 Summer\\\\\n\t2 & China          & 2012 Summer\\\\\n\t3 & Denmark        & 1920 Summer\\\\\n\t4 & Denmark/Sweden & 1900 Summer\\\\\n\t5 & Netherlands    & 1988 Winter\\\\\n\t6 & Netherlands    & 1988 Winter\\\\\n\\end{tabular}\n",
            "text/markdown": "\nA data.frame: 6 × 2\n\n| <!--/--> | Team &lt;chr&gt; | Games &lt;chr&gt; |\n|---|---|---|\n| 1 | China          | 1992 Summer |\n| 2 | China          | 2012 Summer |\n| 3 | Denmark        | 1920 Summer |\n| 4 | Denmark/Sweden | 1900 Summer |\n| 5 | Netherlands    | 1988 Winter |\n| 6 | Netherlands    | 1988 Winter |\n\n",
            "text/html": [
              "<table>\n",
              "<caption>A data.frame: 6 × 2</caption>\n",
              "<thead>\n",
              "\t<tr><th></th><th scope=col>Team</th><th scope=col>Games</th></tr>\n",
              "\t<tr><th></th><th scope=col>&lt;chr&gt;</th><th scope=col>&lt;chr&gt;</th></tr>\n",
              "</thead>\n",
              "<tbody>\n",
              "\t<tr><th scope=row>1</th><td>China         </td><td>1992 Summer</td></tr>\n",
              "\t<tr><th scope=row>2</th><td>China         </td><td>2012 Summer</td></tr>\n",
              "\t<tr><th scope=row>3</th><td>Denmark       </td><td>1920 Summer</td></tr>\n",
              "\t<tr><th scope=row>4</th><td>Denmark/Sweden</td><td>1900 Summer</td></tr>\n",
              "\t<tr><th scope=row>5</th><td>Netherlands   </td><td>1988 Winter</td></tr>\n",
              "\t<tr><th scope=row>6</th><td>Netherlands   </td><td>1988 Winter</td></tr>\n",
              "</tbody>\n",
              "</table>\n"
            ]
          },
          "metadata": {
            "tags": []
          }
        }
      ]
    },
    {
      "cell_type": "markdown",
      "metadata": {
        "id": "BenuZl6bmRNP"
      },
      "source": [
        "#### Filter"
      ]
    },
    {
      "cell_type": "code",
      "metadata": {
        "id": "mxxvpCNtmRNR",
        "outputId": "a31a714b-ab9b-492d-9355-a48503599c2e",
        "colab": {
          "base_uri": "https://localhost:8080/",
          "height": 302
        }
      },
      "source": [
        "#### Filtre sur l'année 1980\n",
        "\n",
        "head(filter(dataset,  Year== \"1980\"),5)"
      ],
      "execution_count": 44,
      "outputs": [
        {
          "output_type": "display_data",
          "data": {
            "text/plain": [
              "  ID  Name                                     Sex Age Height Weight\n",
              "1  11 Jorma Ilmari Aalto                       M   22  182     76.5 \n",
              "2  85 Alejandro Abascal Garca                  M   28  181     82.0 \n",
              "3  86 Jos Manuel Abascal Gmez                  M   22  182     67.0 \n",
              "4  88 Nunu Dzhansuhivna Abashydze (-Myslaieva) F   25  168    105.0 \n",
              "5 108 Giuseppe Abbagnale                       M   20  187     97.0 \n",
              "  Team         NOC Games       Year Season City        Sport               \n",
              "1 Finland      FIN 1980 Winter 1980 Winter Lake Placid Cross Country Skiing\n",
              "2 Spain        ESP 1980 Summer 1980 Summer Moskva      Sailing             \n",
              "3 Spain        ESP 1980 Summer 1980 Summer Moskva      Athletics           \n",
              "4 Soviet Union URS 1980 Summer 1980 Summer Moskva      Athletics           \n",
              "5 Italy        ITA 1980 Summer 1980 Summer Moskva      Rowing              \n",
              "  Event                                       Medal\n",
              "1 Cross Country Skiing Men's 30 kilometres    NA   \n",
              "2 Sailing Mixed Two Person Heavyweight Dinghy Gold \n",
              "3 Athletics Men's 1,500 metres                NA   \n",
              "4 Athletics Women's Shot Put                  NA   \n",
              "5 Rowing Men's Coxed Pairs                    NA   "
            ],
            "text/latex": "A data.frame: 5 × 15\n\\begin{tabular}{r|lllllllllllllll}\n  & ID & Name & Sex & Age & Height & Weight & Team & NOC & Games & Year & Season & City & Sport & Event & Medal\\\\\n  & <int> & <chr> & <chr> & <int> & <int> & <dbl> & <chr> & <chr> & <chr> & <int> & <chr> & <chr> & <chr> & <chr> & <chr>\\\\\n\\hline\n\t1 &  11 & Jorma Ilmari Aalto                       & M & 22 & 182 &  76.5 & Finland      & FIN & 1980 Winter & 1980 & Winter & Lake Placid & Cross Country Skiing & Cross Country Skiing Men's 30 kilometres    & NA  \\\\\n\t2 &  85 & Alejandro Abascal Garca                  & M & 28 & 181 &  82.0 & Spain        & ESP & 1980 Summer & 1980 & Summer & Moskva      & Sailing              & Sailing Mixed Two Person Heavyweight Dinghy & Gold\\\\\n\t3 &  86 & Jos Manuel Abascal Gmez                  & M & 22 & 182 &  67.0 & Spain        & ESP & 1980 Summer & 1980 & Summer & Moskva      & Athletics            & Athletics Men's 1,500 metres                & NA  \\\\\n\t4 &  88 & Nunu Dzhansuhivna Abashydze (-Myslaieva) & F & 25 & 168 & 105.0 & Soviet Union & URS & 1980 Summer & 1980 & Summer & Moskva      & Athletics            & Athletics Women's Shot Put                  & NA  \\\\\n\t5 & 108 & Giuseppe Abbagnale                       & M & 20 & 187 &  97.0 & Italy        & ITA & 1980 Summer & 1980 & Summer & Moskva      & Rowing               & Rowing Men's Coxed Pairs                    & NA  \\\\\n\\end{tabular}\n",
            "text/markdown": "\nA data.frame: 5 × 15\n\n| <!--/--> | ID &lt;int&gt; | Name &lt;chr&gt; | Sex &lt;chr&gt; | Age &lt;int&gt; | Height &lt;int&gt; | Weight &lt;dbl&gt; | Team &lt;chr&gt; | NOC &lt;chr&gt; | Games &lt;chr&gt; | Year &lt;int&gt; | Season &lt;chr&gt; | City &lt;chr&gt; | Sport &lt;chr&gt; | Event &lt;chr&gt; | Medal &lt;chr&gt; |\n|---|---|---|---|---|---|---|---|---|---|---|---|---|---|---|---|\n| 1 |  11 | Jorma Ilmari Aalto                       | M | 22 | 182 |  76.5 | Finland      | FIN | 1980 Winter | 1980 | Winter | Lake Placid | Cross Country Skiing | Cross Country Skiing Men's 30 kilometres    | NA   |\n| 2 |  85 | Alejandro Abascal Garca                  | M | 28 | 181 |  82.0 | Spain        | ESP | 1980 Summer | 1980 | Summer | Moskva      | Sailing              | Sailing Mixed Two Person Heavyweight Dinghy | Gold |\n| 3 |  86 | Jos Manuel Abascal Gmez                  | M | 22 | 182 |  67.0 | Spain        | ESP | 1980 Summer | 1980 | Summer | Moskva      | Athletics            | Athletics Men's 1,500 metres                | NA   |\n| 4 |  88 | Nunu Dzhansuhivna Abashydze (-Myslaieva) | F | 25 | 168 | 105.0 | Soviet Union | URS | 1980 Summer | 1980 | Summer | Moskva      | Athletics            | Athletics Women's Shot Put                  | NA   |\n| 5 | 108 | Giuseppe Abbagnale                       | M | 20 | 187 |  97.0 | Italy        | ITA | 1980 Summer | 1980 | Summer | Moskva      | Rowing               | Rowing Men's Coxed Pairs                    | NA   |\n\n",
            "text/html": [
              "<table>\n",
              "<caption>A data.frame: 5 × 15</caption>\n",
              "<thead>\n",
              "\t<tr><th></th><th scope=col>ID</th><th scope=col>Name</th><th scope=col>Sex</th><th scope=col>Age</th><th scope=col>Height</th><th scope=col>Weight</th><th scope=col>Team</th><th scope=col>NOC</th><th scope=col>Games</th><th scope=col>Year</th><th scope=col>Season</th><th scope=col>City</th><th scope=col>Sport</th><th scope=col>Event</th><th scope=col>Medal</th></tr>\n",
              "\t<tr><th></th><th scope=col>&lt;int&gt;</th><th scope=col>&lt;chr&gt;</th><th scope=col>&lt;chr&gt;</th><th scope=col>&lt;int&gt;</th><th scope=col>&lt;int&gt;</th><th scope=col>&lt;dbl&gt;</th><th scope=col>&lt;chr&gt;</th><th scope=col>&lt;chr&gt;</th><th scope=col>&lt;chr&gt;</th><th scope=col>&lt;int&gt;</th><th scope=col>&lt;chr&gt;</th><th scope=col>&lt;chr&gt;</th><th scope=col>&lt;chr&gt;</th><th scope=col>&lt;chr&gt;</th><th scope=col>&lt;chr&gt;</th></tr>\n",
              "</thead>\n",
              "<tbody>\n",
              "\t<tr><th scope=row>1</th><td> 11</td><td>Jorma Ilmari Aalto                      </td><td>M</td><td>22</td><td>182</td><td> 76.5</td><td>Finland     </td><td>FIN</td><td>1980 Winter</td><td>1980</td><td>Winter</td><td>Lake Placid</td><td>Cross Country Skiing</td><td>Cross Country Skiing Men's 30 kilometres   </td><td>NA  </td></tr>\n",
              "\t<tr><th scope=row>2</th><td> 85</td><td>Alejandro Abascal Garca                 </td><td>M</td><td>28</td><td>181</td><td> 82.0</td><td>Spain       </td><td>ESP</td><td>1980 Summer</td><td>1980</td><td>Summer</td><td>Moskva     </td><td>Sailing             </td><td>Sailing Mixed Two Person Heavyweight Dinghy</td><td>Gold</td></tr>\n",
              "\t<tr><th scope=row>3</th><td> 86</td><td>Jos Manuel Abascal Gmez                 </td><td>M</td><td>22</td><td>182</td><td> 67.0</td><td>Spain       </td><td>ESP</td><td>1980 Summer</td><td>1980</td><td>Summer</td><td>Moskva     </td><td>Athletics           </td><td>Athletics Men's 1,500 metres               </td><td>NA  </td></tr>\n",
              "\t<tr><th scope=row>4</th><td> 88</td><td>Nunu Dzhansuhivna Abashydze (-Myslaieva)</td><td>F</td><td>25</td><td>168</td><td>105.0</td><td>Soviet Union</td><td>URS</td><td>1980 Summer</td><td>1980</td><td>Summer</td><td>Moskva     </td><td>Athletics           </td><td>Athletics Women's Shot Put                 </td><td>NA  </td></tr>\n",
              "\t<tr><th scope=row>5</th><td>108</td><td>Giuseppe Abbagnale                      </td><td>M</td><td>20</td><td>187</td><td> 97.0</td><td>Italy       </td><td>ITA</td><td>1980 Summer</td><td>1980</td><td>Summer</td><td>Moskva     </td><td>Rowing              </td><td>Rowing Men's Coxed Pairs                   </td><td>NA  </td></tr>\n",
              "</tbody>\n",
              "</table>\n"
            ]
          },
          "metadata": {
            "tags": []
          }
        }
      ]
    },
    {
      "cell_type": "markdown",
      "metadata": {
        "id": "qO8zU_8AmRNZ"
      },
      "source": [
        "Attention à bien mettre le == au lieu dusigne ="
      ]
    },
    {
      "cell_type": "code",
      "metadata": {
        "id": "6qdI3uyQmRNa",
        "outputId": "9946e5a7-72f4-46cc-c67c-57e90f06d373",
        "colab": {
          "base_uri": "https://localhost:8080/",
          "height": 340
        }
      },
      "source": [
        "#### Autrement\n",
        "\n",
        "dataset %>% filter(Year== \"1980\") %>% head()"
      ],
      "execution_count": 45,
      "outputs": [
        {
          "output_type": "display_data",
          "data": {
            "text/plain": [
              "  ID  Name                                      Sex Age Height Weight\n",
              "1  11 Jorma Ilmari Aalto                        M   22  182     76.5 \n",
              "2  85 Alejandro Abascal Garca                   M   28  181     82.0 \n",
              "3  86 Jos Manuel Abascal Gmez                   M   22  182     67.0 \n",
              "4  88 Nunu Dzhansuhivna Abashydze (-Myslaieva)  F   25  168    105.0 \n",
              "5 108 Giuseppe Abbagnale                        M   20  187     97.0 \n",
              "6 109 Abdul Latif Al-Sayed Abbas Youssef Hashem M   27  176     64.0 \n",
              "  Team         NOC Games       Year Season City        Sport               \n",
              "1 Finland      FIN 1980 Winter 1980 Winter Lake Placid Cross Country Skiing\n",
              "2 Spain        ESP 1980 Summer 1980 Summer Moskva      Sailing             \n",
              "3 Spain        ESP 1980 Summer 1980 Summer Moskva      Athletics           \n",
              "4 Soviet Union URS 1980 Summer 1980 Summer Moskva      Athletics           \n",
              "5 Italy        ITA 1980 Summer 1980 Summer Moskva      Rowing              \n",
              "6 Kuwait       KUW 1980 Summer 1980 Summer Moskva      Athletics           \n",
              "  Event                                       Medal\n",
              "1 Cross Country Skiing Men's 30 kilometres    NA   \n",
              "2 Sailing Mixed Two Person Heavyweight Dinghy Gold \n",
              "3 Athletics Men's 1,500 metres                NA   \n",
              "4 Athletics Women's Shot Put                  NA   \n",
              "5 Rowing Men's Coxed Pairs                    NA   \n",
              "6 Athletics Men's 400 metres Hurdles          NA   "
            ],
            "text/latex": "A data.frame: 6 × 15\n\\begin{tabular}{r|lllllllllllllll}\n  & ID & Name & Sex & Age & Height & Weight & Team & NOC & Games & Year & Season & City & Sport & Event & Medal\\\\\n  & <int> & <chr> & <chr> & <int> & <int> & <dbl> & <chr> & <chr> & <chr> & <int> & <chr> & <chr> & <chr> & <chr> & <chr>\\\\\n\\hline\n\t1 &  11 & Jorma Ilmari Aalto                        & M & 22 & 182 &  76.5 & Finland      & FIN & 1980 Winter & 1980 & Winter & Lake Placid & Cross Country Skiing & Cross Country Skiing Men's 30 kilometres    & NA  \\\\\n\t2 &  85 & Alejandro Abascal Garca                   & M & 28 & 181 &  82.0 & Spain        & ESP & 1980 Summer & 1980 & Summer & Moskva      & Sailing              & Sailing Mixed Two Person Heavyweight Dinghy & Gold\\\\\n\t3 &  86 & Jos Manuel Abascal Gmez                   & M & 22 & 182 &  67.0 & Spain        & ESP & 1980 Summer & 1980 & Summer & Moskva      & Athletics            & Athletics Men's 1,500 metres                & NA  \\\\\n\t4 &  88 & Nunu Dzhansuhivna Abashydze (-Myslaieva)  & F & 25 & 168 & 105.0 & Soviet Union & URS & 1980 Summer & 1980 & Summer & Moskva      & Athletics            & Athletics Women's Shot Put                  & NA  \\\\\n\t5 & 108 & Giuseppe Abbagnale                        & M & 20 & 187 &  97.0 & Italy        & ITA & 1980 Summer & 1980 & Summer & Moskva      & Rowing               & Rowing Men's Coxed Pairs                    & NA  \\\\\n\t6 & 109 & Abdul Latif Al-Sayed Abbas Youssef Hashem & M & 27 & 176 &  64.0 & Kuwait       & KUW & 1980 Summer & 1980 & Summer & Moskva      & Athletics            & Athletics Men's 400 metres Hurdles          & NA  \\\\\n\\end{tabular}\n",
            "text/markdown": "\nA data.frame: 6 × 15\n\n| <!--/--> | ID &lt;int&gt; | Name &lt;chr&gt; | Sex &lt;chr&gt; | Age &lt;int&gt; | Height &lt;int&gt; | Weight &lt;dbl&gt; | Team &lt;chr&gt; | NOC &lt;chr&gt; | Games &lt;chr&gt; | Year &lt;int&gt; | Season &lt;chr&gt; | City &lt;chr&gt; | Sport &lt;chr&gt; | Event &lt;chr&gt; | Medal &lt;chr&gt; |\n|---|---|---|---|---|---|---|---|---|---|---|---|---|---|---|---|\n| 1 |  11 | Jorma Ilmari Aalto                        | M | 22 | 182 |  76.5 | Finland      | FIN | 1980 Winter | 1980 | Winter | Lake Placid | Cross Country Skiing | Cross Country Skiing Men's 30 kilometres    | NA   |\n| 2 |  85 | Alejandro Abascal Garca                   | M | 28 | 181 |  82.0 | Spain        | ESP | 1980 Summer | 1980 | Summer | Moskva      | Sailing              | Sailing Mixed Two Person Heavyweight Dinghy | Gold |\n| 3 |  86 | Jos Manuel Abascal Gmez                   | M | 22 | 182 |  67.0 | Spain        | ESP | 1980 Summer | 1980 | Summer | Moskva      | Athletics            | Athletics Men's 1,500 metres                | NA   |\n| 4 |  88 | Nunu Dzhansuhivna Abashydze (-Myslaieva)  | F | 25 | 168 | 105.0 | Soviet Union | URS | 1980 Summer | 1980 | Summer | Moskva      | Athletics            | Athletics Women's Shot Put                  | NA   |\n| 5 | 108 | Giuseppe Abbagnale                        | M | 20 | 187 |  97.0 | Italy        | ITA | 1980 Summer | 1980 | Summer | Moskva      | Rowing               | Rowing Men's Coxed Pairs                    | NA   |\n| 6 | 109 | Abdul Latif Al-Sayed Abbas Youssef Hashem | M | 27 | 176 |  64.0 | Kuwait       | KUW | 1980 Summer | 1980 | Summer | Moskva      | Athletics            | Athletics Men's 400 metres Hurdles          | NA   |\n\n",
            "text/html": [
              "<table>\n",
              "<caption>A data.frame: 6 × 15</caption>\n",
              "<thead>\n",
              "\t<tr><th></th><th scope=col>ID</th><th scope=col>Name</th><th scope=col>Sex</th><th scope=col>Age</th><th scope=col>Height</th><th scope=col>Weight</th><th scope=col>Team</th><th scope=col>NOC</th><th scope=col>Games</th><th scope=col>Year</th><th scope=col>Season</th><th scope=col>City</th><th scope=col>Sport</th><th scope=col>Event</th><th scope=col>Medal</th></tr>\n",
              "\t<tr><th></th><th scope=col>&lt;int&gt;</th><th scope=col>&lt;chr&gt;</th><th scope=col>&lt;chr&gt;</th><th scope=col>&lt;int&gt;</th><th scope=col>&lt;int&gt;</th><th scope=col>&lt;dbl&gt;</th><th scope=col>&lt;chr&gt;</th><th scope=col>&lt;chr&gt;</th><th scope=col>&lt;chr&gt;</th><th scope=col>&lt;int&gt;</th><th scope=col>&lt;chr&gt;</th><th scope=col>&lt;chr&gt;</th><th scope=col>&lt;chr&gt;</th><th scope=col>&lt;chr&gt;</th><th scope=col>&lt;chr&gt;</th></tr>\n",
              "</thead>\n",
              "<tbody>\n",
              "\t<tr><th scope=row>1</th><td> 11</td><td>Jorma Ilmari Aalto                       </td><td>M</td><td>22</td><td>182</td><td> 76.5</td><td>Finland     </td><td>FIN</td><td>1980 Winter</td><td>1980</td><td>Winter</td><td>Lake Placid</td><td>Cross Country Skiing</td><td>Cross Country Skiing Men's 30 kilometres   </td><td>NA  </td></tr>\n",
              "\t<tr><th scope=row>2</th><td> 85</td><td>Alejandro Abascal Garca                  </td><td>M</td><td>28</td><td>181</td><td> 82.0</td><td>Spain       </td><td>ESP</td><td>1980 Summer</td><td>1980</td><td>Summer</td><td>Moskva     </td><td>Sailing             </td><td>Sailing Mixed Two Person Heavyweight Dinghy</td><td>Gold</td></tr>\n",
              "\t<tr><th scope=row>3</th><td> 86</td><td>Jos Manuel Abascal Gmez                  </td><td>M</td><td>22</td><td>182</td><td> 67.0</td><td>Spain       </td><td>ESP</td><td>1980 Summer</td><td>1980</td><td>Summer</td><td>Moskva     </td><td>Athletics           </td><td>Athletics Men's 1,500 metres               </td><td>NA  </td></tr>\n",
              "\t<tr><th scope=row>4</th><td> 88</td><td>Nunu Dzhansuhivna Abashydze (-Myslaieva) </td><td>F</td><td>25</td><td>168</td><td>105.0</td><td>Soviet Union</td><td>URS</td><td>1980 Summer</td><td>1980</td><td>Summer</td><td>Moskva     </td><td>Athletics           </td><td>Athletics Women's Shot Put                 </td><td>NA  </td></tr>\n",
              "\t<tr><th scope=row>5</th><td>108</td><td>Giuseppe Abbagnale                       </td><td>M</td><td>20</td><td>187</td><td> 97.0</td><td>Italy       </td><td>ITA</td><td>1980 Summer</td><td>1980</td><td>Summer</td><td>Moskva     </td><td>Rowing              </td><td>Rowing Men's Coxed Pairs                   </td><td>NA  </td></tr>\n",
              "\t<tr><th scope=row>6</th><td>109</td><td>Abdul Latif Al-Sayed Abbas Youssef Hashem</td><td>M</td><td>27</td><td>176</td><td> 64.0</td><td>Kuwait      </td><td>KUW</td><td>1980 Summer</td><td>1980</td><td>Summer</td><td>Moskva     </td><td>Athletics           </td><td>Athletics Men's 400 metres Hurdles         </td><td>NA  </td></tr>\n",
              "</tbody>\n",
              "</table>\n"
            ]
          },
          "metadata": {
            "tags": []
          }
        }
      ]
    },
    {
      "cell_type": "markdown",
      "metadata": {
        "id": "lWs36dQwmRNg"
      },
      "source": [
        "#### Arrange"
      ]
    },
    {
      "cell_type": "code",
      "metadata": {
        "id": "uMOm44oymRNi",
        "outputId": "d8a6ae27-7cd9-4d19-d3ee-eb313d107d9d",
        "colab": {
          "base_uri": "https://localhost:8080/",
          "height": 730
        }
      },
      "source": [
        "#### Trie des données par naissance et année par ordre croissant\n",
        "\n",
        "head(arrange(dataset), 10)"
      ],
      "execution_count": 46,
      "outputs": [
        {
          "output_type": "display_data",
          "data": {
            "text/plain": [
              "   ID Name                     Sex Age Height Weight Team           NOC\n",
              "1  1  A Dijiang                M   24  180    80     China          CHN\n",
              "2  2  A Lamusi                 M   23  170    60     China          CHN\n",
              "3  3  Gunnar Nielsen Aaby      M   24   NA    NA     Denmark        DEN\n",
              "4  4  Edgar Lindenau Aabye     M   34   NA    NA     Denmark/Sweden DEN\n",
              "5  5  Christine Jacoba Aaftink F   21  185    82     Netherlands    NED\n",
              "6  5  Christine Jacoba Aaftink F   21  185    82     Netherlands    NED\n",
              "7  5  Christine Jacoba Aaftink F   25  185    82     Netherlands    NED\n",
              "8  5  Christine Jacoba Aaftink F   25  185    82     Netherlands    NED\n",
              "9  5  Christine Jacoba Aaftink F   27  185    82     Netherlands    NED\n",
              "10 5  Christine Jacoba Aaftink F   27  185    82     Netherlands    NED\n",
              "   Games       Year Season City        Sport        \n",
              "1  1992 Summer 1992 Summer Barcelona   Basketball   \n",
              "2  2012 Summer 2012 Summer London      Judo         \n",
              "3  1920 Summer 1920 Summer Antwerpen   Football     \n",
              "4  1900 Summer 1900 Summer Paris       Tug-Of-War   \n",
              "5  1988 Winter 1988 Winter Calgary     Speed Skating\n",
              "6  1988 Winter 1988 Winter Calgary     Speed Skating\n",
              "7  1992 Winter 1992 Winter Albertville Speed Skating\n",
              "8  1992 Winter 1992 Winter Albertville Speed Skating\n",
              "9  1994 Winter 1994 Winter Lillehammer Speed Skating\n",
              "10 1994 Winter 1994 Winter Lillehammer Speed Skating\n",
              "   Event                              Medal\n",
              "1  Basketball Men's Basketball        NA   \n",
              "2  Judo Men's Extra-Lightweight       NA   \n",
              "3  Football Men's Football            NA   \n",
              "4  Tug-Of-War Men's Tug-Of-War        Gold \n",
              "5  Speed Skating Women's 500 metres   NA   \n",
              "6  Speed Skating Women's 1,000 metres NA   \n",
              "7  Speed Skating Women's 500 metres   NA   \n",
              "8  Speed Skating Women's 1,000 metres NA   \n",
              "9  Speed Skating Women's 500 metres   NA   \n",
              "10 Speed Skating Women's 1,000 metres NA   "
            ],
            "text/latex": "A data.frame: 10 × 15\n\\begin{tabular}{r|lllllllllllllll}\n  & ID & Name & Sex & Age & Height & Weight & Team & NOC & Games & Year & Season & City & Sport & Event & Medal\\\\\n  & <int> & <chr> & <chr> & <int> & <int> & <dbl> & <chr> & <chr> & <chr> & <int> & <chr> & <chr> & <chr> & <chr> & <chr>\\\\\n\\hline\n\t1 & 1 & A Dijiang                & M & 24 & 180 & 80 & China          & CHN & 1992 Summer & 1992 & Summer & Barcelona   & Basketball    & Basketball Men's Basketball        & NA  \\\\\n\t2 & 2 & A Lamusi                 & M & 23 & 170 & 60 & China          & CHN & 2012 Summer & 2012 & Summer & London      & Judo          & Judo Men's Extra-Lightweight       & NA  \\\\\n\t3 & 3 & Gunnar Nielsen Aaby      & M & 24 &  NA & NA & Denmark        & DEN & 1920 Summer & 1920 & Summer & Antwerpen   & Football      & Football Men's Football            & NA  \\\\\n\t4 & 4 & Edgar Lindenau Aabye     & M & 34 &  NA & NA & Denmark/Sweden & DEN & 1900 Summer & 1900 & Summer & Paris       & Tug-Of-War    & Tug-Of-War Men's Tug-Of-War        & Gold\\\\\n\t5 & 5 & Christine Jacoba Aaftink & F & 21 & 185 & 82 & Netherlands    & NED & 1988 Winter & 1988 & Winter & Calgary     & Speed Skating & Speed Skating Women's 500 metres   & NA  \\\\\n\t6 & 5 & Christine Jacoba Aaftink & F & 21 & 185 & 82 & Netherlands    & NED & 1988 Winter & 1988 & Winter & Calgary     & Speed Skating & Speed Skating Women's 1,000 metres & NA  \\\\\n\t7 & 5 & Christine Jacoba Aaftink & F & 25 & 185 & 82 & Netherlands    & NED & 1992 Winter & 1992 & Winter & Albertville & Speed Skating & Speed Skating Women's 500 metres   & NA  \\\\\n\t8 & 5 & Christine Jacoba Aaftink & F & 25 & 185 & 82 & Netherlands    & NED & 1992 Winter & 1992 & Winter & Albertville & Speed Skating & Speed Skating Women's 1,000 metres & NA  \\\\\n\t9 & 5 & Christine Jacoba Aaftink & F & 27 & 185 & 82 & Netherlands    & NED & 1994 Winter & 1994 & Winter & Lillehammer & Speed Skating & Speed Skating Women's 500 metres   & NA  \\\\\n\t10 & 5 & Christine Jacoba Aaftink & F & 27 & 185 & 82 & Netherlands    & NED & 1994 Winter & 1994 & Winter & Lillehammer & Speed Skating & Speed Skating Women's 1,000 metres & NA  \\\\\n\\end{tabular}\n",
            "text/markdown": "\nA data.frame: 10 × 15\n\n| <!--/--> | ID &lt;int&gt; | Name &lt;chr&gt; | Sex &lt;chr&gt; | Age &lt;int&gt; | Height &lt;int&gt; | Weight &lt;dbl&gt; | Team &lt;chr&gt; | NOC &lt;chr&gt; | Games &lt;chr&gt; | Year &lt;int&gt; | Season &lt;chr&gt; | City &lt;chr&gt; | Sport &lt;chr&gt; | Event &lt;chr&gt; | Medal &lt;chr&gt; |\n|---|---|---|---|---|---|---|---|---|---|---|---|---|---|---|---|\n| 1 | 1 | A Dijiang                | M | 24 | 180 | 80 | China          | CHN | 1992 Summer | 1992 | Summer | Barcelona   | Basketball    | Basketball Men's Basketball        | NA   |\n| 2 | 2 | A Lamusi                 | M | 23 | 170 | 60 | China          | CHN | 2012 Summer | 2012 | Summer | London      | Judo          | Judo Men's Extra-Lightweight       | NA   |\n| 3 | 3 | Gunnar Nielsen Aaby      | M | 24 |  NA | NA | Denmark        | DEN | 1920 Summer | 1920 | Summer | Antwerpen   | Football      | Football Men's Football            | NA   |\n| 4 | 4 | Edgar Lindenau Aabye     | M | 34 |  NA | NA | Denmark/Sweden | DEN | 1900 Summer | 1900 | Summer | Paris       | Tug-Of-War    | Tug-Of-War Men's Tug-Of-War        | Gold |\n| 5 | 5 | Christine Jacoba Aaftink | F | 21 | 185 | 82 | Netherlands    | NED | 1988 Winter | 1988 | Winter | Calgary     | Speed Skating | Speed Skating Women's 500 metres   | NA   |\n| 6 | 5 | Christine Jacoba Aaftink | F | 21 | 185 | 82 | Netherlands    | NED | 1988 Winter | 1988 | Winter | Calgary     | Speed Skating | Speed Skating Women's 1,000 metres | NA   |\n| 7 | 5 | Christine Jacoba Aaftink | F | 25 | 185 | 82 | Netherlands    | NED | 1992 Winter | 1992 | Winter | Albertville | Speed Skating | Speed Skating Women's 500 metres   | NA   |\n| 8 | 5 | Christine Jacoba Aaftink | F | 25 | 185 | 82 | Netherlands    | NED | 1992 Winter | 1992 | Winter | Albertville | Speed Skating | Speed Skating Women's 1,000 metres | NA   |\n| 9 | 5 | Christine Jacoba Aaftink | F | 27 | 185 | 82 | Netherlands    | NED | 1994 Winter | 1994 | Winter | Lillehammer | Speed Skating | Speed Skating Women's 500 metres   | NA   |\n| 10 | 5 | Christine Jacoba Aaftink | F | 27 | 185 | 82 | Netherlands    | NED | 1994 Winter | 1994 | Winter | Lillehammer | Speed Skating | Speed Skating Women's 1,000 metres | NA   |\n\n",
            "text/html": [
              "<table>\n",
              "<caption>A data.frame: 10 × 15</caption>\n",
              "<thead>\n",
              "\t<tr><th></th><th scope=col>ID</th><th scope=col>Name</th><th scope=col>Sex</th><th scope=col>Age</th><th scope=col>Height</th><th scope=col>Weight</th><th scope=col>Team</th><th scope=col>NOC</th><th scope=col>Games</th><th scope=col>Year</th><th scope=col>Season</th><th scope=col>City</th><th scope=col>Sport</th><th scope=col>Event</th><th scope=col>Medal</th></tr>\n",
              "\t<tr><th></th><th scope=col>&lt;int&gt;</th><th scope=col>&lt;chr&gt;</th><th scope=col>&lt;chr&gt;</th><th scope=col>&lt;int&gt;</th><th scope=col>&lt;int&gt;</th><th scope=col>&lt;dbl&gt;</th><th scope=col>&lt;chr&gt;</th><th scope=col>&lt;chr&gt;</th><th scope=col>&lt;chr&gt;</th><th scope=col>&lt;int&gt;</th><th scope=col>&lt;chr&gt;</th><th scope=col>&lt;chr&gt;</th><th scope=col>&lt;chr&gt;</th><th scope=col>&lt;chr&gt;</th><th scope=col>&lt;chr&gt;</th></tr>\n",
              "</thead>\n",
              "<tbody>\n",
              "\t<tr><th scope=row>1</th><td>1</td><td>A Dijiang               </td><td>M</td><td>24</td><td>180</td><td>80</td><td>China         </td><td>CHN</td><td>1992 Summer</td><td>1992</td><td>Summer</td><td>Barcelona  </td><td>Basketball   </td><td>Basketball Men's Basketball       </td><td>NA  </td></tr>\n",
              "\t<tr><th scope=row>2</th><td>2</td><td>A Lamusi                </td><td>M</td><td>23</td><td>170</td><td>60</td><td>China         </td><td>CHN</td><td>2012 Summer</td><td>2012</td><td>Summer</td><td>London     </td><td>Judo         </td><td>Judo Men's Extra-Lightweight      </td><td>NA  </td></tr>\n",
              "\t<tr><th scope=row>3</th><td>3</td><td>Gunnar Nielsen Aaby     </td><td>M</td><td>24</td><td> NA</td><td>NA</td><td>Denmark       </td><td>DEN</td><td>1920 Summer</td><td>1920</td><td>Summer</td><td>Antwerpen  </td><td>Football     </td><td>Football Men's Football           </td><td>NA  </td></tr>\n",
              "\t<tr><th scope=row>4</th><td>4</td><td>Edgar Lindenau Aabye    </td><td>M</td><td>34</td><td> NA</td><td>NA</td><td>Denmark/Sweden</td><td>DEN</td><td>1900 Summer</td><td>1900</td><td>Summer</td><td>Paris      </td><td>Tug-Of-War   </td><td>Tug-Of-War Men's Tug-Of-War       </td><td>Gold</td></tr>\n",
              "\t<tr><th scope=row>5</th><td>5</td><td>Christine Jacoba Aaftink</td><td>F</td><td>21</td><td>185</td><td>82</td><td>Netherlands   </td><td>NED</td><td>1988 Winter</td><td>1988</td><td>Winter</td><td>Calgary    </td><td>Speed Skating</td><td>Speed Skating Women's 500 metres  </td><td>NA  </td></tr>\n",
              "\t<tr><th scope=row>6</th><td>5</td><td>Christine Jacoba Aaftink</td><td>F</td><td>21</td><td>185</td><td>82</td><td>Netherlands   </td><td>NED</td><td>1988 Winter</td><td>1988</td><td>Winter</td><td>Calgary    </td><td>Speed Skating</td><td>Speed Skating Women's 1,000 metres</td><td>NA  </td></tr>\n",
              "\t<tr><th scope=row>7</th><td>5</td><td>Christine Jacoba Aaftink</td><td>F</td><td>25</td><td>185</td><td>82</td><td>Netherlands   </td><td>NED</td><td>1992 Winter</td><td>1992</td><td>Winter</td><td>Albertville</td><td>Speed Skating</td><td>Speed Skating Women's 500 metres  </td><td>NA  </td></tr>\n",
              "\t<tr><th scope=row>8</th><td>5</td><td>Christine Jacoba Aaftink</td><td>F</td><td>25</td><td>185</td><td>82</td><td>Netherlands   </td><td>NED</td><td>1992 Winter</td><td>1992</td><td>Winter</td><td>Albertville</td><td>Speed Skating</td><td>Speed Skating Women's 1,000 metres</td><td>NA  </td></tr>\n",
              "\t<tr><th scope=row>9</th><td>5</td><td>Christine Jacoba Aaftink</td><td>F</td><td>27</td><td>185</td><td>82</td><td>Netherlands   </td><td>NED</td><td>1994 Winter</td><td>1994</td><td>Winter</td><td>Lillehammer</td><td>Speed Skating</td><td>Speed Skating Women's 500 metres  </td><td>NA  </td></tr>\n",
              "\t<tr><th scope=row>10</th><td>5</td><td>Christine Jacoba Aaftink</td><td>F</td><td>27</td><td>185</td><td>82</td><td>Netherlands   </td><td>NED</td><td>1994 Winter</td><td>1994</td><td>Winter</td><td>Lillehammer</td><td>Speed Skating</td><td>Speed Skating Women's 1,000 metres</td><td>NA  </td></tr>\n",
              "</tbody>\n",
              "</table>\n"
            ]
          },
          "metadata": {
            "tags": []
          }
        }
      ]
    },
    {
      "cell_type": "code",
      "metadata": {
        "id": "zvcYOkWDmRNp",
        "outputId": "2803de6e-548c-4416-af2d-acfc975b0848",
        "colab": {
          "base_uri": "https://localhost:8080/",
          "height": 1000
        }
      },
      "source": [
        "#### Trie des données par ordre décroissant\n",
        "\n",
        "head(arrange(dataset, desc(Year), desc(Sport)), 20)"
      ],
      "execution_count": 47,
      "outputs": [
        {
          "output_type": "display_data",
          "data": {
            "text/plain": [
              "   ID   Name                                   Sex Age Height Weight Team      \n",
              "1   250 Saeid Morad Abdevali                   M   26  170     80    Iran      \n",
              "2   338 Muminzhon Abdullayev                   M   26  190    130    Uzbekistan\n",
              "3   354 Bekzod Makhamadzhonovich Abdurakhmonov M   26  172     74    Uzbekistan\n",
              "4   721 Mara Jos Acosta Acosta                 F   24  172     69    Venezuela \n",
              "5   864 Yasemin Adar                           F   24  180     75    Turkey    \n",
              "6   902 Odunayo Folasade Adekuoroye            F   22  169     53    Nigeria   \n",
              "7   924 Aminat Oluwafunmilayo Adeniyi          F   23  165     58    Nigeria   \n",
              "8  1525 Zied Ait Ouagram                       M   27  191     75    Morocco   \n",
              "9  1634 Taha Akgl                              M   25  192    125    Turkey    \n",
              "10 1645 Habibollah Jomeh Akhlaghi              M   31  175     90    Iran      \n",
              "11 2359 Islam-Beka Said-Tsilimovich Albiyev    M   27  165     66    Russia    \n",
              "12 2474 Daniel Tihomirov Aleksandrov           M   24  182     81    Bulgaria  \n",
              "13 2497 Artur Aleksanyan                       M   24  190     98    Armenia   \n",
              "14 2605 Alin Alexuc-Ciurariu                   M   26  191    105    Romania   \n",
              "15 2685 Annabel Laure Ali                      F   31  176     75    Cameroon  \n",
              "16 3440 Sandro Aminashvili                     M   24  180     85    Georgia   \n",
              "17 3537 Marwa Al-Amri                          F   27  160     58    Tunisia   \n",
              "18 4211 Valeriy Oleksandrovych Andriitsev      M   29  181     97    Ukraine   \n",
              "19 4454 Chakir Ansari                          M   25  168     57    Morocco   \n",
              "20 4501 Lissette Alexandra Antes Castillo      F   25  177     58    Ecuador   \n",
              "   NOC Games       Year Season City           Sport    \n",
              "1  IRI 2016 Summer 2016 Summer Rio de Janeiro Wrestling\n",
              "2  UZB 2016 Summer 2016 Summer Rio de Janeiro Wrestling\n",
              "3  UZB 2016 Summer 2016 Summer Rio de Janeiro Wrestling\n",
              "4  VEN 2016 Summer 2016 Summer Rio de Janeiro Wrestling\n",
              "5  TUR 2016 Summer 2016 Summer Rio de Janeiro Wrestling\n",
              "6  NGR 2016 Summer 2016 Summer Rio de Janeiro Wrestling\n",
              "7  NGR 2016 Summer 2016 Summer Rio de Janeiro Wrestling\n",
              "8  MAR 2016 Summer 2016 Summer Rio de Janeiro Wrestling\n",
              "9  TUR 2016 Summer 2016 Summer Rio de Janeiro Wrestling\n",
              "10 IRI 2016 Summer 2016 Summer Rio de Janeiro Wrestling\n",
              "11 RUS 2016 Summer 2016 Summer Rio de Janeiro Wrestling\n",
              "12 BUL 2016 Summer 2016 Summer Rio de Janeiro Wrestling\n",
              "13 ARM 2016 Summer 2016 Summer Rio de Janeiro Wrestling\n",
              "14 ROU 2016 Summer 2016 Summer Rio de Janeiro Wrestling\n",
              "15 CMR 2016 Summer 2016 Summer Rio de Janeiro Wrestling\n",
              "16 GEO 2016 Summer 2016 Summer Rio de Janeiro Wrestling\n",
              "17 TUN 2016 Summer 2016 Summer Rio de Janeiro Wrestling\n",
              "18 UKR 2016 Summer 2016 Summer Rio de Janeiro Wrestling\n",
              "19 MAR 2016 Summer 2016 Summer Rio de Janeiro Wrestling\n",
              "20 ECU 2016 Summer 2016 Summer Rio de Janeiro Wrestling\n",
              "   Event                                          Medal \n",
              "1  Wrestling Men's Middleweight, Greco-Roman      Bronze\n",
              "2  Wrestling Men's Super-Heavyweight, Greco-Roman NA    \n",
              "3  Wrestling Men's Middleweight, Freestyle        NA    \n",
              "4  Wrestling Women's Light-Heavyweight, Freestyle NA    \n",
              "5  Wrestling Women's Heavyweight, Freestyle       NA    \n",
              "6  Wrestling Women's Featherweight, Freestyle     NA    \n",
              "7  Wrestling Women's Lightweight, Freestyle       NA    \n",
              "8  Wrestling Men's Middleweight, Greco-Roman      NA    \n",
              "9  Wrestling Men's Super-Heavyweight, Freestyle   Gold  \n",
              "10 Wrestling Men's Light-Heavyweight, Greco-Roman NA    \n",
              "11 Wrestling Men's Welterweight, Greco-Roman      NA    \n",
              "12 Wrestling Men's Middleweight, Greco-Roman      NA    \n",
              "13 Wrestling Men's Heavyweight, Greco-Roman       Gold  \n",
              "14 Wrestling Men's Heavyweight, Greco-Roman       NA    \n",
              "15 Wrestling Women's Heavyweight, Freestyle       NA    \n",
              "16 Wrestling Men's Light-Heavyweight, Freestyle   NA    \n",
              "17 Wrestling Women's Lightweight, Freestyle       Bronze\n",
              "18 Wrestling Men's Heavyweight, Freestyle         NA    \n",
              "19 Wrestling Men's Featherweight, Freestyle       NA    \n",
              "20 Wrestling Women's Lightweight, Freestyle       NA    "
            ],
            "text/latex": "A data.frame: 20 × 15\n\\begin{tabular}{r|lllllllllllllll}\n  & ID & Name & Sex & Age & Height & Weight & Team & NOC & Games & Year & Season & City & Sport & Event & Medal\\\\\n  & <int> & <chr> & <chr> & <int> & <int> & <dbl> & <chr> & <chr> & <chr> & <int> & <chr> & <chr> & <chr> & <chr> & <chr>\\\\\n\\hline\n\t1 &  250 & Saeid Morad Abdevali                   & M & 26 & 170 &  80 & Iran       & IRI & 2016 Summer & 2016 & Summer & Rio de Janeiro & Wrestling & Wrestling Men's Middleweight, Greco-Roman      & Bronze\\\\\n\t2 &  338 & Muminzhon Abdullayev                   & M & 26 & 190 & 130 & Uzbekistan & UZB & 2016 Summer & 2016 & Summer & Rio de Janeiro & Wrestling & Wrestling Men's Super-Heavyweight, Greco-Roman & NA    \\\\\n\t3 &  354 & Bekzod Makhamadzhonovich Abdurakhmonov & M & 26 & 172 &  74 & Uzbekistan & UZB & 2016 Summer & 2016 & Summer & Rio de Janeiro & Wrestling & Wrestling Men's Middleweight, Freestyle        & NA    \\\\\n\t4 &  721 & Mara Jos Acosta Acosta                 & F & 24 & 172 &  69 & Venezuela  & VEN & 2016 Summer & 2016 & Summer & Rio de Janeiro & Wrestling & Wrestling Women's Light-Heavyweight, Freestyle & NA    \\\\\n\t5 &  864 & Yasemin Adar                           & F & 24 & 180 &  75 & Turkey     & TUR & 2016 Summer & 2016 & Summer & Rio de Janeiro & Wrestling & Wrestling Women's Heavyweight, Freestyle       & NA    \\\\\n\t6 &  902 & Odunayo Folasade Adekuoroye            & F & 22 & 169 &  53 & Nigeria    & NGR & 2016 Summer & 2016 & Summer & Rio de Janeiro & Wrestling & Wrestling Women's Featherweight, Freestyle     & NA    \\\\\n\t7 &  924 & Aminat Oluwafunmilayo Adeniyi          & F & 23 & 165 &  58 & Nigeria    & NGR & 2016 Summer & 2016 & Summer & Rio de Janeiro & Wrestling & Wrestling Women's Lightweight, Freestyle       & NA    \\\\\n\t8 & 1525 & Zied Ait Ouagram                       & M & 27 & 191 &  75 & Morocco    & MAR & 2016 Summer & 2016 & Summer & Rio de Janeiro & Wrestling & Wrestling Men's Middleweight, Greco-Roman      & NA    \\\\\n\t9 & 1634 & Taha Akgl                              & M & 25 & 192 & 125 & Turkey     & TUR & 2016 Summer & 2016 & Summer & Rio de Janeiro & Wrestling & Wrestling Men's Super-Heavyweight, Freestyle   & Gold  \\\\\n\t10 & 1645 & Habibollah Jomeh Akhlaghi              & M & 31 & 175 &  90 & Iran       & IRI & 2016 Summer & 2016 & Summer & Rio de Janeiro & Wrestling & Wrestling Men's Light-Heavyweight, Greco-Roman & NA    \\\\\n\t11 & 2359 & Islam-Beka Said-Tsilimovich Albiyev    & M & 27 & 165 &  66 & Russia     & RUS & 2016 Summer & 2016 & Summer & Rio de Janeiro & Wrestling & Wrestling Men's Welterweight, Greco-Roman      & NA    \\\\\n\t12 & 2474 & Daniel Tihomirov Aleksandrov           & M & 24 & 182 &  81 & Bulgaria   & BUL & 2016 Summer & 2016 & Summer & Rio de Janeiro & Wrestling & Wrestling Men's Middleweight, Greco-Roman      & NA    \\\\\n\t13 & 2497 & Artur Aleksanyan                       & M & 24 & 190 &  98 & Armenia    & ARM & 2016 Summer & 2016 & Summer & Rio de Janeiro & Wrestling & Wrestling Men's Heavyweight, Greco-Roman       & Gold  \\\\\n\t14 & 2605 & Alin Alexuc-Ciurariu                   & M & 26 & 191 & 105 & Romania    & ROU & 2016 Summer & 2016 & Summer & Rio de Janeiro & Wrestling & Wrestling Men's Heavyweight, Greco-Roman       & NA    \\\\\n\t15 & 2685 & Annabel Laure Ali                      & F & 31 & 176 &  75 & Cameroon   & CMR & 2016 Summer & 2016 & Summer & Rio de Janeiro & Wrestling & Wrestling Women's Heavyweight, Freestyle       & NA    \\\\\n\t16 & 3440 & Sandro Aminashvili                     & M & 24 & 180 &  85 & Georgia    & GEO & 2016 Summer & 2016 & Summer & Rio de Janeiro & Wrestling & Wrestling Men's Light-Heavyweight, Freestyle   & NA    \\\\\n\t17 & 3537 & Marwa Al-Amri                          & F & 27 & 160 &  58 & Tunisia    & TUN & 2016 Summer & 2016 & Summer & Rio de Janeiro & Wrestling & Wrestling Women's Lightweight, Freestyle       & Bronze\\\\\n\t18 & 4211 & Valeriy Oleksandrovych Andriitsev      & M & 29 & 181 &  97 & Ukraine    & UKR & 2016 Summer & 2016 & Summer & Rio de Janeiro & Wrestling & Wrestling Men's Heavyweight, Freestyle         & NA    \\\\\n\t19 & 4454 & Chakir Ansari                          & M & 25 & 168 &  57 & Morocco    & MAR & 2016 Summer & 2016 & Summer & Rio de Janeiro & Wrestling & Wrestling Men's Featherweight, Freestyle       & NA    \\\\\n\t20 & 4501 & Lissette Alexandra Antes Castillo      & F & 25 & 177 &  58 & Ecuador    & ECU & 2016 Summer & 2016 & Summer & Rio de Janeiro & Wrestling & Wrestling Women's Lightweight, Freestyle       & NA    \\\\\n\\end{tabular}\n",
            "text/markdown": "\nA data.frame: 20 × 15\n\n| <!--/--> | ID &lt;int&gt; | Name &lt;chr&gt; | Sex &lt;chr&gt; | Age &lt;int&gt; | Height &lt;int&gt; | Weight &lt;dbl&gt; | Team &lt;chr&gt; | NOC &lt;chr&gt; | Games &lt;chr&gt; | Year &lt;int&gt; | Season &lt;chr&gt; | City &lt;chr&gt; | Sport &lt;chr&gt; | Event &lt;chr&gt; | Medal &lt;chr&gt; |\n|---|---|---|---|---|---|---|---|---|---|---|---|---|---|---|---|\n| 1 |  250 | Saeid Morad Abdevali                   | M | 26 | 170 |  80 | Iran       | IRI | 2016 Summer | 2016 | Summer | Rio de Janeiro | Wrestling | Wrestling Men's Middleweight, Greco-Roman      | Bronze |\n| 2 |  338 | Muminzhon Abdullayev                   | M | 26 | 190 | 130 | Uzbekistan | UZB | 2016 Summer | 2016 | Summer | Rio de Janeiro | Wrestling | Wrestling Men's Super-Heavyweight, Greco-Roman | NA     |\n| 3 |  354 | Bekzod Makhamadzhonovich Abdurakhmonov | M | 26 | 172 |  74 | Uzbekistan | UZB | 2016 Summer | 2016 | Summer | Rio de Janeiro | Wrestling | Wrestling Men's Middleweight, Freestyle        | NA     |\n| 4 |  721 | Mara Jos Acosta Acosta                 | F | 24 | 172 |  69 | Venezuela  | VEN | 2016 Summer | 2016 | Summer | Rio de Janeiro | Wrestling | Wrestling Women's Light-Heavyweight, Freestyle | NA     |\n| 5 |  864 | Yasemin Adar                           | F | 24 | 180 |  75 | Turkey     | TUR | 2016 Summer | 2016 | Summer | Rio de Janeiro | Wrestling | Wrestling Women's Heavyweight, Freestyle       | NA     |\n| 6 |  902 | Odunayo Folasade Adekuoroye            | F | 22 | 169 |  53 | Nigeria    | NGR | 2016 Summer | 2016 | Summer | Rio de Janeiro | Wrestling | Wrestling Women's Featherweight, Freestyle     | NA     |\n| 7 |  924 | Aminat Oluwafunmilayo Adeniyi          | F | 23 | 165 |  58 | Nigeria    | NGR | 2016 Summer | 2016 | Summer | Rio de Janeiro | Wrestling | Wrestling Women's Lightweight, Freestyle       | NA     |\n| 8 | 1525 | Zied Ait Ouagram                       | M | 27 | 191 |  75 | Morocco    | MAR | 2016 Summer | 2016 | Summer | Rio de Janeiro | Wrestling | Wrestling Men's Middleweight, Greco-Roman      | NA     |\n| 9 | 1634 | Taha Akgl                              | M | 25 | 192 | 125 | Turkey     | TUR | 2016 Summer | 2016 | Summer | Rio de Janeiro | Wrestling | Wrestling Men's Super-Heavyweight, Freestyle   | Gold   |\n| 10 | 1645 | Habibollah Jomeh Akhlaghi              | M | 31 | 175 |  90 | Iran       | IRI | 2016 Summer | 2016 | Summer | Rio de Janeiro | Wrestling | Wrestling Men's Light-Heavyweight, Greco-Roman | NA     |\n| 11 | 2359 | Islam-Beka Said-Tsilimovich Albiyev    | M | 27 | 165 |  66 | Russia     | RUS | 2016 Summer | 2016 | Summer | Rio de Janeiro | Wrestling | Wrestling Men's Welterweight, Greco-Roman      | NA     |\n| 12 | 2474 | Daniel Tihomirov Aleksandrov           | M | 24 | 182 |  81 | Bulgaria   | BUL | 2016 Summer | 2016 | Summer | Rio de Janeiro | Wrestling | Wrestling Men's Middleweight, Greco-Roman      | NA     |\n| 13 | 2497 | Artur Aleksanyan                       | M | 24 | 190 |  98 | Armenia    | ARM | 2016 Summer | 2016 | Summer | Rio de Janeiro | Wrestling | Wrestling Men's Heavyweight, Greco-Roman       | Gold   |\n| 14 | 2605 | Alin Alexuc-Ciurariu                   | M | 26 | 191 | 105 | Romania    | ROU | 2016 Summer | 2016 | Summer | Rio de Janeiro | Wrestling | Wrestling Men's Heavyweight, Greco-Roman       | NA     |\n| 15 | 2685 | Annabel Laure Ali                      | F | 31 | 176 |  75 | Cameroon   | CMR | 2016 Summer | 2016 | Summer | Rio de Janeiro | Wrestling | Wrestling Women's Heavyweight, Freestyle       | NA     |\n| 16 | 3440 | Sandro Aminashvili                     | M | 24 | 180 |  85 | Georgia    | GEO | 2016 Summer | 2016 | Summer | Rio de Janeiro | Wrestling | Wrestling Men's Light-Heavyweight, Freestyle   | NA     |\n| 17 | 3537 | Marwa Al-Amri                          | F | 27 | 160 |  58 | Tunisia    | TUN | 2016 Summer | 2016 | Summer | Rio de Janeiro | Wrestling | Wrestling Women's Lightweight, Freestyle       | Bronze |\n| 18 | 4211 | Valeriy Oleksandrovych Andriitsev      | M | 29 | 181 |  97 | Ukraine    | UKR | 2016 Summer | 2016 | Summer | Rio de Janeiro | Wrestling | Wrestling Men's Heavyweight, Freestyle         | NA     |\n| 19 | 4454 | Chakir Ansari                          | M | 25 | 168 |  57 | Morocco    | MAR | 2016 Summer | 2016 | Summer | Rio de Janeiro | Wrestling | Wrestling Men's Featherweight, Freestyle       | NA     |\n| 20 | 4501 | Lissette Alexandra Antes Castillo      | F | 25 | 177 |  58 | Ecuador    | ECU | 2016 Summer | 2016 | Summer | Rio de Janeiro | Wrestling | Wrestling Women's Lightweight, Freestyle       | NA     |\n\n",
            "text/html": [
              "<table>\n",
              "<caption>A data.frame: 20 × 15</caption>\n",
              "<thead>\n",
              "\t<tr><th></th><th scope=col>ID</th><th scope=col>Name</th><th scope=col>Sex</th><th scope=col>Age</th><th scope=col>Height</th><th scope=col>Weight</th><th scope=col>Team</th><th scope=col>NOC</th><th scope=col>Games</th><th scope=col>Year</th><th scope=col>Season</th><th scope=col>City</th><th scope=col>Sport</th><th scope=col>Event</th><th scope=col>Medal</th></tr>\n",
              "\t<tr><th></th><th scope=col>&lt;int&gt;</th><th scope=col>&lt;chr&gt;</th><th scope=col>&lt;chr&gt;</th><th scope=col>&lt;int&gt;</th><th scope=col>&lt;int&gt;</th><th scope=col>&lt;dbl&gt;</th><th scope=col>&lt;chr&gt;</th><th scope=col>&lt;chr&gt;</th><th scope=col>&lt;chr&gt;</th><th scope=col>&lt;int&gt;</th><th scope=col>&lt;chr&gt;</th><th scope=col>&lt;chr&gt;</th><th scope=col>&lt;chr&gt;</th><th scope=col>&lt;chr&gt;</th><th scope=col>&lt;chr&gt;</th></tr>\n",
              "</thead>\n",
              "<tbody>\n",
              "\t<tr><th scope=row>1</th><td> 250</td><td>Saeid Morad Abdevali                  </td><td>M</td><td>26</td><td>170</td><td> 80</td><td>Iran      </td><td>IRI</td><td>2016 Summer</td><td>2016</td><td>Summer</td><td>Rio de Janeiro</td><td>Wrestling</td><td>Wrestling Men's Middleweight, Greco-Roman     </td><td>Bronze</td></tr>\n",
              "\t<tr><th scope=row>2</th><td> 338</td><td>Muminzhon Abdullayev                  </td><td>M</td><td>26</td><td>190</td><td>130</td><td>Uzbekistan</td><td>UZB</td><td>2016 Summer</td><td>2016</td><td>Summer</td><td>Rio de Janeiro</td><td>Wrestling</td><td>Wrestling Men's Super-Heavyweight, Greco-Roman</td><td>NA    </td></tr>\n",
              "\t<tr><th scope=row>3</th><td> 354</td><td>Bekzod Makhamadzhonovich Abdurakhmonov</td><td>M</td><td>26</td><td>172</td><td> 74</td><td>Uzbekistan</td><td>UZB</td><td>2016 Summer</td><td>2016</td><td>Summer</td><td>Rio de Janeiro</td><td>Wrestling</td><td>Wrestling Men's Middleweight, Freestyle       </td><td>NA    </td></tr>\n",
              "\t<tr><th scope=row>4</th><td> 721</td><td>Mara Jos Acosta Acosta                </td><td>F</td><td>24</td><td>172</td><td> 69</td><td>Venezuela </td><td>VEN</td><td>2016 Summer</td><td>2016</td><td>Summer</td><td>Rio de Janeiro</td><td>Wrestling</td><td>Wrestling Women's Light-Heavyweight, Freestyle</td><td>NA    </td></tr>\n",
              "\t<tr><th scope=row>5</th><td> 864</td><td>Yasemin Adar                          </td><td>F</td><td>24</td><td>180</td><td> 75</td><td>Turkey    </td><td>TUR</td><td>2016 Summer</td><td>2016</td><td>Summer</td><td>Rio de Janeiro</td><td>Wrestling</td><td>Wrestling Women's Heavyweight, Freestyle      </td><td>NA    </td></tr>\n",
              "\t<tr><th scope=row>6</th><td> 902</td><td>Odunayo Folasade Adekuoroye           </td><td>F</td><td>22</td><td>169</td><td> 53</td><td>Nigeria   </td><td>NGR</td><td>2016 Summer</td><td>2016</td><td>Summer</td><td>Rio de Janeiro</td><td>Wrestling</td><td>Wrestling Women's Featherweight, Freestyle    </td><td>NA    </td></tr>\n",
              "\t<tr><th scope=row>7</th><td> 924</td><td>Aminat Oluwafunmilayo Adeniyi         </td><td>F</td><td>23</td><td>165</td><td> 58</td><td>Nigeria   </td><td>NGR</td><td>2016 Summer</td><td>2016</td><td>Summer</td><td>Rio de Janeiro</td><td>Wrestling</td><td>Wrestling Women's Lightweight, Freestyle      </td><td>NA    </td></tr>\n",
              "\t<tr><th scope=row>8</th><td>1525</td><td>Zied Ait Ouagram                      </td><td>M</td><td>27</td><td>191</td><td> 75</td><td>Morocco   </td><td>MAR</td><td>2016 Summer</td><td>2016</td><td>Summer</td><td>Rio de Janeiro</td><td>Wrestling</td><td>Wrestling Men's Middleweight, Greco-Roman     </td><td>NA    </td></tr>\n",
              "\t<tr><th scope=row>9</th><td>1634</td><td>Taha Akgl                             </td><td>M</td><td>25</td><td>192</td><td>125</td><td>Turkey    </td><td>TUR</td><td>2016 Summer</td><td>2016</td><td>Summer</td><td>Rio de Janeiro</td><td>Wrestling</td><td>Wrestling Men's Super-Heavyweight, Freestyle  </td><td>Gold  </td></tr>\n",
              "\t<tr><th scope=row>10</th><td>1645</td><td>Habibollah Jomeh Akhlaghi             </td><td>M</td><td>31</td><td>175</td><td> 90</td><td>Iran      </td><td>IRI</td><td>2016 Summer</td><td>2016</td><td>Summer</td><td>Rio de Janeiro</td><td>Wrestling</td><td>Wrestling Men's Light-Heavyweight, Greco-Roman</td><td>NA    </td></tr>\n",
              "\t<tr><th scope=row>11</th><td>2359</td><td>Islam-Beka Said-Tsilimovich Albiyev   </td><td>M</td><td>27</td><td>165</td><td> 66</td><td>Russia    </td><td>RUS</td><td>2016 Summer</td><td>2016</td><td>Summer</td><td>Rio de Janeiro</td><td>Wrestling</td><td>Wrestling Men's Welterweight, Greco-Roman     </td><td>NA    </td></tr>\n",
              "\t<tr><th scope=row>12</th><td>2474</td><td>Daniel Tihomirov Aleksandrov          </td><td>M</td><td>24</td><td>182</td><td> 81</td><td>Bulgaria  </td><td>BUL</td><td>2016 Summer</td><td>2016</td><td>Summer</td><td>Rio de Janeiro</td><td>Wrestling</td><td>Wrestling Men's Middleweight, Greco-Roman     </td><td>NA    </td></tr>\n",
              "\t<tr><th scope=row>13</th><td>2497</td><td>Artur Aleksanyan                      </td><td>M</td><td>24</td><td>190</td><td> 98</td><td>Armenia   </td><td>ARM</td><td>2016 Summer</td><td>2016</td><td>Summer</td><td>Rio de Janeiro</td><td>Wrestling</td><td>Wrestling Men's Heavyweight, Greco-Roman      </td><td>Gold  </td></tr>\n",
              "\t<tr><th scope=row>14</th><td>2605</td><td>Alin Alexuc-Ciurariu                  </td><td>M</td><td>26</td><td>191</td><td>105</td><td>Romania   </td><td>ROU</td><td>2016 Summer</td><td>2016</td><td>Summer</td><td>Rio de Janeiro</td><td>Wrestling</td><td>Wrestling Men's Heavyweight, Greco-Roman      </td><td>NA    </td></tr>\n",
              "\t<tr><th scope=row>15</th><td>2685</td><td>Annabel Laure Ali                     </td><td>F</td><td>31</td><td>176</td><td> 75</td><td>Cameroon  </td><td>CMR</td><td>2016 Summer</td><td>2016</td><td>Summer</td><td>Rio de Janeiro</td><td>Wrestling</td><td>Wrestling Women's Heavyweight, Freestyle      </td><td>NA    </td></tr>\n",
              "\t<tr><th scope=row>16</th><td>3440</td><td>Sandro Aminashvili                    </td><td>M</td><td>24</td><td>180</td><td> 85</td><td>Georgia   </td><td>GEO</td><td>2016 Summer</td><td>2016</td><td>Summer</td><td>Rio de Janeiro</td><td>Wrestling</td><td>Wrestling Men's Light-Heavyweight, Freestyle  </td><td>NA    </td></tr>\n",
              "\t<tr><th scope=row>17</th><td>3537</td><td>Marwa Al-Amri                         </td><td>F</td><td>27</td><td>160</td><td> 58</td><td>Tunisia   </td><td>TUN</td><td>2016 Summer</td><td>2016</td><td>Summer</td><td>Rio de Janeiro</td><td>Wrestling</td><td>Wrestling Women's Lightweight, Freestyle      </td><td>Bronze</td></tr>\n",
              "\t<tr><th scope=row>18</th><td>4211</td><td>Valeriy Oleksandrovych Andriitsev     </td><td>M</td><td>29</td><td>181</td><td> 97</td><td>Ukraine   </td><td>UKR</td><td>2016 Summer</td><td>2016</td><td>Summer</td><td>Rio de Janeiro</td><td>Wrestling</td><td>Wrestling Men's Heavyweight, Freestyle        </td><td>NA    </td></tr>\n",
              "\t<tr><th scope=row>19</th><td>4454</td><td>Chakir Ansari                         </td><td>M</td><td>25</td><td>168</td><td> 57</td><td>Morocco   </td><td>MAR</td><td>2016 Summer</td><td>2016</td><td>Summer</td><td>Rio de Janeiro</td><td>Wrestling</td><td>Wrestling Men's Featherweight, Freestyle      </td><td>NA    </td></tr>\n",
              "\t<tr><th scope=row>20</th><td>4501</td><td>Lissette Alexandra Antes Castillo     </td><td>F</td><td>25</td><td>177</td><td> 58</td><td>Ecuador   </td><td>ECU</td><td>2016 Summer</td><td>2016</td><td>Summer</td><td>Rio de Janeiro</td><td>Wrestling</td><td>Wrestling Women's Lightweight, Freestyle      </td><td>NA    </td></tr>\n",
              "</tbody>\n",
              "</table>\n"
            ]
          },
          "metadata": {
            "tags": []
          }
        }
      ]
    },
    {
      "cell_type": "markdown",
      "metadata": {
        "id": "N3g-Fj1pmRNv"
      },
      "source": [
        "#### Mutate"
      ]
    },
    {
      "cell_type": "code",
      "metadata": {
        "id": "mr2wzn-3mRNw",
        "outputId": "2e0972a2-86b8-45ed-f43b-91a229c11590",
        "colab": {
          "base_uri": "https://localhost:8080/",
          "height": 459
        }
      },
      "source": [
        "#### Ajout d'une nouvelle variable year_start qui définie l'année 1880 comme l'année 0\n",
        "\n",
        "mutate(dataset, year_start = Year - 1880) %>% head()"
      ],
      "execution_count": 48,
      "outputs": [
        {
          "output_type": "display_data",
          "data": {
            "text/plain": [
              "  ID Name                     Sex Age Height Weight Team           NOC\n",
              "1 1  A Dijiang                M   24  180    80     China          CHN\n",
              "2 2  A Lamusi                 M   23  170    60     China          CHN\n",
              "3 3  Gunnar Nielsen Aaby      M   24   NA    NA     Denmark        DEN\n",
              "4 4  Edgar Lindenau Aabye     M   34   NA    NA     Denmark/Sweden DEN\n",
              "5 5  Christine Jacoba Aaftink F   21  185    82     Netherlands    NED\n",
              "6 5  Christine Jacoba Aaftink F   21  185    82     Netherlands    NED\n",
              "  Games       Year Season City      Sport        \n",
              "1 1992 Summer 1992 Summer Barcelona Basketball   \n",
              "2 2012 Summer 2012 Summer London    Judo         \n",
              "3 1920 Summer 1920 Summer Antwerpen Football     \n",
              "4 1900 Summer 1900 Summer Paris     Tug-Of-War   \n",
              "5 1988 Winter 1988 Winter Calgary   Speed Skating\n",
              "6 1988 Winter 1988 Winter Calgary   Speed Skating\n",
              "  Event                              Medal year_start\n",
              "1 Basketball Men's Basketball        NA    112       \n",
              "2 Judo Men's Extra-Lightweight       NA    132       \n",
              "3 Football Men's Football            NA     40       \n",
              "4 Tug-Of-War Men's Tug-Of-War        Gold   20       \n",
              "5 Speed Skating Women's 500 metres   NA    108       \n",
              "6 Speed Skating Women's 1,000 metres NA    108       "
            ],
            "text/latex": "A data.frame: 6 × 16\n\\begin{tabular}{r|llllllllllllllll}\n  & ID & Name & Sex & Age & Height & Weight & Team & NOC & Games & Year & Season & City & Sport & Event & Medal & year\\_start\\\\\n  & <int> & <chr> & <chr> & <int> & <int> & <dbl> & <chr> & <chr> & <chr> & <int> & <chr> & <chr> & <chr> & <chr> & <chr> & <dbl>\\\\\n\\hline\n\t1 & 1 & A Dijiang                & M & 24 & 180 & 80 & China          & CHN & 1992 Summer & 1992 & Summer & Barcelona & Basketball    & Basketball Men's Basketball        & NA   & 112\\\\\n\t2 & 2 & A Lamusi                 & M & 23 & 170 & 60 & China          & CHN & 2012 Summer & 2012 & Summer & London    & Judo          & Judo Men's Extra-Lightweight       & NA   & 132\\\\\n\t3 & 3 & Gunnar Nielsen Aaby      & M & 24 &  NA & NA & Denmark        & DEN & 1920 Summer & 1920 & Summer & Antwerpen & Football      & Football Men's Football            & NA   &  40\\\\\n\t4 & 4 & Edgar Lindenau Aabye     & M & 34 &  NA & NA & Denmark/Sweden & DEN & 1900 Summer & 1900 & Summer & Paris     & Tug-Of-War    & Tug-Of-War Men's Tug-Of-War        & Gold &  20\\\\\n\t5 & 5 & Christine Jacoba Aaftink & F & 21 & 185 & 82 & Netherlands    & NED & 1988 Winter & 1988 & Winter & Calgary   & Speed Skating & Speed Skating Women's 500 metres   & NA   & 108\\\\\n\t6 & 5 & Christine Jacoba Aaftink & F & 21 & 185 & 82 & Netherlands    & NED & 1988 Winter & 1988 & Winter & Calgary   & Speed Skating & Speed Skating Women's 1,000 metres & NA   & 108\\\\\n\\end{tabular}\n",
            "text/markdown": "\nA data.frame: 6 × 16\n\n| <!--/--> | ID &lt;int&gt; | Name &lt;chr&gt; | Sex &lt;chr&gt; | Age &lt;int&gt; | Height &lt;int&gt; | Weight &lt;dbl&gt; | Team &lt;chr&gt; | NOC &lt;chr&gt; | Games &lt;chr&gt; | Year &lt;int&gt; | Season &lt;chr&gt; | City &lt;chr&gt; | Sport &lt;chr&gt; | Event &lt;chr&gt; | Medal &lt;chr&gt; | year_start &lt;dbl&gt; |\n|---|---|---|---|---|---|---|---|---|---|---|---|---|---|---|---|---|\n| 1 | 1 | A Dijiang                | M | 24 | 180 | 80 | China          | CHN | 1992 Summer | 1992 | Summer | Barcelona | Basketball    | Basketball Men's Basketball        | NA   | 112 |\n| 2 | 2 | A Lamusi                 | M | 23 | 170 | 60 | China          | CHN | 2012 Summer | 2012 | Summer | London    | Judo          | Judo Men's Extra-Lightweight       | NA   | 132 |\n| 3 | 3 | Gunnar Nielsen Aaby      | M | 24 |  NA | NA | Denmark        | DEN | 1920 Summer | 1920 | Summer | Antwerpen | Football      | Football Men's Football            | NA   |  40 |\n| 4 | 4 | Edgar Lindenau Aabye     | M | 34 |  NA | NA | Denmark/Sweden | DEN | 1900 Summer | 1900 | Summer | Paris     | Tug-Of-War    | Tug-Of-War Men's Tug-Of-War        | Gold |  20 |\n| 5 | 5 | Christine Jacoba Aaftink | F | 21 | 185 | 82 | Netherlands    | NED | 1988 Winter | 1988 | Winter | Calgary   | Speed Skating | Speed Skating Women's 500 metres   | NA   | 108 |\n| 6 | 5 | Christine Jacoba Aaftink | F | 21 | 185 | 82 | Netherlands    | NED | 1988 Winter | 1988 | Winter | Calgary   | Speed Skating | Speed Skating Women's 1,000 metres | NA   | 108 |\n\n",
            "text/html": [
              "<table>\n",
              "<caption>A data.frame: 6 × 16</caption>\n",
              "<thead>\n",
              "\t<tr><th></th><th scope=col>ID</th><th scope=col>Name</th><th scope=col>Sex</th><th scope=col>Age</th><th scope=col>Height</th><th scope=col>Weight</th><th scope=col>Team</th><th scope=col>NOC</th><th scope=col>Games</th><th scope=col>Year</th><th scope=col>Season</th><th scope=col>City</th><th scope=col>Sport</th><th scope=col>Event</th><th scope=col>Medal</th><th scope=col>year_start</th></tr>\n",
              "\t<tr><th></th><th scope=col>&lt;int&gt;</th><th scope=col>&lt;chr&gt;</th><th scope=col>&lt;chr&gt;</th><th scope=col>&lt;int&gt;</th><th scope=col>&lt;int&gt;</th><th scope=col>&lt;dbl&gt;</th><th scope=col>&lt;chr&gt;</th><th scope=col>&lt;chr&gt;</th><th scope=col>&lt;chr&gt;</th><th scope=col>&lt;int&gt;</th><th scope=col>&lt;chr&gt;</th><th scope=col>&lt;chr&gt;</th><th scope=col>&lt;chr&gt;</th><th scope=col>&lt;chr&gt;</th><th scope=col>&lt;chr&gt;</th><th scope=col>&lt;dbl&gt;</th></tr>\n",
              "</thead>\n",
              "<tbody>\n",
              "\t<tr><th scope=row>1</th><td>1</td><td>A Dijiang               </td><td>M</td><td>24</td><td>180</td><td>80</td><td>China         </td><td>CHN</td><td>1992 Summer</td><td>1992</td><td>Summer</td><td>Barcelona</td><td>Basketball   </td><td>Basketball Men's Basketball       </td><td>NA  </td><td>112</td></tr>\n",
              "\t<tr><th scope=row>2</th><td>2</td><td>A Lamusi                </td><td>M</td><td>23</td><td>170</td><td>60</td><td>China         </td><td>CHN</td><td>2012 Summer</td><td>2012</td><td>Summer</td><td>London   </td><td>Judo         </td><td>Judo Men's Extra-Lightweight      </td><td>NA  </td><td>132</td></tr>\n",
              "\t<tr><th scope=row>3</th><td>3</td><td>Gunnar Nielsen Aaby     </td><td>M</td><td>24</td><td> NA</td><td>NA</td><td>Denmark       </td><td>DEN</td><td>1920 Summer</td><td>1920</td><td>Summer</td><td>Antwerpen</td><td>Football     </td><td>Football Men's Football           </td><td>NA  </td><td> 40</td></tr>\n",
              "\t<tr><th scope=row>4</th><td>4</td><td>Edgar Lindenau Aabye    </td><td>M</td><td>34</td><td> NA</td><td>NA</td><td>Denmark/Sweden</td><td>DEN</td><td>1900 Summer</td><td>1900</td><td>Summer</td><td>Paris    </td><td>Tug-Of-War   </td><td>Tug-Of-War Men's Tug-Of-War       </td><td>Gold</td><td> 20</td></tr>\n",
              "\t<tr><th scope=row>5</th><td>5</td><td>Christine Jacoba Aaftink</td><td>F</td><td>21</td><td>185</td><td>82</td><td>Netherlands   </td><td>NED</td><td>1988 Winter</td><td>1988</td><td>Winter</td><td>Calgary  </td><td>Speed Skating</td><td>Speed Skating Women's 500 metres  </td><td>NA  </td><td>108</td></tr>\n",
              "\t<tr><th scope=row>6</th><td>5</td><td>Christine Jacoba Aaftink</td><td>F</td><td>21</td><td>185</td><td>82</td><td>Netherlands   </td><td>NED</td><td>1988 Winter</td><td>1988</td><td>Winter</td><td>Calgary  </td><td>Speed Skating</td><td>Speed Skating Women's 1,000 metres</td><td>NA  </td><td>108</td></tr>\n",
              "</tbody>\n",
              "</table>\n"
            ]
          },
          "metadata": {
            "tags": []
          }
        }
      ]
    },
    {
      "cell_type": "markdown",
      "metadata": {
        "id": "-Oi-7qYmmRN2"
      },
      "source": [
        "#### Summarise"
      ]
    },
    {
      "cell_type": "code",
      "metadata": {
        "id": "i6ByKyTnmRN3",
        "outputId": "70e97de2-7901-45f3-b852-1e60542d6596",
        "colab": {
          "base_uri": "https://localhost:8080/",
          "height": 133
        }
      },
      "source": [
        "#### Résumé des données à l'aide de summaryse\n",
        "#### Somme totale des prénoms\n",
        "\n",
        "summarise(dataset, somme = sum(Height))"
      ],
      "execution_count": 40,
      "outputs": [
        {
          "output_type": "display_data",
          "data": {
            "text/plain": [
              "  somme\n",
              "1 NA   "
            ],
            "text/latex": "A data.frame: 1 × 1\n\\begin{tabular}{l}\n somme\\\\\n <int>\\\\\n\\hline\n\t NA\\\\\n\\end{tabular}\n",
            "text/markdown": "\nA data.frame: 1 × 1\n\n| somme &lt;int&gt; |\n|---|\n| NA |\n\n",
            "text/html": [
              "<table>\n",
              "<caption>A data.frame: 1 × 1</caption>\n",
              "<thead>\n",
              "\t<tr><th scope=col>somme</th></tr>\n",
              "\t<tr><th scope=col>&lt;int&gt;</th></tr>\n",
              "</thead>\n",
              "<tbody>\n",
              "\t<tr><td>NA</td></tr>\n",
              "</tbody>\n",
              "</table>\n"
            ]
          },
          "metadata": {
            "tags": []
          }
        }
      ]
    },
    {
      "cell_type": "code",
      "metadata": {
        "id": "fiBP-1s_mROB",
        "outputId": "79328e42-d64b-4ea6-d652-1380bc9156a4",
        "colab": {
          "base_uri": "https://localhost:8080/",
          "height": 238
        }
      },
      "source": [
        "#### Grouper par année et sommer le poins\n",
        "\n",
        "by_annee <- group_by(dataset, Team)\n",
        "summarise(by_annee, somme = sum(Weight), na.rm = TRUE) %>% head()"
      ],
      "execution_count": 41,
      "outputs": [
        {
          "output_type": "stream",
          "text": [
            "`summarise()` ungrouping output (override with `.groups` argument)\n",
            "\n"
          ],
          "name": "stderr"
        },
        {
          "output_type": "display_data",
          "data": {
            "text/plain": [
              "  Team                  somme na.rm\n",
              "1 30. Februar            NA   TRUE \n",
              "2 A North American Team  NA   TRUE \n",
              "3 Acipactli             226   TRUE \n",
              "4 Acturus                NA   TRUE \n",
              "5 Afghanistan            NA   TRUE \n",
              "6 Akatonbo              240   TRUE "
            ],
            "text/latex": "A tibble: 6 × 3\n\\begin{tabular}{lll}\n Team & somme & na.rm\\\\\n <chr> & <dbl> & <lgl>\\\\\n\\hline\n\t 30. Februar           &  NA & TRUE\\\\\n\t A North American Team &  NA & TRUE\\\\\n\t Acipactli             & 226 & TRUE\\\\\n\t Acturus               &  NA & TRUE\\\\\n\t Afghanistan           &  NA & TRUE\\\\\n\t Akatonbo              & 240 & TRUE\\\\\n\\end{tabular}\n",
            "text/markdown": "\nA tibble: 6 × 3\n\n| Team &lt;chr&gt; | somme &lt;dbl&gt; | na.rm &lt;lgl&gt; |\n|---|---|---|\n| 30. Februar           |  NA | TRUE |\n| A North American Team |  NA | TRUE |\n| Acipactli             | 226 | TRUE |\n| Acturus               |  NA | TRUE |\n| Afghanistan           |  NA | TRUE |\n| Akatonbo              | 240 | TRUE |\n\n",
            "text/html": [
              "<table>\n",
              "<caption>A tibble: 6 × 3</caption>\n",
              "<thead>\n",
              "\t<tr><th scope=col>Team</th><th scope=col>somme</th><th scope=col>na.rm</th></tr>\n",
              "\t<tr><th scope=col>&lt;chr&gt;</th><th scope=col>&lt;dbl&gt;</th><th scope=col>&lt;lgl&gt;</th></tr>\n",
              "</thead>\n",
              "<tbody>\n",
              "\t<tr><td>30. Februar          </td><td> NA</td><td>TRUE</td></tr>\n",
              "\t<tr><td>A North American Team</td><td> NA</td><td>TRUE</td></tr>\n",
              "\t<tr><td>Acipactli            </td><td>226</td><td>TRUE</td></tr>\n",
              "\t<tr><td>Acturus              </td><td> NA</td><td>TRUE</td></tr>\n",
              "\t<tr><td>Afghanistan          </td><td> NA</td><td>TRUE</td></tr>\n",
              "\t<tr><td>Akatonbo             </td><td>240</td><td>TRUE</td></tr>\n",
              "</tbody>\n",
              "</table>\n"
            ]
          },
          "metadata": {
            "tags": []
          }
        }
      ]
    },
    {
      "cell_type": "code",
      "metadata": {
        "id": "XfVoS4BgmROO",
        "outputId": "524c84a5-782f-4931-8f21-519006087dd4",
        "colab": {
          "base_uri": "https://localhost:8080/",
          "height": 1000
        }
      },
      "source": [
        "dataset %>% filter(Sport == \"Judo\" | Sport == \"Football\") %>% arrange(Year)"
      ],
      "execution_count": 50,
      "outputs": [
        {
          "output_type": "display_data",
          "data": {
            "text/plain": [
              "     ID    Name                                       Sex Age Height Weight\n",
              "1     2829 Richard Louis Pierre Allemane              M   18  NA     NA    \n",
              "2     6510 Louis Dsir Bach                            M   17  NA     NA    \n",
              "3    12293 Alfred Bloch                               M   NA  NA     NA    \n",
              "4    16085 Claude Percival Buckenham                  M   24  NA     NA    \n",
              "5    16727 Tom Eustace Burridge                       M   19  NA     NA    \n",
              "6    17893 Fernand mile Canelle                       M   18  NA     NA    \n",
              "7    19595 Alfred Ernest Chalk                        M   25  NA     NA    \n",
              "8    27218 Albert Delbecque                           M   NA  NA     NA    \n",
              "9    30724 R. Duparc                                  M   NA  NA     NA    \n",
              "10   36903 Maurice Eugne Fraysse                      M   20  NA     NA    \n",
              "11   37926 Ren Paul Virgile Gaillard                  M   22  NA     NA    \n",
              "12   38830 Georges Garnier                            M   NA  NA     NA    \n",
              "13   41949 William Sullivan Gosling                   M   30  NA     NA    \n",
              "14   42370 Ren Grandjean                              M   NA  NA     NA    \n",
              "15   46449 Henry North Haslam                         M   NA  NA     NA    \n",
              "16   51292 Lucien Paul Nol Huteau                     M   21  NA     NA    \n",
              "17   55677 James Henry Jones                          M   NA  NA     NA    \n",
              "18   58471 Raul Kelecom                               M   NA  NA     NA    \n",
              "19   66151 Marcel Lambert                             M   NA  NA     NA    \n",
              "20   67659 Marcel Leboutte                            M   NA  NA     NA    \n",
              "21   71187 Lucien Jean Londot                         M   NA  NA     NA    \n",
              "22   72827 Maurice Macaire                            M   18  NA     NA    \n",
              "23   81896 Ernest Marie Eugne Adolphe Moreau de Melen M   NA  NA     NA    \n",
              "24   85040 Edmond Neefs                               M   NA  NA     NA    \n",
              "25   85802 John Nicholas                              M   20  NA     NA    \n",
              "26   92824 Georges Pelgrims                           M   NA  NA     NA    \n",
              "27   92908 Gaston Peltier                             M   NA  NA     NA    \n",
              "28    8305 Charles Albert Bartliff                    M   17  NA     NA    \n",
              "29   14530 Joseph J. Brady                            M   NA  NA     NA    \n",
              "30   15188 Warren George Brittingham                  M   17  NA     NA    \n",
              "⋮    ⋮     ⋮                                          ⋮   ⋮   ⋮      ⋮     \n",
              "7449 88738 Srgio  Miguel Relvas de Oliveira           M   24  180     80   \n",
              "7450 89186 Shohei Ono                                 M   24  170     73   \n",
              "7451 89582 Idalys Ortz Bocourt                        F   26  180     95   \n",
              "7452 89632 Rstm Orucov                                M   24  179     73   \n",
              "7453 89742 Ryota Oshima                               M   23  168     64   \n",
              "7454 89801 Diana Carolina Ospina Garca                F   27  157     64   \n",
              "7455 89955 Otgonbaataryn Uuganbaatar                  M   28  178     81   \n",
              "7456 90196 Raymond Ovinou                             M   31  169     68   \n",
              "7457 90328 Bekir zl                                   M   27  170     60   \n",
              "7458 90379 Dorlan Mauricio Pabn Ros                   M   28  168     68   \n",
              "7459 90397 Martin Pacek                               M   29  197    100   \n",
              "7460 90398 Robin Pacek                                M   25  181     81   \n",
              "7461 90435 Gonalo Mendes Pacincia                     M   22  187     80   \n",
              "7462 90616 Ludwig Paischer                            M   34  170     60   \n",
              "7463 90669 Santa Pakenyt                              F   25  186    132   \n",
              "7464 90701 Helibelton Palacios Zapata                 M   23  177     75   \n",
              "7465 90703 Johnny Eulogio Palacios Cacho              M   29  183     82   \n",
              "7466 91037 Pang Fengyue                               F   27  165     59   \n",
              "7467 91273 Amiran Papinashvili                        M   28  162     64   \n",
              "7468 91398 Paula Beln Pareto                          F   30  150     48   \n",
              "7469 91638 Park Yong-Woo                              M   22  186     80   \n",
              "7470 92277 Automne Pavia                              F   27  171     57   \n",
              "7471 92355 Cristian David Pavn                        M   20  175     68   \n",
              "7472 92400 Latitia Payet                              F   30  150     48   \n",
              "7473 92438 Jhonathan Josu Paz Hernndez                M   21  183     81   \n",
              "7474 92969 Victor Rodrigues Penalber de Oliveira      M   26  174     81   \n",
              "7475 93134 Oribe Peralta Morones                      M   32  179     73   \n",
              "7476 93151 Ria Dawn Percival                          F   26  161     57   \n",
              "7477 93190 Jasmine Henrietta Pereira                  F   20  168     66   \n",
              "7478 93202 Marcelo Antonio Pereira Rodrguez           M   21  181     70   \n",
              "     Team                          NOC Games       Year Season City          \n",
              "1    USFSA                         FRA 1900 Summer 1900 Summer Paris         \n",
              "2    USFSA                         FRA 1900 Summer 1900 Summer Paris         \n",
              "3    USFSA                         FRA 1900 Summer 1900 Summer Paris         \n",
              "4    Upton Park FC                 GBR 1900 Summer 1900 Summer Paris         \n",
              "5    Upton Park FC                 GBR 1900 Summer 1900 Summer Paris         \n",
              "6    USFSA                         FRA 1900 Summer 1900 Summer Paris         \n",
              "7    Upton Park FC                 GBR 1900 Summer 1900 Summer Paris         \n",
              "8    Univ. of Brussels             BEL 1900 Summer 1900 Summer Paris         \n",
              "9    USFSA                         FRA 1900 Summer 1900 Summer Paris         \n",
              "10   USFSA                         FRA 1900 Summer 1900 Summer Paris         \n",
              "11   USFSA                         FRA 1900 Summer 1900 Summer Paris         \n",
              "12   USFSA                         FRA 1900 Summer 1900 Summer Paris         \n",
              "13   Upton Park FC                 GBR 1900 Summer 1900 Summer Paris         \n",
              "14   USFSA                         FRA 1900 Summer 1900 Summer Paris         \n",
              "15   Upton Park FC                 GBR 1900 Summer 1900 Summer Paris         \n",
              "16   USFSA                         FRA 1900 Summer 1900 Summer Paris         \n",
              "17   Upton Park FC                 GBR 1900 Summer 1900 Summer Paris         \n",
              "18   Univ. of Brussels             BEL 1900 Summer 1900 Summer Paris         \n",
              "19   USFSA                         FRA 1900 Summer 1900 Summer Paris         \n",
              "20   Univ. of Brussels             BEL 1900 Summer 1900 Summer Paris         \n",
              "21   Univ. of Brussels             BEL 1900 Summer 1900 Summer Paris         \n",
              "22   USFSA                         FRA 1900 Summer 1900 Summer Paris         \n",
              "23   Univ. of Brussels             BEL 1900 Summer 1900 Summer Paris         \n",
              "24   Univ. of Brussels             BEL 1900 Summer 1900 Summer Paris         \n",
              "25   Upton Park FC                 GBR 1900 Summer 1900 Summer Paris         \n",
              "26   Univ. of Brussels             BEL 1900 Summer 1900 Summer Paris         \n",
              "27   USFSA                         FRA 1900 Summer 1900 Summer Paris         \n",
              "28   Christian Brothers' College-1 USA 1904 Summer 1904 Summer St. Louis     \n",
              "29   St. Rose-2                    USA 1904 Summer 1904 Summer St. Louis     \n",
              "30   Christian Brothers' College-1 USA 1904 Summer 1904 Summer St. Louis     \n",
              "⋮    ⋮                             ⋮   ⋮           ⋮    ⋮      ⋮             \n",
              "7449 Portugal                      POR 2016 Summer 2016 Summer Rio de Janeiro\n",
              "7450 Japan                         JPN 2016 Summer 2016 Summer Rio de Janeiro\n",
              "7451 Cuba                          CUB 2016 Summer 2016 Summer Rio de Janeiro\n",
              "7452 Azerbaijan                    AZE 2016 Summer 2016 Summer Rio de Janeiro\n",
              "7453 Japan                         JPN 2016 Summer 2016 Summer Rio de Janeiro\n",
              "7454 Colombia                      COL 2016 Summer 2016 Summer Rio de Janeiro\n",
              "7455 Mongolia                      MGL 2016 Summer 2016 Summer Rio de Janeiro\n",
              "7456 Papua New Guinea              PNG 2016 Summer 2016 Summer Rio de Janeiro\n",
              "7457 Turkey                        TUR 2016 Summer 2016 Summer Rio de Janeiro\n",
              "7458 Colombia                      COL 2016 Summer 2016 Summer Rio de Janeiro\n",
              "7459 Sweden                        SWE 2016 Summer 2016 Summer Rio de Janeiro\n",
              "7460 Sweden                        SWE 2016 Summer 2016 Summer Rio de Janeiro\n",
              "7461 Portugal                      POR 2016 Summer 2016 Summer Rio de Janeiro\n",
              "7462 Austria                       AUT 2016 Summer 2016 Summer Rio de Janeiro\n",
              "7463 Lithuania                     LTU 2016 Summer 2016 Summer Rio de Janeiro\n",
              "7464 Colombia                      COL 2016 Summer 2016 Summer Rio de Janeiro\n",
              "7465 Honduras                      HON 2016 Summer 2016 Summer Rio de Janeiro\n",
              "7466 China                         CHN 2016 Summer 2016 Summer Rio de Janeiro\n",
              "7467 Georgia                       GEO 2016 Summer 2016 Summer Rio de Janeiro\n",
              "7468 Argentina                     ARG 2016 Summer 2016 Summer Rio de Janeiro\n",
              "7469 South Korea                   KOR 2016 Summer 2016 Summer Rio de Janeiro\n",
              "7470 France                        FRA 2016 Summer 2016 Summer Rio de Janeiro\n",
              "7471 Argentina                     ARG 2016 Summer 2016 Summer Rio de Janeiro\n",
              "7472 France                        FRA 2016 Summer 2016 Summer Rio de Janeiro\n",
              "7473 Honduras                      HON 2016 Summer 2016 Summer Rio de Janeiro\n",
              "7474 Brazil                        BRA 2016 Summer 2016 Summer Rio de Janeiro\n",
              "7475 Mexico                        MEX 2016 Summer 2016 Summer Rio de Janeiro\n",
              "7476 New Zealand                   NZL 2016 Summer 2016 Summer Rio de Janeiro\n",
              "7477 New Zealand                   NZL 2016 Summer 2016 Summer Rio de Janeiro\n",
              "7478 Honduras                      HON 2016 Summer 2016 Summer Rio de Janeiro\n",
              "     Sport    Event                          Medal \n",
              "1    Football Football Men's Football        Silver\n",
              "2    Football Football Men's Football        Silver\n",
              "3    Football Football Men's Football        Silver\n",
              "4    Football Football Men's Football        Gold  \n",
              "5    Football Football Men's Football        Gold  \n",
              "6    Football Football Men's Football        Silver\n",
              "7    Football Football Men's Football        Gold  \n",
              "8    Football Football Men's Football        Bronze\n",
              "9    Football Football Men's Football        Silver\n",
              "10   Football Football Men's Football        Silver\n",
              "11   Football Football Men's Football        Silver\n",
              "12   Football Football Men's Football        Silver\n",
              "13   Football Football Men's Football        Gold  \n",
              "14   Football Football Men's Football        Silver\n",
              "15   Football Football Men's Football        Gold  \n",
              "16   Football Football Men's Football        Silver\n",
              "17   Football Football Men's Football        Gold  \n",
              "18   Football Football Men's Football        Bronze\n",
              "19   Football Football Men's Football        Silver\n",
              "20   Football Football Men's Football        Bronze\n",
              "21   Football Football Men's Football        Bronze\n",
              "22   Football Football Men's Football        Silver\n",
              "23   Football Football Men's Football        Bronze\n",
              "24   Football Football Men's Football        Bronze\n",
              "25   Football Football Men's Football        Gold  \n",
              "26   Football Football Men's Football        Bronze\n",
              "27   Football Football Men's Football        Silver\n",
              "28   Football Football Men's Football        Silver\n",
              "29   Football Football Men's Football        Bronze\n",
              "30   Football Football Men's Football        Silver\n",
              "⋮    ⋮        ⋮                              ⋮     \n",
              "7449 Football Football Men's Football        NA    \n",
              "7450 Judo     Judo Men's Lightweight         Gold  \n",
              "7451 Judo     Judo Women's Heavyweight       Silver\n",
              "7452 Judo     Judo Men's Lightweight         Silver\n",
              "7453 Football Football Men's Football        NA    \n",
              "7454 Football Football Women's Football      NA    \n",
              "7455 Judo     Judo Men's Half-Middleweight   NA    \n",
              "7456 Judo     Judo Men's Half-Lightweight    NA    \n",
              "7457 Judo     Judo Men's Extra-Lightweight   NA    \n",
              "7458 Football Football Men's Football        NA    \n",
              "7459 Judo     Judo Men's Half-Heavyweight    NA    \n",
              "7460 Judo     Judo Men's Half-Middleweight   NA    \n",
              "7461 Football Football Men's Football        NA    \n",
              "7462 Judo     Judo Men's Extra-Lightweight   NA    \n",
              "7463 Judo     Judo Women's Heavyweight       NA    \n",
              "7464 Football Football Men's Football        NA    \n",
              "7465 Football Football Men's Football        NA    \n",
              "7466 Football Football Women's Football      NA    \n",
              "7467 Judo     Judo Men's Extra-Lightweight   NA    \n",
              "7468 Judo     Judo Women's Extra-Lightweight Gold  \n",
              "7469 Football Football Men's Football        NA    \n",
              "7470 Judo     Judo Women's Lightweight       NA    \n",
              "7471 Football Football Men's Football        NA    \n",
              "7472 Judo     Judo Women's Extra-Lightweight NA    \n",
              "7473 Football Football Men's Football        NA    \n",
              "7474 Judo     Judo Men's Half-Middleweight   NA    \n",
              "7475 Football Football Men's Football        NA    \n",
              "7476 Football Football Women's Football      NA    \n",
              "7477 Football Football Women's Football      NA    \n",
              "7478 Football Football Men's Football        NA    "
            ],
            "text/latex": "A data.frame: 7478 × 15\n\\begin{tabular}{lllllllllllllll}\n ID & Name & Sex & Age & Height & Weight & Team & NOC & Games & Year & Season & City & Sport & Event & Medal\\\\\n <int> & <chr> & <chr> & <int> & <int> & <dbl> & <chr> & <chr> & <chr> & <int> & <chr> & <chr> & <chr> & <chr> & <chr>\\\\\n\\hline\n\t  2829 & Richard Louis Pierre Allemane              & M & 18 & NA & NA & USFSA                         & FRA & 1900 Summer & 1900 & Summer & Paris     & Football & Football Men's Football & Silver\\\\\n\t  6510 & Louis Dsir Bach                            & M & 17 & NA & NA & USFSA                         & FRA & 1900 Summer & 1900 & Summer & Paris     & Football & Football Men's Football & Silver\\\\\n\t 12293 & Alfred Bloch                               & M & NA & NA & NA & USFSA                         & FRA & 1900 Summer & 1900 & Summer & Paris     & Football & Football Men's Football & Silver\\\\\n\t 16085 & Claude Percival Buckenham                  & M & 24 & NA & NA & Upton Park FC                 & GBR & 1900 Summer & 1900 & Summer & Paris     & Football & Football Men's Football & Gold  \\\\\n\t 16727 & Tom Eustace Burridge                       & M & 19 & NA & NA & Upton Park FC                 & GBR & 1900 Summer & 1900 & Summer & Paris     & Football & Football Men's Football & Gold  \\\\\n\t 17893 & Fernand mile Canelle                       & M & 18 & NA & NA & USFSA                         & FRA & 1900 Summer & 1900 & Summer & Paris     & Football & Football Men's Football & Silver\\\\\n\t 19595 & Alfred Ernest Chalk                        & M & 25 & NA & NA & Upton Park FC                 & GBR & 1900 Summer & 1900 & Summer & Paris     & Football & Football Men's Football & Gold  \\\\\n\t 27218 & Albert Delbecque                           & M & NA & NA & NA & Univ. of Brussels             & BEL & 1900 Summer & 1900 & Summer & Paris     & Football & Football Men's Football & Bronze\\\\\n\t 30724 & R. Duparc                                  & M & NA & NA & NA & USFSA                         & FRA & 1900 Summer & 1900 & Summer & Paris     & Football & Football Men's Football & Silver\\\\\n\t 36903 & Maurice Eugne Fraysse                      & M & 20 & NA & NA & USFSA                         & FRA & 1900 Summer & 1900 & Summer & Paris     & Football & Football Men's Football & Silver\\\\\n\t 37926 & Ren Paul Virgile Gaillard                  & M & 22 & NA & NA & USFSA                         & FRA & 1900 Summer & 1900 & Summer & Paris     & Football & Football Men's Football & Silver\\\\\n\t 38830 & Georges Garnier                            & M & NA & NA & NA & USFSA                         & FRA & 1900 Summer & 1900 & Summer & Paris     & Football & Football Men's Football & Silver\\\\\n\t 41949 & William Sullivan Gosling                   & M & 30 & NA & NA & Upton Park FC                 & GBR & 1900 Summer & 1900 & Summer & Paris     & Football & Football Men's Football & Gold  \\\\\n\t 42370 & Ren Grandjean                              & M & NA & NA & NA & USFSA                         & FRA & 1900 Summer & 1900 & Summer & Paris     & Football & Football Men's Football & Silver\\\\\n\t 46449 & Henry North Haslam                         & M & NA & NA & NA & Upton Park FC                 & GBR & 1900 Summer & 1900 & Summer & Paris     & Football & Football Men's Football & Gold  \\\\\n\t 51292 & Lucien Paul Nol Huteau                     & M & 21 & NA & NA & USFSA                         & FRA & 1900 Summer & 1900 & Summer & Paris     & Football & Football Men's Football & Silver\\\\\n\t 55677 & James Henry Jones                          & M & NA & NA & NA & Upton Park FC                 & GBR & 1900 Summer & 1900 & Summer & Paris     & Football & Football Men's Football & Gold  \\\\\n\t 58471 & Raul Kelecom                               & M & NA & NA & NA & Univ. of Brussels             & BEL & 1900 Summer & 1900 & Summer & Paris     & Football & Football Men's Football & Bronze\\\\\n\t 66151 & Marcel Lambert                             & M & NA & NA & NA & USFSA                         & FRA & 1900 Summer & 1900 & Summer & Paris     & Football & Football Men's Football & Silver\\\\\n\t 67659 & Marcel Leboutte                            & M & NA & NA & NA & Univ. of Brussels             & BEL & 1900 Summer & 1900 & Summer & Paris     & Football & Football Men's Football & Bronze\\\\\n\t 71187 & Lucien Jean Londot                         & M & NA & NA & NA & Univ. of Brussels             & BEL & 1900 Summer & 1900 & Summer & Paris     & Football & Football Men's Football & Bronze\\\\\n\t 72827 & Maurice Macaire                            & M & 18 & NA & NA & USFSA                         & FRA & 1900 Summer & 1900 & Summer & Paris     & Football & Football Men's Football & Silver\\\\\n\t 81896 & Ernest Marie Eugne Adolphe Moreau de Melen & M & NA & NA & NA & Univ. of Brussels             & BEL & 1900 Summer & 1900 & Summer & Paris     & Football & Football Men's Football & Bronze\\\\\n\t 85040 & Edmond Neefs                               & M & NA & NA & NA & Univ. of Brussels             & BEL & 1900 Summer & 1900 & Summer & Paris     & Football & Football Men's Football & Bronze\\\\\n\t 85802 & John Nicholas                              & M & 20 & NA & NA & Upton Park FC                 & GBR & 1900 Summer & 1900 & Summer & Paris     & Football & Football Men's Football & Gold  \\\\\n\t 92824 & Georges Pelgrims                           & M & NA & NA & NA & Univ. of Brussels             & BEL & 1900 Summer & 1900 & Summer & Paris     & Football & Football Men's Football & Bronze\\\\\n\t 92908 & Gaston Peltier                             & M & NA & NA & NA & USFSA                         & FRA & 1900 Summer & 1900 & Summer & Paris     & Football & Football Men's Football & Silver\\\\\n\t  8305 & Charles Albert Bartliff                    & M & 17 & NA & NA & Christian Brothers' College-1 & USA & 1904 Summer & 1904 & Summer & St. Louis & Football & Football Men's Football & Silver\\\\\n\t 14530 & Joseph J. Brady                            & M & NA & NA & NA & St. Rose-2                    & USA & 1904 Summer & 1904 & Summer & St. Louis & Football & Football Men's Football & Bronze\\\\\n\t 15188 & Warren George Brittingham                  & M & 17 & NA & NA & Christian Brothers' College-1 & USA & 1904 Summer & 1904 & Summer & St. Louis & Football & Football Men's Football & Silver\\\\\n\t ⋮ & ⋮ & ⋮ & ⋮ & ⋮ & ⋮ & ⋮ & ⋮ & ⋮ & ⋮ & ⋮ & ⋮ & ⋮ & ⋮ & ⋮\\\\\n\t 88738 & Srgio  Miguel Relvas de Oliveira      & M & 24 & 180 &  80 & Portugal         & POR & 2016 Summer & 2016 & Summer & Rio de Janeiro & Football & Football Men's Football        & NA    \\\\\n\t 89186 & Shohei Ono                            & M & 24 & 170 &  73 & Japan            & JPN & 2016 Summer & 2016 & Summer & Rio de Janeiro & Judo     & Judo Men's Lightweight         & Gold  \\\\\n\t 89582 & Idalys Ortz Bocourt                   & F & 26 & 180 &  95 & Cuba             & CUB & 2016 Summer & 2016 & Summer & Rio de Janeiro & Judo     & Judo Women's Heavyweight       & Silver\\\\\n\t 89632 & Rstm Orucov                           & M & 24 & 179 &  73 & Azerbaijan       & AZE & 2016 Summer & 2016 & Summer & Rio de Janeiro & Judo     & Judo Men's Lightweight         & Silver\\\\\n\t 89742 & Ryota Oshima                          & M & 23 & 168 &  64 & Japan            & JPN & 2016 Summer & 2016 & Summer & Rio de Janeiro & Football & Football Men's Football        & NA    \\\\\n\t 89801 & Diana Carolina Ospina Garca           & F & 27 & 157 &  64 & Colombia         & COL & 2016 Summer & 2016 & Summer & Rio de Janeiro & Football & Football Women's Football      & NA    \\\\\n\t 89955 & Otgonbaataryn Uuganbaatar             & M & 28 & 178 &  81 & Mongolia         & MGL & 2016 Summer & 2016 & Summer & Rio de Janeiro & Judo     & Judo Men's Half-Middleweight   & NA    \\\\\n\t 90196 & Raymond Ovinou                        & M & 31 & 169 &  68 & Papua New Guinea & PNG & 2016 Summer & 2016 & Summer & Rio de Janeiro & Judo     & Judo Men's Half-Lightweight    & NA    \\\\\n\t 90328 & Bekir zl                              & M & 27 & 170 &  60 & Turkey           & TUR & 2016 Summer & 2016 & Summer & Rio de Janeiro & Judo     & Judo Men's Extra-Lightweight   & NA    \\\\\n\t 90379 & Dorlan Mauricio Pabn Ros              & M & 28 & 168 &  68 & Colombia         & COL & 2016 Summer & 2016 & Summer & Rio de Janeiro & Football & Football Men's Football        & NA    \\\\\n\t 90397 & Martin Pacek                          & M & 29 & 197 & 100 & Sweden           & SWE & 2016 Summer & 2016 & Summer & Rio de Janeiro & Judo     & Judo Men's Half-Heavyweight    & NA    \\\\\n\t 90398 & Robin Pacek                           & M & 25 & 181 &  81 & Sweden           & SWE & 2016 Summer & 2016 & Summer & Rio de Janeiro & Judo     & Judo Men's Half-Middleweight   & NA    \\\\\n\t 90435 & Gonalo Mendes Pacincia                & M & 22 & 187 &  80 & Portugal         & POR & 2016 Summer & 2016 & Summer & Rio de Janeiro & Football & Football Men's Football        & NA    \\\\\n\t 90616 & Ludwig Paischer                       & M & 34 & 170 &  60 & Austria          & AUT & 2016 Summer & 2016 & Summer & Rio de Janeiro & Judo     & Judo Men's Extra-Lightweight   & NA    \\\\\n\t 90669 & Santa Pakenyt                         & F & 25 & 186 & 132 & Lithuania        & LTU & 2016 Summer & 2016 & Summer & Rio de Janeiro & Judo     & Judo Women's Heavyweight       & NA    \\\\\n\t 90701 & Helibelton Palacios Zapata            & M & 23 & 177 &  75 & Colombia         & COL & 2016 Summer & 2016 & Summer & Rio de Janeiro & Football & Football Men's Football        & NA    \\\\\n\t 90703 & Johnny Eulogio Palacios Cacho         & M & 29 & 183 &  82 & Honduras         & HON & 2016 Summer & 2016 & Summer & Rio de Janeiro & Football & Football Men's Football        & NA    \\\\\n\t 91037 & Pang Fengyue                          & F & 27 & 165 &  59 & China            & CHN & 2016 Summer & 2016 & Summer & Rio de Janeiro & Football & Football Women's Football      & NA    \\\\\n\t 91273 & Amiran Papinashvili                   & M & 28 & 162 &  64 & Georgia          & GEO & 2016 Summer & 2016 & Summer & Rio de Janeiro & Judo     & Judo Men's Extra-Lightweight   & NA    \\\\\n\t 91398 & Paula Beln Pareto                     & F & 30 & 150 &  48 & Argentina        & ARG & 2016 Summer & 2016 & Summer & Rio de Janeiro & Judo     & Judo Women's Extra-Lightweight & Gold  \\\\\n\t 91638 & Park Yong-Woo                         & M & 22 & 186 &  80 & South Korea      & KOR & 2016 Summer & 2016 & Summer & Rio de Janeiro & Football & Football Men's Football        & NA    \\\\\n\t 92277 & Automne Pavia                         & F & 27 & 171 &  57 & France           & FRA & 2016 Summer & 2016 & Summer & Rio de Janeiro & Judo     & Judo Women's Lightweight       & NA    \\\\\n\t 92355 & Cristian David Pavn                   & M & 20 & 175 &  68 & Argentina        & ARG & 2016 Summer & 2016 & Summer & Rio de Janeiro & Football & Football Men's Football        & NA    \\\\\n\t 92400 & Latitia Payet                         & F & 30 & 150 &  48 & France           & FRA & 2016 Summer & 2016 & Summer & Rio de Janeiro & Judo     & Judo Women's Extra-Lightweight & NA    \\\\\n\t 92438 & Jhonathan Josu Paz Hernndez           & M & 21 & 183 &  81 & Honduras         & HON & 2016 Summer & 2016 & Summer & Rio de Janeiro & Football & Football Men's Football        & NA    \\\\\n\t 92969 & Victor Rodrigues Penalber de Oliveira & M & 26 & 174 &  81 & Brazil           & BRA & 2016 Summer & 2016 & Summer & Rio de Janeiro & Judo     & Judo Men's Half-Middleweight   & NA    \\\\\n\t 93134 & Oribe Peralta Morones                 & M & 32 & 179 &  73 & Mexico           & MEX & 2016 Summer & 2016 & Summer & Rio de Janeiro & Football & Football Men's Football        & NA    \\\\\n\t 93151 & Ria Dawn Percival                     & F & 26 & 161 &  57 & New Zealand      & NZL & 2016 Summer & 2016 & Summer & Rio de Janeiro & Football & Football Women's Football      & NA    \\\\\n\t 93190 & Jasmine Henrietta Pereira             & F & 20 & 168 &  66 & New Zealand      & NZL & 2016 Summer & 2016 & Summer & Rio de Janeiro & Football & Football Women's Football      & NA    \\\\\n\t 93202 & Marcelo Antonio Pereira Rodrguez      & M & 21 & 181 &  70 & Honduras         & HON & 2016 Summer & 2016 & Summer & Rio de Janeiro & Football & Football Men's Football        & NA    \\\\\n\\end{tabular}\n",
            "text/markdown": "\nA data.frame: 7478 × 15\n\n| ID &lt;int&gt; | Name &lt;chr&gt; | Sex &lt;chr&gt; | Age &lt;int&gt; | Height &lt;int&gt; | Weight &lt;dbl&gt; | Team &lt;chr&gt; | NOC &lt;chr&gt; | Games &lt;chr&gt; | Year &lt;int&gt; | Season &lt;chr&gt; | City &lt;chr&gt; | Sport &lt;chr&gt; | Event &lt;chr&gt; | Medal &lt;chr&gt; |\n|---|---|---|---|---|---|---|---|---|---|---|---|---|---|---|\n|  2829 | Richard Louis Pierre Allemane              | M | 18 | NA | NA | USFSA                         | FRA | 1900 Summer | 1900 | Summer | Paris     | Football | Football Men's Football | Silver |\n|  6510 | Louis Dsir Bach                            | M | 17 | NA | NA | USFSA                         | FRA | 1900 Summer | 1900 | Summer | Paris     | Football | Football Men's Football | Silver |\n| 12293 | Alfred Bloch                               | M | NA | NA | NA | USFSA                         | FRA | 1900 Summer | 1900 | Summer | Paris     | Football | Football Men's Football | Silver |\n| 16085 | Claude Percival Buckenham                  | M | 24 | NA | NA | Upton Park FC                 | GBR | 1900 Summer | 1900 | Summer | Paris     | Football | Football Men's Football | Gold   |\n| 16727 | Tom Eustace Burridge                       | M | 19 | NA | NA | Upton Park FC                 | GBR | 1900 Summer | 1900 | Summer | Paris     | Football | Football Men's Football | Gold   |\n| 17893 | Fernand mile Canelle                       | M | 18 | NA | NA | USFSA                         | FRA | 1900 Summer | 1900 | Summer | Paris     | Football | Football Men's Football | Silver |\n| 19595 | Alfred Ernest Chalk                        | M | 25 | NA | NA | Upton Park FC                 | GBR | 1900 Summer | 1900 | Summer | Paris     | Football | Football Men's Football | Gold   |\n| 27218 | Albert Delbecque                           | M | NA | NA | NA | Univ. of Brussels             | BEL | 1900 Summer | 1900 | Summer | Paris     | Football | Football Men's Football | Bronze |\n| 30724 | R. Duparc                                  | M | NA | NA | NA | USFSA                         | FRA | 1900 Summer | 1900 | Summer | Paris     | Football | Football Men's Football | Silver |\n| 36903 | Maurice Eugne Fraysse                      | M | 20 | NA | NA | USFSA                         | FRA | 1900 Summer | 1900 | Summer | Paris     | Football | Football Men's Football | Silver |\n| 37926 | Ren Paul Virgile Gaillard                  | M | 22 | NA | NA | USFSA                         | FRA | 1900 Summer | 1900 | Summer | Paris     | Football | Football Men's Football | Silver |\n| 38830 | Georges Garnier                            | M | NA | NA | NA | USFSA                         | FRA | 1900 Summer | 1900 | Summer | Paris     | Football | Football Men's Football | Silver |\n| 41949 | William Sullivan Gosling                   | M | 30 | NA | NA | Upton Park FC                 | GBR | 1900 Summer | 1900 | Summer | Paris     | Football | Football Men's Football | Gold   |\n| 42370 | Ren Grandjean                              | M | NA | NA | NA | USFSA                         | FRA | 1900 Summer | 1900 | Summer | Paris     | Football | Football Men's Football | Silver |\n| 46449 | Henry North Haslam                         | M | NA | NA | NA | Upton Park FC                 | GBR | 1900 Summer | 1900 | Summer | Paris     | Football | Football Men's Football | Gold   |\n| 51292 | Lucien Paul Nol Huteau                     | M | 21 | NA | NA | USFSA                         | FRA | 1900 Summer | 1900 | Summer | Paris     | Football | Football Men's Football | Silver |\n| 55677 | James Henry Jones                          | M | NA | NA | NA | Upton Park FC                 | GBR | 1900 Summer | 1900 | Summer | Paris     | Football | Football Men's Football | Gold   |\n| 58471 | Raul Kelecom                               | M | NA | NA | NA | Univ. of Brussels             | BEL | 1900 Summer | 1900 | Summer | Paris     | Football | Football Men's Football | Bronze |\n| 66151 | Marcel Lambert                             | M | NA | NA | NA | USFSA                         | FRA | 1900 Summer | 1900 | Summer | Paris     | Football | Football Men's Football | Silver |\n| 67659 | Marcel Leboutte                            | M | NA | NA | NA | Univ. of Brussels             | BEL | 1900 Summer | 1900 | Summer | Paris     | Football | Football Men's Football | Bronze |\n| 71187 | Lucien Jean Londot                         | M | NA | NA | NA | Univ. of Brussels             | BEL | 1900 Summer | 1900 | Summer | Paris     | Football | Football Men's Football | Bronze |\n| 72827 | Maurice Macaire                            | M | 18 | NA | NA | USFSA                         | FRA | 1900 Summer | 1900 | Summer | Paris     | Football | Football Men's Football | Silver |\n| 81896 | Ernest Marie Eugne Adolphe Moreau de Melen | M | NA | NA | NA | Univ. of Brussels             | BEL | 1900 Summer | 1900 | Summer | Paris     | Football | Football Men's Football | Bronze |\n| 85040 | Edmond Neefs                               | M | NA | NA | NA | Univ. of Brussels             | BEL | 1900 Summer | 1900 | Summer | Paris     | Football | Football Men's Football | Bronze |\n| 85802 | John Nicholas                              | M | 20 | NA | NA | Upton Park FC                 | GBR | 1900 Summer | 1900 | Summer | Paris     | Football | Football Men's Football | Gold   |\n| 92824 | Georges Pelgrims                           | M | NA | NA | NA | Univ. of Brussels             | BEL | 1900 Summer | 1900 | Summer | Paris     | Football | Football Men's Football | Bronze |\n| 92908 | Gaston Peltier                             | M | NA | NA | NA | USFSA                         | FRA | 1900 Summer | 1900 | Summer | Paris     | Football | Football Men's Football | Silver |\n|  8305 | Charles Albert Bartliff                    | M | 17 | NA | NA | Christian Brothers' College-1 | USA | 1904 Summer | 1904 | Summer | St. Louis | Football | Football Men's Football | Silver |\n| 14530 | Joseph J. Brady                            | M | NA | NA | NA | St. Rose-2                    | USA | 1904 Summer | 1904 | Summer | St. Louis | Football | Football Men's Football | Bronze |\n| 15188 | Warren George Brittingham                  | M | 17 | NA | NA | Christian Brothers' College-1 | USA | 1904 Summer | 1904 | Summer | St. Louis | Football | Football Men's Football | Silver |\n| ⋮ | ⋮ | ⋮ | ⋮ | ⋮ | ⋮ | ⋮ | ⋮ | ⋮ | ⋮ | ⋮ | ⋮ | ⋮ | ⋮ | ⋮ |\n| 88738 | Srgio  Miguel Relvas de Oliveira      | M | 24 | 180 |  80 | Portugal         | POR | 2016 Summer | 2016 | Summer | Rio de Janeiro | Football | Football Men's Football        | NA     |\n| 89186 | Shohei Ono                            | M | 24 | 170 |  73 | Japan            | JPN | 2016 Summer | 2016 | Summer | Rio de Janeiro | Judo     | Judo Men's Lightweight         | Gold   |\n| 89582 | Idalys Ortz Bocourt                   | F | 26 | 180 |  95 | Cuba             | CUB | 2016 Summer | 2016 | Summer | Rio de Janeiro | Judo     | Judo Women's Heavyweight       | Silver |\n| 89632 | Rstm Orucov                           | M | 24 | 179 |  73 | Azerbaijan       | AZE | 2016 Summer | 2016 | Summer | Rio de Janeiro | Judo     | Judo Men's Lightweight         | Silver |\n| 89742 | Ryota Oshima                          | M | 23 | 168 |  64 | Japan            | JPN | 2016 Summer | 2016 | Summer | Rio de Janeiro | Football | Football Men's Football        | NA     |\n| 89801 | Diana Carolina Ospina Garca           | F | 27 | 157 |  64 | Colombia         | COL | 2016 Summer | 2016 | Summer | Rio de Janeiro | Football | Football Women's Football      | NA     |\n| 89955 | Otgonbaataryn Uuganbaatar             | M | 28 | 178 |  81 | Mongolia         | MGL | 2016 Summer | 2016 | Summer | Rio de Janeiro | Judo     | Judo Men's Half-Middleweight   | NA     |\n| 90196 | Raymond Ovinou                        | M | 31 | 169 |  68 | Papua New Guinea | PNG | 2016 Summer | 2016 | Summer | Rio de Janeiro | Judo     | Judo Men's Half-Lightweight    | NA     |\n| 90328 | Bekir zl                              | M | 27 | 170 |  60 | Turkey           | TUR | 2016 Summer | 2016 | Summer | Rio de Janeiro | Judo     | Judo Men's Extra-Lightweight   | NA     |\n| 90379 | Dorlan Mauricio Pabn Ros              | M | 28 | 168 |  68 | Colombia         | COL | 2016 Summer | 2016 | Summer | Rio de Janeiro | Football | Football Men's Football        | NA     |\n| 90397 | Martin Pacek                          | M | 29 | 197 | 100 | Sweden           | SWE | 2016 Summer | 2016 | Summer | Rio de Janeiro | Judo     | Judo Men's Half-Heavyweight    | NA     |\n| 90398 | Robin Pacek                           | M | 25 | 181 |  81 | Sweden           | SWE | 2016 Summer | 2016 | Summer | Rio de Janeiro | Judo     | Judo Men's Half-Middleweight   | NA     |\n| 90435 | Gonalo Mendes Pacincia                | M | 22 | 187 |  80 | Portugal         | POR | 2016 Summer | 2016 | Summer | Rio de Janeiro | Football | Football Men's Football        | NA     |\n| 90616 | Ludwig Paischer                       | M | 34 | 170 |  60 | Austria          | AUT | 2016 Summer | 2016 | Summer | Rio de Janeiro | Judo     | Judo Men's Extra-Lightweight   | NA     |\n| 90669 | Santa Pakenyt                         | F | 25 | 186 | 132 | Lithuania        | LTU | 2016 Summer | 2016 | Summer | Rio de Janeiro | Judo     | Judo Women's Heavyweight       | NA     |\n| 90701 | Helibelton Palacios Zapata            | M | 23 | 177 |  75 | Colombia         | COL | 2016 Summer | 2016 | Summer | Rio de Janeiro | Football | Football Men's Football        | NA     |\n| 90703 | Johnny Eulogio Palacios Cacho         | M | 29 | 183 |  82 | Honduras         | HON | 2016 Summer | 2016 | Summer | Rio de Janeiro | Football | Football Men's Football        | NA     |\n| 91037 | Pang Fengyue                          | F | 27 | 165 |  59 | China            | CHN | 2016 Summer | 2016 | Summer | Rio de Janeiro | Football | Football Women's Football      | NA     |\n| 91273 | Amiran Papinashvili                   | M | 28 | 162 |  64 | Georgia          | GEO | 2016 Summer | 2016 | Summer | Rio de Janeiro | Judo     | Judo Men's Extra-Lightweight   | NA     |\n| 91398 | Paula Beln Pareto                     | F | 30 | 150 |  48 | Argentina        | ARG | 2016 Summer | 2016 | Summer | Rio de Janeiro | Judo     | Judo Women's Extra-Lightweight | Gold   |\n| 91638 | Park Yong-Woo                         | M | 22 | 186 |  80 | South Korea      | KOR | 2016 Summer | 2016 | Summer | Rio de Janeiro | Football | Football Men's Football        | NA     |\n| 92277 | Automne Pavia                         | F | 27 | 171 |  57 | France           | FRA | 2016 Summer | 2016 | Summer | Rio de Janeiro | Judo     | Judo Women's Lightweight       | NA     |\n| 92355 | Cristian David Pavn                   | M | 20 | 175 |  68 | Argentina        | ARG | 2016 Summer | 2016 | Summer | Rio de Janeiro | Football | Football Men's Football        | NA     |\n| 92400 | Latitia Payet                         | F | 30 | 150 |  48 | France           | FRA | 2016 Summer | 2016 | Summer | Rio de Janeiro | Judo     | Judo Women's Extra-Lightweight | NA     |\n| 92438 | Jhonathan Josu Paz Hernndez           | M | 21 | 183 |  81 | Honduras         | HON | 2016 Summer | 2016 | Summer | Rio de Janeiro | Football | Football Men's Football        | NA     |\n| 92969 | Victor Rodrigues Penalber de Oliveira | M | 26 | 174 |  81 | Brazil           | BRA | 2016 Summer | 2016 | Summer | Rio de Janeiro | Judo     | Judo Men's Half-Middleweight   | NA     |\n| 93134 | Oribe Peralta Morones                 | M | 32 | 179 |  73 | Mexico           | MEX | 2016 Summer | 2016 | Summer | Rio de Janeiro | Football | Football Men's Football        | NA     |\n| 93151 | Ria Dawn Percival                     | F | 26 | 161 |  57 | New Zealand      | NZL | 2016 Summer | 2016 | Summer | Rio de Janeiro | Football | Football Women's Football      | NA     |\n| 93190 | Jasmine Henrietta Pereira             | F | 20 | 168 |  66 | New Zealand      | NZL | 2016 Summer | 2016 | Summer | Rio de Janeiro | Football | Football Women's Football      | NA     |\n| 93202 | Marcelo Antonio Pereira Rodrguez      | M | 21 | 181 |  70 | Honduras         | HON | 2016 Summer | 2016 | Summer | Rio de Janeiro | Football | Football Men's Football        | NA     |\n\n",
            "text/html": [
              "<table>\n",
              "<caption>A data.frame: 7478 × 15</caption>\n",
              "<thead>\n",
              "\t<tr><th scope=col>ID</th><th scope=col>Name</th><th scope=col>Sex</th><th scope=col>Age</th><th scope=col>Height</th><th scope=col>Weight</th><th scope=col>Team</th><th scope=col>NOC</th><th scope=col>Games</th><th scope=col>Year</th><th scope=col>Season</th><th scope=col>City</th><th scope=col>Sport</th><th scope=col>Event</th><th scope=col>Medal</th></tr>\n",
              "\t<tr><th scope=col>&lt;int&gt;</th><th scope=col>&lt;chr&gt;</th><th scope=col>&lt;chr&gt;</th><th scope=col>&lt;int&gt;</th><th scope=col>&lt;int&gt;</th><th scope=col>&lt;dbl&gt;</th><th scope=col>&lt;chr&gt;</th><th scope=col>&lt;chr&gt;</th><th scope=col>&lt;chr&gt;</th><th scope=col>&lt;int&gt;</th><th scope=col>&lt;chr&gt;</th><th scope=col>&lt;chr&gt;</th><th scope=col>&lt;chr&gt;</th><th scope=col>&lt;chr&gt;</th><th scope=col>&lt;chr&gt;</th></tr>\n",
              "</thead>\n",
              "<tbody>\n",
              "\t<tr><td> 2829</td><td>Richard Louis Pierre Allemane             </td><td>M</td><td>18</td><td>NA</td><td>NA</td><td>USFSA                        </td><td>FRA</td><td>1900 Summer</td><td>1900</td><td>Summer</td><td>Paris    </td><td>Football</td><td>Football Men's Football</td><td>Silver</td></tr>\n",
              "\t<tr><td> 6510</td><td>Louis Dsir Bach                           </td><td>M</td><td>17</td><td>NA</td><td>NA</td><td>USFSA                        </td><td>FRA</td><td>1900 Summer</td><td>1900</td><td>Summer</td><td>Paris    </td><td>Football</td><td>Football Men's Football</td><td>Silver</td></tr>\n",
              "\t<tr><td>12293</td><td>Alfred Bloch                              </td><td>M</td><td>NA</td><td>NA</td><td>NA</td><td>USFSA                        </td><td>FRA</td><td>1900 Summer</td><td>1900</td><td>Summer</td><td>Paris    </td><td>Football</td><td>Football Men's Football</td><td>Silver</td></tr>\n",
              "\t<tr><td>16085</td><td>Claude Percival Buckenham                 </td><td>M</td><td>24</td><td>NA</td><td>NA</td><td>Upton Park FC                </td><td>GBR</td><td>1900 Summer</td><td>1900</td><td>Summer</td><td>Paris    </td><td>Football</td><td>Football Men's Football</td><td>Gold  </td></tr>\n",
              "\t<tr><td>16727</td><td>Tom Eustace Burridge                      </td><td>M</td><td>19</td><td>NA</td><td>NA</td><td>Upton Park FC                </td><td>GBR</td><td>1900 Summer</td><td>1900</td><td>Summer</td><td>Paris    </td><td>Football</td><td>Football Men's Football</td><td>Gold  </td></tr>\n",
              "\t<tr><td>17893</td><td>Fernand mile Canelle                      </td><td>M</td><td>18</td><td>NA</td><td>NA</td><td>USFSA                        </td><td>FRA</td><td>1900 Summer</td><td>1900</td><td>Summer</td><td>Paris    </td><td>Football</td><td>Football Men's Football</td><td>Silver</td></tr>\n",
              "\t<tr><td>19595</td><td>Alfred Ernest Chalk                       </td><td>M</td><td>25</td><td>NA</td><td>NA</td><td>Upton Park FC                </td><td>GBR</td><td>1900 Summer</td><td>1900</td><td>Summer</td><td>Paris    </td><td>Football</td><td>Football Men's Football</td><td>Gold  </td></tr>\n",
              "\t<tr><td>27218</td><td>Albert Delbecque                          </td><td>M</td><td>NA</td><td>NA</td><td>NA</td><td>Univ. of Brussels            </td><td>BEL</td><td>1900 Summer</td><td>1900</td><td>Summer</td><td>Paris    </td><td>Football</td><td>Football Men's Football</td><td>Bronze</td></tr>\n",
              "\t<tr><td>30724</td><td>R. Duparc                                 </td><td>M</td><td>NA</td><td>NA</td><td>NA</td><td>USFSA                        </td><td>FRA</td><td>1900 Summer</td><td>1900</td><td>Summer</td><td>Paris    </td><td>Football</td><td>Football Men's Football</td><td>Silver</td></tr>\n",
              "\t<tr><td>36903</td><td>Maurice Eugne Fraysse                     </td><td>M</td><td>20</td><td>NA</td><td>NA</td><td>USFSA                        </td><td>FRA</td><td>1900 Summer</td><td>1900</td><td>Summer</td><td>Paris    </td><td>Football</td><td>Football Men's Football</td><td>Silver</td></tr>\n",
              "\t<tr><td>37926</td><td>Ren Paul Virgile Gaillard                 </td><td>M</td><td>22</td><td>NA</td><td>NA</td><td>USFSA                        </td><td>FRA</td><td>1900 Summer</td><td>1900</td><td>Summer</td><td>Paris    </td><td>Football</td><td>Football Men's Football</td><td>Silver</td></tr>\n",
              "\t<tr><td>38830</td><td>Georges Garnier                           </td><td>M</td><td>NA</td><td>NA</td><td>NA</td><td>USFSA                        </td><td>FRA</td><td>1900 Summer</td><td>1900</td><td>Summer</td><td>Paris    </td><td>Football</td><td>Football Men's Football</td><td>Silver</td></tr>\n",
              "\t<tr><td>41949</td><td>William Sullivan Gosling                  </td><td>M</td><td>30</td><td>NA</td><td>NA</td><td>Upton Park FC                </td><td>GBR</td><td>1900 Summer</td><td>1900</td><td>Summer</td><td>Paris    </td><td>Football</td><td>Football Men's Football</td><td>Gold  </td></tr>\n",
              "\t<tr><td>42370</td><td>Ren Grandjean                             </td><td>M</td><td>NA</td><td>NA</td><td>NA</td><td>USFSA                        </td><td>FRA</td><td>1900 Summer</td><td>1900</td><td>Summer</td><td>Paris    </td><td>Football</td><td>Football Men's Football</td><td>Silver</td></tr>\n",
              "\t<tr><td>46449</td><td>Henry North Haslam                        </td><td>M</td><td>NA</td><td>NA</td><td>NA</td><td>Upton Park FC                </td><td>GBR</td><td>1900 Summer</td><td>1900</td><td>Summer</td><td>Paris    </td><td>Football</td><td>Football Men's Football</td><td>Gold  </td></tr>\n",
              "\t<tr><td>51292</td><td>Lucien Paul Nol Huteau                    </td><td>M</td><td>21</td><td>NA</td><td>NA</td><td>USFSA                        </td><td>FRA</td><td>1900 Summer</td><td>1900</td><td>Summer</td><td>Paris    </td><td>Football</td><td>Football Men's Football</td><td>Silver</td></tr>\n",
              "\t<tr><td>55677</td><td>James Henry Jones                         </td><td>M</td><td>NA</td><td>NA</td><td>NA</td><td>Upton Park FC                </td><td>GBR</td><td>1900 Summer</td><td>1900</td><td>Summer</td><td>Paris    </td><td>Football</td><td>Football Men's Football</td><td>Gold  </td></tr>\n",
              "\t<tr><td>58471</td><td>Raul Kelecom                              </td><td>M</td><td>NA</td><td>NA</td><td>NA</td><td>Univ. of Brussels            </td><td>BEL</td><td>1900 Summer</td><td>1900</td><td>Summer</td><td>Paris    </td><td>Football</td><td>Football Men's Football</td><td>Bronze</td></tr>\n",
              "\t<tr><td>66151</td><td>Marcel Lambert                            </td><td>M</td><td>NA</td><td>NA</td><td>NA</td><td>USFSA                        </td><td>FRA</td><td>1900 Summer</td><td>1900</td><td>Summer</td><td>Paris    </td><td>Football</td><td>Football Men's Football</td><td>Silver</td></tr>\n",
              "\t<tr><td>67659</td><td>Marcel Leboutte                           </td><td>M</td><td>NA</td><td>NA</td><td>NA</td><td>Univ. of Brussels            </td><td>BEL</td><td>1900 Summer</td><td>1900</td><td>Summer</td><td>Paris    </td><td>Football</td><td>Football Men's Football</td><td>Bronze</td></tr>\n",
              "\t<tr><td>71187</td><td>Lucien Jean Londot                        </td><td>M</td><td>NA</td><td>NA</td><td>NA</td><td>Univ. of Brussels            </td><td>BEL</td><td>1900 Summer</td><td>1900</td><td>Summer</td><td>Paris    </td><td>Football</td><td>Football Men's Football</td><td>Bronze</td></tr>\n",
              "\t<tr><td>72827</td><td>Maurice Macaire                           </td><td>M</td><td>18</td><td>NA</td><td>NA</td><td>USFSA                        </td><td>FRA</td><td>1900 Summer</td><td>1900</td><td>Summer</td><td>Paris    </td><td>Football</td><td>Football Men's Football</td><td>Silver</td></tr>\n",
              "\t<tr><td>81896</td><td>Ernest Marie Eugne Adolphe Moreau de Melen</td><td>M</td><td>NA</td><td>NA</td><td>NA</td><td>Univ. of Brussels            </td><td>BEL</td><td>1900 Summer</td><td>1900</td><td>Summer</td><td>Paris    </td><td>Football</td><td>Football Men's Football</td><td>Bronze</td></tr>\n",
              "\t<tr><td>85040</td><td>Edmond Neefs                              </td><td>M</td><td>NA</td><td>NA</td><td>NA</td><td>Univ. of Brussels            </td><td>BEL</td><td>1900 Summer</td><td>1900</td><td>Summer</td><td>Paris    </td><td>Football</td><td>Football Men's Football</td><td>Bronze</td></tr>\n",
              "\t<tr><td>85802</td><td>John Nicholas                             </td><td>M</td><td>20</td><td>NA</td><td>NA</td><td>Upton Park FC                </td><td>GBR</td><td>1900 Summer</td><td>1900</td><td>Summer</td><td>Paris    </td><td>Football</td><td>Football Men's Football</td><td>Gold  </td></tr>\n",
              "\t<tr><td>92824</td><td>Georges Pelgrims                          </td><td>M</td><td>NA</td><td>NA</td><td>NA</td><td>Univ. of Brussels            </td><td>BEL</td><td>1900 Summer</td><td>1900</td><td>Summer</td><td>Paris    </td><td>Football</td><td>Football Men's Football</td><td>Bronze</td></tr>\n",
              "\t<tr><td>92908</td><td>Gaston Peltier                            </td><td>M</td><td>NA</td><td>NA</td><td>NA</td><td>USFSA                        </td><td>FRA</td><td>1900 Summer</td><td>1900</td><td>Summer</td><td>Paris    </td><td>Football</td><td>Football Men's Football</td><td>Silver</td></tr>\n",
              "\t<tr><td> 8305</td><td>Charles Albert Bartliff                   </td><td>M</td><td>17</td><td>NA</td><td>NA</td><td>Christian Brothers' College-1</td><td>USA</td><td>1904 Summer</td><td>1904</td><td>Summer</td><td>St. Louis</td><td>Football</td><td>Football Men's Football</td><td>Silver</td></tr>\n",
              "\t<tr><td>14530</td><td>Joseph J. Brady                           </td><td>M</td><td>NA</td><td>NA</td><td>NA</td><td>St. Rose-2                   </td><td>USA</td><td>1904 Summer</td><td>1904</td><td>Summer</td><td>St. Louis</td><td>Football</td><td>Football Men's Football</td><td>Bronze</td></tr>\n",
              "\t<tr><td>15188</td><td>Warren George Brittingham                 </td><td>M</td><td>17</td><td>NA</td><td>NA</td><td>Christian Brothers' College-1</td><td>USA</td><td>1904 Summer</td><td>1904</td><td>Summer</td><td>St. Louis</td><td>Football</td><td>Football Men's Football</td><td>Silver</td></tr>\n",
              "\t<tr><td>⋮</td><td>⋮</td><td>⋮</td><td>⋮</td><td>⋮</td><td>⋮</td><td>⋮</td><td>⋮</td><td>⋮</td><td>⋮</td><td>⋮</td><td>⋮</td><td>⋮</td><td>⋮</td><td>⋮</td></tr>\n",
              "\t<tr><td>88738</td><td>Srgio  Miguel Relvas de Oliveira     </td><td>M</td><td>24</td><td>180</td><td> 80</td><td>Portugal        </td><td>POR</td><td>2016 Summer</td><td>2016</td><td>Summer</td><td>Rio de Janeiro</td><td>Football</td><td>Football Men's Football       </td><td>NA    </td></tr>\n",
              "\t<tr><td>89186</td><td>Shohei Ono                           </td><td>M</td><td>24</td><td>170</td><td> 73</td><td>Japan           </td><td>JPN</td><td>2016 Summer</td><td>2016</td><td>Summer</td><td>Rio de Janeiro</td><td>Judo    </td><td>Judo Men's Lightweight        </td><td>Gold  </td></tr>\n",
              "\t<tr><td>89582</td><td>Idalys Ortz Bocourt                  </td><td>F</td><td>26</td><td>180</td><td> 95</td><td>Cuba            </td><td>CUB</td><td>2016 Summer</td><td>2016</td><td>Summer</td><td>Rio de Janeiro</td><td>Judo    </td><td>Judo Women's Heavyweight      </td><td>Silver</td></tr>\n",
              "\t<tr><td>89632</td><td>Rstm Orucov                          </td><td>M</td><td>24</td><td>179</td><td> 73</td><td>Azerbaijan      </td><td>AZE</td><td>2016 Summer</td><td>2016</td><td>Summer</td><td>Rio de Janeiro</td><td>Judo    </td><td>Judo Men's Lightweight        </td><td>Silver</td></tr>\n",
              "\t<tr><td>89742</td><td>Ryota Oshima                         </td><td>M</td><td>23</td><td>168</td><td> 64</td><td>Japan           </td><td>JPN</td><td>2016 Summer</td><td>2016</td><td>Summer</td><td>Rio de Janeiro</td><td>Football</td><td>Football Men's Football       </td><td>NA    </td></tr>\n",
              "\t<tr><td>89801</td><td>Diana Carolina Ospina Garca          </td><td>F</td><td>27</td><td>157</td><td> 64</td><td>Colombia        </td><td>COL</td><td>2016 Summer</td><td>2016</td><td>Summer</td><td>Rio de Janeiro</td><td>Football</td><td>Football Women's Football     </td><td>NA    </td></tr>\n",
              "\t<tr><td>89955</td><td>Otgonbaataryn Uuganbaatar            </td><td>M</td><td>28</td><td>178</td><td> 81</td><td>Mongolia        </td><td>MGL</td><td>2016 Summer</td><td>2016</td><td>Summer</td><td>Rio de Janeiro</td><td>Judo    </td><td>Judo Men's Half-Middleweight  </td><td>NA    </td></tr>\n",
              "\t<tr><td>90196</td><td>Raymond Ovinou                       </td><td>M</td><td>31</td><td>169</td><td> 68</td><td>Papua New Guinea</td><td>PNG</td><td>2016 Summer</td><td>2016</td><td>Summer</td><td>Rio de Janeiro</td><td>Judo    </td><td>Judo Men's Half-Lightweight   </td><td>NA    </td></tr>\n",
              "\t<tr><td>90328</td><td>Bekir zl                             </td><td>M</td><td>27</td><td>170</td><td> 60</td><td>Turkey          </td><td>TUR</td><td>2016 Summer</td><td>2016</td><td>Summer</td><td>Rio de Janeiro</td><td>Judo    </td><td>Judo Men's Extra-Lightweight  </td><td>NA    </td></tr>\n",
              "\t<tr><td>90379</td><td>Dorlan Mauricio Pabn Ros             </td><td>M</td><td>28</td><td>168</td><td> 68</td><td>Colombia        </td><td>COL</td><td>2016 Summer</td><td>2016</td><td>Summer</td><td>Rio de Janeiro</td><td>Football</td><td>Football Men's Football       </td><td>NA    </td></tr>\n",
              "\t<tr><td>90397</td><td>Martin Pacek                         </td><td>M</td><td>29</td><td>197</td><td>100</td><td>Sweden          </td><td>SWE</td><td>2016 Summer</td><td>2016</td><td>Summer</td><td>Rio de Janeiro</td><td>Judo    </td><td>Judo Men's Half-Heavyweight   </td><td>NA    </td></tr>\n",
              "\t<tr><td>90398</td><td>Robin Pacek                          </td><td>M</td><td>25</td><td>181</td><td> 81</td><td>Sweden          </td><td>SWE</td><td>2016 Summer</td><td>2016</td><td>Summer</td><td>Rio de Janeiro</td><td>Judo    </td><td>Judo Men's Half-Middleweight  </td><td>NA    </td></tr>\n",
              "\t<tr><td>90435</td><td>Gonalo Mendes Pacincia               </td><td>M</td><td>22</td><td>187</td><td> 80</td><td>Portugal        </td><td>POR</td><td>2016 Summer</td><td>2016</td><td>Summer</td><td>Rio de Janeiro</td><td>Football</td><td>Football Men's Football       </td><td>NA    </td></tr>\n",
              "\t<tr><td>90616</td><td>Ludwig Paischer                      </td><td>M</td><td>34</td><td>170</td><td> 60</td><td>Austria         </td><td>AUT</td><td>2016 Summer</td><td>2016</td><td>Summer</td><td>Rio de Janeiro</td><td>Judo    </td><td>Judo Men's Extra-Lightweight  </td><td>NA    </td></tr>\n",
              "\t<tr><td>90669</td><td>Santa Pakenyt                        </td><td>F</td><td>25</td><td>186</td><td>132</td><td>Lithuania       </td><td>LTU</td><td>2016 Summer</td><td>2016</td><td>Summer</td><td>Rio de Janeiro</td><td>Judo    </td><td>Judo Women's Heavyweight      </td><td>NA    </td></tr>\n",
              "\t<tr><td>90701</td><td>Helibelton Palacios Zapata           </td><td>M</td><td>23</td><td>177</td><td> 75</td><td>Colombia        </td><td>COL</td><td>2016 Summer</td><td>2016</td><td>Summer</td><td>Rio de Janeiro</td><td>Football</td><td>Football Men's Football       </td><td>NA    </td></tr>\n",
              "\t<tr><td>90703</td><td>Johnny Eulogio Palacios Cacho        </td><td>M</td><td>29</td><td>183</td><td> 82</td><td>Honduras        </td><td>HON</td><td>2016 Summer</td><td>2016</td><td>Summer</td><td>Rio de Janeiro</td><td>Football</td><td>Football Men's Football       </td><td>NA    </td></tr>\n",
              "\t<tr><td>91037</td><td>Pang Fengyue                         </td><td>F</td><td>27</td><td>165</td><td> 59</td><td>China           </td><td>CHN</td><td>2016 Summer</td><td>2016</td><td>Summer</td><td>Rio de Janeiro</td><td>Football</td><td>Football Women's Football     </td><td>NA    </td></tr>\n",
              "\t<tr><td>91273</td><td>Amiran Papinashvili                  </td><td>M</td><td>28</td><td>162</td><td> 64</td><td>Georgia         </td><td>GEO</td><td>2016 Summer</td><td>2016</td><td>Summer</td><td>Rio de Janeiro</td><td>Judo    </td><td>Judo Men's Extra-Lightweight  </td><td>NA    </td></tr>\n",
              "\t<tr><td>91398</td><td>Paula Beln Pareto                    </td><td>F</td><td>30</td><td>150</td><td> 48</td><td>Argentina       </td><td>ARG</td><td>2016 Summer</td><td>2016</td><td>Summer</td><td>Rio de Janeiro</td><td>Judo    </td><td>Judo Women's Extra-Lightweight</td><td>Gold  </td></tr>\n",
              "\t<tr><td>91638</td><td>Park Yong-Woo                        </td><td>M</td><td>22</td><td>186</td><td> 80</td><td>South Korea     </td><td>KOR</td><td>2016 Summer</td><td>2016</td><td>Summer</td><td>Rio de Janeiro</td><td>Football</td><td>Football Men's Football       </td><td>NA    </td></tr>\n",
              "\t<tr><td>92277</td><td>Automne Pavia                        </td><td>F</td><td>27</td><td>171</td><td> 57</td><td>France          </td><td>FRA</td><td>2016 Summer</td><td>2016</td><td>Summer</td><td>Rio de Janeiro</td><td>Judo    </td><td>Judo Women's Lightweight      </td><td>NA    </td></tr>\n",
              "\t<tr><td>92355</td><td>Cristian David Pavn                  </td><td>M</td><td>20</td><td>175</td><td> 68</td><td>Argentina       </td><td>ARG</td><td>2016 Summer</td><td>2016</td><td>Summer</td><td>Rio de Janeiro</td><td>Football</td><td>Football Men's Football       </td><td>NA    </td></tr>\n",
              "\t<tr><td>92400</td><td>Latitia Payet                        </td><td>F</td><td>30</td><td>150</td><td> 48</td><td>France          </td><td>FRA</td><td>2016 Summer</td><td>2016</td><td>Summer</td><td>Rio de Janeiro</td><td>Judo    </td><td>Judo Women's Extra-Lightweight</td><td>NA    </td></tr>\n",
              "\t<tr><td>92438</td><td>Jhonathan Josu Paz Hernndez          </td><td>M</td><td>21</td><td>183</td><td> 81</td><td>Honduras        </td><td>HON</td><td>2016 Summer</td><td>2016</td><td>Summer</td><td>Rio de Janeiro</td><td>Football</td><td>Football Men's Football       </td><td>NA    </td></tr>\n",
              "\t<tr><td>92969</td><td>Victor Rodrigues Penalber de Oliveira</td><td>M</td><td>26</td><td>174</td><td> 81</td><td>Brazil          </td><td>BRA</td><td>2016 Summer</td><td>2016</td><td>Summer</td><td>Rio de Janeiro</td><td>Judo    </td><td>Judo Men's Half-Middleweight  </td><td>NA    </td></tr>\n",
              "\t<tr><td>93134</td><td>Oribe Peralta Morones                </td><td>M</td><td>32</td><td>179</td><td> 73</td><td>Mexico          </td><td>MEX</td><td>2016 Summer</td><td>2016</td><td>Summer</td><td>Rio de Janeiro</td><td>Football</td><td>Football Men's Football       </td><td>NA    </td></tr>\n",
              "\t<tr><td>93151</td><td>Ria Dawn Percival                    </td><td>F</td><td>26</td><td>161</td><td> 57</td><td>New Zealand     </td><td>NZL</td><td>2016 Summer</td><td>2016</td><td>Summer</td><td>Rio de Janeiro</td><td>Football</td><td>Football Women's Football     </td><td>NA    </td></tr>\n",
              "\t<tr><td>93190</td><td>Jasmine Henrietta Pereira            </td><td>F</td><td>20</td><td>168</td><td> 66</td><td>New Zealand     </td><td>NZL</td><td>2016 Summer</td><td>2016</td><td>Summer</td><td>Rio de Janeiro</td><td>Football</td><td>Football Women's Football     </td><td>NA    </td></tr>\n",
              "\t<tr><td>93202</td><td>Marcelo Antonio Pereira Rodrguez     </td><td>M</td><td>21</td><td>181</td><td> 70</td><td>Honduras        </td><td>HON</td><td>2016 Summer</td><td>2016</td><td>Summer</td><td>Rio de Janeiro</td><td>Football</td><td>Football Men's Football       </td><td>NA    </td></tr>\n",
              "</tbody>\n",
              "</table>\n"
            ]
          },
          "metadata": {
            "tags": []
          }
        }
      ]
    },
    {
      "cell_type": "markdown",
      "metadata": {
        "id": "dVPLdti_mROV"
      },
      "source": [
        "#### Exercice\n"
      ]
    },
    {
      "cell_type": "markdown",
      "metadata": {
        "id": "k85Fo1rWmROW"
      },
      "source": [
        "<div class=\"alert alert-success\">\n",
        " <b>EXERCISE</b>:\n",
        " <ul>\n",
        "        <li>Has the number of athletes, nations, and events changed over time?</li>\n",
        "        <li>Number of men and women over time ?</li>\n",
        "        <li>Number of women relative to men across countries ?</li>\n",
        "        <li>Proportion of women on Olympic teams: 1936 ?</li>\n",
        "        <li>Medal counts for women of different nations: 1936 ?</li>\n",
        "        <li>Proportion of women on Olympic teams: 1976 ?</li>\n",
        "        <li>Medal counts for women of different nations: 1976 ?</li>\n",
        "        <li>Athlete height over time ?</li>\n",
        "        <li>Athlete weight over time ?</li>\n",
        "\n",
        "</ul> \n",
        "\n",
        "</div>"
      ]
    },
    {
      "cell_type": "code",
      "metadata": {
        "id": "0XDM1keupvHV",
        "outputId": "52df4921-0454-4ab2-c5ec-8edf302b4db6",
        "colab": {
          "base_uri": "https://localhost:8080/"
        }
      },
      "source": [
        "# count number of athletes, nations, & events, excluding the Art Competitions\n",
        "counts <- dataset  %>%\n",
        "  group_by( Year) %>%\n",
        "  summarise(\n",
        "    Athletes = length(unique(ID)),\n",
        "    Nations = length(unique(NOC)),\n",
        "    Events = length(unique(Event))\n",
        "  )"
      ],
      "execution_count": 51,
      "outputs": [
        {
          "output_type": "stream",
          "text": [
            "`summarise()` ungrouping output (override with `.groups` argument)\n",
            "\n"
          ],
          "name": "stderr"
        }
      ]
    },
    {
      "cell_type": "code",
      "metadata": {
        "id": "KeWg_NHsqGP1",
        "outputId": "7f8df3a6-a6bc-4a29-ec85-4899715d2aae",
        "colab": {
          "base_uri": "https://localhost:8080/",
          "height": 813
        }
      },
      "source": [
        "counts"
      ],
      "execution_count": 52,
      "outputs": [
        {
          "output_type": "display_data",
          "data": {
            "text/plain": [
              "   Year Athletes Nations Events\n",
              "1  1896  124      10      42   \n",
              "2  1900  892      28      88   \n",
              "3  1904  428      15      95   \n",
              "4  1906  568      21      73   \n",
              "5  1908 1408      20     109   \n",
              "6  1912 1676      28     107   \n",
              "7  1920 1885      28     156   \n",
              "8  1924 2467      46     148   \n",
              "9  1928 2504      46     136   \n",
              "10 1932 1546      45     144   \n",
              "11 1936 3514      50     166   \n",
              "12 1948 3549      59     175   \n",
              "13 1952 3879      67     171   \n",
              "14 1956 2824      75     175   \n",
              "15 1960 4147      83     177   \n",
              "16 1964 4283      92     197   \n",
              "17 1968 4596     111     207   \n",
              "18 1972 5545     119     228   \n",
              "19 1976 4869      92     236   \n",
              "20 1980 4284      89     241   \n",
              "21 1984 5618     148     260   \n",
              "22 1988 6889     159     283   \n",
              "23 1992 7716     168     314   \n",
              "24 1994 1130      61      61   \n",
              "25 1996 7180     196     271   \n",
              "26 1998 1442      66      68   \n",
              "27 2000 7312     199     300   \n",
              "28 2002 1582      74      78   \n",
              "29 2004 7209     200     301   \n",
              "30 2006 1680      72      84   \n",
              "31 2008 7385     202     302   \n",
              "32 2010 1679      73      86   \n",
              "33 2012 7237     203     302   \n",
              "34 2014 1847      81      98   \n",
              "35 2016 7635     205     306   "
            ],
            "text/latex": "A tibble: 35 × 4\n\\begin{tabular}{llll}\n Year & Athletes & Nations & Events\\\\\n <int> & <int> & <int> & <int>\\\\\n\\hline\n\t 1896 &  124 &  10 &  42\\\\\n\t 1900 &  892 &  28 &  88\\\\\n\t 1904 &  428 &  15 &  95\\\\\n\t 1906 &  568 &  21 &  73\\\\\n\t 1908 & 1408 &  20 & 109\\\\\n\t 1912 & 1676 &  28 & 107\\\\\n\t 1920 & 1885 &  28 & 156\\\\\n\t 1924 & 2467 &  46 & 148\\\\\n\t 1928 & 2504 &  46 & 136\\\\\n\t 1932 & 1546 &  45 & 144\\\\\n\t 1936 & 3514 &  50 & 166\\\\\n\t 1948 & 3549 &  59 & 175\\\\\n\t 1952 & 3879 &  67 & 171\\\\\n\t 1956 & 2824 &  75 & 175\\\\\n\t 1960 & 4147 &  83 & 177\\\\\n\t 1964 & 4283 &  92 & 197\\\\\n\t 1968 & 4596 & 111 & 207\\\\\n\t 1972 & 5545 & 119 & 228\\\\\n\t 1976 & 4869 &  92 & 236\\\\\n\t 1980 & 4284 &  89 & 241\\\\\n\t 1984 & 5618 & 148 & 260\\\\\n\t 1988 & 6889 & 159 & 283\\\\\n\t 1992 & 7716 & 168 & 314\\\\\n\t 1994 & 1130 &  61 &  61\\\\\n\t 1996 & 7180 & 196 & 271\\\\\n\t 1998 & 1442 &  66 &  68\\\\\n\t 2000 & 7312 & 199 & 300\\\\\n\t 2002 & 1582 &  74 &  78\\\\\n\t 2004 & 7209 & 200 & 301\\\\\n\t 2006 & 1680 &  72 &  84\\\\\n\t 2008 & 7385 & 202 & 302\\\\\n\t 2010 & 1679 &  73 &  86\\\\\n\t 2012 & 7237 & 203 & 302\\\\\n\t 2014 & 1847 &  81 &  98\\\\\n\t 2016 & 7635 & 205 & 306\\\\\n\\end{tabular}\n",
            "text/markdown": "\nA tibble: 35 × 4\n\n| Year &lt;int&gt; | Athletes &lt;int&gt; | Nations &lt;int&gt; | Events &lt;int&gt; |\n|---|---|---|---|\n| 1896 |  124 |  10 |  42 |\n| 1900 |  892 |  28 |  88 |\n| 1904 |  428 |  15 |  95 |\n| 1906 |  568 |  21 |  73 |\n| 1908 | 1408 |  20 | 109 |\n| 1912 | 1676 |  28 | 107 |\n| 1920 | 1885 |  28 | 156 |\n| 1924 | 2467 |  46 | 148 |\n| 1928 | 2504 |  46 | 136 |\n| 1932 | 1546 |  45 | 144 |\n| 1936 | 3514 |  50 | 166 |\n| 1948 | 3549 |  59 | 175 |\n| 1952 | 3879 |  67 | 171 |\n| 1956 | 2824 |  75 | 175 |\n| 1960 | 4147 |  83 | 177 |\n| 1964 | 4283 |  92 | 197 |\n| 1968 | 4596 | 111 | 207 |\n| 1972 | 5545 | 119 | 228 |\n| 1976 | 4869 |  92 | 236 |\n| 1980 | 4284 |  89 | 241 |\n| 1984 | 5618 | 148 | 260 |\n| 1988 | 6889 | 159 | 283 |\n| 1992 | 7716 | 168 | 314 |\n| 1994 | 1130 |  61 |  61 |\n| 1996 | 7180 | 196 | 271 |\n| 1998 | 1442 |  66 |  68 |\n| 2000 | 7312 | 199 | 300 |\n| 2002 | 1582 |  74 |  78 |\n| 2004 | 7209 | 200 | 301 |\n| 2006 | 1680 |  72 |  84 |\n| 2008 | 7385 | 202 | 302 |\n| 2010 | 1679 |  73 |  86 |\n| 2012 | 7237 | 203 | 302 |\n| 2014 | 1847 |  81 |  98 |\n| 2016 | 7635 | 205 | 306 |\n\n",
            "text/html": [
              "<table>\n",
              "<caption>A tibble: 35 × 4</caption>\n",
              "<thead>\n",
              "\t<tr><th scope=col>Year</th><th scope=col>Athletes</th><th scope=col>Nations</th><th scope=col>Events</th></tr>\n",
              "\t<tr><th scope=col>&lt;int&gt;</th><th scope=col>&lt;int&gt;</th><th scope=col>&lt;int&gt;</th><th scope=col>&lt;int&gt;</th></tr>\n",
              "</thead>\n",
              "<tbody>\n",
              "\t<tr><td>1896</td><td> 124</td><td> 10</td><td> 42</td></tr>\n",
              "\t<tr><td>1900</td><td> 892</td><td> 28</td><td> 88</td></tr>\n",
              "\t<tr><td>1904</td><td> 428</td><td> 15</td><td> 95</td></tr>\n",
              "\t<tr><td>1906</td><td> 568</td><td> 21</td><td> 73</td></tr>\n",
              "\t<tr><td>1908</td><td>1408</td><td> 20</td><td>109</td></tr>\n",
              "\t<tr><td>1912</td><td>1676</td><td> 28</td><td>107</td></tr>\n",
              "\t<tr><td>1920</td><td>1885</td><td> 28</td><td>156</td></tr>\n",
              "\t<tr><td>1924</td><td>2467</td><td> 46</td><td>148</td></tr>\n",
              "\t<tr><td>1928</td><td>2504</td><td> 46</td><td>136</td></tr>\n",
              "\t<tr><td>1932</td><td>1546</td><td> 45</td><td>144</td></tr>\n",
              "\t<tr><td>1936</td><td>3514</td><td> 50</td><td>166</td></tr>\n",
              "\t<tr><td>1948</td><td>3549</td><td> 59</td><td>175</td></tr>\n",
              "\t<tr><td>1952</td><td>3879</td><td> 67</td><td>171</td></tr>\n",
              "\t<tr><td>1956</td><td>2824</td><td> 75</td><td>175</td></tr>\n",
              "\t<tr><td>1960</td><td>4147</td><td> 83</td><td>177</td></tr>\n",
              "\t<tr><td>1964</td><td>4283</td><td> 92</td><td>197</td></tr>\n",
              "\t<tr><td>1968</td><td>4596</td><td>111</td><td>207</td></tr>\n",
              "\t<tr><td>1972</td><td>5545</td><td>119</td><td>228</td></tr>\n",
              "\t<tr><td>1976</td><td>4869</td><td> 92</td><td>236</td></tr>\n",
              "\t<tr><td>1980</td><td>4284</td><td> 89</td><td>241</td></tr>\n",
              "\t<tr><td>1984</td><td>5618</td><td>148</td><td>260</td></tr>\n",
              "\t<tr><td>1988</td><td>6889</td><td>159</td><td>283</td></tr>\n",
              "\t<tr><td>1992</td><td>7716</td><td>168</td><td>314</td></tr>\n",
              "\t<tr><td>1994</td><td>1130</td><td> 61</td><td> 61</td></tr>\n",
              "\t<tr><td>1996</td><td>7180</td><td>196</td><td>271</td></tr>\n",
              "\t<tr><td>1998</td><td>1442</td><td> 66</td><td> 68</td></tr>\n",
              "\t<tr><td>2000</td><td>7312</td><td>199</td><td>300</td></tr>\n",
              "\t<tr><td>2002</td><td>1582</td><td> 74</td><td> 78</td></tr>\n",
              "\t<tr><td>2004</td><td>7209</td><td>200</td><td>301</td></tr>\n",
              "\t<tr><td>2006</td><td>1680</td><td> 72</td><td> 84</td></tr>\n",
              "\t<tr><td>2008</td><td>7385</td><td>202</td><td>302</td></tr>\n",
              "\t<tr><td>2010</td><td>1679</td><td> 73</td><td> 86</td></tr>\n",
              "\t<tr><td>2012</td><td>7237</td><td>203</td><td>302</td></tr>\n",
              "\t<tr><td>2014</td><td>1847</td><td> 81</td><td> 98</td></tr>\n",
              "\t<tr><td>2016</td><td>7635</td><td>205</td><td>306</td></tr>\n",
              "</tbody>\n",
              "</table>\n"
            ]
          },
          "metadata": {
            "tags": []
          }
        }
      ]
    },
    {
      "cell_type": "code",
      "metadata": {
        "id": "VWfa_c97v1qY",
        "outputId": "921cd61a-b020-4eb9-feee-a170348342cf",
        "colab": {
          "base_uri": "https://localhost:8080/",
          "height": 1000
        }
      },
      "source": [
        "dataset  %>%\n",
        "  group_by( Year,Sex) %>%\n",
        "  summarise( Athletes = length(unique(ID))\n",
        "  )\n",
        "  head()"
      ],
      "execution_count": 53,
      "outputs": [
        {
          "output_type": "stream",
          "text": [
            "`summarise()` regrouping output by 'Year' (override with `.groups` argument)\n",
            "\n"
          ],
          "name": "stderr"
        },
        {
          "output_type": "display_data",
          "data": {
            "text/plain": [
              "   Year Sex Athletes\n",
              "1  1896 M    124    \n",
              "2  1900 F     18    \n",
              "3  1900 M    874    \n",
              "4  1904 F      2    \n",
              "5  1904 M    426    \n",
              "6  1906 F      4    \n",
              "7  1906 M    564    \n",
              "8  1908 F     28    \n",
              "9  1908 M   1380    \n",
              "10 1912 F     41    \n",
              "11 1912 M   1635    \n",
              "12 1920 F     58    \n",
              "13 1920 M   1827    \n",
              "14 1924 F    121    \n",
              "15 1924 M   2346    \n",
              "16 1928 F    214    \n",
              "17 1928 M   2290    \n",
              "18 1932 F    164    \n",
              "19 1932 M   1382    \n",
              "20 1936 F    308    \n",
              "21 1936 M   3206    \n",
              "22 1948 F    367    \n",
              "23 1948 M   3182    \n",
              "24 1952 F    416    \n",
              "25 1952 M   3463    \n",
              "26 1956 F    355    \n",
              "27 1956 M   2469    \n",
              "28 1960 F    499    \n",
              "29 1960 M   3648    \n",
              "30 1964 F    596    \n",
              "⋮  ⋮    ⋮   ⋮       \n",
              "40 1984 F   1260    \n",
              "41 1984 M   4358    \n",
              "42 1988 F   1741    \n",
              "43 1988 M   5148    \n",
              "44 1992 F   2183    \n",
              "45 1992 M   5533    \n",
              "46 1994 F    335    \n",
              "47 1994 M    795    \n",
              "48 1996 F   2396    \n",
              "49 1996 M   4784    \n",
              "50 1998 F    510    \n",
              "51 1998 M    932    \n",
              "52 2000 F   2750    \n",
              "53 2000 M   4562    \n",
              "54 2002 F    567    \n",
              "55 2002 M   1015    \n",
              "56 2004 F   2889    \n",
              "57 2004 M   4320    \n",
              "58 2006 F    628    \n",
              "59 2006 M   1052    \n",
              "60 2008 F   3065    \n",
              "61 2008 M   4320    \n",
              "62 2010 F    670    \n",
              "63 2010 M   1009    \n",
              "64 2012 F   3168    \n",
              "65 2012 M   4069    \n",
              "66 2014 F    720    \n",
              "67 2014 M   1127    \n",
              "68 2016 F   3374    \n",
              "69 2016 M   4261    "
            ],
            "text/latex": "A grouped\\_df: 69 × 3\n\\begin{tabular}{lll}\n Year & Sex & Athletes\\\\\n <int> & <chr> & <int>\\\\\n\\hline\n\t 1896 & M &  124\\\\\n\t 1900 & F &   18\\\\\n\t 1900 & M &  874\\\\\n\t 1904 & F &    2\\\\\n\t 1904 & M &  426\\\\\n\t 1906 & F &    4\\\\\n\t 1906 & M &  564\\\\\n\t 1908 & F &   28\\\\\n\t 1908 & M & 1380\\\\\n\t 1912 & F &   41\\\\\n\t 1912 & M & 1635\\\\\n\t 1920 & F &   58\\\\\n\t 1920 & M & 1827\\\\\n\t 1924 & F &  121\\\\\n\t 1924 & M & 2346\\\\\n\t 1928 & F &  214\\\\\n\t 1928 & M & 2290\\\\\n\t 1932 & F &  164\\\\\n\t 1932 & M & 1382\\\\\n\t 1936 & F &  308\\\\\n\t 1936 & M & 3206\\\\\n\t 1948 & F &  367\\\\\n\t 1948 & M & 3182\\\\\n\t 1952 & F &  416\\\\\n\t 1952 & M & 3463\\\\\n\t 1956 & F &  355\\\\\n\t 1956 & M & 2469\\\\\n\t 1960 & F &  499\\\\\n\t 1960 & M & 3648\\\\\n\t 1964 & F &  596\\\\\n\t ⋮ & ⋮ & ⋮\\\\\n\t 1984 & F & 1260\\\\\n\t 1984 & M & 4358\\\\\n\t 1988 & F & 1741\\\\\n\t 1988 & M & 5148\\\\\n\t 1992 & F & 2183\\\\\n\t 1992 & M & 5533\\\\\n\t 1994 & F &  335\\\\\n\t 1994 & M &  795\\\\\n\t 1996 & F & 2396\\\\\n\t 1996 & M & 4784\\\\\n\t 1998 & F &  510\\\\\n\t 1998 & M &  932\\\\\n\t 2000 & F & 2750\\\\\n\t 2000 & M & 4562\\\\\n\t 2002 & F &  567\\\\\n\t 2002 & M & 1015\\\\\n\t 2004 & F & 2889\\\\\n\t 2004 & M & 4320\\\\\n\t 2006 & F &  628\\\\\n\t 2006 & M & 1052\\\\\n\t 2008 & F & 3065\\\\\n\t 2008 & M & 4320\\\\\n\t 2010 & F &  670\\\\\n\t 2010 & M & 1009\\\\\n\t 2012 & F & 3168\\\\\n\t 2012 & M & 4069\\\\\n\t 2014 & F &  720\\\\\n\t 2014 & M & 1127\\\\\n\t 2016 & F & 3374\\\\\n\t 2016 & M & 4261\\\\\n\\end{tabular}\n",
            "text/markdown": "\nA grouped_df: 69 × 3\n\n| Year &lt;int&gt; | Sex &lt;chr&gt; | Athletes &lt;int&gt; |\n|---|---|---|\n| 1896 | M |  124 |\n| 1900 | F |   18 |\n| 1900 | M |  874 |\n| 1904 | F |    2 |\n| 1904 | M |  426 |\n| 1906 | F |    4 |\n| 1906 | M |  564 |\n| 1908 | F |   28 |\n| 1908 | M | 1380 |\n| 1912 | F |   41 |\n| 1912 | M | 1635 |\n| 1920 | F |   58 |\n| 1920 | M | 1827 |\n| 1924 | F |  121 |\n| 1924 | M | 2346 |\n| 1928 | F |  214 |\n| 1928 | M | 2290 |\n| 1932 | F |  164 |\n| 1932 | M | 1382 |\n| 1936 | F |  308 |\n| 1936 | M | 3206 |\n| 1948 | F |  367 |\n| 1948 | M | 3182 |\n| 1952 | F |  416 |\n| 1952 | M | 3463 |\n| 1956 | F |  355 |\n| 1956 | M | 2469 |\n| 1960 | F |  499 |\n| 1960 | M | 3648 |\n| 1964 | F |  596 |\n| ⋮ | ⋮ | ⋮ |\n| 1984 | F | 1260 |\n| 1984 | M | 4358 |\n| 1988 | F | 1741 |\n| 1988 | M | 5148 |\n| 1992 | F | 2183 |\n| 1992 | M | 5533 |\n| 1994 | F |  335 |\n| 1994 | M |  795 |\n| 1996 | F | 2396 |\n| 1996 | M | 4784 |\n| 1998 | F |  510 |\n| 1998 | M |  932 |\n| 2000 | F | 2750 |\n| 2000 | M | 4562 |\n| 2002 | F |  567 |\n| 2002 | M | 1015 |\n| 2004 | F | 2889 |\n| 2004 | M | 4320 |\n| 2006 | F |  628 |\n| 2006 | M | 1052 |\n| 2008 | F | 3065 |\n| 2008 | M | 4320 |\n| 2010 | F |  670 |\n| 2010 | M | 1009 |\n| 2012 | F | 3168 |\n| 2012 | M | 4069 |\n| 2014 | F |  720 |\n| 2014 | M | 1127 |\n| 2016 | F | 3374 |\n| 2016 | M | 4261 |\n\n",
            "text/html": [
              "<table>\n",
              "<caption>A grouped_df: 69 × 3</caption>\n",
              "<thead>\n",
              "\t<tr><th scope=col>Year</th><th scope=col>Sex</th><th scope=col>Athletes</th></tr>\n",
              "\t<tr><th scope=col>&lt;int&gt;</th><th scope=col>&lt;chr&gt;</th><th scope=col>&lt;int&gt;</th></tr>\n",
              "</thead>\n",
              "<tbody>\n",
              "\t<tr><td>1896</td><td>M</td><td> 124</td></tr>\n",
              "\t<tr><td>1900</td><td>F</td><td>  18</td></tr>\n",
              "\t<tr><td>1900</td><td>M</td><td> 874</td></tr>\n",
              "\t<tr><td>1904</td><td>F</td><td>   2</td></tr>\n",
              "\t<tr><td>1904</td><td>M</td><td> 426</td></tr>\n",
              "\t<tr><td>1906</td><td>F</td><td>   4</td></tr>\n",
              "\t<tr><td>1906</td><td>M</td><td> 564</td></tr>\n",
              "\t<tr><td>1908</td><td>F</td><td>  28</td></tr>\n",
              "\t<tr><td>1908</td><td>M</td><td>1380</td></tr>\n",
              "\t<tr><td>1912</td><td>F</td><td>  41</td></tr>\n",
              "\t<tr><td>1912</td><td>M</td><td>1635</td></tr>\n",
              "\t<tr><td>1920</td><td>F</td><td>  58</td></tr>\n",
              "\t<tr><td>1920</td><td>M</td><td>1827</td></tr>\n",
              "\t<tr><td>1924</td><td>F</td><td> 121</td></tr>\n",
              "\t<tr><td>1924</td><td>M</td><td>2346</td></tr>\n",
              "\t<tr><td>1928</td><td>F</td><td> 214</td></tr>\n",
              "\t<tr><td>1928</td><td>M</td><td>2290</td></tr>\n",
              "\t<tr><td>1932</td><td>F</td><td> 164</td></tr>\n",
              "\t<tr><td>1932</td><td>M</td><td>1382</td></tr>\n",
              "\t<tr><td>1936</td><td>F</td><td> 308</td></tr>\n",
              "\t<tr><td>1936</td><td>M</td><td>3206</td></tr>\n",
              "\t<tr><td>1948</td><td>F</td><td> 367</td></tr>\n",
              "\t<tr><td>1948</td><td>M</td><td>3182</td></tr>\n",
              "\t<tr><td>1952</td><td>F</td><td> 416</td></tr>\n",
              "\t<tr><td>1952</td><td>M</td><td>3463</td></tr>\n",
              "\t<tr><td>1956</td><td>F</td><td> 355</td></tr>\n",
              "\t<tr><td>1956</td><td>M</td><td>2469</td></tr>\n",
              "\t<tr><td>1960</td><td>F</td><td> 499</td></tr>\n",
              "\t<tr><td>1960</td><td>M</td><td>3648</td></tr>\n",
              "\t<tr><td>1964</td><td>F</td><td> 596</td></tr>\n",
              "\t<tr><td>⋮</td><td>⋮</td><td>⋮</td></tr>\n",
              "\t<tr><td>1984</td><td>F</td><td>1260</td></tr>\n",
              "\t<tr><td>1984</td><td>M</td><td>4358</td></tr>\n",
              "\t<tr><td>1988</td><td>F</td><td>1741</td></tr>\n",
              "\t<tr><td>1988</td><td>M</td><td>5148</td></tr>\n",
              "\t<tr><td>1992</td><td>F</td><td>2183</td></tr>\n",
              "\t<tr><td>1992</td><td>M</td><td>5533</td></tr>\n",
              "\t<tr><td>1994</td><td>F</td><td> 335</td></tr>\n",
              "\t<tr><td>1994</td><td>M</td><td> 795</td></tr>\n",
              "\t<tr><td>1996</td><td>F</td><td>2396</td></tr>\n",
              "\t<tr><td>1996</td><td>M</td><td>4784</td></tr>\n",
              "\t<tr><td>1998</td><td>F</td><td> 510</td></tr>\n",
              "\t<tr><td>1998</td><td>M</td><td> 932</td></tr>\n",
              "\t<tr><td>2000</td><td>F</td><td>2750</td></tr>\n",
              "\t<tr><td>2000</td><td>M</td><td>4562</td></tr>\n",
              "\t<tr><td>2002</td><td>F</td><td> 567</td></tr>\n",
              "\t<tr><td>2002</td><td>M</td><td>1015</td></tr>\n",
              "\t<tr><td>2004</td><td>F</td><td>2889</td></tr>\n",
              "\t<tr><td>2004</td><td>M</td><td>4320</td></tr>\n",
              "\t<tr><td>2006</td><td>F</td><td> 628</td></tr>\n",
              "\t<tr><td>2006</td><td>M</td><td>1052</td></tr>\n",
              "\t<tr><td>2008</td><td>F</td><td>3065</td></tr>\n",
              "\t<tr><td>2008</td><td>M</td><td>4320</td></tr>\n",
              "\t<tr><td>2010</td><td>F</td><td> 670</td></tr>\n",
              "\t<tr><td>2010</td><td>M</td><td>1009</td></tr>\n",
              "\t<tr><td>2012</td><td>F</td><td>3168</td></tr>\n",
              "\t<tr><td>2012</td><td>M</td><td>4069</td></tr>\n",
              "\t<tr><td>2014</td><td>F</td><td> 720</td></tr>\n",
              "\t<tr><td>2014</td><td>M</td><td>1127</td></tr>\n",
              "\t<tr><td>2016</td><td>F</td><td>3374</td></tr>\n",
              "\t<tr><td>2016</td><td>M</td><td>4261</td></tr>\n",
              "</tbody>\n",
              "</table>\n"
            ]
          },
          "metadata": {
            "tags": []
          }
        },
        {
          "output_type": "error",
          "ename": "ERROR",
          "evalue": "ignored",
          "traceback": [
            "Error in checkHT(n, dx <- dim(x)): argument \"x\" is missing, with no default\nTraceback:\n",
            "1. head()",
            "2. head.default()",
            "3. checkHT(n, dx <- dim(x))"
          ]
        }
      ]
    },
    {
      "cell_type": "code",
      "metadata": {
        "id": "diEuiqKT0aNS",
        "outputId": "0a740f4f-d95d-4aaa-980d-8d4259496fae",
        "colab": {
          "base_uri": "https://localhost:8080/",
          "height": 1000
        }
      },
      "source": [
        "dataset  %>%\n",
        "  group_by( NOC,Sex) %>%\n",
        "  summarise( Athletes = length(unique(ID))\n",
        "  )\n",
        "  head()"
      ],
      "execution_count": 54,
      "outputs": [
        {
          "output_type": "stream",
          "text": [
            "`summarise()` regrouping output by 'NOC' (override with `.groups` argument)\n",
            "\n"
          ],
          "name": "stderr"
        },
        {
          "output_type": "display_data",
          "data": {
            "text/plain": [
              "    NOC Sex Athletes\n",
              "1   AFG F      1    \n",
              "2   AFG M     63    \n",
              "3   AHO F      9    \n",
              "4   AHO M     36    \n",
              "5   ALB F     11    \n",
              "6   ALB M     17    \n",
              "7   ALG F     46    \n",
              "8   ALG M    268    \n",
              "9   AND F     11    \n",
              "10  AND M     29    \n",
              "11  ANG F     60    \n",
              "12  ANG M     77    \n",
              "13  ANT F      9    \n",
              "14  ANT M     37    \n",
              "15  ANZ F      1    \n",
              "16  ANZ M     34    \n",
              "17  ARG F    227    \n",
              "18  ARG M   1091    \n",
              "19  ARM F     23    \n",
              "20  ARM M     94    \n",
              "21  ARU F      4    \n",
              "22  ARU M     11    \n",
              "23  ASA F      5    \n",
              "24  ASA M     15    \n",
              "25  AUS F    910    \n",
              "26  AUS M   1801    \n",
              "27  AUT F    318    \n",
              "28  AUT M   1091    \n",
              "29  AZE F     28    \n",
              "30  AZE M    103    \n",
              "⋮   ⋮   ⋮   ⋮       \n",
              "422 UNK M      2    \n",
              "423 URS F    420    \n",
              "424 URS M   1395    \n",
              "425 URU F     20    \n",
              "426 URU M    240    \n",
              "427 USA F   1810    \n",
              "428 USA M   4937    \n",
              "429 UZB F     52    \n",
              "430 UZB M    127    \n",
              "431 VAN F      7    \n",
              "432 VAN M     12    \n",
              "433 VEN F     67    \n",
              "434 VEN M    305    \n",
              "435 VIE F     31    \n",
              "436 VIE M     41    \n",
              "437 VIN F      5    \n",
              "438 VIN M     14    \n",
              "439 VNM F      2    \n",
              "440 VNM M     24    \n",
              "441 WIF M      9    \n",
              "442 YAR M      9    \n",
              "443 YEM F      2    \n",
              "444 YEM M     22    \n",
              "445 YMD M      3    \n",
              "446 YUG F    107    \n",
              "447 YUG M    697    \n",
              "448 ZAM F     11    \n",
              "449 ZAM M    114    \n",
              "450 ZIM F     50    \n",
              "451 ZIM M     96    "
            ],
            "text/latex": "A grouped\\_df: 451 × 3\n\\begin{tabular}{lll}\n NOC & Sex & Athletes\\\\\n <chr> & <chr> & <int>\\\\\n\\hline\n\t AFG & F &    1\\\\\n\t AFG & M &   63\\\\\n\t AHO & F &    9\\\\\n\t AHO & M &   36\\\\\n\t ALB & F &   11\\\\\n\t ALB & M &   17\\\\\n\t ALG & F &   46\\\\\n\t ALG & M &  268\\\\\n\t AND & F &   11\\\\\n\t AND & M &   29\\\\\n\t ANG & F &   60\\\\\n\t ANG & M &   77\\\\\n\t ANT & F &    9\\\\\n\t ANT & M &   37\\\\\n\t ANZ & F &    1\\\\\n\t ANZ & M &   34\\\\\n\t ARG & F &  227\\\\\n\t ARG & M & 1091\\\\\n\t ARM & F &   23\\\\\n\t ARM & M &   94\\\\\n\t ARU & F &    4\\\\\n\t ARU & M &   11\\\\\n\t ASA & F &    5\\\\\n\t ASA & M &   15\\\\\n\t AUS & F &  910\\\\\n\t AUS & M & 1801\\\\\n\t AUT & F &  318\\\\\n\t AUT & M & 1091\\\\\n\t AZE & F &   28\\\\\n\t AZE & M &  103\\\\\n\t ⋮ & ⋮ & ⋮\\\\\n\t UNK & M &    2\\\\\n\t URS & F &  420\\\\\n\t URS & M & 1395\\\\\n\t URU & F &   20\\\\\n\t URU & M &  240\\\\\n\t USA & F & 1810\\\\\n\t USA & M & 4937\\\\\n\t UZB & F &   52\\\\\n\t UZB & M &  127\\\\\n\t VAN & F &    7\\\\\n\t VAN & M &   12\\\\\n\t VEN & F &   67\\\\\n\t VEN & M &  305\\\\\n\t VIE & F &   31\\\\\n\t VIE & M &   41\\\\\n\t VIN & F &    5\\\\\n\t VIN & M &   14\\\\\n\t VNM & F &    2\\\\\n\t VNM & M &   24\\\\\n\t WIF & M &    9\\\\\n\t YAR & M &    9\\\\\n\t YEM & F &    2\\\\\n\t YEM & M &   22\\\\\n\t YMD & M &    3\\\\\n\t YUG & F &  107\\\\\n\t YUG & M &  697\\\\\n\t ZAM & F &   11\\\\\n\t ZAM & M &  114\\\\\n\t ZIM & F &   50\\\\\n\t ZIM & M &   96\\\\\n\\end{tabular}\n",
            "text/markdown": "\nA grouped_df: 451 × 3\n\n| NOC &lt;chr&gt; | Sex &lt;chr&gt; | Athletes &lt;int&gt; |\n|---|---|---|\n| AFG | F |    1 |\n| AFG | M |   63 |\n| AHO | F |    9 |\n| AHO | M |   36 |\n| ALB | F |   11 |\n| ALB | M |   17 |\n| ALG | F |   46 |\n| ALG | M |  268 |\n| AND | F |   11 |\n| AND | M |   29 |\n| ANG | F |   60 |\n| ANG | M |   77 |\n| ANT | F |    9 |\n| ANT | M |   37 |\n| ANZ | F |    1 |\n| ANZ | M |   34 |\n| ARG | F |  227 |\n| ARG | M | 1091 |\n| ARM | F |   23 |\n| ARM | M |   94 |\n| ARU | F |    4 |\n| ARU | M |   11 |\n| ASA | F |    5 |\n| ASA | M |   15 |\n| AUS | F |  910 |\n| AUS | M | 1801 |\n| AUT | F |  318 |\n| AUT | M | 1091 |\n| AZE | F |   28 |\n| AZE | M |  103 |\n| ⋮ | ⋮ | ⋮ |\n| UNK | M |    2 |\n| URS | F |  420 |\n| URS | M | 1395 |\n| URU | F |   20 |\n| URU | M |  240 |\n| USA | F | 1810 |\n| USA | M | 4937 |\n| UZB | F |   52 |\n| UZB | M |  127 |\n| VAN | F |    7 |\n| VAN | M |   12 |\n| VEN | F |   67 |\n| VEN | M |  305 |\n| VIE | F |   31 |\n| VIE | M |   41 |\n| VIN | F |    5 |\n| VIN | M |   14 |\n| VNM | F |    2 |\n| VNM | M |   24 |\n| WIF | M |    9 |\n| YAR | M |    9 |\n| YEM | F |    2 |\n| YEM | M |   22 |\n| YMD | M |    3 |\n| YUG | F |  107 |\n| YUG | M |  697 |\n| ZAM | F |   11 |\n| ZAM | M |  114 |\n| ZIM | F |   50 |\n| ZIM | M |   96 |\n\n",
            "text/html": [
              "<table>\n",
              "<caption>A grouped_df: 451 × 3</caption>\n",
              "<thead>\n",
              "\t<tr><th scope=col>NOC</th><th scope=col>Sex</th><th scope=col>Athletes</th></tr>\n",
              "\t<tr><th scope=col>&lt;chr&gt;</th><th scope=col>&lt;chr&gt;</th><th scope=col>&lt;int&gt;</th></tr>\n",
              "</thead>\n",
              "<tbody>\n",
              "\t<tr><td>AFG</td><td>F</td><td>   1</td></tr>\n",
              "\t<tr><td>AFG</td><td>M</td><td>  63</td></tr>\n",
              "\t<tr><td>AHO</td><td>F</td><td>   9</td></tr>\n",
              "\t<tr><td>AHO</td><td>M</td><td>  36</td></tr>\n",
              "\t<tr><td>ALB</td><td>F</td><td>  11</td></tr>\n",
              "\t<tr><td>ALB</td><td>M</td><td>  17</td></tr>\n",
              "\t<tr><td>ALG</td><td>F</td><td>  46</td></tr>\n",
              "\t<tr><td>ALG</td><td>M</td><td> 268</td></tr>\n",
              "\t<tr><td>AND</td><td>F</td><td>  11</td></tr>\n",
              "\t<tr><td>AND</td><td>M</td><td>  29</td></tr>\n",
              "\t<tr><td>ANG</td><td>F</td><td>  60</td></tr>\n",
              "\t<tr><td>ANG</td><td>M</td><td>  77</td></tr>\n",
              "\t<tr><td>ANT</td><td>F</td><td>   9</td></tr>\n",
              "\t<tr><td>ANT</td><td>M</td><td>  37</td></tr>\n",
              "\t<tr><td>ANZ</td><td>F</td><td>   1</td></tr>\n",
              "\t<tr><td>ANZ</td><td>M</td><td>  34</td></tr>\n",
              "\t<tr><td>ARG</td><td>F</td><td> 227</td></tr>\n",
              "\t<tr><td>ARG</td><td>M</td><td>1091</td></tr>\n",
              "\t<tr><td>ARM</td><td>F</td><td>  23</td></tr>\n",
              "\t<tr><td>ARM</td><td>M</td><td>  94</td></tr>\n",
              "\t<tr><td>ARU</td><td>F</td><td>   4</td></tr>\n",
              "\t<tr><td>ARU</td><td>M</td><td>  11</td></tr>\n",
              "\t<tr><td>ASA</td><td>F</td><td>   5</td></tr>\n",
              "\t<tr><td>ASA</td><td>M</td><td>  15</td></tr>\n",
              "\t<tr><td>AUS</td><td>F</td><td> 910</td></tr>\n",
              "\t<tr><td>AUS</td><td>M</td><td>1801</td></tr>\n",
              "\t<tr><td>AUT</td><td>F</td><td> 318</td></tr>\n",
              "\t<tr><td>AUT</td><td>M</td><td>1091</td></tr>\n",
              "\t<tr><td>AZE</td><td>F</td><td>  28</td></tr>\n",
              "\t<tr><td>AZE</td><td>M</td><td> 103</td></tr>\n",
              "\t<tr><td>⋮</td><td>⋮</td><td>⋮</td></tr>\n",
              "\t<tr><td>UNK</td><td>M</td><td>   2</td></tr>\n",
              "\t<tr><td>URS</td><td>F</td><td> 420</td></tr>\n",
              "\t<tr><td>URS</td><td>M</td><td>1395</td></tr>\n",
              "\t<tr><td>URU</td><td>F</td><td>  20</td></tr>\n",
              "\t<tr><td>URU</td><td>M</td><td> 240</td></tr>\n",
              "\t<tr><td>USA</td><td>F</td><td>1810</td></tr>\n",
              "\t<tr><td>USA</td><td>M</td><td>4937</td></tr>\n",
              "\t<tr><td>UZB</td><td>F</td><td>  52</td></tr>\n",
              "\t<tr><td>UZB</td><td>M</td><td> 127</td></tr>\n",
              "\t<tr><td>VAN</td><td>F</td><td>   7</td></tr>\n",
              "\t<tr><td>VAN</td><td>M</td><td>  12</td></tr>\n",
              "\t<tr><td>VEN</td><td>F</td><td>  67</td></tr>\n",
              "\t<tr><td>VEN</td><td>M</td><td> 305</td></tr>\n",
              "\t<tr><td>VIE</td><td>F</td><td>  31</td></tr>\n",
              "\t<tr><td>VIE</td><td>M</td><td>  41</td></tr>\n",
              "\t<tr><td>VIN</td><td>F</td><td>   5</td></tr>\n",
              "\t<tr><td>VIN</td><td>M</td><td>  14</td></tr>\n",
              "\t<tr><td>VNM</td><td>F</td><td>   2</td></tr>\n",
              "\t<tr><td>VNM</td><td>M</td><td>  24</td></tr>\n",
              "\t<tr><td>WIF</td><td>M</td><td>   9</td></tr>\n",
              "\t<tr><td>YAR</td><td>M</td><td>   9</td></tr>\n",
              "\t<tr><td>YEM</td><td>F</td><td>   2</td></tr>\n",
              "\t<tr><td>YEM</td><td>M</td><td>  22</td></tr>\n",
              "\t<tr><td>YMD</td><td>M</td><td>   3</td></tr>\n",
              "\t<tr><td>YUG</td><td>F</td><td> 107</td></tr>\n",
              "\t<tr><td>YUG</td><td>M</td><td> 697</td></tr>\n",
              "\t<tr><td>ZAM</td><td>F</td><td>  11</td></tr>\n",
              "\t<tr><td>ZAM</td><td>M</td><td> 114</td></tr>\n",
              "\t<tr><td>ZIM</td><td>F</td><td>  50</td></tr>\n",
              "\t<tr><td>ZIM</td><td>M</td><td>  96</td></tr>\n",
              "</tbody>\n",
              "</table>\n"
            ]
          },
          "metadata": {
            "tags": []
          }
        },
        {
          "output_type": "error",
          "ename": "ERROR",
          "evalue": "ignored",
          "traceback": [
            "Error in checkHT(n, dx <- dim(x)): argument \"x\" is missing, with no default\nTraceback:\n",
            "1. head()",
            "2. head.default()",
            "3. checkHT(n, dx <- dim(x))"
          ]
        }
      ]
    },
    {
      "cell_type": "code",
      "metadata": {
        "id": "n6lyl3vC4G_Q",
        "outputId": "f6240e62-3a00-484e-8f96-dfa06cb983af",
        "colab": {
          "base_uri": "https://localhost:8080/",
          "height": 238
        }
      },
      "source": [
        " head(NB___MEN <- dataset %>% filter(Sex ==\"M\", Year==\"1936\") %>% group_by(NOC) %>% summarise(NB_MEN = length(unique(ID))))"
      ],
      "execution_count": 55,
      "outputs": [
        {
          "output_type": "stream",
          "text": [
            "`summarise()` ungrouping output (override with `.groups` argument)\n",
            "\n"
          ],
          "name": "stderr"
        },
        {
          "output_type": "display_data",
          "data": {
            "text/plain": [
              "  NOC NB_MEN\n",
              "1 AFG   7   \n",
              "2 ARG  37   \n",
              "3 AUS  24   \n",
              "4 AUT 147   \n",
              "5 BEL 116   \n",
              "6 BER   2   "
            ],
            "text/latex": "A tibble: 6 × 2\n\\begin{tabular}{ll}\n NOC & NB\\_MEN\\\\\n <chr> & <int>\\\\\n\\hline\n\t AFG &   7\\\\\n\t ARG &  37\\\\\n\t AUS &  24\\\\\n\t AUT & 147\\\\\n\t BEL & 116\\\\\n\t BER &   2\\\\\n\\end{tabular}\n",
            "text/markdown": "\nA tibble: 6 × 2\n\n| NOC &lt;chr&gt; | NB_MEN &lt;int&gt; |\n|---|---|\n| AFG |   7 |\n| ARG |  37 |\n| AUS |  24 |\n| AUT | 147 |\n| BEL | 116 |\n| BER |   2 |\n\n",
            "text/html": [
              "<table>\n",
              "<caption>A tibble: 6 × 2</caption>\n",
              "<thead>\n",
              "\t<tr><th scope=col>NOC</th><th scope=col>NB_MEN</th></tr>\n",
              "\t<tr><th scope=col>&lt;chr&gt;</th><th scope=col>&lt;int&gt;</th></tr>\n",
              "</thead>\n",
              "<tbody>\n",
              "\t<tr><td>AFG</td><td>  7</td></tr>\n",
              "\t<tr><td>ARG</td><td> 37</td></tr>\n",
              "\t<tr><td>AUS</td><td> 24</td></tr>\n",
              "\t<tr><td>AUT</td><td>147</td></tr>\n",
              "\t<tr><td>BEL</td><td>116</td></tr>\n",
              "\t<tr><td>BER</td><td>  2</td></tr>\n",
              "</tbody>\n",
              "</table>\n"
            ]
          },
          "metadata": {
            "tags": []
          }
        }
      ]
    },
    {
      "cell_type": "code",
      "metadata": {
        "id": "eWXOhGHw6JZy",
        "outputId": "e1459eba-8260-4d4c-d020-db09c43fc66f",
        "colab": {
          "base_uri": "https://localhost:8080/",
          "height": 238
        }
      },
      "source": [
        "head(NB___WOMEN <- dataset %>% filter(Sex ==\"F\", Year==\"1936\") %>% group_by(NOC) %>% summarise(NB_WOMEN = length(unique(ID))))"
      ],
      "execution_count": 56,
      "outputs": [
        {
          "output_type": "stream",
          "text": [
            "`summarise()` ungrouping output (override with `.groups` argument)\n",
            "\n"
          ],
          "name": "stderr"
        },
        {
          "output_type": "display_data",
          "data": {
            "text/plain": [
              "  NOC NB_WOMEN\n",
              "1 ARG  1      \n",
              "2 AUS  4      \n",
              "3 AUT 15      \n",
              "4 BEL  5      \n",
              "5 BRA  3      \n",
              "6 CAN 20      "
            ],
            "text/latex": "A tibble: 6 × 2\n\\begin{tabular}{ll}\n NOC & NB\\_WOMEN\\\\\n <chr> & <int>\\\\\n\\hline\n\t ARG &  1\\\\\n\t AUS &  4\\\\\n\t AUT & 15\\\\\n\t BEL &  5\\\\\n\t BRA &  3\\\\\n\t CAN & 20\\\\\n\\end{tabular}\n",
            "text/markdown": "\nA tibble: 6 × 2\n\n| NOC &lt;chr&gt; | NB_WOMEN &lt;int&gt; |\n|---|---|\n| ARG |  1 |\n| AUS |  4 |\n| AUT | 15 |\n| BEL |  5 |\n| BRA |  3 |\n| CAN | 20 |\n\n",
            "text/html": [
              "<table>\n",
              "<caption>A tibble: 6 × 2</caption>\n",
              "<thead>\n",
              "\t<tr><th scope=col>NOC</th><th scope=col>NB_WOMEN</th></tr>\n",
              "\t<tr><th scope=col>&lt;chr&gt;</th><th scope=col>&lt;int&gt;</th></tr>\n",
              "</thead>\n",
              "<tbody>\n",
              "\t<tr><td>ARG</td><td> 1</td></tr>\n",
              "\t<tr><td>AUS</td><td> 4</td></tr>\n",
              "\t<tr><td>AUT</td><td>15</td></tr>\n",
              "\t<tr><td>BEL</td><td> 5</td></tr>\n",
              "\t<tr><td>BRA</td><td> 3</td></tr>\n",
              "\t<tr><td>CAN</td><td>20</td></tr>\n",
              "</tbody>\n",
              "</table>\n"
            ]
          },
          "metadata": {
            "tags": []
          }
        }
      ]
    },
    {
      "cell_type": "markdown",
      "metadata": {
        "id": "tFvkLnUSC56t"
      },
      "source": [
        "proportion de femme en 1936"
      ]
    },
    {
      "cell_type": "code",
      "metadata": {
        "id": "fDpGDayH6MfY",
        "outputId": "4d757059-7da3-417a-be31-9f2066b9c859",
        "colab": {
          "base_uri": "https://localhost:8080/",
          "height": 204
        }
      },
      "source": [
        "inner_join(NB___MEN,NB___WOMEN, by = \"NOC\") %>%  select(NOC, NB_MEN, NB_WOMEN) %>%  mutate(proportion_women = (NB_WOMEN/(NB_WOMEN + NB_MEN)*100)) %>% head()"
      ],
      "execution_count": 57,
      "outputs": [
        {
          "output_type": "display_data",
          "data": {
            "text/plain": [
              "  NOC NB_MEN NB_WOMEN proportion_women\n",
              "1 ARG  37     1        2.631579       \n",
              "2 AUS  24     4       14.285714       \n",
              "3 AUT 147    15        9.259259       \n",
              "4 BEL 116     5        4.132231       \n",
              "5 BRA  55     3        5.172414       \n",
              "6 CAN  70    20       22.222222       "
            ],
            "text/latex": "A tibble: 6 × 4\n\\begin{tabular}{llll}\n NOC & NB\\_MEN & NB\\_WOMEN & proportion\\_women\\\\\n <chr> & <int> & <int> & <dbl>\\\\\n\\hline\n\t ARG &  37 &  1 &  2.631579\\\\\n\t AUS &  24 &  4 & 14.285714\\\\\n\t AUT & 147 & 15 &  9.259259\\\\\n\t BEL & 116 &  5 &  4.132231\\\\\n\t BRA &  55 &  3 &  5.172414\\\\\n\t CAN &  70 & 20 & 22.222222\\\\\n\\end{tabular}\n",
            "text/markdown": "\nA tibble: 6 × 4\n\n| NOC &lt;chr&gt; | NB_MEN &lt;int&gt; | NB_WOMEN &lt;int&gt; | proportion_women &lt;dbl&gt; |\n|---|---|---|---|\n| ARG |  37 |  1 |  2.631579 |\n| AUS |  24 |  4 | 14.285714 |\n| AUT | 147 | 15 |  9.259259 |\n| BEL | 116 |  5 |  4.132231 |\n| BRA |  55 |  3 |  5.172414 |\n| CAN |  70 | 20 | 22.222222 |\n\n",
            "text/html": [
              "<table>\n",
              "<caption>A tibble: 6 × 4</caption>\n",
              "<thead>\n",
              "\t<tr><th scope=col>NOC</th><th scope=col>NB_MEN</th><th scope=col>NB_WOMEN</th><th scope=col>proportion_women</th></tr>\n",
              "\t<tr><th scope=col>&lt;chr&gt;</th><th scope=col>&lt;int&gt;</th><th scope=col>&lt;int&gt;</th><th scope=col>&lt;dbl&gt;</th></tr>\n",
              "</thead>\n",
              "<tbody>\n",
              "\t<tr><td>ARG</td><td> 37</td><td> 1</td><td> 2.631579</td></tr>\n",
              "\t<tr><td>AUS</td><td> 24</td><td> 4</td><td>14.285714</td></tr>\n",
              "\t<tr><td>AUT</td><td>147</td><td>15</td><td> 9.259259</td></tr>\n",
              "\t<tr><td>BEL</td><td>116</td><td> 5</td><td> 4.132231</td></tr>\n",
              "\t<tr><td>BRA</td><td> 55</td><td> 3</td><td> 5.172414</td></tr>\n",
              "\t<tr><td>CAN</td><td> 70</td><td>20</td><td>22.222222</td></tr>\n",
              "</tbody>\n",
              "</table>\n"
            ]
          },
          "metadata": {
            "tags": []
          }
        }
      ]
    },
    {
      "cell_type": "markdown",
      "metadata": {
        "id": "Qju0ZSaz7lR5"
      },
      "source": [
        "nombre de medaille 1936"
      ]
    },
    {
      "cell_type": "code",
      "metadata": {
        "id": "YBpoggZXAqug",
        "outputId": "a0769a8c-08dd-4103-e57d-48a2f3afd2c0",
        "colab": {
          "base_uri": "https://localhost:8080/",
          "height": 595
        }
      },
      "source": [
        "head(NB___WOMEN <- dataset %>% filter(Sex ==\"F\", Year==\"1936\", Medal != \"NA\") %>% group_by(NOC,Medal) %>% summarise(NB_WOMEN = length(unique(ID))),70)"
      ],
      "execution_count": 63,
      "outputs": [
        {
          "output_type": "stream",
          "text": [
            "`summarise()` regrouping output by 'NOC' (override with `.groups` argument)\n",
            "\n"
          ],
          "name": "stderr"
        },
        {
          "output_type": "display_data",
          "data": {
            "text/plain": [
              "   NOC Medal  NB_WOMEN\n",
              "1  ARG Silver 1       \n",
              "2  AUT Bronze 1       \n",
              "3  AUT Silver 1       \n",
              "4  CAN Bronze 4       \n",
              "5  DEN Silver 1       \n",
              "6  GBR Silver 6       \n",
              "7  GER Bronze 5       \n",
              "8  GER Gold   9       \n",
              "9  GER Silver 7       \n",
              "10 HUN Bronze 5       \n",
              "11 HUN Gold   2       \n",
              "12 JPN Gold   1       \n",
              "13 NED Gold   2       \n",
              "14 NED Silver 1       \n",
              "15 NOR Bronze 1       \n",
              "16 NOR Gold   1       \n",
              "17 POL Bronze 1       \n",
              "18 SUI Gold   1       \n",
              "19 SWE Bronze 1       \n",
              "20 TCH Silver 6       \n",
              "21 USA Bronze 5       \n",
              "22 USA Gold   2       \n",
              "23 USA Silver 1       "
            ],
            "text/latex": "A grouped\\_df: 23 × 3\n\\begin{tabular}{lll}\n NOC & Medal & NB\\_WOMEN\\\\\n <chr> & <chr> & <int>\\\\\n\\hline\n\t ARG & Silver & 1\\\\\n\t AUT & Bronze & 1\\\\\n\t AUT & Silver & 1\\\\\n\t CAN & Bronze & 4\\\\\n\t DEN & Silver & 1\\\\\n\t GBR & Silver & 6\\\\\n\t GER & Bronze & 5\\\\\n\t GER & Gold   & 9\\\\\n\t GER & Silver & 7\\\\\n\t HUN & Bronze & 5\\\\\n\t HUN & Gold   & 2\\\\\n\t JPN & Gold   & 1\\\\\n\t NED & Gold   & 2\\\\\n\t NED & Silver & 1\\\\\n\t NOR & Bronze & 1\\\\\n\t NOR & Gold   & 1\\\\\n\t POL & Bronze & 1\\\\\n\t SUI & Gold   & 1\\\\\n\t SWE & Bronze & 1\\\\\n\t TCH & Silver & 6\\\\\n\t USA & Bronze & 5\\\\\n\t USA & Gold   & 2\\\\\n\t USA & Silver & 1\\\\\n\\end{tabular}\n",
            "text/markdown": "\nA grouped_df: 23 × 3\n\n| NOC &lt;chr&gt; | Medal &lt;chr&gt; | NB_WOMEN &lt;int&gt; |\n|---|---|---|\n| ARG | Silver | 1 |\n| AUT | Bronze | 1 |\n| AUT | Silver | 1 |\n| CAN | Bronze | 4 |\n| DEN | Silver | 1 |\n| GBR | Silver | 6 |\n| GER | Bronze | 5 |\n| GER | Gold   | 9 |\n| GER | Silver | 7 |\n| HUN | Bronze | 5 |\n| HUN | Gold   | 2 |\n| JPN | Gold   | 1 |\n| NED | Gold   | 2 |\n| NED | Silver | 1 |\n| NOR | Bronze | 1 |\n| NOR | Gold   | 1 |\n| POL | Bronze | 1 |\n| SUI | Gold   | 1 |\n| SWE | Bronze | 1 |\n| TCH | Silver | 6 |\n| USA | Bronze | 5 |\n| USA | Gold   | 2 |\n| USA | Silver | 1 |\n\n",
            "text/html": [
              "<table>\n",
              "<caption>A grouped_df: 23 × 3</caption>\n",
              "<thead>\n",
              "\t<tr><th scope=col>NOC</th><th scope=col>Medal</th><th scope=col>NB_WOMEN</th></tr>\n",
              "\t<tr><th scope=col>&lt;chr&gt;</th><th scope=col>&lt;chr&gt;</th><th scope=col>&lt;int&gt;</th></tr>\n",
              "</thead>\n",
              "<tbody>\n",
              "\t<tr><td>ARG</td><td>Silver</td><td>1</td></tr>\n",
              "\t<tr><td>AUT</td><td>Bronze</td><td>1</td></tr>\n",
              "\t<tr><td>AUT</td><td>Silver</td><td>1</td></tr>\n",
              "\t<tr><td>CAN</td><td>Bronze</td><td>4</td></tr>\n",
              "\t<tr><td>DEN</td><td>Silver</td><td>1</td></tr>\n",
              "\t<tr><td>GBR</td><td>Silver</td><td>6</td></tr>\n",
              "\t<tr><td>GER</td><td>Bronze</td><td>5</td></tr>\n",
              "\t<tr><td>GER</td><td>Gold  </td><td>9</td></tr>\n",
              "\t<tr><td>GER</td><td>Silver</td><td>7</td></tr>\n",
              "\t<tr><td>HUN</td><td>Bronze</td><td>5</td></tr>\n",
              "\t<tr><td>HUN</td><td>Gold  </td><td>2</td></tr>\n",
              "\t<tr><td>JPN</td><td>Gold  </td><td>1</td></tr>\n",
              "\t<tr><td>NED</td><td>Gold  </td><td>2</td></tr>\n",
              "\t<tr><td>NED</td><td>Silver</td><td>1</td></tr>\n",
              "\t<tr><td>NOR</td><td>Bronze</td><td>1</td></tr>\n",
              "\t<tr><td>NOR</td><td>Gold  </td><td>1</td></tr>\n",
              "\t<tr><td>POL</td><td>Bronze</td><td>1</td></tr>\n",
              "\t<tr><td>SUI</td><td>Gold  </td><td>1</td></tr>\n",
              "\t<tr><td>SWE</td><td>Bronze</td><td>1</td></tr>\n",
              "\t<tr><td>TCH</td><td>Silver</td><td>6</td></tr>\n",
              "\t<tr><td>USA</td><td>Bronze</td><td>5</td></tr>\n",
              "\t<tr><td>USA</td><td>Gold  </td><td>2</td></tr>\n",
              "\t<tr><td>USA</td><td>Silver</td><td>1</td></tr>\n",
              "</tbody>\n",
              "</table>\n"
            ]
          },
          "metadata": {
            "tags": []
          }
        }
      ]
    },
    {
      "cell_type": "markdown",
      "metadata": {
        "id": "VVhJehXJAqfj"
      },
      "source": [
        ""
      ]
    },
    {
      "cell_type": "markdown",
      "metadata": {
        "id": "dqfnrl9qA27R"
      },
      "source": [
        "Proportion de femme en  1976 "
      ]
    },
    {
      "cell_type": "code",
      "metadata": {
        "id": "7xzz5XwTA4mv",
        "outputId": "36f86808-7e79-4873-a18f-99ee5fcff4aa",
        "colab": {
          "base_uri": "https://localhost:8080/",
          "height": 459
        }
      },
      "source": [
        " head(NB___MEN <- dataset %>% filter(Sex ==\"M\", Year==\"1976\") %>% group_by(NOC) %>% summarise(NB_MEN = length(unique(ID))))\n",
        " head(NB___WOMEN <- dataset %>% filter(Sex ==\"F\", Year==\"1976\") %>% group_by(NOC) %>% summarise(NB_WOMEN = length(unique(ID))))"
      ],
      "execution_count": 61,
      "outputs": [
        {
          "output_type": "stream",
          "text": [
            "`summarise()` ungrouping output (override with `.groups` argument)\n",
            "\n"
          ],
          "name": "stderr"
        },
        {
          "output_type": "display_data",
          "data": {
            "text/plain": [
              "  NOC NB_MEN\n",
              "1 AHO  3    \n",
              "2 AND  6    \n",
              "3 ANT  5    \n",
              "4 ARG 42    \n",
              "5 AUS 97    \n",
              "6 AUT 59    "
            ],
            "text/latex": "A tibble: 6 × 2\n\\begin{tabular}{ll}\n NOC & NB\\_MEN\\\\\n <chr> & <int>\\\\\n\\hline\n\t AHO &  3\\\\\n\t AND &  6\\\\\n\t ANT &  5\\\\\n\t ARG & 42\\\\\n\t AUS & 97\\\\\n\t AUT & 59\\\\\n\\end{tabular}\n",
            "text/markdown": "\nA tibble: 6 × 2\n\n| NOC &lt;chr&gt; | NB_MEN &lt;int&gt; |\n|---|---|\n| AHO |  3 |\n| AND |  6 |\n| ANT |  5 |\n| ARG | 42 |\n| AUS | 97 |\n| AUT | 59 |\n\n",
            "text/html": [
              "<table>\n",
              "<caption>A tibble: 6 × 2</caption>\n",
              "<thead>\n",
              "\t<tr><th scope=col>NOC</th><th scope=col>NB_MEN</th></tr>\n",
              "\t<tr><th scope=col>&lt;chr&gt;</th><th scope=col>&lt;int&gt;</th></tr>\n",
              "</thead>\n",
              "<tbody>\n",
              "\t<tr><td>AHO</td><td> 3</td></tr>\n",
              "\t<tr><td>AND</td><td> 6</td></tr>\n",
              "\t<tr><td>ANT</td><td> 5</td></tr>\n",
              "\t<tr><td>ARG</td><td>42</td></tr>\n",
              "\t<tr><td>AUS</td><td>97</td></tr>\n",
              "\t<tr><td>AUT</td><td>59</td></tr>\n",
              "</tbody>\n",
              "</table>\n"
            ]
          },
          "metadata": {
            "tags": []
          }
        },
        {
          "output_type": "stream",
          "text": [
            "`summarise()` ungrouping output (override with `.groups` argument)\n",
            "\n"
          ],
          "name": "stderr"
        },
        {
          "output_type": "display_data",
          "data": {
            "text/plain": [
              "  NOC NB_WOMEN\n",
              "1 ARG  3      \n",
              "2 AUS 22      \n",
              "3 AUT 12      \n",
              "4 BAH  1      \n",
              "5 BAR  2      \n",
              "6 BEL 16      "
            ],
            "text/latex": "A tibble: 6 × 2\n\\begin{tabular}{ll}\n NOC & NB\\_WOMEN\\\\\n <chr> & <int>\\\\\n\\hline\n\t ARG &  3\\\\\n\t AUS & 22\\\\\n\t AUT & 12\\\\\n\t BAH &  1\\\\\n\t BAR &  2\\\\\n\t BEL & 16\\\\\n\\end{tabular}\n",
            "text/markdown": "\nA tibble: 6 × 2\n\n| NOC &lt;chr&gt; | NB_WOMEN &lt;int&gt; |\n|---|---|\n| ARG |  3 |\n| AUS | 22 |\n| AUT | 12 |\n| BAH |  1 |\n| BAR |  2 |\n| BEL | 16 |\n\n",
            "text/html": [
              "<table>\n",
              "<caption>A tibble: 6 × 2</caption>\n",
              "<thead>\n",
              "\t<tr><th scope=col>NOC</th><th scope=col>NB_WOMEN</th></tr>\n",
              "\t<tr><th scope=col>&lt;chr&gt;</th><th scope=col>&lt;int&gt;</th></tr>\n",
              "</thead>\n",
              "<tbody>\n",
              "\t<tr><td>ARG</td><td> 3</td></tr>\n",
              "\t<tr><td>AUS</td><td>22</td></tr>\n",
              "\t<tr><td>AUT</td><td>12</td></tr>\n",
              "\t<tr><td>BAH</td><td> 1</td></tr>\n",
              "\t<tr><td>BAR</td><td> 2</td></tr>\n",
              "\t<tr><td>BEL</td><td>16</td></tr>\n",
              "</tbody>\n",
              "</table>\n"
            ]
          },
          "metadata": {
            "tags": []
          }
        }
      ]
    },
    {
      "cell_type": "code",
      "metadata": {
        "id": "Uy8jbrVtBXEK",
        "outputId": "6be5e1db-fcc0-4a0c-ff77-beb043c11291",
        "colab": {
          "base_uri": "https://localhost:8080/",
          "height": 204
        }
      },
      "source": [
        "inner_join(NB___MEN,NB___WOMEN, by = \"NOC\") %>%  select(NOC, NB_MEN, NB_WOMEN) %>%  mutate(proportion_women = (NB_WOMEN/(NB_WOMEN + NB_MEN)*100)) %>% head()"
      ],
      "execution_count": 62,
      "outputs": [
        {
          "output_type": "display_data",
          "data": {
            "text/plain": [
              "  NOC NB_MEN NB_WOMEN proportion_women\n",
              "1 ARG 42      3        6.666667       \n",
              "2 AUS 97     22       18.487395       \n",
              "3 AUT 59     12       16.901408       \n",
              "4 BAH  5      1       16.666667       \n",
              "5 BAR  6      2       25.000000       \n",
              "6 BEL 45     16       26.229508       "
            ],
            "text/latex": "A tibble: 6 × 4\n\\begin{tabular}{llll}\n NOC & NB\\_MEN & NB\\_WOMEN & proportion\\_women\\\\\n <chr> & <int> & <int> & <dbl>\\\\\n\\hline\n\t ARG & 42 &  3 &  6.666667\\\\\n\t AUS & 97 & 22 & 18.487395\\\\\n\t AUT & 59 & 12 & 16.901408\\\\\n\t BAH &  5 &  1 & 16.666667\\\\\n\t BAR &  6 &  2 & 25.000000\\\\\n\t BEL & 45 & 16 & 26.229508\\\\\n\\end{tabular}\n",
            "text/markdown": "\nA tibble: 6 × 4\n\n| NOC &lt;chr&gt; | NB_MEN &lt;int&gt; | NB_WOMEN &lt;int&gt; | proportion_women &lt;dbl&gt; |\n|---|---|---|---|\n| ARG | 42 |  3 |  6.666667 |\n| AUS | 97 | 22 | 18.487395 |\n| AUT | 59 | 12 | 16.901408 |\n| BAH |  5 |  1 | 16.666667 |\n| BAR |  6 |  2 | 25.000000 |\n| BEL | 45 | 16 | 26.229508 |\n\n",
            "text/html": [
              "<table>\n",
              "<caption>A tibble: 6 × 4</caption>\n",
              "<thead>\n",
              "\t<tr><th scope=col>NOC</th><th scope=col>NB_MEN</th><th scope=col>NB_WOMEN</th><th scope=col>proportion_women</th></tr>\n",
              "\t<tr><th scope=col>&lt;chr&gt;</th><th scope=col>&lt;int&gt;</th><th scope=col>&lt;int&gt;</th><th scope=col>&lt;dbl&gt;</th></tr>\n",
              "</thead>\n",
              "<tbody>\n",
              "\t<tr><td>ARG</td><td>42</td><td> 3</td><td> 6.666667</td></tr>\n",
              "\t<tr><td>AUS</td><td>97</td><td>22</td><td>18.487395</td></tr>\n",
              "\t<tr><td>AUT</td><td>59</td><td>12</td><td>16.901408</td></tr>\n",
              "\t<tr><td>BAH</td><td> 5</td><td> 1</td><td>16.666667</td></tr>\n",
              "\t<tr><td>BAR</td><td> 6</td><td> 2</td><td>25.000000</td></tr>\n",
              "\t<tr><td>BEL</td><td>45</td><td>16</td><td>26.229508</td></tr>\n",
              "</tbody>\n",
              "</table>\n"
            ]
          },
          "metadata": {
            "tags": []
          }
        }
      ]
    },
    {
      "cell_type": "markdown",
      "metadata": {
        "id": "3l25JpHzB2TR"
      },
      "source": [
        "nombre de medaille 1976"
      ]
    },
    {
      "cell_type": "code",
      "metadata": {
        "id": "fKYXiTHmB3Fj",
        "outputId": "327ce955-cb0a-433d-80da-1c4327ab0f6d",
        "colab": {
          "base_uri": "https://localhost:8080/",
          "height": 826
        }
      },
      "source": [
        "head(NB___WOMEN <- dataset %>% filter(Sex ==\"F\", Year==\"1976\", Medal != \"NA\") %>% group_by(NOC,Medal) %>% summarise(NB_WOMEN = length(unique(ID))),70)"
      ],
      "execution_count": 64,
      "outputs": [
        {
          "output_type": "stream",
          "text": [
            "`summarise()` regrouping output by 'NOC' (override with `.groups` argument)\n",
            "\n"
          ],
          "name": "stderr"
        },
        {
          "output_type": "display_data",
          "data": {
            "text/plain": [
              "   NOC Medal  NB_WOMEN\n",
              "1  BUL Bronze  8      \n",
              "2  BUL Gold    4      \n",
              "3  BUL Silver  3      \n",
              "4  CAN Bronze  7      \n",
              "5  CAN Gold    1      \n",
              "6  CAN Silver  1      \n",
              "7  FIN Gold    1      \n",
              "8  FIN Silver  2      \n",
              "9  FRA Bronze  1      \n",
              "10 FRA Silver  4      \n",
              "11 FRG Bronze  4      \n",
              "12 FRG Gold    2      \n",
              "13 FRG Silver  4      \n",
              "14 GDR Bronze 15      \n",
              "15 GDR Gold   23      \n",
              "16 GDR Silver 20      \n",
              "17 HUN Bronze 12      \n",
              "18 ITA Silver  2      \n",
              "19 JPN Gold    7      \n",
              "20 KOR Bronze  9      \n",
              "21 NED Bronze  1      \n",
              "22 NED Silver  1      \n",
              "23 NOR Bronze  1      \n",
              "24 ROU Bronze  5      \n",
              "25 ROU Gold    1      \n",
              "26 ROU Silver  4      \n",
              "27 SWE Silver  1      \n",
              "28 TCH Bronze  1      \n",
              "29 URS Bronze 18      \n",
              "30 URS Gold   32      \n",
              "31 URS Silver 20      \n",
              "32 USA Bronze 11      \n",
              "33 USA Gold    5      \n",
              "34 USA Silver 19      "
            ],
            "text/latex": "A grouped\\_df: 34 × 3\n\\begin{tabular}{lll}\n NOC & Medal & NB\\_WOMEN\\\\\n <chr> & <chr> & <int>\\\\\n\\hline\n\t BUL & Bronze &  8\\\\\n\t BUL & Gold   &  4\\\\\n\t BUL & Silver &  3\\\\\n\t CAN & Bronze &  7\\\\\n\t CAN & Gold   &  1\\\\\n\t CAN & Silver &  1\\\\\n\t FIN & Gold   &  1\\\\\n\t FIN & Silver &  2\\\\\n\t FRA & Bronze &  1\\\\\n\t FRA & Silver &  4\\\\\n\t FRG & Bronze &  4\\\\\n\t FRG & Gold   &  2\\\\\n\t FRG & Silver &  4\\\\\n\t GDR & Bronze & 15\\\\\n\t GDR & Gold   & 23\\\\\n\t GDR & Silver & 20\\\\\n\t HUN & Bronze & 12\\\\\n\t ITA & Silver &  2\\\\\n\t JPN & Gold   &  7\\\\\n\t KOR & Bronze &  9\\\\\n\t NED & Bronze &  1\\\\\n\t NED & Silver &  1\\\\\n\t NOR & Bronze &  1\\\\\n\t ROU & Bronze &  5\\\\\n\t ROU & Gold   &  1\\\\\n\t ROU & Silver &  4\\\\\n\t SWE & Silver &  1\\\\\n\t TCH & Bronze &  1\\\\\n\t URS & Bronze & 18\\\\\n\t URS & Gold   & 32\\\\\n\t URS & Silver & 20\\\\\n\t USA & Bronze & 11\\\\\n\t USA & Gold   &  5\\\\\n\t USA & Silver & 19\\\\\n\\end{tabular}\n",
            "text/markdown": "\nA grouped_df: 34 × 3\n\n| NOC &lt;chr&gt; | Medal &lt;chr&gt; | NB_WOMEN &lt;int&gt; |\n|---|---|---|\n| BUL | Bronze |  8 |\n| BUL | Gold   |  4 |\n| BUL | Silver |  3 |\n| CAN | Bronze |  7 |\n| CAN | Gold   |  1 |\n| CAN | Silver |  1 |\n| FIN | Gold   |  1 |\n| FIN | Silver |  2 |\n| FRA | Bronze |  1 |\n| FRA | Silver |  4 |\n| FRG | Bronze |  4 |\n| FRG | Gold   |  2 |\n| FRG | Silver |  4 |\n| GDR | Bronze | 15 |\n| GDR | Gold   | 23 |\n| GDR | Silver | 20 |\n| HUN | Bronze | 12 |\n| ITA | Silver |  2 |\n| JPN | Gold   |  7 |\n| KOR | Bronze |  9 |\n| NED | Bronze |  1 |\n| NED | Silver |  1 |\n| NOR | Bronze |  1 |\n| ROU | Bronze |  5 |\n| ROU | Gold   |  1 |\n| ROU | Silver |  4 |\n| SWE | Silver |  1 |\n| TCH | Bronze |  1 |\n| URS | Bronze | 18 |\n| URS | Gold   | 32 |\n| URS | Silver | 20 |\n| USA | Bronze | 11 |\n| USA | Gold   |  5 |\n| USA | Silver | 19 |\n\n",
            "text/html": [
              "<table>\n",
              "<caption>A grouped_df: 34 × 3</caption>\n",
              "<thead>\n",
              "\t<tr><th scope=col>NOC</th><th scope=col>Medal</th><th scope=col>NB_WOMEN</th></tr>\n",
              "\t<tr><th scope=col>&lt;chr&gt;</th><th scope=col>&lt;chr&gt;</th><th scope=col>&lt;int&gt;</th></tr>\n",
              "</thead>\n",
              "<tbody>\n",
              "\t<tr><td>BUL</td><td>Bronze</td><td> 8</td></tr>\n",
              "\t<tr><td>BUL</td><td>Gold  </td><td> 4</td></tr>\n",
              "\t<tr><td>BUL</td><td>Silver</td><td> 3</td></tr>\n",
              "\t<tr><td>CAN</td><td>Bronze</td><td> 7</td></tr>\n",
              "\t<tr><td>CAN</td><td>Gold  </td><td> 1</td></tr>\n",
              "\t<tr><td>CAN</td><td>Silver</td><td> 1</td></tr>\n",
              "\t<tr><td>FIN</td><td>Gold  </td><td> 1</td></tr>\n",
              "\t<tr><td>FIN</td><td>Silver</td><td> 2</td></tr>\n",
              "\t<tr><td>FRA</td><td>Bronze</td><td> 1</td></tr>\n",
              "\t<tr><td>FRA</td><td>Silver</td><td> 4</td></tr>\n",
              "\t<tr><td>FRG</td><td>Bronze</td><td> 4</td></tr>\n",
              "\t<tr><td>FRG</td><td>Gold  </td><td> 2</td></tr>\n",
              "\t<tr><td>FRG</td><td>Silver</td><td> 4</td></tr>\n",
              "\t<tr><td>GDR</td><td>Bronze</td><td>15</td></tr>\n",
              "\t<tr><td>GDR</td><td>Gold  </td><td>23</td></tr>\n",
              "\t<tr><td>GDR</td><td>Silver</td><td>20</td></tr>\n",
              "\t<tr><td>HUN</td><td>Bronze</td><td>12</td></tr>\n",
              "\t<tr><td>ITA</td><td>Silver</td><td> 2</td></tr>\n",
              "\t<tr><td>JPN</td><td>Gold  </td><td> 7</td></tr>\n",
              "\t<tr><td>KOR</td><td>Bronze</td><td> 9</td></tr>\n",
              "\t<tr><td>NED</td><td>Bronze</td><td> 1</td></tr>\n",
              "\t<tr><td>NED</td><td>Silver</td><td> 1</td></tr>\n",
              "\t<tr><td>NOR</td><td>Bronze</td><td> 1</td></tr>\n",
              "\t<tr><td>ROU</td><td>Bronze</td><td> 5</td></tr>\n",
              "\t<tr><td>ROU</td><td>Gold  </td><td> 1</td></tr>\n",
              "\t<tr><td>ROU</td><td>Silver</td><td> 4</td></tr>\n",
              "\t<tr><td>SWE</td><td>Silver</td><td> 1</td></tr>\n",
              "\t<tr><td>TCH</td><td>Bronze</td><td> 1</td></tr>\n",
              "\t<tr><td>URS</td><td>Bronze</td><td>18</td></tr>\n",
              "\t<tr><td>URS</td><td>Gold  </td><td>32</td></tr>\n",
              "\t<tr><td>URS</td><td>Silver</td><td>20</td></tr>\n",
              "\t<tr><td>USA</td><td>Bronze</td><td>11</td></tr>\n",
              "\t<tr><td>USA</td><td>Gold  </td><td> 5</td></tr>\n",
              "\t<tr><td>USA</td><td>Silver</td><td>19</td></tr>\n",
              "</tbody>\n",
              "</table>\n"
            ]
          },
          "metadata": {
            "tags": []
          }
        }
      ]
    },
    {
      "cell_type": "markdown",
      "metadata": {
        "id": "O3MPlNp_E-pf"
      },
      "source": [
        "La taille de l'athlète au fil du temps"
      ]
    },
    {
      "cell_type": "code",
      "metadata": {
        "id": "43ipGyhdGfYG",
        "outputId": "e4fbabea-29b9-4f4f-8472-8145d7b3594e",
        "colab": {
          "base_uri": "https://localhost:8080/",
          "height": 238
        }
      },
      "source": [
        "dataset %>% na.omit %>% group_by (Year) %>% summarise(moyenne = mean(Height), na.rm = TRUE) %>% head()"
      ],
      "execution_count": 69,
      "outputs": [
        {
          "output_type": "stream",
          "text": [
            "`summarise()` ungrouping output (override with `.groups` argument)\n",
            "\n"
          ],
          "name": "stderr"
        },
        {
          "output_type": "display_data",
          "data": {
            "text/plain": [
              "  Year moyenne  na.rm\n",
              "1 1896 179.5000 TRUE \n",
              "2 1900 180.6842 TRUE \n",
              "3 1904 175.8000 TRUE \n",
              "4 1906 180.4103 TRUE \n",
              "5 1908 176.7073 TRUE \n",
              "6 1912 177.4157 TRUE "
            ],
            "text/latex": "A tibble: 6 × 3\n\\begin{tabular}{lll}\n Year & moyenne & na.rm\\\\\n <int> & <dbl> & <lgl>\\\\\n\\hline\n\t 1896 & 179.5000 & TRUE\\\\\n\t 1900 & 180.6842 & TRUE\\\\\n\t 1904 & 175.8000 & TRUE\\\\\n\t 1906 & 180.4103 & TRUE\\\\\n\t 1908 & 176.7073 & TRUE\\\\\n\t 1912 & 177.4157 & TRUE\\\\\n\\end{tabular}\n",
            "text/markdown": "\nA tibble: 6 × 3\n\n| Year &lt;int&gt; | moyenne &lt;dbl&gt; | na.rm &lt;lgl&gt; |\n|---|---|---|\n| 1896 | 179.5000 | TRUE |\n| 1900 | 180.6842 | TRUE |\n| 1904 | 175.8000 | TRUE |\n| 1906 | 180.4103 | TRUE |\n| 1908 | 176.7073 | TRUE |\n| 1912 | 177.4157 | TRUE |\n\n",
            "text/html": [
              "<table>\n",
              "<caption>A tibble: 6 × 3</caption>\n",
              "<thead>\n",
              "\t<tr><th scope=col>Year</th><th scope=col>moyenne</th><th scope=col>na.rm</th></tr>\n",
              "\t<tr><th scope=col>&lt;int&gt;</th><th scope=col>&lt;dbl&gt;</th><th scope=col>&lt;lgl&gt;</th></tr>\n",
              "</thead>\n",
              "<tbody>\n",
              "\t<tr><td>1896</td><td>179.5000</td><td>TRUE</td></tr>\n",
              "\t<tr><td>1900</td><td>180.6842</td><td>TRUE</td></tr>\n",
              "\t<tr><td>1904</td><td>175.8000</td><td>TRUE</td></tr>\n",
              "\t<tr><td>1906</td><td>180.4103</td><td>TRUE</td></tr>\n",
              "\t<tr><td>1908</td><td>176.7073</td><td>TRUE</td></tr>\n",
              "\t<tr><td>1912</td><td>177.4157</td><td>TRUE</td></tr>\n",
              "</tbody>\n",
              "</table>\n"
            ]
          },
          "metadata": {
            "tags": []
          }
        }
      ]
    },
    {
      "cell_type": "markdown",
      "metadata": {
        "id": "TDJKqMorHKP7"
      },
      "source": [
        "Poids de l'athlète au fil du temps"
      ]
    },
    {
      "cell_type": "code",
      "metadata": {
        "id": "XrV173hIHF2h",
        "outputId": "06da436c-13ae-49d4-e47e-6d839ca1beb9",
        "colab": {
          "base_uri": "https://localhost:8080/",
          "height": 238
        }
      },
      "source": [
        "dataset %>% na.omit %>% group_by (Year) %>% summarise(moyenne = mean(Weight), na.rm = TRUE) %>% head()"
      ],
      "execution_count": 70,
      "outputs": [
        {
          "output_type": "stream",
          "text": [
            "`summarise()` ungrouping output (override with `.groups` argument)\n",
            "\n"
          ],
          "name": "stderr"
        },
        {
          "output_type": "display_data",
          "data": {
            "text/plain": [
              "  Year moyenne  na.rm\n",
              "1 1896 74.50000 TRUE \n",
              "2 1900 76.78947 TRUE \n",
              "3 1904 71.26667 TRUE \n",
              "4 1906 76.35897 TRUE \n",
              "5 1908 73.46341 TRUE \n",
              "6 1912 72.18539 TRUE "
            ],
            "text/latex": "A tibble: 6 × 3\n\\begin{tabular}{lll}\n Year & moyenne & na.rm\\\\\n <int> & <dbl> & <lgl>\\\\\n\\hline\n\t 1896 & 74.50000 & TRUE\\\\\n\t 1900 & 76.78947 & TRUE\\\\\n\t 1904 & 71.26667 & TRUE\\\\\n\t 1906 & 76.35897 & TRUE\\\\\n\t 1908 & 73.46341 & TRUE\\\\\n\t 1912 & 72.18539 & TRUE\\\\\n\\end{tabular}\n",
            "text/markdown": "\nA tibble: 6 × 3\n\n| Year &lt;int&gt; | moyenne &lt;dbl&gt; | na.rm &lt;lgl&gt; |\n|---|---|---|\n| 1896 | 74.50000 | TRUE |\n| 1900 | 76.78947 | TRUE |\n| 1904 | 71.26667 | TRUE |\n| 1906 | 76.35897 | TRUE |\n| 1908 | 73.46341 | TRUE |\n| 1912 | 72.18539 | TRUE |\n\n",
            "text/html": [
              "<table>\n",
              "<caption>A tibble: 6 × 3</caption>\n",
              "<thead>\n",
              "\t<tr><th scope=col>Year</th><th scope=col>moyenne</th><th scope=col>na.rm</th></tr>\n",
              "\t<tr><th scope=col>&lt;int&gt;</th><th scope=col>&lt;dbl&gt;</th><th scope=col>&lt;lgl&gt;</th></tr>\n",
              "</thead>\n",
              "<tbody>\n",
              "\t<tr><td>1896</td><td>74.50000</td><td>TRUE</td></tr>\n",
              "\t<tr><td>1900</td><td>76.78947</td><td>TRUE</td></tr>\n",
              "\t<tr><td>1904</td><td>71.26667</td><td>TRUE</td></tr>\n",
              "\t<tr><td>1906</td><td>76.35897</td><td>TRUE</td></tr>\n",
              "\t<tr><td>1908</td><td>73.46341</td><td>TRUE</td></tr>\n",
              "\t<tr><td>1912</td><td>72.18539</td><td>TRUE</td></tr>\n",
              "</tbody>\n",
              "</table>\n"
            ]
          },
          "metadata": {
            "tags": []
          }
        }
      ]
    },
    {
      "cell_type": "markdown",
      "metadata": {
        "id": "g_7TEieoImw-"
      },
      "source": [
        "question 10"
      ]
    },
    {
      "cell_type": "code",
      "metadata": {
        "id": "BIJrUC5mIrI3",
        "outputId": "93d0c969-ebe4-48e5-9cac-009729fac85c",
        "colab": {
          "base_uri": "https://localhost:8080/",
          "height": 238
        }
      },
      "source": [
        " head(NB____MEDAL <- dataset %>% filter(Sex ==\"F\", Year>\"1986\",Medal != \"NA\", NOC==\"GER\"| NOC ==\"RUS\" | NOC ==\"SRB\") %>% group_by(NOC,Medal) %>% summarise(NB_MEDAL = length(unique(ID))))"
      ],
      "execution_count": 71,
      "outputs": [
        {
          "output_type": "stream",
          "text": [
            "`summarise()` regrouping output by 'NOC' (override with `.groups` argument)\n",
            "\n"
          ],
          "name": "stderr"
        },
        {
          "output_type": "display_data",
          "data": {
            "text/plain": [
              "  NOC Medal  NB_MEDAL\n",
              "1 GER Bronze 111     \n",
              "2 GER Gold    81     \n",
              "3 GER Silver  85     \n",
              "4 RUS Bronze  89     \n",
              "5 RUS Gold    97     \n",
              "6 RUS Silver  97     "
            ],
            "text/latex": "A grouped\\_df: 6 × 3\n\\begin{tabular}{lll}\n NOC & Medal & NB\\_MEDAL\\\\\n <chr> & <chr> & <int>\\\\\n\\hline\n\t GER & Bronze & 111\\\\\n\t GER & Gold   &  81\\\\\n\t GER & Silver &  85\\\\\n\t RUS & Bronze &  89\\\\\n\t RUS & Gold   &  97\\\\\n\t RUS & Silver &  97\\\\\n\\end{tabular}\n",
            "text/markdown": "\nA grouped_df: 6 × 3\n\n| NOC &lt;chr&gt; | Medal &lt;chr&gt; | NB_MEDAL &lt;int&gt; |\n|---|---|---|\n| GER | Bronze | 111 |\n| GER | Gold   |  81 |\n| GER | Silver |  85 |\n| RUS | Bronze |  89 |\n| RUS | Gold   |  97 |\n| RUS | Silver |  97 |\n\n",
            "text/html": [
              "<table>\n",
              "<caption>A grouped_df: 6 × 3</caption>\n",
              "<thead>\n",
              "\t<tr><th scope=col>NOC</th><th scope=col>Medal</th><th scope=col>NB_MEDAL</th></tr>\n",
              "\t<tr><th scope=col>&lt;chr&gt;</th><th scope=col>&lt;chr&gt;</th><th scope=col>&lt;int&gt;</th></tr>\n",
              "</thead>\n",
              "<tbody>\n",
              "\t<tr><td>GER</td><td>Bronze</td><td>111</td></tr>\n",
              "\t<tr><td>GER</td><td>Gold  </td><td> 81</td></tr>\n",
              "\t<tr><td>GER</td><td>Silver</td><td> 85</td></tr>\n",
              "\t<tr><td>RUS</td><td>Bronze</td><td> 89</td></tr>\n",
              "\t<tr><td>RUS</td><td>Gold  </td><td> 97</td></tr>\n",
              "\t<tr><td>RUS</td><td>Silver</td><td> 97</td></tr>\n",
              "</tbody>\n",
              "</table>\n"
            ]
          },
          "metadata": {
            "tags": []
          }
        }
      ]
    }
  ]
}